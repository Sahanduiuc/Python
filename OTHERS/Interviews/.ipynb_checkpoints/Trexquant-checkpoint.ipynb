{
 "cells": [
  {
   "cell_type": "code",
   "execution_count": 2,
   "metadata": {},
   "outputs": [
    {
     "name": "stdout",
     "output_type": "stream",
     "text": [
      "[3.3 2.2 2.2 2.2 2.2 1.1 2.2 1.1 1.1 3.3]\n"
     ]
    }
   ],
   "source": [
    "import numpy as np\n",
    "from numpy.random import random_sample\n",
    "\n",
    "def weighted_values(values, probabilities, size):\n",
    "    bins = np.add.accumulate(probabilities)\n",
    "    return values[np.digitize(random_sample(size), bins)]\n",
    "\n",
    "values = np.array([1.1, 2.2, 3.3])\n",
    "probabilities = np.array([0.2, 0.5, 0.3])\n",
    "\n",
    "print(weighted_values(values, probabilities, 10))\n"
   ]
  },
  {
   "cell_type": "code",
   "execution_count": 3,
   "metadata": {},
   "outputs": [
    {
     "data": {
      "text/plain": [
       "array([0.2, 0.7, 1. ])"
      ]
     },
     "execution_count": 3,
     "metadata": {},
     "output_type": "execute_result"
    }
   ],
   "source": [
    "probabilities = np.array([0.2, 0.5, 0.3])\n",
    "np.add.accumulate(probabilities)"
   ]
  },
  {
   "cell_type": "code",
   "execution_count": 4,
   "metadata": {},
   "outputs": [
    {
     "data": {
      "text/plain": [
       "array([0.49569149, 0.43789946, 0.61130112, 0.13430561, 0.787724  ,\n",
       "       0.06721307, 0.98891407, 0.04153842, 0.13231175, 0.41124681])"
      ]
     },
     "execution_count": 4,
     "metadata": {},
     "output_type": "execute_result"
    }
   ],
   "source": [
    "random_sample(10)"
   ]
  },
  {
   "cell_type": "code",
   "execution_count": 5,
   "metadata": {},
   "outputs": [],
   "source": [
    "from scipy.stats import uniform"
   ]
  },
  {
   "cell_type": "code",
   "execution_count": 6,
   "metadata": {},
   "outputs": [
    {
     "data": {
      "text/plain": [
       "array([0.30444802, 0.74536129, 0.10312616, 0.87324005, 0.0491091 ,\n",
       "       0.75333766, 0.98915355, 0.32259434, 0.44536143, 0.04038574])"
      ]
     },
     "execution_count": 6,
     "metadata": {},
     "output_type": "execute_result"
    }
   ],
   "source": [
    "uniform.rvs(size=10)"
   ]
  },
  {
   "cell_type": "code",
   "execution_count": 32,
   "metadata": {},
   "outputs": [],
   "source": [
    "elements = [1,2]\n",
    "probabilities = [1/3, 2/3]\n",
    "experiments = np.random.choice(elements, 10000, p=probabilities)"
   ]
  },
  {
   "cell_type": "code",
   "execution_count": 38,
   "metadata": {},
   "outputs": [
    {
     "data": {
      "text/plain": [
       "0.6644"
      ]
     },
     "execution_count": 38,
     "metadata": {},
     "output_type": "execute_result"
    }
   ],
   "source": [
    "(experiments==2).sum()/experiments.size"
   ]
  },
  {
   "cell_type": "code",
   "execution_count": null,
   "metadata": {},
   "outputs": [],
   "source": []
  },
  {
   "cell_type": "code",
   "execution_count": null,
   "metadata": {},
   "outputs": [],
   "source": []
  }
 ],
 "metadata": {
  "kernelspec": {
   "display_name": "Python 3",
   "language": "python",
   "name": "python3"
  },
  "language_info": {
   "codemirror_mode": {
    "name": "ipython",
    "version": 3
   },
   "file_extension": ".py",
   "mimetype": "text/x-python",
   "name": "python",
   "nbconvert_exporter": "python",
   "pygments_lexer": "ipython3",
   "version": "3.6.4"
  }
 },
 "nbformat": 4,
 "nbformat_minor": 2
}
