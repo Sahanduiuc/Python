{
 "cells": [
  {
   "cell_type": "code",
   "execution_count": 1,
   "metadata": {},
   "outputs": [],
   "source": [
    "%load_ext rqalpha"
   ]
  },
  {
   "cell_type": "code",
   "execution_count": 3,
   "metadata": {},
   "outputs": [
    {
     "name": "stdout",
     "output_type": "stream",
     "text": [
      "Usage: ipykernel_launcher.py [OPTIONS]\n",
      "\n",
      "  Start to run a strategy\n",
      "\n",
      "Options:\n",
      "  -h, --help                      Show this message and exit.\n",
      "  -d, --data-bundle-path PATH\n",
      "  -f, --strategy-file PATH\n",
      "  -s, --start-date DATE\n",
      "  -e, --end-date DATE\n",
      "  -bm, --benchmark TEXT\n",
      "  -mm, --margin-multiplier FLOAT\n",
      "  -a, --account TEXT...           set account type with starting cash\n",
      "  --position TEXT                 set init position\n",
      "  -fq, --frequency [1d|1m|tick]\n",
      "  -rt, --run-type [b|p|r]\n",
      "  --resume\n",
      "  --source-code TEXT\n",
      "  -l, --log-level [verbose|debug|info|error|none]\n",
      "  --disable-user-system-log       disable user system log stdout\n",
      "  --disable-user-log              disable user log stdout\n",
      "  --logger TEXT...                config logger, e.g. --logger system_log\n",
      "                                  debug\n",
      "  --locale [cn|en]\n",
      "  --extra-vars TEXT               override context vars\n",
      "  --enable-profiler               add line profiler to profile your strategy\n",
      "  --dividend-reinvestment         enable dividend reinvestment\n",
      "  --config TEXT                   config file path\n",
      "  -mc, --mod-config TEXT...       mod extra config\n",
      "  --stock-t1 / --no-stock-t1      [sys_accounts] enable/disable stock T+1\n",
      "  --no-short-stock / --short-stock\n",
      "                                  [sys_risk] enable stock shorting\n",
      "  --report PATH                   [sys_analyser] save report\n",
      "  -o, --output-file PATH          [sys_analyser] output result pickle file\n",
      "  -p, --plot / --no-plot          [sys_analyser] plot result\n",
      "  --plot-save TEXT                [sys_analyser] save plot to file\n",
      "  --progress                      [sys_progress]show progress bar\n",
      "  --signal                        [sys_simulation] exclude match engine\n",
      "  -sp, --slippage FLOAT           [sys_simulation] set slippage\n",
      "  -cm, --commission-multiplier FLOAT\n",
      "                                  [sys_simulation] set commission multiplier\n",
      "  -me, --match-engine [current_bar|next_bar|last|best_own|best_counterparty]\n",
      "                                  [Deprecated][sys_simulation] set matching\n",
      "                                  type\n",
      "  -mt, --matching-type [current_bar|next_bar|last|best_own|best_counterparty]\n",
      "                                  [sys_simulation] set matching type\n"
     ]
    }
   ],
   "source": [
    "%%rqalpha -h\n",
    "\"\""
   ]
  },
  {
   "cell_type": "code",
   "execution_count": 5,
   "metadata": {},
   "outputs": [
    {
     "ename": "AttributeError",
     "evalue": "module 'better_exceptions' has no attribute 'format_traceback'",
     "output_type": "error",
     "traceback": [
      "\u001b[0;31m---------------------------------------------------------------------------\u001b[0m",
      "\u001b[0;31mRuntimeError\u001b[0m                              Traceback (most recent call last)",
      "\u001b[0;32m~/anaconda3/envs/rqalpha/lib/python3.5/site-packages/rqalpha/main.py\u001b[0m in \u001b[0;36mrun\u001b[0;34m(config, source_code, user_funcs)\u001b[0m\n\u001b[1;32m    200\u001b[0m         \u001b[0;32mif\u001b[0m \u001b[0;32mnot\u001b[0m \u001b[0menv\u001b[0m\u001b[0;34m.\u001b[0m\u001b[0mdata_source\u001b[0m\u001b[0;34m:\u001b[0m\u001b[0;34m\u001b[0m\u001b[0m\n\u001b[0;32m--> 201\u001b[0;31m             \u001b[0menv\u001b[0m\u001b[0;34m.\u001b[0m\u001b[0mset_data_source\u001b[0m\u001b[0;34m(\u001b[0m\u001b[0mBaseDataSource\u001b[0m\u001b[0;34m(\u001b[0m\u001b[0mconfig\u001b[0m\u001b[0;34m.\u001b[0m\u001b[0mbase\u001b[0m\u001b[0;34m.\u001b[0m\u001b[0mdata_bundle_path\u001b[0m\u001b[0;34m)\u001b[0m\u001b[0;34m)\u001b[0m\u001b[0;34m\u001b[0m\u001b[0m\n\u001b[0m\u001b[1;32m    202\u001b[0m         \u001b[0menv\u001b[0m\u001b[0;34m.\u001b[0m\u001b[0mset_data_proxy\u001b[0m\u001b[0;34m(\u001b[0m\u001b[0mDataProxy\u001b[0m\u001b[0;34m(\u001b[0m\u001b[0menv\u001b[0m\u001b[0;34m.\u001b[0m\u001b[0mdata_source\u001b[0m\u001b[0;34m)\u001b[0m\u001b[0;34m)\u001b[0m\u001b[0;34m\u001b[0m\u001b[0m\n",
      "\u001b[0;32m~/anaconda3/envs/rqalpha/lib/python3.5/site-packages/rqalpha/data/base_data_source.py\u001b[0m in \u001b[0;36m__init__\u001b[0;34m(self, path)\u001b[0m\n\u001b[1;32m     43\u001b[0m         \u001b[0;32mif\u001b[0m \u001b[0;32mnot\u001b[0m \u001b[0mos\u001b[0m\u001b[0;34m.\u001b[0m\u001b[0mpath\u001b[0m\u001b[0;34m.\u001b[0m\u001b[0mexists\u001b[0m\u001b[0;34m(\u001b[0m\u001b[0mpath\u001b[0m\u001b[0;34m)\u001b[0m\u001b[0;34m:\u001b[0m\u001b[0;34m\u001b[0m\u001b[0m\n\u001b[0;32m---> 44\u001b[0;31m             \u001b[0;32mraise\u001b[0m \u001b[0mRuntimeError\u001b[0m\u001b[0;34m(\u001b[0m\u001b[0;34m'bundle path {} not exist'\u001b[0m\u001b[0;34m.\u001b[0m\u001b[0mformat\u001b[0m\u001b[0;34m(\u001b[0m\u001b[0mos\u001b[0m\u001b[0;34m.\u001b[0m\u001b[0mpath\u001b[0m\u001b[0;34m.\u001b[0m\u001b[0mabspath\u001b[0m\u001b[0;34m)\u001b[0m\u001b[0;34m)\u001b[0m\u001b[0;34m\u001b[0m\u001b[0m\n\u001b[0m\u001b[1;32m     45\u001b[0m \u001b[0;34m\u001b[0m\u001b[0m\n",
      "\u001b[0;31mRuntimeError\u001b[0m: bundle path <function abspath at 0x7f6f6bbdfc80> not exist",
      "\nDuring handling of the above exception, another exception occurred:\n",
      "\u001b[0;31mAttributeError\u001b[0m                            Traceback (most recent call last)",
      "\u001b[0;32m<ipython-input-5-83b25a0a7abb>\u001b[0m in \u001b[0;36m<module>\u001b[0;34m()\u001b[0m\n\u001b[1;32m     52\u001b[0m \u001b[0;34m\u001b[0m\u001b[0m\n\u001b[1;32m     53\u001b[0m \u001b[0;34m\u001b[0m\u001b[0m\n\u001b[0;32m---> 54\u001b[0;31m \u001b[0mresults\u001b[0m \u001b[0;34m=\u001b[0m \u001b[0mrun_func\u001b[0m\u001b[0;34m(\u001b[0m\u001b[0minit\u001b[0m\u001b[0;34m=\u001b[0m\u001b[0minit\u001b[0m\u001b[0;34m,\u001b[0m \u001b[0mhandle_bar\u001b[0m\u001b[0;34m=\u001b[0m\u001b[0mhandle_bar\u001b[0m\u001b[0;34m,\u001b[0m \u001b[0mconfig\u001b[0m\u001b[0;34m=\u001b[0m\u001b[0mconfig\u001b[0m\u001b[0;34m)\u001b[0m\u001b[0;34m\u001b[0m\u001b[0m\n\u001b[0m",
      "\u001b[0;32m~/anaconda3/envs/rqalpha/lib/python3.5/site-packages/rqalpha/__init__.py\u001b[0m in \u001b[0;36mrun_func\u001b[0;34m(**kwargs)\u001b[0m\n\u001b[1;32m    141\u001b[0m     \u001b[0mconfig\u001b[0m \u001b[0;34m=\u001b[0m \u001b[0mparse_config\u001b[0m\u001b[0;34m(\u001b[0m\u001b[0mconfig\u001b[0m\u001b[0;34m,\u001b[0m \u001b[0muser_funcs\u001b[0m\u001b[0;34m=\u001b[0m\u001b[0muser_funcs\u001b[0m\u001b[0;34m)\u001b[0m\u001b[0;34m\u001b[0m\u001b[0m\n\u001b[1;32m    142\u001b[0m     \u001b[0mclear_all_cached_functions\u001b[0m\u001b[0;34m(\u001b[0m\u001b[0;34m)\u001b[0m\u001b[0;34m\u001b[0m\u001b[0m\n\u001b[0;32m--> 143\u001b[0;31m     \u001b[0;32mreturn\u001b[0m \u001b[0mmain\u001b[0m\u001b[0;34m.\u001b[0m\u001b[0mrun\u001b[0m\u001b[0;34m(\u001b[0m\u001b[0mconfig\u001b[0m\u001b[0;34m,\u001b[0m \u001b[0muser_funcs\u001b[0m\u001b[0;34m=\u001b[0m\u001b[0muser_funcs\u001b[0m\u001b[0;34m)\u001b[0m\u001b[0;34m\u001b[0m\u001b[0m\n\u001b[0m\u001b[1;32m    144\u001b[0m \u001b[0;34m\u001b[0m\u001b[0m\n\u001b[1;32m    145\u001b[0m \u001b[0;34m\u001b[0m\u001b[0m\n",
      "\u001b[0;32m~/anaconda3/envs/rqalpha/lib/python3.5/site-packages/rqalpha/main.py\u001b[0m in \u001b[0;36mrun\u001b[0;34m(config, source_code, user_funcs)\u001b[0m\n\u001b[1;32m    313\u001b[0m         \u001b[0muser_exc\u001b[0m \u001b[0;34m=\u001b[0m \u001b[0mcreate_custom_exception\u001b[0m\u001b[0;34m(\u001b[0m\u001b[0mexc_type\u001b[0m\u001b[0;34m,\u001b[0m \u001b[0mexc_val\u001b[0m\u001b[0;34m,\u001b[0m \u001b[0mexc_tb\u001b[0m\u001b[0;34m,\u001b[0m \u001b[0mconfig\u001b[0m\u001b[0;34m.\u001b[0m\u001b[0mbase\u001b[0m\u001b[0;34m.\u001b[0m\u001b[0mstrategy_file\u001b[0m\u001b[0;34m)\u001b[0m\u001b[0;34m\u001b[0m\u001b[0m\n\u001b[1;32m    314\u001b[0m \u001b[0;34m\u001b[0m\u001b[0m\n\u001b[0;32m--> 315\u001b[0;31m         \u001b[0mcode\u001b[0m \u001b[0;34m=\u001b[0m \u001b[0m_exception_handler\u001b[0m\u001b[0;34m(\u001b[0m\u001b[0muser_exc\u001b[0m\u001b[0;34m)\u001b[0m\u001b[0;34m\u001b[0m\u001b[0m\n\u001b[0m\u001b[1;32m    316\u001b[0m         \u001b[0mmod_handler\u001b[0m\u001b[0;34m.\u001b[0m\u001b[0mtear_down\u001b[0m\u001b[0;34m(\u001b[0m\u001b[0mcode\u001b[0m\u001b[0;34m,\u001b[0m \u001b[0muser_exc\u001b[0m\u001b[0;34m)\u001b[0m\u001b[0;34m\u001b[0m\u001b[0m\n\u001b[1;32m    317\u001b[0m     \u001b[0;32melse\u001b[0m\u001b[0;34m:\u001b[0m\u001b[0;34m\u001b[0m\u001b[0m\n",
      "\u001b[0;32m~/anaconda3/envs/rqalpha/lib/python3.5/site-packages/rqalpha/main.py\u001b[0m in \u001b[0;36m_exception_handler\u001b[0;34m(e)\u001b[0m\n\u001b[1;32m    324\u001b[0m \u001b[0;34m\u001b[0m\u001b[0m\n\u001b[1;32m    325\u001b[0m \u001b[0;32mdef\u001b[0m \u001b[0m_exception_handler\u001b[0m\u001b[0;34m(\u001b[0m\u001b[0me\u001b[0m\u001b[0;34m)\u001b[0m\u001b[0;34m:\u001b[0m\u001b[0;34m\u001b[0m\u001b[0m\n\u001b[0;32m--> 326\u001b[0;31m     \u001b[0mbetter_exceptions\u001b[0m\u001b[0;34m.\u001b[0m\u001b[0mexcepthook\u001b[0m\u001b[0;34m(\u001b[0m\u001b[0me\u001b[0m\u001b[0;34m.\u001b[0m\u001b[0merror\u001b[0m\u001b[0;34m.\u001b[0m\u001b[0mexc_type\u001b[0m\u001b[0;34m,\u001b[0m \u001b[0me\u001b[0m\u001b[0;34m.\u001b[0m\u001b[0merror\u001b[0m\u001b[0;34m.\u001b[0m\u001b[0mexc_val\u001b[0m\u001b[0;34m,\u001b[0m \u001b[0me\u001b[0m\u001b[0;34m.\u001b[0m\u001b[0merror\u001b[0m\u001b[0;34m.\u001b[0m\u001b[0mexc_tb\u001b[0m\u001b[0;34m)\u001b[0m\u001b[0;34m\u001b[0m\u001b[0m\n\u001b[0m\u001b[1;32m    327\u001b[0m     \u001b[0muser_system_log\u001b[0m\u001b[0;34m.\u001b[0m\u001b[0merror\u001b[0m\u001b[0;34m(\u001b[0m\u001b[0me\u001b[0m\u001b[0;34m.\u001b[0m\u001b[0merror\u001b[0m\u001b[0;34m)\u001b[0m\u001b[0;34m\u001b[0m\u001b[0m\n\u001b[1;32m    328\u001b[0m     \u001b[0;32mif\u001b[0m \u001b[0;32mnot\u001b[0m \u001b[0mis_user_exc\u001b[0m\u001b[0;34m(\u001b[0m\u001b[0me\u001b[0m\u001b[0;34m.\u001b[0m\u001b[0merror\u001b[0m\u001b[0;34m.\u001b[0m\u001b[0mexc_val\u001b[0m\u001b[0;34m)\u001b[0m\u001b[0;34m:\u001b[0m\u001b[0;34m\u001b[0m\u001b[0m\n",
      "\u001b[0;32m~/anaconda3/envs/rqalpha/lib/python3.5/site-packages/better_exceptions/__init__.py\u001b[0m in \u001b[0;36mexcepthook\u001b[0;34m(exc, value, tb)\u001b[0m\n\u001b[1;32m     51\u001b[0m \u001b[0;34m\u001b[0m\u001b[0m\n\u001b[1;32m     52\u001b[0m \u001b[0;32mdef\u001b[0m \u001b[0mexcepthook\u001b[0m\u001b[0;34m(\u001b[0m\u001b[0mexc\u001b[0m\u001b[0;34m,\u001b[0m \u001b[0mvalue\u001b[0m\u001b[0;34m,\u001b[0m \u001b[0mtb\u001b[0m\u001b[0;34m)\u001b[0m\u001b[0;34m:\u001b[0m\u001b[0;34m\u001b[0m\u001b[0m\n\u001b[0;32m---> 53\u001b[0;31m     \u001b[0mformatted\u001b[0m \u001b[0;34m=\u001b[0m \u001b[0mformat_exception\u001b[0m\u001b[0;34m(\u001b[0m\u001b[0mexc\u001b[0m\u001b[0;34m,\u001b[0m \u001b[0mvalue\u001b[0m\u001b[0;34m,\u001b[0m \u001b[0mtb\u001b[0m\u001b[0;34m)\u001b[0m\u001b[0;34m\u001b[0m\u001b[0m\n\u001b[0m\u001b[1;32m     54\u001b[0m     \u001b[0mwrite_stream\u001b[0m\u001b[0;34m(\u001b[0m\u001b[0mformatted\u001b[0m\u001b[0;34m,\u001b[0m \u001b[0mSTREAM\u001b[0m\u001b[0;34m)\u001b[0m\u001b[0;34m\u001b[0m\u001b[0m\n\u001b[1;32m     55\u001b[0m \u001b[0;34m\u001b[0m\u001b[0m\n",
      "\u001b[0;32m~/anaconda3/envs/rqalpha/lib/python3.5/site-packages/rqalpha/utils/logger.py\u001b[0m in \u001b[0;36mformat_exception\u001b[0;34m(exc, value, tb)\u001b[0m\n\u001b[1;32m     33\u001b[0m \u001b[0;31m# better_exceptions hot patch\u001b[0m\u001b[0;34m\u001b[0m\u001b[0;34m\u001b[0m\u001b[0m\n\u001b[1;32m     34\u001b[0m \u001b[0;32mdef\u001b[0m \u001b[0mformat_exception\u001b[0m\u001b[0;34m(\u001b[0m\u001b[0mexc\u001b[0m\u001b[0;34m,\u001b[0m \u001b[0mvalue\u001b[0m\u001b[0;34m,\u001b[0m \u001b[0mtb\u001b[0m\u001b[0;34m)\u001b[0m\u001b[0;34m:\u001b[0m\u001b[0;34m\u001b[0m\u001b[0m\n\u001b[0;32m---> 35\u001b[0;31m     \u001b[0mformatted\u001b[0m\u001b[0;34m,\u001b[0m \u001b[0mcolored_source\u001b[0m \u001b[0;34m=\u001b[0m \u001b[0mbetter_exceptions\u001b[0m\u001b[0;34m.\u001b[0m\u001b[0mformat_traceback\u001b[0m\u001b[0;34m(\u001b[0m\u001b[0mtb\u001b[0m\u001b[0;34m)\u001b[0m\u001b[0;34m\u001b[0m\u001b[0m\n\u001b[0m\u001b[1;32m     36\u001b[0m \u001b[0;34m\u001b[0m\u001b[0m\n\u001b[1;32m     37\u001b[0m     \u001b[0;32mif\u001b[0m \u001b[0;32mnot\u001b[0m \u001b[0mstr\u001b[0m\u001b[0;34m(\u001b[0m\u001b[0mvalue\u001b[0m\u001b[0;34m)\u001b[0m \u001b[0;32mand\u001b[0m \u001b[0mexc\u001b[0m \u001b[0;32mis\u001b[0m \u001b[0mAssertionError\u001b[0m\u001b[0;34m:\u001b[0m\u001b[0;34m\u001b[0m\u001b[0m\n",
      "\u001b[0;31mAttributeError\u001b[0m: module 'better_exceptions' has no attribute 'format_traceback'"
     ]
    }
   ],
   "source": [
    "config = {\n",
    "  \"base\": {\n",
    "    \"start_date\": \"2010-01-01\",\n",
    "    \"end_date\": \"2017-05-05\",\n",
    "    \"benchmark\": \"000001.XSHG\",\n",
    "    \"accounts\": {\n",
    "        \"stock\": 100000\n",
    "    }\n",
    "  },\n",
    "  \"extra\": {\n",
    "    \"log_level\": \"info\",\n",
    "  },\n",
    "  \"mod\": {\n",
    "    \"sys_analyser\": {\n",
    "      \"enabled\": True,\n",
    "      \"plot\": True,\n",
    "    },\n",
    "  }\n",
    "}\n",
    "\n",
    "\n",
    "from rqalpha.api import *\n",
    "from rqalpha import run_func\n",
    "\n",
    "\n",
    "def init(context):\n",
    "    context.stocks = ['000300.XSHG', '000905.XSHG', '000012.XSHG']\n",
    "\n",
    "\n",
    "def handle_bar(context, bar_dict):\n",
    "    [hs, zz, gz] = context.stocks\n",
    "    hs_history20 = history_bars(hs, 20, '1d', 'close')\n",
    "    zz_history20 = history_bars(zz, 20, '1d', 'close')\n",
    "\n",
    "    hsIncrease = hs_history20[-1] - hs_history20[0]\n",
    "    zzIncrease = zz_history20[-1] - zz_history20[0]\n",
    "\n",
    "    positions = context.portfolio.positions\n",
    "    [hsQuality, zzQuality, gzQuality] = [positions[hs].quantity, positions[zz].quantity, positions[gz].quantity]\n",
    "    if hsIncrease < 0 and zzIncrease < 0:\n",
    "        if hsQuality > 0: order_target_percent(hs, 0)\n",
    "        if zzQuality > 0: order_target_percent(zz, 0)\n",
    "        order_target_percent(gz, 1)\n",
    "    elif hsIncrease < zzIncrease:\n",
    "        if hsQuality > 0: order_target_percent(hs, 0)\n",
    "        if gzQuality > 0: order_target_percent(gz, 0)\n",
    "        order_target_percent(zz, 1)\n",
    "    else:\n",
    "        if zzQuality > 0: order_target_percent(zz, 0)\n",
    "        if gzQuality > 0: order_target_percent(gz, 0)\n",
    "        order_target_percent(hs, 1)\n",
    "\n",
    "\n",
    "results = run_func(init=init, handle_bar=handle_bar, config=config)"
   ]
  },
  {
   "cell_type": "code",
   "execution_count": null,
   "metadata": {},
   "outputs": [],
   "source": []
  }
 ],
 "metadata": {
  "kernelspec": {
   "display_name": "Python 3",
   "language": "python",
   "name": "python3"
  },
  "language_info": {
   "codemirror_mode": {
    "name": "ipython",
    "version": 3
   },
   "file_extension": ".py",
   "mimetype": "text/x-python",
   "name": "python",
   "nbconvert_exporter": "python",
   "pygments_lexer": "ipython3",
   "version": "3.5.4"
  }
 },
 "nbformat": 4,
 "nbformat_minor": 2
}
