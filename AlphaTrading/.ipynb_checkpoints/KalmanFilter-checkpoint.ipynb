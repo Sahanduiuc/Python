{
 "cells": [
  {
   "cell_type": "markdown",
   "metadata": {},
   "source": [
    "# Example for Online Linear Regression"
   ]
  },
  {
   "cell_type": "code",
   "execution_count": 1,
   "metadata": {
    "collapsed": true
   },
   "outputs": [],
   "source": [
    "from pykalman import KalmanFilter\n",
    "import numpy as np\n",
    "import pandas as pd\n",
    "import matplotlib.pyplot as plt\n",
    "from scipy import poly1d\n",
    "%matplotlib inline"
   ]
  },
  {
   "cell_type": "markdown",
   "metadata": {},
   "source": [
    "EM Algorithm for a Linear Gaussian model specified by\n",
    "$$x_0 = Normal(\\mu_0, \\Sigma_0)$$\n",
    "$$x_{t+1} = A x_{t} + b_t + Normal(0,Q_t)$$\n",
    "$$z_t = C x_t + d_t + Normal(0,R_t)$$"
   ]
  },
  {
   "cell_type": "code",
   "execution_count": 2,
   "metadata": {
    "collapsed": true
   },
   "outputs": [],
   "source": [
    "tau = 0.1\n",
    "\n",
    "# Set up the filter\n",
    "kf = KalmanFilter(n_dim_obs=1, n_dim_state=2, # position is 1-dimensional, (x,v) is 2-dimensional\n",
    "                  initial_state_mean=[30,10],\n",
    "                  initial_state_covariance=np.eye(2),\n",
    "                  transition_matrices=[[1,tau], [0,1]],\n",
    "                  observation_matrices=[[1,0]],\n",
    "                  observation_covariance=3,\n",
    "                  transition_covariance=np.zeros((2,2)),\n",
    "                  transition_offsets=[-4.9*tau**2, -9.8*tau])"
   ]
  },
  {
   "cell_type": "code",
   "execution_count": 3,
   "metadata": {
    "collapsed": true
   },
   "outputs": [],
   "source": [
    "actual = np.array([-4.9*(tau*n)**2 for n in range(40)])\n",
    "cameral = actual + np.random.randn(40)*3\n",
    "state_means,state_cov = kf.filter(cameral)"
   ]
  },
  {
   "cell_type": "code",
   "execution_count": 4,
   "metadata": {
    "collapsed": false
   },
   "outputs": [
    {
     "data": {
      "image/png": "[encoded data removed]",
      "text/plain": [
       "<matplotlib.figure.Figure at 0x1122035f8>"
      ]
     },
     "metadata": {},
     "output_type": "display_data"
    }
   ],
   "source": [
    "times = [n for n in range(40)]\n",
    "plt.plot(times, state_means[:,0])\n",
    "plt.plot(times, cameral)\n",
    "plt.plot(times, actual)\n",
    "plt.legend(['Filter estimate', 'Camera data', 'Actual'])\n",
    "plt.xlabel('Time')\n",
    "plt.ylabel('Height');"
   ]
  },
  {
   "cell_type": "markdown",
   "metadata": {},
   "source": [
    "We can use a Kalman filter to model non-linear transition and observation functions, as well. For this purpose there exist extended and unscented Kalman filters, the latter of which is included in pykalman. These can even model situations where noise is not additive (for example, where noise is proportional to the size of the measurement). We can also specify non-Gaussian errors; this is useful in financial data, which tends to have heavy-tailed distributions."
   ]
  },
  {
   "cell_type": "markdown",
   "metadata": {},
   "source": [
    "Beta hedge: How to hedge your algorithm against your risk factors"
   ]
  },
  {
   "cell_type": "markdown",
   "metadata": {},
   "source": [
    "# Stock Price Prediction Using Kalman Filter"
   ]
  },
  {
   "cell_type": "markdown",
   "metadata": {},
   "source": [
    "### Dynamics of Price\n",
    "Based on the celebrated APT model and Berra's risk model, I proposed the stock forecasting model as the following expression.\n",
    "\n",
    "$$r_{i}(t) = \\alpha_i(t) + \\sum_{k=1}^K \\beta_{ik}(t) F_{ik}(t)$$\n",
    "\n",
    "Note that here we don't assume the excessive return or factor returns to be constant, which is different comparing to APT and Berra model. The traditional way to handle it is doing the time-series calibration (APT) or cross-section regression (Berra). And we would implement in this part.\n",
    "\n",
    "In order to address both problems in time-series calibration and cross-section regression, we use a powerful tool: Kalman Filter. To match the generalized linear model, we have the following anatomic version of the model\n",
    "$$\n",
    "\\left(\\begin{array}{cc} \n",
    "a_1(t)\\\\\n",
    "\\vdots\\\\\n",
    "a_n(t)\\\\\n",
    "F_1(t)\\\\\n",
    "\\vdots\\\\\n",
    "F_K(t)\n",
    "\\end{array}\\right)\n",
    "=\n",
    "\\left(\\begin{array}{cc} \n",
    "1&\\dots &0&0&\\dots&0\\\\\n",
    "\\vdots&\\ddots&\\vdots&\\vdots&\\dots &\\vdots\\\\\n",
    "0&\\dots&1&0&\\dots&0\\\\\n",
    "0&\\dots&0&1&\\dots&0\\\\\n",
    "\\vdots&\\dots&\\vdots&\\vdots&\\ddots&\\vdots\\\\\n",
    "0&\\dots&0&0&\\dots&1\\\\\n",
    "\\end{array}\\right)\n",
    "\\left(\\begin{array}{cc} \n",
    "a_1(t)\\\\\n",
    "\\vdots\\\\\n",
    "a_n(t)\\\\\n",
    "F_1(t)\\\\\n",
    "\\vdots\\\\\n",
    "F_K(t)\n",
    "\\end{array}\\right)\n",
    "+ \\Sigma(\\mbox{state})\n",
    "$$ \n",
    "\n",
    "$$\n",
    "\\left(\\begin{array}{cc} \n",
    "R_1(t)\\\\\n",
    "\\vdots\\\\\n",
    "R_n(t)\\\\\n",
    "\\end{array}\\right)\n",
    "=\n",
    "\\left(\\begin{array}{cc} \n",
    "1 & 0 &\\dots &0&b_{11}(t) &b_{12}(t)&\\dots&b_{1K}(t)\\\\\n",
    "0 & 1 &\\dots &0&b_{21}(t) &b_{22}(t)&\\dots&b_{2K}(t)\\\\\n",
    "\\vdots& \\vdots&\\ddots&\\vdots&\\vdots&\\vdots&\\vdots&\\vdots\\\\\n",
    "0& 0 &\\dots &1&b_{K1}(t) &b_{K2}(t)&\\dots&b_{KK}(t)\n",
    "\\end{array}\\right)\n",
    "\\left(\\begin{array}{cc} \n",
    "a_1(t)\\\\\n",
    "\\vdots\\\\\n",
    "a_n(t)\\\\\n",
    "F_1(t)\\\\\n",
    "\\vdots\\\\\n",
    "F_K(t)\n",
    "\\end{array}\\right)\n",
    "+ \\Sigma(\\mbox{observation})\n",
    "$$ "
   ]
  },
  {
   "cell_type": "code",
   "execution_count": 5,
   "metadata": {
    "collapsed": true
   },
   "outputs": [],
   "source": [
    "from rqdata_utils import *\n",
    "import pandas\n",
    "import numpy as np\n",
    "import scipy as sp\n",
    "import alphalens as al\n",
    "from pykalman import KalmanFilter\n",
    "%matplotlib inline"
   ]
  },
  {
   "cell_type": "code",
   "execution_count": 6,
   "metadata": {
    "collapsed": true
   },
   "outputs": [],
   "source": [
    "price_df,instrument_df,equity_df = get_price_instrument_equity(\"cn_stock_price_2012_2018.csv\",\"cn_instrument_info_2012_2018.csv\",\"cn_equity_daily_2012_2018.csv\",\"sectorCode\")"
   ]
  },
  {
   "cell_type": "code",
   "execution_count": 7,
   "metadata": {
    "collapsed": false
   },
   "outputs": [
    {
     "data": {
      "text/plain": [
       "164"
      ]
     },
     "execution_count": 7,
     "metadata": {},
     "output_type": "execute_result"
    }
   ],
   "source": [
    "healthcareUniverse = instrument_df.index[instrument_df.sectorCode=='HealthCare'].values\n",
    "len(healthcareUniverse)"
   ]
  },
  {
   "cell_type": "code",
   "execution_count": 8,
   "metadata": {
    "collapsed": true
   },
   "outputs": [],
   "source": [
    "def equity_universe_filtering(equity_df, universe):\n",
    "    universeFilter = [book_id in set(universe) for book_id in equity_df.index.get_level_values(level=1).values]\n",
    "    return equity_df[universeFilter]"
   ]
  },
  {
   "cell_type": "code",
   "execution_count": 9,
   "metadata": {
    "collapsed": false
   },
   "outputs": [
    {
     "data": {
      "text/html": [
       "<div>\n",
       "<table border=\"1\" class=\"dataframe\">\n",
       "  <thead>\n",
       "    <tr style=\"text-align: right;\">\n",
       "      <th></th>\n",
       "      <th></th>\n",
       "      <th>return</th>\n",
       "      <th>close</th>\n",
       "      <th>total_turnover</th>\n",
       "      <th>volume</th>\n",
       "      <th>week</th>\n",
       "      <th>month</th>\n",
       "      <th>report_quarter</th>\n",
       "      <th>market_cap</th>\n",
       "      <th>a_share_market_val_2</th>\n",
       "      <th>cash_received_from_sales_of_goods</th>\n",
       "      <th>pb_ratio</th>\n",
       "      <th>net_profit</th>\n",
       "      <th>ps_ratio</th>\n",
       "      <th>sectorCode</th>\n",
       "    </tr>\n",
       "    <tr>\n",
       "      <th>date</th>\n",
       "      <th>order_book_id</th>\n",
       "      <th></th>\n",
       "      <th></th>\n",
       "      <th></th>\n",
       "      <th></th>\n",
       "      <th></th>\n",
       "      <th></th>\n",
       "      <th></th>\n",
       "      <th></th>\n",
       "      <th></th>\n",
       "      <th></th>\n",
       "      <th></th>\n",
       "      <th></th>\n",
       "      <th></th>\n",
       "      <th></th>\n",
       "    </tr>\n",
       "  </thead>\n",
       "  <tbody>\n",
       "    <tr>\n",
       "      <th rowspan=\"5\" valign=\"top\">2012-01-04</th>\n",
       "      <th>000004.XSHE</th>\n",
       "      <td>-0.022250</td>\n",
       "      <td>7.9100</td>\n",
       "      <td>3763832.88</td>\n",
       "      <td>465469.0</td>\n",
       "      <td>0.5720</td>\n",
       "      <td>0.7506</td>\n",
       "      <td>2011q3</td>\n",
       "      <td>6.642556e+08</td>\n",
       "      <td>6.634549e+08</td>\n",
       "      <td>5.949968e+07</td>\n",
       "      <td>8.8175</td>\n",
       "      <td>4.500363e+06</td>\n",
       "      <td>37.5796</td>\n",
       "      <td>HealthCare</td>\n",
       "    </tr>\n",
       "    <tr>\n",
       "      <th>000028.XSHE</th>\n",
       "      <td>-0.045433</td>\n",
       "      <td>19.8422</td>\n",
       "      <td>9326924.28</td>\n",
       "      <td>450553.0</td>\n",
       "      <td>0.4201</td>\n",
       "      <td>0.2722</td>\n",
       "      <td>2011q3</td>\n",
       "      <td>5.872485e+09</td>\n",
       "      <td>4.753820e+09</td>\n",
       "      <td>1.053298e+10</td>\n",
       "      <td>4.3493</td>\n",
       "      <td>2.481834e+08</td>\n",
       "      <td>0.3414</td>\n",
       "      <td>HealthCare</td>\n",
       "    </tr>\n",
       "    <tr>\n",
       "      <th>000150.XSHE</th>\n",
       "      <td>-0.030295</td>\n",
       "      <td>3.1737</td>\n",
       "      <td>3109304.50</td>\n",
       "      <td>952600.0</td>\n",
       "      <td>0.3460</td>\n",
       "      <td>0.3610</td>\n",
       "      <td>2011q3</td>\n",
       "      <td>1.036800e+09</td>\n",
       "      <td>1.036800e+09</td>\n",
       "      <td>4.913279e+07</td>\n",
       "      <td>1.4763</td>\n",
       "      <td>3.657858e+06</td>\n",
       "      <td>7.8956</td>\n",
       "      <td>HealthCare</td>\n",
       "    </tr>\n",
       "    <tr>\n",
       "      <th>000153.XSHE</th>\n",
       "      <td>-0.028053</td>\n",
       "      <td>5.7700</td>\n",
       "      <td>9673054.49</td>\n",
       "      <td>1596020.0</td>\n",
       "      <td>0.6830</td>\n",
       "      <td>2.4594</td>\n",
       "      <td>2011q3</td>\n",
       "      <td>1.531454e+09</td>\n",
       "      <td>1.360856e+09</td>\n",
       "      <td>1.329425e+09</td>\n",
       "      <td>2.1169</td>\n",
       "      <td>1.560397e+07</td>\n",
       "      <td>0.7818</td>\n",
       "      <td>HealthCare</td>\n",
       "    </tr>\n",
       "    <tr>\n",
       "      <th>000403.XSHE</th>\n",
       "      <td>0.000000</td>\n",
       "      <td>3.1625</td>\n",
       "      <td>0.00</td>\n",
       "      <td>0.0</td>\n",
       "      <td>0.0000</td>\n",
       "      <td>0.0000</td>\n",
       "      <td>NaN</td>\n",
       "      <td>NaN</td>\n",
       "      <td>NaN</td>\n",
       "      <td>NaN</td>\n",
       "      <td>NaN</td>\n",
       "      <td>NaN</td>\n",
       "      <td>NaN</td>\n",
       "      <td>HealthCare</td>\n",
       "    </tr>\n",
       "  </tbody>\n",
       "</table>\n",
       "</div>"
      ],
      "text/plain": [
       "                            return    close  total_turnover     volume  \\\n",
       "date       order_book_id                                                 \n",
       "2012-01-04 000004.XSHE   -0.022250   7.9100      3763832.88   465469.0   \n",
       "           000028.XSHE   -0.045433  19.8422      9326924.28   450553.0   \n",
       "           000150.XSHE   -0.030295   3.1737      3109304.50   952600.0   \n",
       "           000153.XSHE   -0.028053   5.7700      9673054.49  1596020.0   \n",
       "           000403.XSHE    0.000000   3.1625            0.00        0.0   \n",
       "\n",
       "                            week   month report_quarter    market_cap  \\\n",
       "date       order_book_id                                                \n",
       "2012-01-04 000004.XSHE    0.5720  0.7506         2011q3  6.642556e+08   \n",
       "           000028.XSHE    0.4201  0.2722         2011q3  5.872485e+09   \n",
       "           000150.XSHE    0.3460  0.3610         2011q3  1.036800e+09   \n",
       "           000153.XSHE    0.6830  2.4594         2011q3  1.531454e+09   \n",
       "           000403.XSHE    0.0000  0.0000            NaN           NaN   \n",
       "\n",
       "                          a_share_market_val_2  \\\n",
       "date       order_book_id                         \n",
       "2012-01-04 000004.XSHE            6.634549e+08   \n",
       "           000028.XSHE            4.753820e+09   \n",
       "           000150.XSHE            1.036800e+09   \n",
       "           000153.XSHE            1.360856e+09   \n",
       "           000403.XSHE                     NaN   \n",
       "\n",
       "                          cash_received_from_sales_of_goods  pb_ratio  \\\n",
       "date       order_book_id                                                \n",
       "2012-01-04 000004.XSHE                         5.949968e+07    8.8175   \n",
       "           000028.XSHE                         1.053298e+10    4.3493   \n",
       "           000150.XSHE                         4.913279e+07    1.4763   \n",
       "           000153.XSHE                         1.329425e+09    2.1169   \n",
       "           000403.XSHE                                  NaN       NaN   \n",
       "\n",
       "                            net_profit  ps_ratio  sectorCode  \n",
       "date       order_book_id                                      \n",
       "2012-01-04 000004.XSHE    4.500363e+06   37.5796  HealthCare  \n",
       "           000028.XSHE    2.481834e+08    0.3414  HealthCare  \n",
       "           000150.XSHE    3.657858e+06    7.8956  HealthCare  \n",
       "           000153.XSHE    1.560397e+07    0.7818  HealthCare  \n",
       "           000403.XSHE             NaN       NaN  HealthCare  "
      ]
     },
     "execution_count": 9,
     "metadata": {},
     "output_type": "execute_result"
    }
   ],
   "source": [
    "healthcare_equity_df = equity_universe_filtering(equity_df, healthcareUniverse)\n",
    "healthcare_equity_df.head()"
   ]
  },
  {
   "cell_type": "code",
   "execution_count": 10,
   "metadata": {
    "collapsed": false
   },
   "outputs": [
    {
     "data": {
      "text/html": [
       "<div>\n",
       "<table border=\"1\" class=\"dataframe\">\n",
       "  <thead>\n",
       "    <tr style=\"text-align: right;\">\n",
       "      <th></th>\n",
       "      <th>value</th>\n",
       "      <th>return</th>\n",
       "    </tr>\n",
       "    <tr>\n",
       "      <th>date</th>\n",
       "      <th></th>\n",
       "      <th></th>\n",
       "    </tr>\n",
       "  </thead>\n",
       "  <tbody>\n",
       "    <tr>\n",
       "      <th>2012-01-04</th>\n",
       "      <td>2891.462</td>\n",
       "      <td>0.000000</td>\n",
       "    </tr>\n",
       "    <tr>\n",
       "      <th>2012-01-05</th>\n",
       "      <td>2766.955</td>\n",
       "      <td>0.044015</td>\n",
       "    </tr>\n",
       "    <tr>\n",
       "      <th>2012-01-06</th>\n",
       "      <td>2744.793</td>\n",
       "      <td>0.008042</td>\n",
       "    </tr>\n",
       "    <tr>\n",
       "      <th>2012-01-09</th>\n",
       "      <td>2833.219</td>\n",
       "      <td>-0.031708</td>\n",
       "    </tr>\n",
       "    <tr>\n",
       "      <th>2012-01-10</th>\n",
       "      <td>2929.594</td>\n",
       "      <td>-0.033450</td>\n",
       "    </tr>\n",
       "  </tbody>\n",
       "</table>\n",
       "</div>"
      ],
      "text/plain": [
       "               value    return\n",
       "date                          \n",
       "2012-01-04  2891.462  0.000000\n",
       "2012-01-05  2766.955  0.044015\n",
       "2012-01-06  2744.793  0.008042\n",
       "2012-01-09  2833.219 -0.031708\n",
       "2012-01-10  2929.594 -0.033450"
      ]
     },
     "execution_count": 10,
     "metadata": {},
     "output_type": "execute_result"
    }
   ],
   "source": [
    "benchmark_df = pd.read_csv(\"cn_SH_healthcare_index_2012_2018.csv\",names=['date','value'])\n",
    "benchmark_df = benchmark_df.set_index('date',drop=True)\n",
    "benchmark_df['return'] = np.log(benchmark_df.shift(1)/benchmark_df).fillna(0)\n",
    "benchmark_df.head()"
   ]
  },
  {
   "cell_type": "code",
   "execution_count": 11,
   "metadata": {
    "collapsed": false
   },
   "outputs": [
    {
     "data": {
      "text/plain": [
       "date        order_book_id\n",
       "2012-01-04  000004.XSHE      6.642556e+08\n",
       "            000028.XSHE      5.872485e+09\n",
       "            000150.XSHE      1.036800e+09\n",
       "            000153.XSHE      1.531454e+09\n",
       "            000403.XSHE      0.000000e+00\n",
       "Name: market_cap, dtype: float64"
      ]
     },
     "execution_count": 11,
     "metadata": {},
     "output_type": "execute_result"
    }
   ],
   "source": [
    "healthcare_equity_df['market_cap'].fillna(0).head()"
   ]
  },
  {
   "cell_type": "code",
   "execution_count": 12,
   "metadata": {
    "collapsed": false
   },
   "outputs": [
    {
     "data": {
      "text/html": [
       "<div>\n",
       "<table border=\"1\" class=\"dataframe\">\n",
       "  <thead>\n",
       "    <tr style=\"text-align: right;\">\n",
       "      <th></th>\n",
       "      <th></th>\n",
       "      <th>market_cap</th>\n",
       "      <th>pb_ratio</th>\n",
       "      <th>ps_ratio</th>\n",
       "    </tr>\n",
       "    <tr>\n",
       "      <th>date</th>\n",
       "      <th>order_book_id</th>\n",
       "      <th></th>\n",
       "      <th></th>\n",
       "      <th></th>\n",
       "    </tr>\n",
       "  </thead>\n",
       "  <tbody>\n",
       "    <tr>\n",
       "      <th rowspan=\"5\" valign=\"top\">2012-01-04</th>\n",
       "      <th>000004.XSHE</th>\n",
       "      <td>-0.784393</td>\n",
       "      <td>-0.115692</td>\n",
       "      <td>4.830427</td>\n",
       "    </tr>\n",
       "    <tr>\n",
       "      <th>000028.XSHE</th>\n",
       "      <td>-0.093343</td>\n",
       "      <td>-0.124286</td>\n",
       "      <td>-0.672507</td>\n",
       "    </tr>\n",
       "    <tr>\n",
       "      <th>000150.XSHE</th>\n",
       "      <td>-0.734962</td>\n",
       "      <td>-0.129812</td>\n",
       "      <td>0.443827</td>\n",
       "    </tr>\n",
       "    <tr>\n",
       "      <th>000153.XSHE</th>\n",
       "      <td>-0.669329</td>\n",
       "      <td>-0.128580</td>\n",
       "      <td>-0.607426</td>\n",
       "    </tr>\n",
       "    <tr>\n",
       "      <th>000403.XSHE</th>\n",
       "      <td>-0.872529</td>\n",
       "      <td>-0.132652</td>\n",
       "      <td>-0.722958</td>\n",
       "    </tr>\n",
       "  </tbody>\n",
       "</table>\n",
       "</div>"
      ],
      "text/plain": [
       "                          market_cap  pb_ratio  ps_ratio\n",
       "date       order_book_id                                \n",
       "2012-01-04 000004.XSHE     -0.784393 -0.115692  4.830427\n",
       "           000028.XSHE     -0.093343 -0.124286 -0.672507\n",
       "           000150.XSHE     -0.734962 -0.129812  0.443827\n",
       "           000153.XSHE     -0.669329 -0.128580 -0.607426\n",
       "           000403.XSHE     -0.872529 -0.132652 -0.722958"
      ]
     },
     "execution_count": 12,
     "metadata": {},
     "output_type": "execute_result"
    }
   ],
   "source": [
    "factor_list = ['market_cap', 'pb_ratio', 'ps_ratio']\n",
    "factor_size = len(factor_list)\n",
    "\n",
    "data_copy = healthcare_equity_df[factor_list].fillna(0)\n",
    "factor_zscore = (data_copy - data_copy.groupby(level='date').mean())/data_copy.groupby(level='date').std()\n",
    "factor_zscore.head()"
   ]
  },
  {
   "cell_type": "code",
   "execution_count": 13,
   "metadata": {
    "collapsed": false
   },
   "outputs": [
    {
     "name": "stdout",
     "output_type": "stream",
     "text": [
      "63\n"
     ]
    }
   ],
   "source": [
    "idx = pandas.IndexSlice\n",
    "\n",
    "healthcare_subset = set(healthcareUniverse)\n",
    "\n",
    "for date,group in factor_zscore.groupby(level=0):\n",
    "#     print(size)\n",
    "    size = group.shape[0]\n",
    "#     print(date,size)\n",
    "#     print(group)\n",
    "    new_set = set(group.loc[idx[:,healthcare_subset],:].index.get_level_values(1).values)\n",
    "    if(new_set<healthcare_subset):\n",
    "        healthcare_subset = new_set\n",
    "#         print(healthcare_subset)\n",
    "        \n",
    "subset_factor_zscore = factor_zscore.loc[idx[:,healthcare_subset],:]\n",
    "asset_size = len(healthcare_subset)\n",
    "print(asset_size)\n",
    "observation_transition_matrix = []\n",
    "for date,group in subset_factor_zscore.groupby(level=0):\n",
    "    exposure_matrix = group.values\n",
    "#     print(np.shape(group.values))\n",
    "#     print(np.shape(exposure_matrix))\n",
    "#     print(exposure_matrix.shape)\n",
    "#     print(healthcare_size)\n",
    "    observation_transition_matrix.append(np.concatenate((np.eye(asset_size),exposure_matrix),axis=1).tolist())\n"
   ]
  },
  {
   "cell_type": "code",
   "execution_count": 14,
   "metadata": {
    "collapsed": true
   },
   "outputs": [],
   "source": [
    "observations = healthcare_equity_df.loc[pd.IndexSlice[:,healthcare_subset],'return']"
   ]
  },
  {
   "cell_type": "code",
   "execution_count": 44,
   "metadata": {
    "collapsed": false
   },
   "outputs": [],
   "source": [
    "observation_list = []\n",
    "for date,group in observations.groupby(level=0):\n",
    "#     print(date)\n",
    "    observation_list.append(group.values.tolist())"
   ]
  },
  {
   "cell_type": "code",
   "execution_count": null,
   "metadata": {
    "collapsed": false
   },
   "outputs": [],
   "source": []
  },
  {
   "cell_type": "code",
   "execution_count": 16,
   "metadata": {
    "collapsed": false
   },
   "outputs": [
    {
     "data": {
      "text/plain": [
       "(1535, 63, 66)"
      ]
     },
     "execution_count": 16,
     "metadata": {},
     "output_type": "execute_result"
    }
   ],
   "source": [
    "np.shape(observation_transition_matrix)"
   ]
  },
  {
   "cell_type": "code",
   "execution_count": 17,
   "metadata": {
    "collapsed": false
   },
   "outputs": [
    {
     "name": "stdout",
     "output_type": "stream",
     "text": [
      "(66, 66)\n",
      "(66, 66)\n",
      "(1535, 63, 66)\n",
      "True\n",
      "True\n",
      "True\n"
     ]
    }
   ],
   "source": [
    "state_transition_matrix = np.eye(factor_size+asset_size)\n",
    "state_covariance_matrix = np.eye(factor_size+asset_size)*0.1\n",
    "observation_matrices = observation_transition_matrix\n",
    "observation_covariance_matrix = np.eye(asset_size)*0.1\n",
    "initial_state_mean = np.zeros(factor_size+asset_size)\n",
    "initial_state_covariance = np.eye(factor_size+asset_size)*0.1\n",
    "\n",
    "\n",
    "nstate = factor_size+asset_size\n",
    "nobs = asset_size\n",
    "print(state_transition_matrix.shape)\n",
    "print(state_covariance_matrix.shape)\n",
    "print(np.shape(observation_matrices))\n",
    "print(observation_covariance_matrix.shape==(nobs,nobs))\n",
    "print(initial_state_mean.shape==(nstate,))\n",
    "print(initial_state_covariance.shape==(nstate,nstate))\n",
    "\n",
    "\n",
    "kf = KalmanFilter(transition_matrices=state_transition_matrix,\n",
    "                 transition_covariance=state_covariance_matrix,\n",
    "                 observation_matrices=observation_matrices,\n",
    "                 observation_covariance=observation_covariance_matrix,\n",
    "                 initial_state_mean=initial_state_mean,\n",
    "                 initial_state_covariance=initial_state_covariance,\n",
    "                 n_dim_state=nstate,\n",
    "                 n_dim_obs=nobs)"
   ]
  },
  {
   "cell_type": "code",
   "execution_count": 18,
   "metadata": {
    "collapsed": true
   },
   "outputs": [],
   "source": [
    "returns = kf.filter(observation_list)"
   ]
  },
  {
   "cell_type": "code",
   "execution_count": 19,
   "metadata": {
    "collapsed": false
   },
   "outputs": [
    {
     "data": {
      "text/plain": [
       "array([[-0.0201041 , -0.0211423 , -0.01611745, ..., -0.00171038,\n",
       "         0.00708199,  0.0036095 ],\n",
       "       [-0.05609598, -0.045082  , -0.02782665, ...,  0.00387021,\n",
       "        -0.00058306,  0.00203373],\n",
       "       [-0.02882871, -0.03163535, -0.01248095, ...,  0.00289151,\n",
       "        -0.00037338,  0.00385506],\n",
       "       ..., \n",
       "       [-0.02064002, -0.01950058,  0.01873337, ...,  0.277321  ,\n",
       "         0.06993532, -0.00129205],\n",
       "       [-0.0262313 , -0.03301924,  0.02124976, ...,  0.27846191,\n",
       "         0.0737237 , -0.00576752],\n",
       "       [-0.01205274, -0.00491581,  0.02945286, ...,  0.28587637,\n",
       "         0.06616954,  0.00036902]])"
      ]
     },
     "execution_count": 19,
     "metadata": {},
     "output_type": "execute_result"
    }
   ],
   "source": [
    "filtered_state_means = returns[0]\n",
    "filtered_state_means"
   ]
  },
  {
   "cell_type": "code",
   "execution_count": 20,
   "metadata": {
    "collapsed": true
   },
   "outputs": [],
   "source": [
    "a_list = []\n",
    "F_list = []\n",
    "for state in filtered_state_means:\n",
    "    a = state[:asset_size]\n",
    "    F = state[asset_size:]\n",
    "    a_list.append(a)\n",
    "    F_list.append(F)"
   ]
  },
  {
   "cell_type": "code",
   "execution_count": 21,
   "metadata": {
    "collapsed": false
   },
   "outputs": [
    {
     "data": {
      "text/plain": [
       "date        order_book_id\n",
       "2012-01-04  000004.XSHE     -0.020104\n",
       "            000028.XSHE     -0.021142\n",
       "            000150.XSHE     -0.016117\n",
       "            000153.XSHE     -0.013047\n",
       "            000403.XSHE      0.001028\n",
       "Name: alpha, dtype: float64"
      ]
     },
     "execution_count": 21,
     "metadata": {},
     "output_type": "execute_result"
    }
   ],
   "source": [
    "import itertools\n",
    "\n",
    "a_df = pd.Series(list(itertools.chain(*a_list)),index = subset_factor_zscore.index,name='alpha')\n",
    "a_df.head()"
   ]
  },
  {
   "cell_type": "code",
   "execution_count": 22,
   "metadata": {
    "collapsed": false
   },
   "outputs": [
    {
     "data": {
      "text/html": [
       "<div>\n",
       "<table border=\"1\" class=\"dataframe\">\n",
       "  <thead>\n",
       "    <tr style=\"text-align: right;\">\n",
       "      <th></th>\n",
       "      <th></th>\n",
       "      <th>market_cap_F</th>\n",
       "      <th>pb_ratio_F</th>\n",
       "      <th>ps_ratio_F</th>\n",
       "    </tr>\n",
       "    <tr>\n",
       "      <th>date</th>\n",
       "      <th>order_book_id</th>\n",
       "      <th></th>\n",
       "      <th></th>\n",
       "      <th></th>\n",
       "    </tr>\n",
       "  </thead>\n",
       "  <tbody>\n",
       "    <tr>\n",
       "      <th rowspan=\"5\" valign=\"top\">2012-01-04</th>\n",
       "      <th>000004.XSHE</th>\n",
       "      <td>-0.00171</td>\n",
       "      <td>0.007082</td>\n",
       "      <td>0.00361</td>\n",
       "    </tr>\n",
       "    <tr>\n",
       "      <th>000028.XSHE</th>\n",
       "      <td>-0.00171</td>\n",
       "      <td>0.007082</td>\n",
       "      <td>0.00361</td>\n",
       "    </tr>\n",
       "    <tr>\n",
       "      <th>000150.XSHE</th>\n",
       "      <td>-0.00171</td>\n",
       "      <td>0.007082</td>\n",
       "      <td>0.00361</td>\n",
       "    </tr>\n",
       "    <tr>\n",
       "      <th>000153.XSHE</th>\n",
       "      <td>-0.00171</td>\n",
       "      <td>0.007082</td>\n",
       "      <td>0.00361</td>\n",
       "    </tr>\n",
       "    <tr>\n",
       "      <th>000403.XSHE</th>\n",
       "      <td>-0.00171</td>\n",
       "      <td>0.007082</td>\n",
       "      <td>0.00361</td>\n",
       "    </tr>\n",
       "  </tbody>\n",
       "</table>\n",
       "</div>"
      ],
      "text/plain": [
       "                          market_cap_F  pb_ratio_F  ps_ratio_F\n",
       "date       order_book_id                                      \n",
       "2012-01-04 000004.XSHE        -0.00171    0.007082     0.00361\n",
       "           000028.XSHE        -0.00171    0.007082     0.00361\n",
       "           000150.XSHE        -0.00171    0.007082     0.00361\n",
       "           000153.XSHE        -0.00171    0.007082     0.00361\n",
       "           000403.XSHE        -0.00171    0.007082     0.00361"
      ]
     },
     "execution_count": 22,
     "metadata": {},
     "output_type": "execute_result"
    }
   ],
   "source": [
    "F_list_temp = [[F,]*asset_size for F in F_list]\n",
    "# subset_factor_zscore.index.get_level_values(0).unique()\n",
    "F_list_temp = list(itertools.chain(*F_list_temp))\n",
    "F_df = pd.DataFrame(F_list_temp,columns=['market_cap_F','pb_ratio_F','ps_ratio_F'],index=subset_factor_zscore.index)\n",
    "F_df.head()"
   ]
  },
  {
   "cell_type": "code",
   "execution_count": 23,
   "metadata": {
    "collapsed": false
   },
   "outputs": [
    {
     "data": {
      "text/plain": [
       "date        order_book_id\n",
       "2012-01-04  000004.XSHE       7.9100\n",
       "            000028.XSHE      19.8422\n",
       "            000150.XSHE       3.1737\n",
       "            000153.XSHE       5.7700\n",
       "            000403.XSHE       3.1625\n",
       "Name: close, dtype: float64"
      ]
     },
     "execution_count": 23,
     "metadata": {},
     "output_type": "execute_result"
    }
   ],
   "source": [
    "return_df = healthcare_equity_df.loc[idx[:,healthcare_subset],'return']\n",
    "close_df = healthcare_equity_df.loc[idx[:,healthcare_subset],'close']\n",
    "close_df.head()"
   ]
  },
  {
   "cell_type": "code",
   "execution_count": 24,
   "metadata": {
    "collapsed": false
   },
   "outputs": [
    {
     "data": {
      "text/html": [
       "<div>\n",
       "<table border=\"1\" class=\"dataframe\">\n",
       "  <thead>\n",
       "    <tr style=\"text-align: right;\">\n",
       "      <th></th>\n",
       "      <th></th>\n",
       "      <th>market_cap</th>\n",
       "      <th>pb_ratio</th>\n",
       "      <th>ps_ratio</th>\n",
       "      <th>market_cap_F</th>\n",
       "      <th>pb_ratio_F</th>\n",
       "      <th>ps_ratio_F</th>\n",
       "      <th>alpha</th>\n",
       "      <th>return</th>\n",
       "      <th>close</th>\n",
       "    </tr>\n",
       "    <tr>\n",
       "      <th>date</th>\n",
       "      <th>order_book_id</th>\n",
       "      <th></th>\n",
       "      <th></th>\n",
       "      <th></th>\n",
       "      <th></th>\n",
       "      <th></th>\n",
       "      <th></th>\n",
       "      <th></th>\n",
       "      <th></th>\n",
       "      <th></th>\n",
       "    </tr>\n",
       "  </thead>\n",
       "  <tbody>\n",
       "    <tr>\n",
       "      <th rowspan=\"5\" valign=\"top\">2012-01-04</th>\n",
       "      <th>000004.XSHE</th>\n",
       "      <td>-0.784393</td>\n",
       "      <td>-0.115692</td>\n",
       "      <td>4.830427</td>\n",
       "      <td>-0.00171</td>\n",
       "      <td>0.007082</td>\n",
       "      <td>0.00361</td>\n",
       "      <td>-0.020104</td>\n",
       "      <td>-0.022250</td>\n",
       "      <td>7.9100</td>\n",
       "    </tr>\n",
       "    <tr>\n",
       "      <th>000028.XSHE</th>\n",
       "      <td>-0.093343</td>\n",
       "      <td>-0.124286</td>\n",
       "      <td>-0.672507</td>\n",
       "      <td>-0.00171</td>\n",
       "      <td>0.007082</td>\n",
       "      <td>0.00361</td>\n",
       "      <td>-0.021142</td>\n",
       "      <td>-0.045433</td>\n",
       "      <td>19.8422</td>\n",
       "    </tr>\n",
       "    <tr>\n",
       "      <th>000150.XSHE</th>\n",
       "      <td>-0.734962</td>\n",
       "      <td>-0.129812</td>\n",
       "      <td>0.443827</td>\n",
       "      <td>-0.00171</td>\n",
       "      <td>0.007082</td>\n",
       "      <td>0.00361</td>\n",
       "      <td>-0.016117</td>\n",
       "      <td>-0.030295</td>\n",
       "      <td>3.1737</td>\n",
       "    </tr>\n",
       "    <tr>\n",
       "      <th>000153.XSHE</th>\n",
       "      <td>-0.669329</td>\n",
       "      <td>-0.128580</td>\n",
       "      <td>-0.607426</td>\n",
       "      <td>-0.00171</td>\n",
       "      <td>0.007082</td>\n",
       "      <td>0.00361</td>\n",
       "      <td>-0.013047</td>\n",
       "      <td>-0.028053</td>\n",
       "      <td>5.7700</td>\n",
       "    </tr>\n",
       "    <tr>\n",
       "      <th>000403.XSHE</th>\n",
       "      <td>-0.872529</td>\n",
       "      <td>-0.132652</td>\n",
       "      <td>-0.722958</td>\n",
       "      <td>-0.00171</td>\n",
       "      <td>0.007082</td>\n",
       "      <td>0.00361</td>\n",
       "      <td>0.001028</td>\n",
       "      <td>0.000000</td>\n",
       "      <td>3.1625</td>\n",
       "    </tr>\n",
       "  </tbody>\n",
       "</table>\n",
       "</div>"
      ],
      "text/plain": [
       "                          market_cap  pb_ratio  ps_ratio  market_cap_F  \\\n",
       "date       order_book_id                                                 \n",
       "2012-01-04 000004.XSHE     -0.784393 -0.115692  4.830427      -0.00171   \n",
       "           000028.XSHE     -0.093343 -0.124286 -0.672507      -0.00171   \n",
       "           000150.XSHE     -0.734962 -0.129812  0.443827      -0.00171   \n",
       "           000153.XSHE     -0.669329 -0.128580 -0.607426      -0.00171   \n",
       "           000403.XSHE     -0.872529 -0.132652 -0.722958      -0.00171   \n",
       "\n",
       "                          pb_ratio_F  ps_ratio_F     alpha    return    close  \n",
       "date       order_book_id                                                       \n",
       "2012-01-04 000004.XSHE      0.007082     0.00361 -0.020104 -0.022250   7.9100  \n",
       "           000028.XSHE      0.007082     0.00361 -0.021142 -0.045433  19.8422  \n",
       "           000150.XSHE      0.007082     0.00361 -0.016117 -0.030295   3.1737  \n",
       "           000153.XSHE      0.007082     0.00361 -0.013047 -0.028053   5.7700  \n",
       "           000403.XSHE      0.007082     0.00361  0.001028  0.000000   3.1625  "
      ]
     },
     "execution_count": 24,
     "metadata": {},
     "output_type": "execute_result"
    }
   ],
   "source": [
    "subset_kf_df = pd.concat([subset_factor_zscore,F_df,a_df,return_df,close_df],axis=1)\n",
    "subset_kf_df.head()"
   ]
  },
  {
   "cell_type": "code",
   "execution_count": 25,
   "metadata": {
    "collapsed": false
   },
   "outputs": [
    {
     "data": {
      "text/plain": [
       "<matplotlib.axes._subplots.AxesSubplot at 0x11f92b1d0>"
      ]
     },
     "execution_count": 25,
     "metadata": {},
     "output_type": "execute_result"
    },
    {
     "data": {
      "image/png": "[encoded data removed]",
      "text/plain": [
       "<matplotlib.figure.Figure at 0x11c34f048>"
      ]
     },
     "metadata": {},
     "output_type": "display_data"
    }
   ],
   "source": [
    "subset_kf_df.loc[idx[:,'000004.XSHE'],('alpha','return')].plot()\n",
    "subset_kf_df.loc[idx[:,'000004.XSHE'],('return')].rolling(40).mean().plot()"
   ]
  },
  {
   "cell_type": "code",
   "execution_count": 26,
   "metadata": {
    "collapsed": false
   },
   "outputs": [
    {
     "data": {
      "text/plain": [
       "<matplotlib.axes._subplots.AxesSubplot at 0x1209fad30>"
      ]
     },
     "execution_count": 26,
     "metadata": {},
     "output_type": "execute_result"
    },
    {
     "data": {
      "image/png": "[encoded data removed]",
      "text/plain": [
       "<matplotlib.figure.Figure at 0x1209efe80>"
      ]
     },
     "metadata": {},
     "output_type": "display_data"
    }
   ],
   "source": [
    "subset_kf_df.loc[idx[:,'000004.XSHE'],'close'].plot()"
   ]
  },
  {
   "cell_type": "markdown",
   "metadata": {},
   "source": [
    "## Time-series Regression\n",
    "From APT theory, we assume the sources of the randomness are factor returns. Which means factor exposure $\\beta$ is a constant for each (asset, factor) pair and doesn't depend on time. Here, we assume that we already know the "
   ]
  },
  {
   "cell_type": "code",
   "execution_count": 33,
   "metadata": {
    "collapsed": true
   },
   "outputs": [],
   "source": [
    "import statsmodels.api as sm\n",
    "from statsmodels import regression,stats\n",
    "\n",
    "\n",
    "ts_factor_zscore = sm.add_constant(factor_zscore.dropna())\n",
    "\n",
    "Y = [healthcare_equity_df.xs(asset,level=1)['return'] for asset in healthcare_subset]\n",
    "X = [ts_factor_zscore.xs(asset,level=1)[['market_cap','pb_ratio','ps_ratio','const']] for asset in healthcare_subset]\n",
    "reg_results = [regression.linear_model.OLS(y,x).fit().params for y,x in zip(Y,X) if not(x.empty or y.empty)]\n",
    "indices = [asset for y, x, asset in zip(Y, X, healthcare_subset) if not(x.empty or y.empty)]\n",
    "ts_F_df = pd.DataFrame(reg_results, index=indices)"
   ]
  },
  {
   "cell_type": "code",
   "execution_count": 37,
   "metadata": {
    "collapsed": false
   },
   "outputs": [
    {
     "data": {
      "text/html": [
       "<div>\n",
       "<table border=\"1\" class=\"dataframe\">\n",
       "  <thead>\n",
       "    <tr style=\"text-align: right;\">\n",
       "      <th></th>\n",
       "      <th>market_cap</th>\n",
       "      <th>pb_ratio</th>\n",
       "      <th>ps_ratio</th>\n",
       "      <th>const</th>\n",
       "    </tr>\n",
       "  </thead>\n",
       "  <tbody>\n",
       "    <tr>\n",
       "      <th>600055.XSHG</th>\n",
       "      <td>-0.003259</td>\n",
       "      <td>0.003696</td>\n",
       "      <td>0.002861</td>\n",
       "      <td>-0.000134</td>\n",
       "    </tr>\n",
       "    <tr>\n",
       "      <th>600645.XSHG</th>\n",
       "      <td>0.004443</td>\n",
       "      <td>0.000926</td>\n",
       "      <td>-0.000456</td>\n",
       "      <td>0.000012</td>\n",
       "    </tr>\n",
       "    <tr>\n",
       "      <th>000999.XSHE</th>\n",
       "      <td>0.001759</td>\n",
       "      <td>-0.002473</td>\n",
       "      <td>0.001878</td>\n",
       "      <td>-0.000998</td>\n",
       "    </tr>\n",
       "    <tr>\n",
       "      <th>000150.XSHE</th>\n",
       "      <td>-0.005197</td>\n",
       "      <td>0.008237</td>\n",
       "      <td>-0.000381</td>\n",
       "      <td>-0.000115</td>\n",
       "    </tr>\n",
       "    <tr>\n",
       "      <th>600285.XSHG</th>\n",
       "      <td>0.009858</td>\n",
       "      <td>-0.000785</td>\n",
       "      <td>0.010601</td>\n",
       "      <td>0.009665</td>\n",
       "    </tr>\n",
       "  </tbody>\n",
       "</table>\n",
       "</div>"
      ],
      "text/plain": [
       "             market_cap  pb_ratio  ps_ratio     const\n",
       "600055.XSHG   -0.003259  0.003696  0.002861 -0.000134\n",
       "600645.XSHG    0.004443  0.000926 -0.000456  0.000012\n",
       "000999.XSHE    0.001759 -0.002473  0.001878 -0.000998\n",
       "000150.XSHE   -0.005197  0.008237 -0.000381 -0.000115\n",
       "600285.XSHG    0.009858 -0.000785  0.010601  0.009665"
      ]
     },
     "execution_count": 37,
     "metadata": {},
     "output_type": "execute_result"
    }
   ],
   "source": [
    "ts_F_df.head()"
   ]
  },
  {
   "cell_type": "markdown",
   "metadata": {},
   "source": [
    "## Cross-sectional Regression\n",
    "Here, we asseme the "
   ]
  },
  {
   "cell_type": "code",
   "execution_count": 29,
   "metadata": {
    "collapsed": false
   },
   "outputs": [],
   "source": [
    "import statsmodels.api as sm\n",
    "from statsmodels import regression,stats\n",
    "\n",
    "\n",
    "# factor_zscore = sm.add_constant(factor_zscore.dropna())\n",
    "# print(factor_zscore.head())\n",
    "\n",
    "# Y = [healthcare_equity_df.xs(asset,level=1)['return'] for asset in healthcare_subset]\n",
    "# X = [factor_zscore.xs(asset,level=1)[['market_cap','pb_ratio','ps_ratio','const']] for asset in healthcare_subset]\n",
    "# reg_results = [regression.linear_model.OLS(y,x).fit().params for y,x in zip(Y,X) if not(x.empty or y.empty)]\n",
    "# indices = [asset for y, x, asset in zip(Y, X, healthcare_subset) if not(x.empty or y.empty)]\n",
    "# betas = pd.DataFrame(reg_results, index=indices)"
   ]
  },
  {
   "cell_type": "code",
   "execution_count": 36,
   "metadata": {
    "collapsed": false
   },
   "outputs": [
    {
     "name": "stdout",
     "output_type": "stream",
     "text": [
      "                            OLS Regression Results                            \n",
      "==============================================================================\n",
      "Dep. Variable:                 return   R-squared:                       0.209\n",
      "Model:                            OLS   Adj. R-squared:                  0.169\n",
      "Method:                 Least Squares   F-statistic:                     5.202\n",
      "Date:                Mon, 07 May 2018   Prob (F-statistic):            0.00296\n",
      "Time:                        13:51:20   Log-Likelihood:                 160.16\n",
      "No. Observations:                  63   AIC:                            -312.3\n",
      "Df Residuals:                      59   BIC:                            -303.8\n",
      "Df Model:                           3                                         \n",
      "Covariance Type:            nonrobust                                         \n",
      "==============================================================================\n",
      "                 coef    std err          t      P>|t|      [0.025      0.975]\n",
      "------------------------------------------------------------------------------\n",
      "const         -0.0283      0.002    -11.417      0.000      -0.033      -0.023\n",
      "market_cap    -0.0014      0.002     -0.585      0.561      -0.006       0.004\n",
      "pb_ratio       0.0072      0.003      2.773      0.007       0.002       0.012\n",
      "ps_ratio       0.0042      0.003      1.595      0.116      -0.001       0.009\n",
      "==============================================================================\n",
      "Omnibus:                        0.884   Durbin-Watson:                   1.882\n",
      "Prob(Omnibus):                  0.643   Jarque-Bera (JB):                0.911\n",
      "Skew:                          -0.136   Prob(JB):                        0.634\n",
      "Kurtosis:                       2.478   Cond. No.                         1.43\n",
      "==============================================================================\n",
      "\n",
      "Warnings:\n",
      "[1] Standard Errors assume that the covariance matrix of the errors is correctly specified.\n",
      "const        -0.028308\n",
      "market_cap   -0.001447\n",
      "pb_ratio      0.007250\n",
      "ps_ratio      0.004179\n",
      "dtype: float64\n"
     ]
    }
   ],
   "source": [
    "for date,group in subset_factor_zscore.groupby(level=0):\n",
    "    X = sm.add_constant(group.loc[:,('market_cap','pb_ratio','ps_ratio')])\n",
    "    y = healthcare_equity_df.loc[(date,list(healthcare_subset)),'return']\n",
    "#     print(X)\n",
    "#     print(y)\n",
    "    results = sm.regression.linear_model.OLS(y,X).fit()\n",
    "    print(results.summary())\n",
    "    print(results.params)\n",
    "    break"
   ]
  },
  {
   "cell_type": "markdown",
   "metadata": {},
   "source": [
    "## Return-neutralize: Demean the returns among cross-section"
   ]
  },
  {
   "cell_type": "code",
   "execution_count": 77,
   "metadata": {
    "collapsed": true
   },
   "outputs": [],
   "source": [
    "#demean\n",
    "demean_observation_list = []\n",
    "for date,group in observations.groupby(level=0):\n",
    "#     print(date)\n",
    "#     print(group)\n",
    "#     print(group - group.mean())\n",
    "    demean_observation_list.append((group-group.mean()).values.tolist())"
   ]
  },
  {
   "cell_type": "code",
   "execution_count": 83,
   "metadata": {
    "collapsed": false
   },
   "outputs": [
    {
     "data": {
      "text/plain": [
       "96705"
      ]
     },
     "execution_count": 83,
     "metadata": {},
     "output_type": "execute_result"
    }
   ],
   "source": [
    "a = [[1,2],[44,5]]\n",
    "list(itertools.chain(*a))\n",
    "len(list(itertools.chain(*demean_observation_list)))"
   ]
  },
  {
   "cell_type": "code",
   "execution_count": 87,
   "metadata": {
    "collapsed": false
   },
   "outputs": [
    {
     "data": {
      "text/plain": [
       "date        order_book_id\n",
       "2012-01-04  000004.XSHE      0.005969\n",
       "            000028.XSHE     -0.017213\n",
       "            000150.XSHE     -0.002076\n",
       "            000153.XSHE      0.000166\n",
       "            000403.XSHE      0.028219\n",
       "Name: demean_return, dtype: float64"
      ]
     },
     "execution_count": 87,
     "metadata": {},
     "output_type": "execute_result"
    }
   ],
   "source": [
    "demean_return_df = pd.Series(list(itertools.chain(*demean_observation_list)),\n",
    "                             index=subset_factor_zscore.index,name='demean_return')\n",
    "demean_return_df.head()"
   ]
  },
  {
   "cell_type": "code",
   "execution_count": null,
   "metadata": {
    "collapsed": true
   },
   "outputs": [],
   "source": []
  },
  {
   "cell_type": "code",
   "execution_count": 95,
   "metadata": {
    "collapsed": false
   },
   "outputs": [
    {
     "name": "stdout",
     "output_type": "stream",
     "text": [
      "(66, 66)\n",
      "(66, 66)\n",
      "(1535, 63, 66)\n",
      "True\n",
      "True\n",
      "True\n",
      "(1535, 63)\n",
      "(96705,)\n"
     ]
    },
    {
     "data": {
      "text/plain": [
       "<matplotlib.axes._subplots.AxesSubplot at 0x129646a20>"
      ]
     },
     "execution_count": 95,
     "metadata": {},
     "output_type": "execute_result"
    },
    {
     "data": {
      "image/png": "[encoded data removed]",
      "text/plain": [
       "<matplotlib.figure.Figure at 0x129646240>"
      ]
     },
     "metadata": {},
     "output_type": "display_data"
    }
   ],
   "source": [
    "state_transition_matrix = np.eye(factor_size+asset_size)\n",
    "state_covariance_matrix = np.eye(factor_size+asset_size)*0.001\n",
    "observation_matrices = observation_transition_matrix\n",
    "observation_covariance_matrix = np.eye(asset_size)*0.00\n",
    "initial_state_mean = np.zeros(factor_size+asset_size)\n",
    "initial_state_covariance = np.eye(factor_size+asset_size)*0.1\n",
    "\n",
    "\n",
    "nstate = factor_size+asset_size\n",
    "nobs = asset_size\n",
    "print(state_transition_matrix.shape)\n",
    "print(state_covariance_matrix.shape)\n",
    "print(np.shape(observation_matrices))\n",
    "print(observation_covariance_matrix.shape==(nobs,nobs))\n",
    "print(initial_state_mean.shape==(nstate,))\n",
    "print(initial_state_covariance.shape==(nstate,nstate))\n",
    "print(np.shape(demean_observation_list))\n",
    "print(np.shape(demean_return_df))\n",
    "\n",
    "\n",
    "kf = KalmanFilter(transition_matrices=state_transition_matrix,\n",
    "                 transition_covariance=state_covariance_matrix,\n",
    "                 observation_matrices=observation_matrices,\n",
    "                 observation_covariance=observation_covariance_matrix,\n",
    "                 initial_state_mean=initial_state_mean,\n",
    "                 initial_state_covariance=initial_state_covariance,\n",
    "                 n_dim_state=nstate,\n",
    "                 n_dim_obs=nobs)\n",
    "\n",
    "returns = kf.filter(demean_observation_list)\n",
    "filtered_state_means = returns[0]\n",
    "a_list = []\n",
    "F_list = []\n",
    "for state in filtered_state_means:\n",
    "    a = state[:asset_size]\n",
    "    F = state[asset_size:]\n",
    "    a_list.append(a)\n",
    "    F_list.append(F)\n",
    "    \n",
    "import itertools\n",
    "\n",
    "a_df = pd.Series(list(itertools.chain(*a_list)),index = subset_factor_zscore.index,name='alpha')\n",
    "a_df.head()\n",
    "F_list_temp = [[F,]*asset_size for F in F_list]\n",
    "# subset_factor_zscore.index.get_level_values(0).unique()\n",
    "F_list_temp = list(itertools.chain(*F_list_temp))\n",
    "F_df = pd.DataFrame(F_list_temp,columns=['market_cap_F','pb_ratio_F','ps_ratio_F'],index=subset_factor_zscore.index)\n",
    "F_df.head()\n",
    "return_df = healthcare_equity_df.loc[idx[:,healthcare_subset],'return']\n",
    "close_df = healthcare_equity_df.loc[idx[:,healthcare_subset],'close']\n",
    "close_df.head()\n",
    "\n",
    "subset_kf_df = pd.concat([subset_factor_zscore,F_df,a_df,return_df,close_df],axis=1)\n",
    "subset_kf_df.head()\n",
    "subset_kf_df.loc[idx[:,'000004.XSHE'],('alpha','return')].plot()\n",
    "subset_kf_df.loc[idx[:,'000004.XSHE'],('return')].rolling(40).mean().plot()"
   ]
  },
  {
   "cell_type": "code",
   "execution_count": 94,
   "metadata": {
    "collapsed": false
   },
   "outputs": [
    {
     "data": {
      "text/plain": [
       "<matplotlib.axes._subplots.AxesSubplot at 0x12dfc5198>"
      ]
     },
     "execution_count": 94,
     "metadata": {},
     "output_type": "execute_result"
    },
    {
     "data": {
      "image/png": "[encoded data removed]",
      "text/plain": [
       "<matplotlib.figure.Figure at 0x12d3bbe48>"
      ]
     },
     "metadata": {},
     "output_type": "display_data"
    }
   ],
   "source": [
    "demean_return_df[demean_return_df>1] = 0\n",
    "demean_return_df.plot()\n",
    "demean_return_df.rolling(40).mean().plot()"
   ]
  },
  {
   "cell_type": "code",
   "execution_count": 59,
   "metadata": {
    "collapsed": false
   },
   "outputs": [
    {
     "data": {
      "text/plain": [
       "<matplotlib.axes._subplots.AxesSubplot at 0x129407cf8>"
      ]
     },
     "execution_count": 59,
     "metadata": {},
     "output_type": "execute_result"
    },
    {
     "data": {
      "image/png": "[encoded data removed]",
      "text/plain": [
       "<matplotlib.figure.Figure at 0x129407470>"
      ]
     },
     "metadata": {},
     "output_type": "display_data"
    }
   ],
   "source": [
    "subset_kf_df.loc[idx[:,'000004.XSHE'],'close'].plot()"
   ]
  },
  {
   "cell_type": "code",
   "execution_count": null,
   "metadata": {
    "collapsed": true
   },
   "outputs": [],
   "source": []
  }
 ],
 "metadata": {
  "kernelspec": {
   "display_name": "Python 3",
   "language": "python",
   "name": "python3"
  },
  "language_info": {
   "codemirror_mode": {
    "name": "ipython",
    "version": 3
   },
   "file_extension": ".py",
   "mimetype": "text/x-python",
   "name": "python",
   "nbconvert_exporter": "python",
   "pygments_lexer": "ipython3",
   "version": "3.5.2"
  }
 },
 "nbformat": 4,
 "nbformat_minor": 2
}
