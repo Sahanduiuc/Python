{
 "cells": [
  {
   "cell_type": "markdown",
   "metadata": {},
   "source": [
    "## DBSCAN\n",
    "A density-base algorithm for discovering clusters in large spatial database with noice."
   ]
  },
  {
   "cell_type": "code",
   "execution_count": 119,
   "metadata": {},
   "outputs": [],
   "source": [
    "import numpy as numpy\n",
    "import scipy as scipy\n",
    "from sklearn import cluster\n",
    "import matplotlib.pyplot as plt\n",
    " \n",
    " \n",
    " \n",
    "def set2List(NumpyArray):\n",
    "    list_ = []\n",
    "    for item in NumpyArray:\n",
    "        list_.append(item.tolist())\n",
    "    return list_\n",
    " \n",
    "def GenerateData():\n",
    "    x1=numpy.random.randn(50,2)\n",
    "    x2x=numpy.random.randn(80,1)+12\n",
    "    x2y=numpy.random.randn(80,1)\n",
    "    x2=numpy.column_stack((x2x,x2y))\n",
    "    x3=numpy.random.randn(100,2)+8\n",
    "    x4=numpy.random.randn(120,2)+15\n",
    "    z=numpy.concatenate((x1,x2,x3,x4))\n",
    "    return z\n",
    "\n",
    "\n",
    "class DBSCAN:\n",
    "    def __init__(self,Epsilon,MinumumPoints,DistanceMethod = 'euclidean'):\n",
    "        self.Epsilon = Epsilon\n",
    "        self.MinumumPoints = MinumumPoints\n",
    "        self.DistanceMethod = DistanceMethod\n",
    "    \n",
    "    def fit_predict(self,Dataset,query_index):\n",
    "        Epsilon = self.Epsilon\n",
    "        MinumumPoints = self.MinumumPoints\n",
    "        DistanceMethod = self.DistanceMethod\n",
    "    #    Dataset is a mxn matrix, m is number of item and n is the dimension of data\n",
    "        m,n=Dataset.shape\n",
    "        Visited=numpy.zeros(m,'int')\n",
    "        Type=numpy.zeros(m)\n",
    "    #   -1 noise, outlier\n",
    "    #    0 border\n",
    "    #    1 core\n",
    "        ClustersList=[]\n",
    "        Cluster=[]\n",
    "        PointClusterNumber=numpy.zeros(m)\n",
    "        PointClusterNumberIndex=1\n",
    "        PointNeighbors=[]\n",
    "        DistanceMatrix = scipy.spatial.distance.squareform(scipy.spatial.distance.pdist(Dataset, DistanceMethod))\n",
    "        \n",
    "        \n",
    "        if Visited[query_index]==0:\n",
    "            Visited[query_index]=1\n",
    "            PointNeighbors=numpy.where(DistanceMatrix[query_index]<Epsilon)[0]\n",
    "            print(\"point neighbors\",PointNeighbors)\n",
    "            if len(PointNeighbors)<MinumumPoints:\n",
    "                Type[query_index]=-1\n",
    "            else:\n",
    "                for k in range(len(Cluster)):\n",
    "                    Cluster.pop()\n",
    "                Cluster.append(query_index)\n",
    "                PointClusterNumber[query_index]=PointClusterNumberIndex\n",
    "\n",
    "\n",
    "                PointNeighbors=set2List(PointNeighbors)    \n",
    "                self.ExpandCluster(Dataset[query_index], PointNeighbors,Cluster,MinumumPoints,Epsilon,Visited,DistanceMatrix,PointClusterNumber,PointClusterNumberIndex  )\n",
    "                Cluster.append(PointNeighbors[:])\n",
    "                ClustersList.append(Cluster[:])\n",
    "                PointClusterNumberIndex=PointClusterNumberIndex+1\n",
    "\n",
    "#         print(\"Type\",Type)\n",
    "        return PointClusterNumber \n",
    "\n",
    "\n",
    "\n",
    "    def ExpandCluster(self,PointToExapnd, PointNeighbors,Cluster,MinumumPoints,Epsilon,Visited,DistanceMatrix,PointClusterNumber,PointClusterNumberIndex  ):\n",
    "        Neighbors=[]\n",
    "\n",
    "        for i in PointNeighbors:\n",
    "            if Visited[i]==0:\n",
    "                Visited[i]=1\n",
    "                Neighbors=numpy.where(DistanceMatrix[i]<Epsilon)[0]\n",
    "                if len(Neighbors)>=MinumumPoints:\n",
    "    #                Neighbors merge with PointNeighbors\n",
    "                    for j in Neighbors:\n",
    "                        try:\n",
    "                            PointNeighbors.index(j)\n",
    "                        except ValueError:\n",
    "                            PointNeighbors.append(j)\n",
    "\n",
    "            if PointClusterNumber[i]==0:\n",
    "                Cluster.append(i)\n",
    "                PointClusterNumber[i]=PointClusterNumberIndex\n",
    "        return\n",
    " \n"
   ]
  },
  {
   "cell_type": "code",
   "execution_count": 121,
   "metadata": {},
   "outputs": [
    {
     "name": "stdout",
     "output_type": "stream",
     "text": [
      "[ 0.08622527 -0.0968554 ]\n",
      "point neighbors [ 9 14 21 29 31 34 35 39 40 42 43 44 46]\n",
      "[1. 1. 1. 1. 1. 0. 1. 1. 1. 1. 1. 1. 1. 1. 1. 1. 1. 1. 1. 1. 1. 1. 1. 1.\n",
      " 0. 1. 1. 1. 1. 1. 1. 1. 1. 1. 1. 1. 1. 0. 1. 1. 1. 1. 1. 1. 1. 0. 1. 1.\n",
      " 1. 1. 0. 0. 0. 0. 0. 0. 0. 0. 0. 0. 0. 0. 0. 0. 0. 0. 0. 0. 0. 0. 0. 0.\n",
      " 0. 0. 0. 0. 0. 0. 0. 0. 0. 0. 0. 0. 0. 0. 0. 0. 0. 0. 0. 0. 0. 0. 0. 0.\n",
      " 0. 0. 0. 0. 0. 0. 0. 0. 0. 0. 0. 0. 0. 0. 0. 0. 0. 0. 0. 0. 0. 0. 0. 0.\n",
      " 0. 0. 0. 0. 0. 0. 0. 0. 0. 0. 0. 0. 0. 0. 0. 0. 0. 0. 0. 0. 0. 0. 0. 0.\n",
      " 0. 0. 0. 0. 0. 0. 0. 0. 0. 0. 0. 0. 0. 0. 0. 0. 0. 0. 0. 0. 0. 0. 0. 0.\n",
      " 0. 0. 0. 0. 0. 0. 0. 0. 0. 0. 0. 0. 0. 0. 0. 0. 0. 0. 0. 0. 0. 0. 0. 0.\n",
      " 0. 0. 0. 0. 0. 0. 0. 0. 0. 0. 0. 0. 0. 0. 0. 0. 0. 0. 0. 0. 0. 0. 0. 0.\n",
      " 0. 0. 0. 0. 0. 0. 0. 0. 0. 0. 0. 0. 0. 0. 0. 0. 0. 0. 0. 0. 0. 0. 0. 0.\n",
      " 0. 0. 0. 0. 0. 0. 0. 0. 0. 0. 0. 0. 0. 0. 0. 0. 0. 0. 0. 0. 0. 0. 0. 0.\n",
      " 0. 0. 0. 0. 0. 0. 0. 0. 0. 0. 0. 0. 0. 0. 0. 0. 0. 0. 0. 0. 0. 0. 0. 0.\n",
      " 0. 0. 0. 0. 0. 0. 0. 0. 0. 0. 0. 0. 0. 0. 0. 0. 0. 0. 0. 0. 0. 0. 0. 0.\n",
      " 0. 0. 0. 0. 0. 0. 0. 0. 0. 0. 0. 0. 0. 0. 0. 0. 0. 0. 0. 0. 0. 0. 0. 0.\n",
      " 0. 0. 0. 0. 0. 0. 0. 0. 0. 0. 0. 0. 0. 0. 0. 0. 0. 0. 0. 0. 0. 0. 0. 0.\n",
      " 0. 0. 0. 0. 0. 0. 0. 0. 0. 0. 0. 0. 0. 0. 0. 0. 0. 1. 0. 1. 0. 0. 0. 0.\n",
      " 0. 0. 0. 0. 0. 0. 0. 0. 0. 0. 0. 0. 0. 0. 0. 1.]\n"
     ]
    },
    {
     "data": {
      "image/png": "[encoded data removed]",
      "text/plain": [
       "<Figure size 432x288 with 2 Axes>"
      ]
     },
     "metadata": {
      "needs_background": "light"
     },
     "output_type": "display_data"
    }
   ],
   "source": [
    "#Generating some data with normal distribution at \n",
    "#(0,0)\n",
    "#(8,8)\n",
    "#(12,0)\n",
    "#(15,15)\n",
    "Data=GenerateData()\n",
    " \n",
    "#Adding some noise with uniform distribution \n",
    "#X between [-3,17],\n",
    "#Y between [-3,17]\n",
    "noise=scipy.rand(50,2)*20 -3\n",
    " \n",
    "Noisy_Data=numpy.concatenate((Data,noise))\n",
    "\n",
    " \n",
    "fig = plt.figure()\n",
    "ax1=fig.add_subplot(2,1,1) #row, column, figure number\n",
    "ax2 = fig.add_subplot(212)\n",
    " \n",
    "ax1.scatter(Data[:,0],Data[:,1], alpha =  0.5 )\n",
    "ax1.scatter(noise[:,0],noise[:,1],color='red' ,alpha =  0.5)\n",
    "ax2.scatter(noise[:,0],noise[:,1],color='red' ,alpha =  0.5)\n",
    " \n",
    "Epsilon=1\n",
    "MinumumPoints=3\n",
    "query_index=35\n",
    "dbscan =DBSCAN(Epsilon,MinumumPoints)\n",
    "print(Noisy_Data[query_index])\n",
    "result = dbscan.fit_predict(Noisy_Data,query_index)\n",
    " \n",
    "#printed numbers are cluster numbers\n",
    "print(result)\n",
    "# print(Noisy_Data)\n",
    "#print \"Noisy_Data\"\n",
    "#print Noisy_Data.shape\n",
    "#print Noisy_Data\n",
    "\n",
    "for i,clusterNumber in enumerate(result):\n",
    "    if clusterNumber!=0:\n",
    "        ax2.scatter(Noisy_Data[i][0],Noisy_Data[i][1],color='yellow' ,alpha =  0.5)\n",
    "ax2.scatter(Noisy_Data[query_index][0],Noisy_Data[query_index][1],color='blue' ,alpha =  0.8)\n",
    "plt.show()"
   ]
  },
  {
   "cell_type": "code",
   "execution_count": 74,
   "metadata": {},
   "outputs": [
    {
     "data": {
      "text/plain": [
       "((350, 2), (50, 2))"
      ]
     },
     "execution_count": 74,
     "metadata": {},
     "output_type": "execute_result"
    }
   ],
   "source": [
    "Data.shape,noise.shape"
   ]
  },
  {
   "cell_type": "code",
   "execution_count": null,
   "metadata": {},
   "outputs": [],
   "source": []
  },
  {
   "cell_type": "code",
   "execution_count": 38,
   "metadata": {},
   "outputs": [],
   "source": [
    "import numpy as numpy\n",
    "import scipy as scipy\n",
    "from sklearn import cluster\n",
    "import matplotlib.pyplot as plt\n",
    " \n",
    " \n",
    " \n",
    "def set2List(NumpyArray):\n",
    "    list_ = []\n",
    "    for item in NumpyArray:\n",
    "        list_.append(item.tolist())\n",
    "    return list_\n",
    " \n",
    "def GenerateData():\n",
    "    x1=numpy.random.randn(50,2)\n",
    "    x2x=numpy.random.randn(80,1)+12\n",
    "    x2y=numpy.random.randn(80,1)\n",
    "    x2=numpy.column_stack((x2x,x2y))\n",
    "    x3=numpy.random.randn(100,2)+8\n",
    "    x4=numpy.random.randn(120,2)+15\n",
    "    z=numpy.concatenate((x1,x2,x3,x4))\n",
    "    return z\n",
    " \n",
    "def DBSCAN(Dataset, Epsilon,MinumumPoints,DistanceMethod = 'euclidean'):\n",
    "#    Dataset is a mxn matrix, m is number of item and n is the dimension of data\n",
    "    m,n=Dataset.shape\n",
    "    Visited=numpy.zeros(m,'int')\n",
    "    Type=numpy.zeros(m)\n",
    "#   -1 noise, outlier\n",
    "#    0 border\n",
    "#    1 core\n",
    "    ClustersList=[]\n",
    "    Cluster=[]\n",
    "    PointClusterNumber=numpy.zeros(m)\n",
    "    PointClusterNumberIndex=1\n",
    "    PointNeighbors=[]\n",
    "    DistanceMatrix = scipy.spatial.distance.squareform(scipy.spatial.distance.pdist(Dataset, DistanceMethod))\n",
    "    for i in range(m):\n",
    "        if Visited[i]==0:\n",
    "            Visited[i]=1\n",
    "            PointNeighbors=numpy.where(DistanceMatrix[i]<Epsilon)[0]\n",
    "#             print(PointNeighbors)\n",
    "            if len(PointNeighbors)<MinumumPoints:\n",
    "                Type[i]=-1\n",
    "            else:\n",
    "                for k in range(len(Cluster)):\n",
    "                    Cluster.pop()\n",
    "                Cluster.append(i)\n",
    "                PointClusterNumber[i]=PointClusterNumberIndex\n",
    "                \n",
    "                \n",
    "                PointNeighbors=set2List(PointNeighbors)    \n",
    "                ExpandCluster(Dataset[i], PointNeighbors,Cluster,MinumumPoints,Epsilon,Visited,DistanceMatrix,PointClusterNumber,PointClusterNumberIndex  )\n",
    "                Cluster.append(PointNeighbors[:])\n",
    "                ClustersList.append(Cluster[:])\n",
    "                PointClusterNumberIndex=PointClusterNumberIndex+1\n",
    "                 \n",
    "                    \n",
    "    return PointClusterNumber \n",
    " \n",
    " \n",
    " \n",
    "def ExpandCluster(PointToExapnd, PointNeighbors,Cluster,MinumumPoints,Epsilon,Visited,DistanceMatrix,PointClusterNumber,PointClusterNumberIndex  ):\n",
    "    Neighbors=[]\n",
    " \n",
    "    for i in PointNeighbors:\n",
    "        if Visited[i]==0:\n",
    "            Visited[i]=1\n",
    "            Neighbors=numpy.where(DistanceMatrix[i]<Epsilon)[0]\n",
    "            if len(Neighbors)>=MinumumPoints:\n",
    "#                Neighbors merge with PointNeighbors\n",
    "                for j in Neighbors:\n",
    "                    try:\n",
    "                        PointNeighbors.index(j)\n",
    "                    except ValueError:\n",
    "                        PointNeighbors.append(j)\n",
    "                    \n",
    "        if PointClusterNumber[i]==0:\n",
    "            Cluster.append(i)\n",
    "            PointClusterNumber[i]=PointClusterNumberIndex\n",
    "    return\n",
    " \n"
   ]
  },
  {
   "cell_type": "code",
   "execution_count": 52,
   "metadata": {},
   "outputs": [
    {
     "name": "stdout",
     "output_type": "stream",
     "text": [
      "[1. 0. 1. 1. 0. 0. 1. 1. 1. 1. 1. 1. 1. 0. 0. 1. 0. 1. 0. 1. 1. 0. 1. 1.\n",
      " 1. 0. 1. 1. 0. 0. 1. 1. 1. 1. 1. 1. 1. 1. 1. 0. 1. 0. 1. 1. 0. 1. 1. 0.\n",
      " 0. 0. 2. 2. 0. 2. 2. 0. 0. 2. 2. 2. 2. 2. 2. 2. 2. 2. 2. 2. 2. 2. 2. 2.\n",
      " 0. 2. 2. 2. 2. 2. 2. 2. 2. 2. 2. 0. 2. 2. 2. 2. 0. 2. 2. 2. 2. 2. 2. 0.\n",
      " 2. 2. 2. 2. 2. 2. 2. 2. 2. 2. 2. 2. 2. 2. 2. 2. 0. 2. 2. 0. 2. 0. 2. 2.\n",
      " 2. 2. 2. 2. 2. 2. 2. 2. 2. 2. 3. 3. 3. 3. 3. 3. 3. 3. 3. 3. 0. 3. 3. 3.\n",
      " 3. 3. 3. 3. 3. 0. 3. 3. 3. 3. 3. 3. 3. 3. 3. 3. 3. 3. 0. 3. 3. 3. 3. 3.\n",
      " 0. 3. 3. 3. 3. 3. 3. 3. 3. 3. 3. 3. 3. 3. 0. 3. 0. 3. 3. 3. 0. 3. 3. 3.\n",
      " 3. 3. 3. 0. 3. 3. 3. 3. 3. 3. 3. 3. 3. 3. 3. 3. 3. 3. 3. 3. 3. 3. 3. 3.\n",
      " 3. 3. 3. 3. 3. 3. 3. 3. 3. 0. 3. 3. 3. 3. 4. 4. 4. 4. 4. 4. 4. 4. 4. 4.\n",
      " 4. 4. 4. 4. 4. 4. 0. 4. 4. 4. 4. 4. 4. 4. 4. 4. 4. 4. 4. 4. 0. 4. 4. 4.\n",
      " 4. 4. 4. 4. 4. 4. 4. 4. 4. 0. 4. 4. 4. 4. 4. 4. 4. 4. 4. 4. 4. 0. 4. 4.\n",
      " 4. 4. 4. 4. 4. 4. 4. 4. 4. 4. 4. 4. 4. 0. 4. 4. 0. 0. 4. 4. 4. 4. 4. 4.\n",
      " 4. 4. 4. 4. 4. 4. 4. 4. 4. 4. 4. 4. 4. 4. 4. 4. 4. 4. 4. 4. 4. 4. 4. 4.\n",
      " 4. 4. 4. 4. 4. 4. 4. 4. 4. 4. 4. 4. 4. 4. 0. 0. 0. 0. 0. 0. 0. 0. 0. 0.\n",
      " 0. 0. 0. 0. 0. 0. 3. 0. 0. 0. 2. 0. 0. 0. 0. 0. 0. 0. 0. 0. 0. 0. 0. 0.\n",
      " 0. 0. 0. 0. 0. 0. 0. 0. 0. 0. 1. 0. 0. 0. 0. 0.]\n"
     ]
    },
    {
     "data": {
      "image/png": "[encoded data removed]",
      "text/plain": [
       "<Figure size 432x288 with 2 Axes>"
      ]
     },
     "metadata": {
      "needs_background": "light"
     },
     "output_type": "display_data"
    }
   ],
   "source": [
    "#Generating some data with normal distribution at \n",
    "#(0,0)\n",
    "#(8,8)\n",
    "#(12,0)\n",
    "#(15,15)\n",
    "Data=GenerateData()\n",
    " \n",
    "#Adding some noise with uniform distribution \n",
    "#X between [-3,17],\n",
    "#Y between [-3,17]\n",
    "noise=scipy.rand(50,2)*20 -3\n",
    " \n",
    "Noisy_Data=numpy.concatenate((Data,noise))\n",
    "size=20\n",
    " \n",
    "fig = plt.figure()\n",
    "ax1=fig.add_subplot(2,1,1) #row, column, figure number\n",
    "ax2 = fig.add_subplot(212)\n",
    " \n",
    "ax1.scatter(Data[:,0],Data[:,1], alpha =  0.5 )\n",
    "ax1.scatter(noise[:,0],noise[:,1],color='red' ,alpha =  0.5)\n",
    "ax2.scatter(noise[:,0],noise[:,1],color='red' ,alpha =  0.5)\n",
    " \n",
    "Epsilon=1\n",
    "MinumumPoints=20\n",
    "result =DBSCAN(Noisy_Data,Epsilon,MinumumPoints)\n",
    " \n",
    "#printed numbers are cluster numbers\n",
    "print(result)\n",
    "# print(Noisy_Data)\n",
    "#print \"Noisy_Data\"\n",
    "#print Noisy_Data.shape\n",
    "#print Noisy_Data\n",
    " \n",
    "for i,clusterNumber in enumerate(result):\n",
    "    if clusterNumber!=0:\n",
    "        ax2.scatter(Noisy_Data[i][0],Noisy_Data[i][1],color='yellow' ,alpha =  0.5)\n",
    "plt.show()"
   ]
  },
  {
   "cell_type": "code",
   "execution_count": 56,
   "metadata": {},
   "outputs": [
    {
     "data": {
      "text/plain": [
       "(400,)"
      ]
     },
     "execution_count": 56,
     "metadata": {},
     "output_type": "execute_result"
    }
   ],
   "source": [
    "result.shape"
   ]
  },
  {
   "cell_type": "code",
   "execution_count": 53,
   "metadata": {},
   "outputs": [
    {
     "data": {
      "text/plain": [
       "(400, 2)"
      ]
     },
     "execution_count": 53,
     "metadata": {},
     "output_type": "execute_result"
    }
   ],
   "source": [
    "Noisy_Data.shape"
   ]
  },
  {
   "cell_type": "code",
   "execution_count": null,
   "metadata": {},
   "outputs": [],
   "source": []
  },
  {
   "cell_type": "code",
   "execution_count": null,
   "metadata": {},
   "outputs": [],
   "source": []
  },
  {
   "cell_type": "code",
   "execution_count": null,
   "metadata": {},
   "outputs": [],
   "source": []
  },
  {
   "cell_type": "code",
   "execution_count": 14,
   "metadata": {},
   "outputs": [],
   "source": [
    "import numpy\n",
    "\n",
    "def MyDBSCAN(D, eps, MinPts):\n",
    "    \"\"\"\n",
    "    Cluster the dataset `D` using the DBSCAN algorithm.\n",
    "    \n",
    "    MyDBSCAN takes a dataset `D` (a list of vectors), a threshold distance\n",
    "    `eps`, and a required number of points `MinPts`.\n",
    "    \n",
    "    It will return a list of cluster labels. The label -1 means noise, and then\n",
    "    the clusters are numbered starting from 1.\n",
    "    \"\"\"\n",
    " \n",
    "    # This list will hold the final cluster assignment for each point in D.\n",
    "    # There are two reserved values:\n",
    "    #    -1 - Indicates a noise point\n",
    "    #     0 - Means the point hasn't been considered yet.\n",
    "    # Initially all labels are 0.    \n",
    "    labels = [0]*len(D)\n",
    "\n",
    "    # C is the ID of the current cluster.    \n",
    "    C = 0\n",
    "    \n",
    "    # This outer loop is just responsible for picking new seed points--a point\n",
    "    # from which to grow a new cluster.\n",
    "    # Once a valid seed point is found, a new cluster is created, and the \n",
    "    # cluster growth is all handled by the 'expandCluster' routine.\n",
    "    \n",
    "    # For each point P in the Dataset D...\n",
    "    # ('P' is the index of the datapoint, rather than the datapoint itself.)\n",
    "    for P in range(0, len(D)):\n",
    "    \n",
    "        # Only points that have not already been claimed can be picked as new \n",
    "        # seed points.    \n",
    "        # If the point's label is not 0, continue to the next point.\n",
    "        if not (labels[P] == 0):\n",
    "            continue\n",
    "        \n",
    "        # Find all of P's neighboring points.\n",
    "        NeighborPts = regionQuery(D, P, eps)\n",
    "        \n",
    "        # If the number is below MinPts, this point is noise. \n",
    "        # This is the only condition under which a point is labeled \n",
    "        # NOISE--when it's not a valid seed point. A NOISE point may later \n",
    "        # be picked up by another cluster as a boundary point (this is the only\n",
    "        # condition under which a cluster label can change--from NOISE to \n",
    "        # something else).\n",
    "        if len(NeighborPts) < MinPts:\n",
    "            labels[P] = -1\n",
    "        # Otherwise, if there are at least MinPts nearby, use this point as the \n",
    "        # seed for a new cluster.    \n",
    "        else: \n",
    "            C += 1\n",
    "            growCluster(D, labels, P, NeighborPts, C, eps, MinPts)\n",
    "    \n",
    "    # All data has been clustered!\n",
    "    return labels\n",
    "\n",
    "\n",
    "def growCluster(D, labels, P, NeighborPts, C, eps, MinPts):\n",
    "    \"\"\"\n",
    "    Grow a new cluster with label `C` from the seed point `P`.\n",
    "    \n",
    "    This function searches through the dataset to find all points that belong\n",
    "    to this new cluster. When this function returns, cluster `C` is complete.\n",
    "    \n",
    "    Parameters:\n",
    "      `D`      - The dataset (a list of vectors)\n",
    "      `labels` - List storing the cluster labels for all dataset points\n",
    "      `P`      - Index of the seed point for this new cluster\n",
    "      `NeighborPts` - All of the neighbors of `P`\n",
    "      `C`      - The label for this new cluster.  \n",
    "      `eps`    - Threshold distance\n",
    "      `MinPts` - Minimum required number of neighbors\n",
    "    \"\"\"\n",
    "\n",
    "    # Assign the cluster label to the seed point.\n",
    "    labels[P] = C\n",
    "    \n",
    "    # Look at each neighbor of P (neighbors are referred to as Pn). \n",
    "    # NeighborPts will be used as a FIFO queue of points to search--that is, it\n",
    "    # will grow as we discover new branch points for the cluster. The FIFO\n",
    "    # behavior is accomplished by using a while-loop rather than a for-loop.\n",
    "    # In NeighborPts, the points are represented by their index in the original\n",
    "    # dataset.\n",
    "    i = 0\n",
    "    while i < len(NeighborPts):    \n",
    "        \n",
    "        # Get the next point from the queue.        \n",
    "        Pn = NeighborPts[i]\n",
    "       \n",
    "        # If Pn was labelled NOISE during the seed search, then we\n",
    "        # know it's not a branch point (it doesn't have enough neighbors), so\n",
    "        # make it a leaf point of cluster C and move on.\n",
    "        if labels[Pn] == -1:\n",
    "            labels[Pn] = C\n",
    "        \n",
    "        # Otherwise, if Pn isn't already claimed, claim it as part of C.\n",
    "        elif labels[Pn] == 0:\n",
    "            # Add Pn to cluster C (Assign cluster label C).\n",
    "            labels[Pn] = C\n",
    "            \n",
    "            # Find all the neighbors of Pn\n",
    "            PnNeighborPts = regionQuery(D, Pn, eps)\n",
    "            \n",
    "            # If Pn has at least MinPts neighbors, it's a branch point!\n",
    "            # Add all of its neighbors to the FIFO queue to be searched. \n",
    "            if len(PnNeighborPts) >= MinPts:\n",
    "                NeighborPts = NeighborPts + PnNeighborPts\n",
    "            # If Pn *doesn't* have enough neighbors, then it's a leaf point.\n",
    "            # Don't queue up it's neighbors as expansion points.\n",
    "            #else:\n",
    "                # Do nothing                \n",
    "                #NeighborPts = NeighborPts               \n",
    "        \n",
    "        # Advance to the next point in the FIFO queue.\n",
    "        i += 1        \n",
    "    \n",
    "    # We've finished growing cluster C!\n",
    "\n",
    "\n",
    "def regionQuery(D, P, eps):\n",
    "    \"\"\"\n",
    "    Find all points in dataset `D` within distance `eps` of point `P`.\n",
    "    \n",
    "    This function calculates the distance between a point P and every other \n",
    "    point in the dataset, and then returns only those points which are within a\n",
    "    threshold distance `eps`.\n",
    "    \"\"\"\n",
    "    neighbors = []\n",
    "    \n",
    "    # For each point in the dataset...\n",
    "    for Pn in range(0, len(D)):\n",
    "        \n",
    "        # If the distance is below the threshold, add it to the neighbors list.\n",
    "        if numpy.linalg.norm(D[P] - D[Pn]) < eps:\n",
    "            neighbors.append(Pn)\n",
    "            \n",
    "    return neighbors"
   ]
  },
  {
   "cell_type": "code",
   "execution_count": 18,
   "metadata": {},
   "outputs": [
    {
     "data": {
      "text/plain": [
       "2.23606797749979"
      ]
     },
     "execution_count": 18,
     "metadata": {},
     "output_type": "execute_result"
    }
   ],
   "source": [
    "numpy.linalg.norm([1,2])"
   ]
  },
  {
   "cell_type": "code",
   "execution_count": 26,
   "metadata": {},
   "outputs": [
    {
     "data": {
      "text/plain": [
       "array([1.41421356, 2.82842712, 4.24264069, 1.41421356, 2.82842712,\n",
       "       1.41421356])"
      ]
     },
     "execution_count": 26,
     "metadata": {},
     "output_type": "execute_result"
    }
   ],
   "source": [
    "scipy.spatial.distance.pdist([[1,2],[2,3],[3,4],[4,5]],'euclidean')"
   ]
  },
  {
   "cell_type": "code",
   "execution_count": 25,
   "metadata": {},
   "outputs": [
    {
     "data": {
      "text/plain": [
       "array([[0.        , 1.41421356, 2.82842712, 4.24264069],\n",
       "       [1.41421356, 0.        , 1.41421356, 2.82842712],\n",
       "       [2.82842712, 1.41421356, 0.        , 1.41421356],\n",
       "       [4.24264069, 2.82842712, 1.41421356, 0.        ]])"
      ]
     },
     "execution_count": 25,
     "metadata": {},
     "output_type": "execute_result"
    }
   ],
   "source": [
    "scipy.spatial.distance.squareform(scipy.spatial.distance.pdist([[1,2],[2,3],[3,4],[4,5]],'euclidean'))"
   ]
  },
  {
   "cell_type": "code",
   "execution_count": 27,
   "metadata": {},
   "outputs": [],
   "source": [
    "scipy.spatial.distance.squareform?"
   ]
  },
  {
   "cell_type": "code",
   "execution_count": null,
   "metadata": {},
   "outputs": [],
   "source": []
  }
 ],
 "metadata": {
  "kernelspec": {
   "display_name": "Python 3",
   "language": "python",
   "name": "python3"
  },
  "language_info": {
   "codemirror_mode": {
    "name": "ipython",
    "version": 3
   },
   "file_extension": ".py",
   "mimetype": "text/x-python",
   "name": "python",
   "nbconvert_exporter": "python",
   "pygments_lexer": "ipython3",
   "version": "3.6.7"
  }
 },
 "nbformat": 4,
 "nbformat_minor": 2
}
