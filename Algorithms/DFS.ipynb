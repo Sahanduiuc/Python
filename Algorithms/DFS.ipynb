{
 "cells": [
  {
   "cell_type": "code",
   "execution_count": 165,
   "metadata": {
    "collapsed": false
   },
   "outputs": [],
   "source": [
    "from collections import defaultdict\n",
    "\n",
    "class Graph:\n",
    "    def __init__(self):\n",
    "        self.graph = defaultdict(list)\n",
    "    def addEdge(self, k, v):\n",
    "        self.graph[k].append(v)\n",
    "        \n",
    "    def graphFromMatrix(self,matrix):\n",
    "        nRow,nCol = matrix.shape\n",
    "        graph = defaultdict(list)\n",
    "        for i in range(nRow):\n",
    "            for j in range(nCol):\n",
    "                if matrix[i,j]==1:\n",
    "                    graph[(i,j)]\n",
    "                    # may \n",
    "                    try:\n",
    "                        if matrix[i+1,j]==1:\n",
    "                            graph[(i,j)].append((i+1,j))\n",
    "                    except:\n",
    "                        pass\n",
    "                    try:\n",
    "                        if matrix[i,j+1]==1:\n",
    "                            graph[(i,j)].append((i,j+1))\n",
    "                    except:\n",
    "                        pass\n",
    "                    try:\n",
    "                        if i>0 and matrix[i-1,j]==1:\n",
    "                            graph[(i,j)].append((i-1,j))\n",
    "                    except:\n",
    "                        pass\n",
    "                    try:\n",
    "                        if j>0 and matrix[i,j-1]==1:\n",
    "                            graph[(i,j)].append((i,j-1))\n",
    "                    except:\n",
    "                        pass\n",
    "        \n",
    "        self.graph = graph\n",
    "        \n",
    "    def DFSUtil(self, vertex, visited):\n",
    "        if visited.get(vertex)==True:\n",
    "            return\n",
    "        visited[vertex] = True\n",
    "        # execute here\n",
    "        print(visited,vertex)\n",
    "        for connect in self.graph[vertex]:\n",
    "            if visited[connect]==False:\n",
    "                self.DFSUtil(connect,visited)\n",
    "    \n",
    "    def DFS(self,vertex):\n",
    "        visited = defaultdict(bool)\n",
    "        self.DFSUtil(vertex,visited)\n",
    "        \n",
    "    def islandSearch(self):\n",
    "        visited = defaultdict(bool)\n",
    "        for key in self.graph.keys():\n",
    "            self.DFSUtil(key,visited)\n",
    "            \n",
    "        \n",
    "            "
   ]
  },
  {
   "cell_type": "code",
   "execution_count": 166,
   "metadata": {
    "collapsed": false
   },
   "outputs": [],
   "source": [
    "graph = Graph()\n",
    "import numpy as np\n",
    "islandMap = np.array([[1,0,0,0],[0,1,0,1],[0,1,0,1],[0,0,1,1]])"
   ]
  },
  {
   "cell_type": "code",
   "execution_count": 167,
   "metadata": {
    "collapsed": false
   },
   "outputs": [
    {
     "name": "stdout",
     "output_type": "stream",
     "text": [
      "defaultdict(<class 'bool'>, {(0, 0): True}) (0, 0)\n",
      "defaultdict(<class 'bool'>, {(0, 0): True, (1, 1): True}) (1, 1)\n",
      "defaultdict(<class 'bool'>, {(0, 0): True, (1, 1): True, (2, 1): True}) (2, 1)\n",
      "defaultdict(<class 'bool'>, {(0, 0): True, (1, 1): True, (2, 1): True, (1, 3): True}) (1, 3)\n",
      "defaultdict(<class 'bool'>, {(0, 0): True, (1, 1): True, (2, 1): True, (1, 3): True, (2, 3): True}) (2, 3)\n",
      "defaultdict(<class 'bool'>, {(0, 0): True, (1, 1): True, (2, 1): True, (1, 3): True, (2, 3): True, (3, 3): True}) (3, 3)\n",
      "defaultdict(<class 'bool'>, {(0, 0): True, (1, 1): True, (2, 1): True, (1, 3): True, (2, 3): True, (3, 3): True, (3, 2): True}) (3, 2)\n"
     ]
    }
   ],
   "source": [
    "graph.graphFromMatrix(islandMap)\n",
    "graph.islandSearch()             \n",
    "            "
   ]
  },
  {
   "cell_type": "code",
   "execution_count": null,
   "metadata": {
    "collapsed": true
   },
   "outputs": [],
   "source": []
  }
 ],
 "metadata": {
  "kernelspec": {
   "display_name": "Python 3",
   "language": "python",
   "name": "python3"
  },
  "language_info": {
   "codemirror_mode": {
    "name": "ipython",
    "version": 3
   },
   "file_extension": ".py",
   "mimetype": "text/x-python",
   "name": "python",
   "nbconvert_exporter": "python",
   "pygments_lexer": "ipython3",
   "version": "3.6.0"
  }
 },
 "nbformat": 4,
 "nbformat_minor": 2
}
