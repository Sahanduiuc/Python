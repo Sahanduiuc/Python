{
 "cells": [
  {
   "cell_type": "markdown",
   "metadata": {},
   "source": [
    "# FE621 Final Exam\n",
    "\n",
    "Student: Yuxuan Xia\n",
    "\n",
    "Supervisor: Ionut Florescu\n",
    "\n",
    "Date: Aug/12/2018"
   ]
  },
  {
   "cell_type": "markdown",
   "metadata": {},
   "source": [
    "## Problem A: Asian Option Pricing using Monte Carlo Control Variate."
   ]
  },
  {
   "cell_type": "code",
   "execution_count": 1,
   "metadata": {
    "collapsed": true
   },
   "outputs": [],
   "source": [
    "import math\n",
    "import numpy as np\n",
    "import scipy as sp\n",
    "import scipy.stats\n",
    "import timeit"
   ]
  },
  {
   "cell_type": "code",
   "execution_count": 2,
   "metadata": {
    "collapsed": true
   },
   "outputs": [],
   "source": [
    "r = 0.03\n",
    "sigma = 0.3\n",
    "S = 100\n",
    "K = 100\n",
    "T = 5\n",
    "n_days = T*252\n",
    "n_trials = 10000"
   ]
  },
  {
   "cell_type": "markdown",
   "metadata": {},
   "source": [
    "### (a) Price the geometric Asian option in Black-Scholes model using the theoretical formula"
   ]
  },
  {
   "cell_type": "code",
   "execution_count": 3,
   "metadata": {
    "collapsed": true
   },
   "outputs": [],
   "source": [
    "def geometricAsianCallOption(S,K,T,r,sigma,N):\n",
    "    sigmaG = sigma*np.sqrt((2*N+1)/(6*(N+1)))\n",
    "    rho = .5*(r-sigma**2/2+sigmaG**2)\n",
    "    d1 = (np.log(S/K)+ (rho + .5*sigmaG**2)*T)/(np.sqrt(T)*sigmaG)\n",
    "    d2 = (np.log(S/K)+ (rho - .5*sigmaG**2)*T)/(np.sqrt(T)*sigmaG)\n",
    "    price = np.exp(-r*T)*(S*np.exp(rho*T)*sp.stats.norm.cdf(d1) - K*sp.stats.norm.cdf(d2))\n",
    "    return price"
   ]
  },
  {
   "cell_type": "code",
   "execution_count": 4,
   "metadata": {
    "collapsed": false
   },
   "outputs": [
    {
     "data": {
      "text/plain": [
       "15.171129680587903"
      ]
     },
     "execution_count": 4,
     "metadata": {},
     "output_type": "execute_result"
    }
   ],
   "source": [
    "geometric_call_price_formula = geometricAsianCallOption(S=S,K=K,T=T,r=r,sigma=sigma,N=n_days)\n",
    "geometric_call_price_formula"
   ]
  },
  {
   "cell_type": "markdown",
   "metadata": {},
   "source": [
    "### (b) Implement a Monte Carlo scheme to price an arithmetic Asian call option ($P_A^{sim}$). Use M = 1,000,000 simulations. Record the answer, the confidence interval and the time it takes to obtain the result."
   ]
  },
  {
   "cell_type": "markdown",
   "metadata": {},
   "source": [
    "I used the following engine made by myself last time in this assignment. The implementation is time-effective since it uses parellal computation technique. Moreover, it equipts Heston model and several boundary schemes which demonstrats itself a good pricing engine. But in order to make the most use of this engine, I set M=10,000 as denoted in question (d) to avoid insufficient memory."
   ]
  },
  {
   "cell_type": "code",
   "execution_count": 5,
   "metadata": {
    "collapsed": true
   },
   "outputs": [],
   "source": [
    "class MonteCarloEngine:\n",
    "    def __init__(self, S0=100, T=1, r=0, q=0, sigma=0, kappa=0, theta=0, theta1=0, xi=0, rho=0, V0=0,\n",
    "                 underlying_process=\"geometric brownian motion\"):\n",
    "        self.underlying_process = underlying_process\n",
    "        self.S0 = S0\n",
    "        self.T = T\n",
    "        self.r = r\n",
    "        self.q = q\n",
    "        self.sigma = sigma\n",
    "        self.kappa = kappa\n",
    "        self.theta = theta\n",
    "        self.theta1 = theta1\n",
    "        self.rho = rho\n",
    "        self.V0 = V0\n",
    "        self.xi = xi\n",
    "\n",
    "        self.value_results = None\n",
    "\n",
    "    # view antithetic variates as a option of simulation method to reduce the variance    \n",
    "    def simulate(self, n_trials, n_steps, antitheticVariates=False, boundaryScheme=\"Higham and Mao\"):\n",
    "\n",
    "        dt = self.T / n_steps\n",
    "        mu = self.r - self.q\n",
    "        self.n_trials = n_trials\n",
    "        self.n_steps = n_steps\n",
    "        self.boundaryScheme = boundaryScheme\n",
    "\n",
    "        if (self.underlying_process == \"geometric brownian motion\"):\n",
    "            #             first_step_prices = np.ones((n_trials,1))*np.log(self.S0)\n",
    "            log_price_matrix = np.zeros((n_trials, n_steps))\n",
    "            normal_matrix = np.random.normal(size=(n_trials, n_steps))\n",
    "            if (antitheticVariates == True):\n",
    "                n_trials *= 2\n",
    "                self.n_trials = n_trials\n",
    "                normal_matrix = np.concatenate((normal_matrix, -normal_matrix), axis=0)\n",
    "            cumsum_normal_matrix = normal_matrix.cumsum(axis=1)\n",
    "            #             log_price_matrix = np.concatenate((first_step_prices,log_price_matrix),axis=1)\n",
    "            deviation_matrix = cumsum_normal_matrix * self.sigma * np.sqrt(dt) + \\\n",
    "                               (mu - self.sigma ** 2 / 2) * dt * np.arange(1, n_steps + 1)\n",
    "            log_price_matrix = deviation_matrix + np.log(self.S0)\n",
    "            price_matrix = np.exp(log_price_matrix)\n",
    "            price_zero = (np.ones(n_trials) * self.S0)[:, np.newaxis]\n",
    "            price_matrix = np.concatenate((price_zero, price_matrix), axis=1)\n",
    "            self.price_matrix = price_matrix\n",
    "\n",
    "        elif (self.underlying_process == \"CIR model\"):\n",
    "            # generate correlated random variables\n",
    "            randn_matrix_v = np.random.normal(size=(n_trials, n_steps))\n",
    "            if (antitheticVariates == True):\n",
    "                n_trials *= 2\n",
    "                self.n_trials = n_trials\n",
    "                randn_matrix_v = np.concatenate((randn_matrix_v, -randn_matrix_v), axis=0)\n",
    "\n",
    "            # boundary scheme fuctions\n",
    "            if (boundaryScheme == \"absorption\"):\n",
    "                f1 = f2 = f3 = lambda x: np.maximum(x, 0)\n",
    "            elif (boundaryScheme == \"reflection\"):\n",
    "                f1 = f2 = f3 = np.absolute\n",
    "            elif (boundaryScheme == \"Higham and Mao\"):\n",
    "                f1 = f2 = lambda x: x\n",
    "                f3 = np.absolute\n",
    "            elif (boundaryScheme == \"partial truncation\"):\n",
    "                f1 = f2 = lambda x: x\n",
    "                f3 = lambda x: np.maximum(x, 0)\n",
    "            elif (boundaryScheme == \"full truncation\"):\n",
    "                f1 = lambda x: x\n",
    "                f2 = f3 = lambda x: np.maximum(x, 0)\n",
    "\n",
    "            # simulate CIR process\n",
    "            V_matrix = np.zeros((n_trials, n_steps + 1))\n",
    "            V_matrix[:, 0] = self.S0\n",
    "\n",
    "            for j in range(self.n_steps):\n",
    "                V_matrix[:, j + 1] = f1(V_matrix[:, j]) - self.kappa * dt * (\n",
    "                            f2(V_matrix[:, j]) - self.theta - self.theta1 * dt * j) + \\\n",
    "                                     self.xi * np.sqrt(f3(V_matrix[:, j])) * np.sqrt(dt) * randn_matrix_v[:, j]\n",
    "                V_matrix[:, j + 1] = f3(V_matrix[:, j + 1])\n",
    "\n",
    "            price_matrix = V_matrix\n",
    "            self.price_matrix = price_matrix\n",
    "\n",
    "\n",
    "        elif (self.underlying_process == \"Heston model\"):\n",
    "            # generate correlated random variables\n",
    "            randn_matrix_1 = np.random.normal(size=(n_trials, n_steps))\n",
    "            randn_matrix_2 = np.random.normal(size=(n_trials, n_steps))\n",
    "            randn_matrix_v = randn_matrix_1\n",
    "            randn_matrix_S = self.rho * randn_matrix_1 + np.sqrt(1 - self.rho ** 2) * randn_matrix_2\n",
    "            if (antitheticVariates == True):\n",
    "                n_trials *= 2\n",
    "                self.n_trials = n_trials\n",
    "                randn_matrix_v = np.concatenate((randn_matrix_v, +randn_matrix_v), axis=0)\n",
    "                randn_matrix_S = np.concatenate((randn_matrix_S, -randn_matrix_S), axis=0)\n",
    "\n",
    "            # boundary scheme fuctions\n",
    "            if (boundaryScheme == \"absorption\"):\n",
    "                f1 = f2 = f3 = lambda x: np.maximum(x, 0)\n",
    "            elif (boundaryScheme == \"reflection\"):\n",
    "                f1 = f2 = f3 = np.absolute\n",
    "            elif (boundaryScheme == \"Higham and Mao\"):\n",
    "                f1 = f2 = lambda x: x\n",
    "                f3 = np.absolute\n",
    "            elif (boundaryScheme == \"partial truncation\"):\n",
    "                f1 = f2 = lambda x: x\n",
    "                f3 = lambda x: np.maximum(x, 0)\n",
    "            elif (boundaryScheme == \"full truncation\"):\n",
    "                f1 = lambda x: x\n",
    "                f2 = f3 = lambda x: np.maximum(x, 0)\n",
    "\n",
    "            # simulate stochastic volatility process\n",
    "            V_matrix = np.zeros((n_trials, n_steps + 1))\n",
    "            V_matrix[:, 0] = self.V0\n",
    "            log_price_matrix = np.zeros((n_trials, n_steps + 1))\n",
    "            log_price_matrix[:, 0] = np.log(self.S0)\n",
    "            for j in range(self.n_steps):\n",
    "                #                 V_matrix[:,j+1] = self.kappa*self.theta*dt + (1-self.kappa*dt)*V_matrix[:,j] +\\\n",
    "                #                     self.xi*np.sqrt(V_matrix[:,j]*dt)*randn_matrix_v[:,j]\n",
    "                V_matrix[:, j + 1] = f1(V_matrix[:, j]) - self.kappa * dt * (f2(V_matrix[:, j]) - self.theta) + \\\n",
    "                                     self.xi * np.sqrt(f3(V_matrix[:, j])) * np.sqrt(dt) * randn_matrix_v[:, j]\n",
    "                V_matrix[:, j + 1] = f3(V_matrix[:, j + 1])\n",
    "                log_price_matrix[:, j + 1] = log_price_matrix[:, j] + (mu - V_matrix[:, j] / 2) * dt + \\\n",
    "                                             np.sqrt(V_matrix[:, j] * dt) * randn_matrix_S[:, j]\n",
    "            price_matrix = np.exp(log_price_matrix)\n",
    "            self.price_matrix = price_matrix\n",
    "\n",
    "        return price_matrix"
   ]
  },
  {
   "cell_type": "code",
   "execution_count": 6,
   "metadata": {
    "collapsed": true
   },
   "outputs": [],
   "source": [
    "def arithmaticAsianCallOptionFromMC(price_matrix,K):\n",
    "    n_steps = price_matrix.shape[1]-1\n",
    "    option_prices = np.maximum(price_matrix.mean(axis=1) - K,0)\n",
    "    option_price_mean = option_prices.mean()\n",
    "    option_price_std = np.std(option_prices)\n",
    "    return option_price_mean,option_price_std"
   ]
  },
  {
   "cell_type": "code",
   "execution_count": 7,
   "metadata": {
    "collapsed": true
   },
   "outputs": [],
   "source": [
    "try:\n",
    "    del price_matrix\n",
    "except:\n",
    "    pass"
   ]
  },
  {
   "cell_type": "code",
   "execution_count": 8,
   "metadata": {
    "collapsed": false
   },
   "outputs": [
    {
     "name": "stdout",
     "output_type": "stream",
     "text": [
      "runtime: 0.8923041549843576\n"
     ]
    }
   ],
   "source": [
    "tik = timeit.default_timer()\n",
    "mc_engine = MonteCarloEngine(S0=S,T=T,r=r,sigma=sigma, underlying_process=\"geometric brownian motion\")\n",
    "price_matrix = mc_engine.simulate(n_trials=n_trials,n_steps=n_days)\n",
    "arithmetic_call_mean,arithmetic_call_std = arithmaticAsianCallOptionFromMC(price_matrix,K)\n",
    "tok = timeit.default_timer()\n",
    "geometricAsian_runtime = tok - tik\n",
    "print(\"runtime: {}\".format(geometricAsian_runtime))"
   ]
  },
  {
   "cell_type": "markdown",
   "metadata": {},
   "source": [
    "Then, using central limit theorem, we can obtain the confidence interval for given level, say, 95% (z=1.96).\n",
    "\n",
    "Recall the Central Limit Theorem:\n",
    "$$ \\frac{(\\overline{x} -\\mu)}{\\sigma /\\sqrt{n}} \\sim N(0,1)$$\n",
    "\n",
    "The interval can be expressed as:\n",
    "$$\\overline{x} \\pm z \\frac{\\sigma}{\\sqrt{n}}$$"
   ]
  },
  {
   "cell_type": "code",
   "execution_count": 9,
   "metadata": {
    "collapsed": true
   },
   "outputs": [],
   "source": [
    "CI95 = lambda call_mean, call_std: (call_mean - 1.96*call_std/np.sqrt(n_trials),call_mean + 1.96*call_std/np.sqrt(n_trials))"
   ]
  },
  {
   "cell_type": "code",
   "execution_count": 10,
   "metadata": {
    "collapsed": false
   },
   "outputs": [
    {
     "name": "stdout",
     "output_type": "stream",
     "text": [
      "95% confidence interval: (20.106480460405692, 21.544457758007418)\n"
     ]
    }
   ],
   "source": [
    "print(\"95% confidence interval: {}\".format(CI95(arithmetic_call_mean,arithmetic_call_std)))"
   ]
  },
  {
   "cell_type": "code",
   "execution_count": 11,
   "metadata": {
    "collapsed": false
   },
   "outputs": [
    {
     "name": "stdout",
     "output_type": "stream",
     "text": [
      "mean value: 20.825469109206555\n"
     ]
    }
   ],
   "source": [
    "print(\"mean value: {}\".format(arithmetic_call_mean))"
   ]
  },
  {
   "cell_type": "markdown",
   "metadata": {},
   "source": [
    "### (c) Implement a Monte Carlo scheme to price a geometric Asian Call option ($P_A^{sim}$)."
   ]
  },
  {
   "cell_type": "code",
   "execution_count": 12,
   "metadata": {
    "collapsed": true
   },
   "outputs": [],
   "source": [
    "def geometricAsianCallOptionFromMC(price_matrix,K):\n",
    "    n_steps = price_matrix.shape[1]-1\n",
    "    log_price_matrix = np.log(price_matrix)\n",
    "    option_prices = np.maximum(np.exp(log_price_matrix.mean(axis=1)) - K,0)\n",
    "    option_price_mean = option_prices.mean()\n",
    "    option_price_std = np.std(option_prices)\n",
    "    return option_price_mean,option_price_std"
   ]
  },
  {
   "cell_type": "code",
   "execution_count": 13,
   "metadata": {
    "collapsed": true
   },
   "outputs": [],
   "source": [
    "try:\n",
    "    del price_matrix\n",
    "except:\n",
    "    pass"
   ]
  },
  {
   "cell_type": "code",
   "execution_count": 14,
   "metadata": {
    "collapsed": false
   },
   "outputs": [
    {
     "name": "stdout",
     "output_type": "stream",
     "text": [
      "runtime: 1.0961924330636774\n"
     ]
    }
   ],
   "source": [
    "tik = timeit.default_timer()\n",
    "mc_engine = MonteCarloEngine(S0=S,T=T,r=r,sigma=sigma, underlying_process=\"geometric brownian motion\")\n",
    "price_matrix = mc_engine.simulate(n_trials=n_trials,n_steps=n_days)\n",
    "geometric_call_mean,geometric_call_std = geometricAsianCallOptionFromMC(price_matrix,K)\n",
    "tok = timeit.default_timer()\n",
    "geometricAsian_runtime = tok - tik\n",
    "print(\"runtime: {}\".format(geometricAsian_runtime))"
   ]
  },
  {
   "cell_type": "code",
   "execution_count": 15,
   "metadata": {
    "collapsed": false
   },
   "outputs": [
    {
     "name": "stdout",
     "output_type": "stream",
     "text": [
      "95% confidence interval: (17.205845404757682, 18.424965038414172)\n"
     ]
    }
   ],
   "source": [
    "print(\"95% confidence interval: {}\".format(CI95(geometric_call_mean,geometric_call_std)))"
   ]
  },
  {
   "cell_type": "code",
   "execution_count": 16,
   "metadata": {
    "collapsed": false
   },
   "outputs": [
    {
     "name": "stdout",
     "output_type": "stream",
     "text": [
      "mean value: 17.815405221585927\n"
     ]
    }
   ],
   "source": [
    "print(\"mean value: {}\".format(geometric_call_mean))"
   ]
  },
  {
   "cell_type": "markdown",
   "metadata": {},
   "source": [
    "### (d) Using M = 10,000 simulations and the same exact random variables, calculate the optimal coefficent b"
   ]
  },
  {
   "cell_type": "markdown",
   "metadata": {},
   "source": [
    "Here we can directly use the result in (b) and (c) to comput the following questions"
   ]
  },
  {
   "cell_type": "code",
   "execution_count": 17,
   "metadata": {
    "collapsed": false
   },
   "outputs": [
    {
     "data": {
      "text/plain": [
       "array([[ 0.97311084,  0.27328676],\n",
       "       [ 0.27328676,  0.97177672]])"
      ]
     },
     "execution_count": 17,
     "metadata": {},
     "output_type": "execute_result"
    }
   ],
   "source": [
    "X = np.random.randn(1000)\n",
    "Y = np.random.randn(1000)\n",
    "Z = 0.3*X + np.sqrt(1-0.09)*Y\n",
    "np.cov(X,Z)"
   ]
  },
  {
   "cell_type": "code",
   "execution_count": 18,
   "metadata": {
    "collapsed": true
   },
   "outputs": [],
   "source": [
    "def optimalB(price_matrix):\n",
    "    arithmetic_call_prices = np.maximum(price_matrix.mean(axis=1) - K,0)\n",
    "    geometric_call_prices = np.maximum(np.exp(np.log(price_matrix).mean(axis=1))-K,0)\n",
    "    covariance_matrix = np.cov(arithmetic_call_prices,geometric_call_prices)\n",
    "    b = covariance_matrix[0,1]/covariance_matrix[1,1]\n",
    "    return b"
   ]
  },
  {
   "cell_type": "code",
   "execution_count": 19,
   "metadata": {
    "collapsed": false
   },
   "outputs": [
    {
     "data": {
      "text/plain": [
       "1.1456219824504434"
      ]
     },
     "execution_count": 19,
     "metadata": {},
     "output_type": "execute_result"
    }
   ],
   "source": [
    "b = optimalB(price_matrix)\n",
    "b"
   ]
  },
  {
   "cell_type": "markdown",
   "metadata": {},
   "source": [
    "### (e) Calculate the error of pricing for the geometric Asian: $E_g = P_g - P_g^{sim}$"
   ]
  },
  {
   "cell_type": "code",
   "execution_count": 20,
   "metadata": {
    "collapsed": true
   },
   "outputs": [],
   "source": [
    "arithmetic_call_prices = np.maximum(price_matrix.mean(axis=1) - K,0)\n",
    "geometric_call_prices = np.maximum(np.exp(np.log(price_matrix).mean(axis=1))-K,0)"
   ]
  },
  {
   "cell_type": "code",
   "execution_count": 21,
   "metadata": {
    "collapsed": true
   },
   "outputs": [],
   "source": [
    "geometric_call_price_MC = geometric_call_prices.mean()"
   ]
  },
  {
   "cell_type": "code",
   "execution_count": 22,
   "metadata": {
    "collapsed": false
   },
   "outputs": [
    {
     "data": {
      "text/plain": [
       "-2.6442755409980236"
      ]
     },
     "execution_count": 22,
     "metadata": {},
     "output_type": "execute_result"
    }
   ],
   "source": [
    "Eg = geometric_call_price_formula - geometric_call_price_MC\n",
    "Eg"
   ]
  },
  {
   "cell_type": "markdown",
   "metadata": {},
   "source": [
    "### (f) Calculate the modified arithmetic option price"
   ]
  },
  {
   "cell_type": "code",
   "execution_count": 23,
   "metadata": {
    "collapsed": false
   },
   "outputs": [
    {
     "data": {
      "text/plain": [
       "17.440845980804333"
      ]
     },
     "execution_count": 23,
     "metadata": {},
     "output_type": "execute_result"
    }
   ],
   "source": [
    "arithmetic_call_prices.mean() + b* Eg"
   ]
  },
  {
   "cell_type": "code",
   "execution_count": 24,
   "metadata": {
    "collapsed": true
   },
   "outputs": [],
   "source": [
    "try:\n",
    "    del price_matrix\n",
    "except:\n",
    "    pass"
   ]
  },
  {
   "cell_type": "code",
   "execution_count": 25,
   "metadata": {
    "collapsed": true
   },
   "outputs": [],
   "source": [
    "def arithmeticAsianCallControlVariete(S,K,T,r,sigma,n_days,n_trials):\n",
    "    mc_engine = MonteCarloEngine(S0=S,T=T,r=r,sigma=sigma, underlying_process=\"geometric brownian motion\")\n",
    "    price_matrix = mc_engine.simulate(n_trials=n_trials,n_steps=n_days)\n",
    "    b = optimalB(price_matrix)\n",
    "    arithmetic_call_prices = np.maximum(price_matrix.mean(axis=1) - K,0)\n",
    "    geometric_call_prices = np.maximum(np.exp(np.log(price_matrix).mean(axis=1))-K,0)\n",
    "    \n",
    "    geometric_call_price_formula = geometricAsianCallOption(S=S,K=K,T=T,r=r,sigma=sigma,N=n_days)\n",
    "    Eg = geometric_call_price_formula - geometric_call_prices.mean()\n",
    "    \n",
    "    unmodified_price = arithmetic_call_prices.mean()\n",
    "    modified_price = unmodified_price + b* Eg\n",
    "    return modified_price, unmodified_price"
   ]
  },
  {
   "cell_type": "code",
   "execution_count": 35,
   "metadata": {
    "collapsed": true
   },
   "outputs": [],
   "source": [
    "modified_prices = []\n",
    "unmodified_prices = []\n",
    "for i in [100,500,1000,5000,10000]:\n",
    "    modified_price, unmodified_price = arithmeticAsianCallControlVariete(S=S,K=K,T=T,r=r,sigma=sigma,n_days=n_days,n_trials=i)\n",
    "    modified_prices.append(modified_price)\n",
    "    unmodified_prices.append(unmodified_price)"
   ]
  },
  {
   "cell_type": "code",
   "execution_count": 36,
   "metadata": {
    "collapsed": false
   },
   "outputs": [
    {
     "data": {
      "text/plain": [
       "[18.027171967259097,\n",
       " 17.567325652812237,\n",
       " 17.504307446364532,\n",
       " 17.508553006056253,\n",
       " 17.479082510158598]"
      ]
     },
     "execution_count": 36,
     "metadata": {},
     "output_type": "execute_result"
    }
   ],
   "source": [
    "modified_prices"
   ]
  },
  {
   "cell_type": "code",
   "execution_count": 37,
   "metadata": {
    "collapsed": false
   },
   "outputs": [
    {
     "data": {
      "text/plain": [
       "[20.433805195363544,\n",
       " 20.008285131579449,\n",
       " 20.900333116071181,\n",
       " 20.615918737235841,\n",
       " 20.051173389103838]"
      ]
     },
     "execution_count": 37,
     "metadata": {},
     "output_type": "execute_result"
    }
   ],
   "source": [
    "unmodified_prices"
   ]
  },
  {
   "cell_type": "code",
   "execution_count": 38,
   "metadata": {
    "collapsed": true
   },
   "outputs": [],
   "source": [
    "import matplotlib.pyplot as plt\n",
    "%matplotlib inline"
   ]
  },
  {
   "cell_type": "code",
   "execution_count": 39,
   "metadata": {
    "collapsed": false
   },
   "outputs": [
    {
     "data": {
      "text/plain": [
       "<matplotlib.legend.Legend at 0x20291bffe10>"
      ]
     },
     "execution_count": 39,
     "metadata": {},
     "output_type": "execute_result"
    },
    {
     "data": {
      "image/png": "[encoded data removed]",
      "text/plain": [
       "<matplotlib.figure.Figure at 0x20290b5c438>"
      ]
     },
     "metadata": {},
     "output_type": "display_data"
    }
   ],
   "source": [
    "numberOfTrials = [100,500,1000,5000,10000]\n",
    "plt.plot(numberOfTrials,unmodified_prices)\n",
    "plt.plot(numberOfTrials,modified_prices)\n",
    "plt.legend([\"unmodified result\",\"modified result\"])"
   ]
  },
  {
   "cell_type": "markdown",
   "metadata": {},
   "source": [
    "Conclusion: from the picture above, we can see the control variate method reduce the variance considerablly."
   ]
  },
  {
   "cell_type": "code",
   "execution_count": 40,
   "metadata": {
    "collapsed": true
   },
   "outputs": [],
   "source": [
    "try:\n",
    "    del price_matrix\n",
    "except:\n",
    "    pass"
   ]
  },
  {
   "cell_type": "code",
   "execution_count": null,
   "metadata": {
    "collapsed": true
   },
   "outputs": [],
   "source": []
  }
 ],
 "metadata": {
  "kernelspec": {
   "display_name": "Python 3",
   "language": "python",
   "name": "python3"
  },
  "language_info": {
   "codemirror_mode": {
    "name": "ipython",
    "version": 3
   },
   "file_extension": ".py",
   "mimetype": "text/x-python",
   "name": "python",
   "nbconvert_exporter": "python",
   "pygments_lexer": "ipython3",
   "version": "3.6.0"
  }
 },
 "nbformat": 4,
 "nbformat_minor": 2
}
