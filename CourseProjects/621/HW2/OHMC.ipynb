{
 "cells": [
  {
   "cell_type": "markdown",
   "metadata": {},
   "source": [
    "# Optimal Hedged Monte Carlo\n",
    "\n",
    "Author: Jerry Xia\n",
    "\n",
    "Date: 2018/06/19"
   ]
  },
  {
   "cell_type": "markdown",
   "metadata": {},
   "source": [
    "## 1 Introduction\n",
    "\n",
    "This is a Python Notebook about optimal hedged Monte Carlo (OHMC) in option pricing. We invoke this method to price European options and make comparison with regular Monte Carlo and Black-Scholes formula.\n",
    "\n",
    "### 1.1 Facts\n",
    "* The option price is not simply the average value of the discounted future pay-off over the objective (or historical) probability distribution\n",
    "* The requirement of absence of arbitrage opportunities is equivalent to the existence of \"risk-neutral measure\", such that the price is indeed its average discounted future pay-off.\n",
    "* Risk in option trading cannot be eliminated\n",
    "\n",
    "### 1.2 Objective\n",
    "* It would be satisfactory to have an option theory where the objective stochastic process of the underlying is used to calculate the option price, the hedge strategy and the *residual risk*.\n",
    "\n",
    "### 1.3 Advantages\n",
    "* It is a versatile methods to price complicated path-dependent options.\n",
    "* Considerable variance reduction scheme for Monte Carlo\n",
    "* It provide not only a numerical estimate of the option price, but also of the optimal hedge strategy and of the residual risk.\n",
    "* This method does not rely on the notion of risk-neutral measure, and can be used to any model of the true dynamics of the underlying"
   ]
  },
  {
   "cell_type": "markdown",
   "metadata": {},
   "source": [
    "## 2 Underlying dynamics\n",
    "\n",
    "### Black-Scholes Model\n",
    "$$dS = r S dt + \\sigma S dW_t$$\n",
    "$$log S_{t+1} = log S_t +(r - \\frac{\\sigma^2}{2})\\Delta t + \\sigma \\sqrt{\\Delta t} \\epsilon$$\n",
    "where\n",
    "    $$\\epsilon \\sim N(0,1)$$\n"
   ]
  },
  {
   "cell_type": "markdown",
   "metadata": {},
   "source": [
    "## 3 Methodology\n",
    "\n",
    "### 3.1 Simbol Definition\n",
    "Option price always requires to work backward. That is because the option price is known exactly at the maturity. As with other schemes, we determine the option price step by step from the maturity $t=K\\tau=T$ to the present time $t=0$. The unit of time being $\\tau$, for example, one day. We simulate $N$ trajectories. In trajectory i, the price of the underlying asset at time $k\\tau$ is denoted as $S_k^{(i)}$. The price of the derivative at time $k\\tau$ is denoted as $C_k$, and the hedge function is $H_k$. We define an optimal hedged portfolio as\n",
    "$$W_k^{(i)} = C_k(S_k^{(i)}) + H_k(S_k^{(i)})S_k^{(i)}$$\n",
    "The one-step change of our portfolio is\n",
    "$$\\Delta W_k^{(i)}= df(k,k+1) C_{k+1}(S_{k+1}^{(i)}) - C_k(S_k^{(i)}) + H_k(S_{k}^{(i)}) (df(k,k+1) S_{k+1}^{(i)} - S_{k}^{(i)})$$\n",
    "Where $df(k,k+1)$ is the discounted factor from time $k\\tau$ to $(k+1) \\tau$\n",
    "\n",
    "### 3.2 Objective\n",
    "The optimal hedged algorithm can be interpreted as the following optimal problem\n",
    "\n",
    "\\begin{align}\n",
    "\\mbox{minimize}\\quad & \\quad Var[\\Delta W_k]\\\\\n",
    "\\mbox{subject to}\\quad & \\quad E[\\Delta W_k]=0\n",
    "\\end{align}\n",
    "\n",
    "It means we should try to minimize the realized volatility of hedged portfolio while maintaining the expected value of portfolio unchanged.\n",
    "\n",
    "### 3.3 Basis Functions\n",
    "The original optimization is very difficult to solve. Thus we assume a set of basis function and solved it in such subspace. We use $N_C$and $N_H$ to denote the number of basis functions for price and hedge.\n",
    "\n",
    "\\begin{align}\n",
    "C_k(\\cdot) &= \\sum_{i=0}^{N_C} a_{k,i} A_i(\\cdot)\\\\\n",
    "H_k(\\cdot) &= \\sum_{i=0}^{N_H} b_{k,i} B_i(\\cdot)\n",
    "\\end{align}\n",
    "\n",
    "The basis functions $A_i$ and $B_i$ are priori determined and need not to be identical. The coefficients $a_i$ and $b_i$ can be calibrated by solving the optimal problem.\n",
    "\n",
    "### 3.4 Numerical Solution\n",
    "\n",
    "\\begin{align}\n",
    "\\mbox{minimize}\\quad & \\quad \\frac{1}{N} \\sum_{i=1}^N \\Delta W_k^{(i)2}\\\\\n",
    "\\mbox{subject to}\\quad & \\quad \\frac{1}{N} \\sum_{i=1}^N \\Delta W_k^{(i)}=0\n",
    "\\end{align}\n",
    "\n",
    "Denote the discounted forward underlying price change at time $k\\tau$ as\n",
    "\n",
    "$$\\Delta S_k = df(k,k+1) S_{k+1} - S_k$$\n",
    "\n",
    "Define\n",
    "\n",
    "\\begin{align}\n",
    "Q_k &= \\begin{bmatrix}\n",
    "    -A_{k,1}(S_k^{(1)}) & \\cdots & -A_{k,N_C}(S_k^{(1)}) & B_{k,1}(S_k^{(1)})\\Delta S_k^{(1)}& \\cdots  & B_{k,N_H}(S_k^{(1)})\\Delta S_k^{(1)} \\\\\n",
    "    -A_{k,1}(S_k^{(2)}) & \\cdots & -A_{k,N_C}(S_k^{(2)}) & B_{k,1}(S_k^{(2)})\\Delta S_k^{(2)}& \\cdots  & B_{k,N_H}(S_k^{(1)})\\Delta S_k^{(2)} \\\\\n",
    "    \\vdots & \\vdots & \\vdots & \\vdots & \\vdots & \\vdots\\\\\n",
    "    -A_{k,1}(S_k^{(N)}) & \\cdots & -A_{k,N_C}(S_k^{(N)}) & B_{k,1}(S_k^{(N)})\\Delta S_k^{(N)}& \\cdots  & B_{k,N_H}(S_k^{(N)})\\Delta S_k^{(N)}\n",
    "    \\end{bmatrix}\\\\\\\\\n",
    "c_k &= (a_{k,1}, \\cdots a_{k,N_C}, b_{k,1}, \\cdots, b_{k,N_H})^T\\\\\\\\\n",
    "v_{k} &= df(k,k+1) C_{k+1}(S_{k+1}^{})\n",
    "\\end{align}\n",
    "\n",
    "As for $v_k$, note that we know the exact value at maturity, which means there is no need to approximate price in terms of basis functions, that is\n",
    "\n",
    "\\begin{align}\n",
    "v_k = \\begin{cases}\n",
    "df(N-1,N)\\ payoff(S_N),\\quad & k=N-1\\\\\n",
    "df(k,k+1)\\ \\sum_{i=1}^{N_C} a_{k+1,i} A_i(S_{k+1}), \\quad & 0<k<N-1\\\\\n",
    "df(0,1)\\ C_1(S_1), \\quad & k=0\n",
    "\\end{cases}\n",
    "\\end{align}\n",
    "\n",
    "Then, the optimization problem can be expressed as\n",
    "\n",
    "\\begin{align}\n",
    "\\arg\\min_{c_k}\\quad & \\quad (v_{k} + Q_k c_k)^T (v_{k} + Q_k c_k)\\\\\n",
    "\\mbox{subject to}\\quad & \\quad 1_{[N\\times1]}^T (v_{k}  + Q_k c_k)=0\n",
    "\\end{align}\n",
    "\n",
    "In step k, since we already know the information ($v_{k}$) in step k+1. By canceling the constant term, the optimal problem can be simplified as the following \n",
    "\n",
    "\\begin{align}\n",
    "\\arg\\min_{c_k}\\quad & \\quad 2 v_{k}^T Q_k c_k + c_k^T Q_k^T Q_k c_k\\\\\n",
    "\\mbox{subject to}\\quad & \\quad 1_{[N\\times1]}^T v_{k}  + 1_{[N\\times1]}^T Q_k c_k=0\n",
    "\\end{align}"
   ]
  },
  {
   "cell_type": "markdown",
   "metadata": {},
   "source": [
    "### 3.5 Convex Optimization Problem\n",
    "\n",
    "Let us first review the standard form of linear constrained quadratic programming problem:\n",
    "\n",
    "\\begin{align}\n",
    "    \\min_{x} \\quad & \\frac{1}{2} x^T P x + q^T x\\\\\n",
    "    \\mbox{subject to} \\quad &G x \\preceq h\\\\\n",
    "    &A x = b\n",
    "\\end{align}\n",
    "\n",
    "Note that $x^T$ means the transpose of vector x, and $G x \\preceq h$denotes the inequality is taken element-wise over the vectors $G x$ and $h$. The objective function is convex if and only if the matrix $P$ is positive-semidefinite(Hermitian matrix all of whose eigenvalues are nonnegative), which is the realm we concern with.\n",
    "\n",
    "Recall that the constrained optimization problem:\n",
    "\n",
    "\\begin{align}\n",
    "\\arg\\min_{c_k}\\quad & \\quad  v_{k}^T Q_k c_k + \\frac{1}{2}c_k^T Q_k^T Q_k c_k\\\\\n",
    "\\mbox{subject to}\\quad & \\quad 1_{[N\\times1]}^T v_{k}  + 1_{[N\\times1]}^T Q_k c_k=0\n",
    "\\end{align}\n",
    "\n",
    "Correspondingly, we make the connection by letting\n",
    "\n",
    "\\begin{align}\n",
    "    x &= c_k\\\\\n",
    "    P &= Q_k^T Q_k\\\\\n",
    "    q &= Q_k^T v_k\\\\\n",
    "    A &= 1_{[N\\times1]}^T Q_k\\\\\n",
    "    b &= -1_{[N\\times1]}^T v_{k}\n",
    "\\end{align}\n",
    "\n",
    "The hard work is almost over right now. As you would always find, formulating the problem is usually the hard step. Invoking a solver is straightforward.\n",
    "\n",
    "Note that when $k=0$, the degree of freedom of the quadratic problem decreases to 2. Because here the only concerns are price and hedge at time zero (we don't need to project them into a high dimension space). Let $x=[C_0, H_0]^T$\n",
    "\n",
    "\\begin{align}\n",
    "    Q_0 &= \\begin{bmatrix}\n",
    "    -1 & \\Delta S_0^{(1)}\\\\\n",
    "    \\vdots & \\vdots\\\\\n",
    "    -1 & \\Delta S_0^{(N)}\n",
    "    \\end{bmatrix}\\\\\n",
    "    P &= Q_0^T Q_0\\\\\n",
    "    q &= Q_0^T v_0\\\\\n",
    "    A &= 1_{[N \\times 1]}^T Q_0\\\\\n",
    "    b &= -1_{[N \\times 1]}^T v_0\n",
    "\\end{align}"
   ]
  },
  {
   "cell_type": "code",
   "execution_count": 14,
   "metadata": {
    "collapsed": false
   },
   "outputs": [],
   "source": [
    "import numpy as np\n",
    "import scipy as sp\n",
    "import scipy.stats\n",
    "from cvxopt import matrix, solvers"
   ]
  },
  {
   "cell_type": "code",
   "execution_count": 15,
   "metadata": {
    "collapsed": true
   },
   "outputs": [],
   "source": [
    "risk_free_rate = 0.02\n",
    "time_to_maturity = 1\n",
    "volatility = 0.3\n",
    "strike = 100\n",
    "stock_price = 100\n",
    "n_trails = 1000\n",
    "n_steps = 200\n",
    "func_list = [lambda x: x**0, lambda x: x]"
   ]
  },
  {
   "cell_type": "code",
   "execution_count": 31,
   "metadata": {
    "collapsed": true
   },
   "outputs": [],
   "source": [
    "class MonteCarlo:\n",
    "    def __init__(self,S0,K,T,r,sigma,underlying_process=\"geometric brownian motion\"):\n",
    "        self.underlying_process = underlying_process\n",
    "        self.S0 = S0\n",
    "        self.K = K\n",
    "        self.T = T\n",
    "        self.r = r\n",
    "        self.sigma = sigma\n",
    "        \n",
    "    def simulate(self, n_trails, n_steps):\n",
    "        dt = self.T/n_steps\n",
    "        self.n_trails = n_trails\n",
    "        self.n_steps = n_steps\n",
    "        if(self.underlying_process==\"geometric brownian motion\"):\n",
    "#             first_step_prices = np.ones((n_trails,1))*np.log(self.S0)\n",
    "            log_price_matrix = np.zeros((n_trails,n_steps))\n",
    "            normal_matrix = np.random.normal(size=(n_trails,n_steps))\n",
    "            cumsum_normal_matrix = normal_matrix.cumsum(axis=1)\n",
    "#             log_price_matrix = np.concatenate((first_step_prices,log_price_matrix),axis=1)\n",
    "            deviation_matrix = cumsum_normal_matrix*self.sigma*np.sqrt(dt) + \\\n",
    "    (self.r-self.sigma**2/2)*dt*np.arange(1,n_steps+1)\n",
    "            log_price_matrix = deviation_matrix+np.log(self.S0)\n",
    "            price_matrix = np.exp(log_price_matrix)\n",
    "            price_zero = (np.ones(n_trails)*self.S0)[:,np.newaxis]\n",
    "            price_matrix = np.concatenate((price_zero,price_matrix),axis=1)\n",
    "            self.price_matrix = price_matrix\n",
    "        return price_matrix\n",
    "    \n",
    "    def BlackScholesPricer(self,option_type='c'):\n",
    "        S = self.S0\n",
    "        K = self.K\n",
    "        T = self.T\n",
    "        r = self.r\n",
    "        sigma = self.sigma\n",
    "        d1 = (np.log(S/K)+r*T +0.5*sigma**2*T)/(sigma*np.sqrt(T))\n",
    "        d2 = d1 - sigma*np.sqrt(T)\n",
    "        N = lambda x: sp.stats.norm.cdf(x)\n",
    "        call = S * N(d1) - np.exp(-r*T) * K * N(d2)\n",
    "        put = call - S + K*np.exp(-r*T)\n",
    "        if(option_type==\"c\"):\n",
    "            return call\n",
    "        elif(option_type==\"p\"):\n",
    "            return put\n",
    "        else:\n",
    "            print(\"please enter the option type: (c/p)\")\n",
    "        pass\n",
    "    \n",
    "    def MCPricer(self,option_type='c'):\n",
    "        price_matrix = self.price_matrix\n",
    "        # k = n_steps\n",
    "        dt = self.T/self.n_steps\n",
    "        df = np.exp(- self.r*dt)\n",
    "        n_basis = len(func_list)\n",
    "        n_trails = self.n_trails\n",
    "        n_steps = self.n_steps\n",
    "        \n",
    "        if(option_type==\"c\"):\n",
    "            payoff = (price_matrix[:,n_steps] - strike)\n",
    "        elif(option_type==\"p\"):\n",
    "            payoff = (strike - price_matrix[:,n_steps])\n",
    "        else:\n",
    "            print(\"please enter the option type: (c/p)\")\n",
    "            return\n",
    "        \n",
    "        payoff = matrix(np.where(payoff<0,0,payoff))\n",
    "        vk = payoff*df\n",
    "        regular_mc_price = np.average(payoff*np.exp(-risk_free_rate*time_to_maturity))\n",
    "        self.mc_price = regular_mc_price\n",
    "        return regular_mc_price\n",
    "        \n",
    "    def OHMCPricer(self,option_type='c', func_list=[lambda x: x**0, lambda x: x]):\n",
    "        def _calculate_Q_matrix(S_k,S_kp1,df,func_list):\n",
    "            dS = df*S_kp1 - S_k\n",
    "            A = np.array([func(S_k) for func in func_list]).T\n",
    "            B = (np.array([func(S_k) for func in func_list])*dS).T\n",
    "            return np.concatenate((-A,B),axis=1)\n",
    "        \n",
    "        price_matrix = self.price_matrix\n",
    "        # k = n_steps\n",
    "        dt = self.T/self.n_steps\n",
    "        df = np.exp(- self.r*dt)\n",
    "        n_basis = len(func_list)\n",
    "        n_trails = self.n_trails\n",
    "        n_steps = self.n_steps\n",
    "        \n",
    "        if(option_type==\"c\"):\n",
    "            payoff = (price_matrix[:,n_steps] - strike)\n",
    "        elif(option_type==\"p\"):\n",
    "            payoff = (strike - price_matrix[:,n_steps])\n",
    "        else:\n",
    "            print(\"please enter the option type: (c/p)\")\n",
    "            return\n",
    "        \n",
    "        payoff = matrix(np.where(payoff<0,0,payoff))\n",
    "        vk = payoff*df\n",
    "#         print(\"regular MC price\",regular_mc_price)\n",
    "    \n",
    "        # k = 1,...,n_steps-1\n",
    "        for k in range(n_steps-1,0,-1):\n",
    "            Sk = price_matrix[:,k]\n",
    "            Skp1 = price_matrix[:,k+1]\n",
    "            Qk = matrix(_calculate_Q_matrix(Sk,Skp1,df,func_list))\n",
    "            P = Qk.T * Qk\n",
    "            q = Qk.T * vk\n",
    "            A = matrix(np.ones(n_trails,dtype=np.float64)).T * Qk\n",
    "            b = - matrix(np.ones(n_trails,dtype=np.float64)).T * vk\n",
    "            sol = solvers.coneqp(P=P,q=q,A=A,b=b)\n",
    "            ak = sol[\"x\"][:n_basis]\n",
    "            bk = sol[\"x\"][n_basis:]\n",
    "            vk = matrix(np.array([func(price_matrix[:,k]) for func in func_list])).T*ak*df\n",
    "        \n",
    "        # k = 0\n",
    "        v0 = vk\n",
    "        S0 = price_matrix[:,0]\n",
    "        S1 = price_matrix[:,1]\n",
    "        dS0 = df*S1 - S0\n",
    "        Q0 = np.concatenate((-np.ones(n_trails)[:,np.newaxis],dS0[:,np.newaxis]),axis=1)\n",
    "        Q0 = matrix(Q0)\n",
    "        P = Q0.T*Q0\n",
    "        q = Q0.T*v0\n",
    "        A = matrix(np.ones(n_trails,dtype=np.float64)).T * Q0\n",
    "        b = - matrix(np.ones(n_trails,dtype=np.float64)).T * v0\n",
    "        C1 = matrix(ak).T * np.array([func(S1) for func in func_list]).T\n",
    "        sol = solvers.coneqp(P=P,q=q,A=A,b=b)\n",
    "        self.sol = sol\n",
    "#         residual_risk = (v0.T*v0 + 2*sol[\"primal objective\"])/n_trails\n",
    "#         self.residual_risk = residual_risk[0]    # the value of unit matrix\n",
    "        \n",
    "        return sol[\"x\"][0]\n",
    "    \n",
    "    def pricing(self, option_type='c', func_list=[lambda x: x**0, lambda x: x]):\n",
    "        \n",
    "        def _calculate_Q_matrix(S_k,S_kp1,df,func_list):\n",
    "            dS = df*S_kp1 - S_k\n",
    "            A = np.array([func(S_k) for func in func_list]).T\n",
    "            B = (np.array([func(S_k) for func in func_list])*dS).T\n",
    "            return np.concatenate((-A,B),axis=1)\n",
    "        \n",
    "        price_matrix = self.price_matrix\n",
    "        # k = n_steps\n",
    "        dt = self.T/self.n_steps\n",
    "        df = np.exp(- self.r*dt)\n",
    "        n_basis = len(func_list)\n",
    "        n_trails = self.n_trails\n",
    "        n_steps = self.n_steps\n",
    "        \n",
    "        if(option_type==\"c\"):\n",
    "            payoff = (price_matrix[:,n_steps] - strike)\n",
    "        elif(option_type==\"p\"):\n",
    "            payoff = (strike - price_matrix[:,n_steps])\n",
    "        else:\n",
    "            print(\"please enter the option type: (c/p)\")\n",
    "            return\n",
    "        \n",
    "        payoff = matrix(np.where(payoff<0,0,payoff))\n",
    "        vk = payoff*df\n",
    "        regular_mc_price = np.average(payoff*np.exp(-risk_free_rate*time_to_maturity))\n",
    "        black_sholes_price = self.BlackScholesPricer(option_type)\n",
    "#         print(\"regular MC price\",regular_mc_price)\n",
    "    \n",
    "        # k = 1,...,n_steps-1\n",
    "        for k in range(n_steps-1,0,-1):\n",
    "            Sk = price_matrix[:,k]\n",
    "            Skp1 = price_matrix[:,k+1]\n",
    "            Qk = matrix(_calculate_Q_matrix(Sk,Skp1,df,func_list))\n",
    "            P = Qk.T * Qk\n",
    "            q = Qk.T * vk\n",
    "            A = matrix(np.ones(n_trails,dtype=np.float64)).T * Qk\n",
    "            b = - matrix(np.ones(n_trails,dtype=np.float64)).T * vk\n",
    "            sol = solvers.coneqp(P=P,q=q,A=A,b=b)\n",
    "            ak = sol[\"x\"][:n_basis]\n",
    "            bk = sol[\"x\"][n_basis:]\n",
    "            vk = matrix(np.array([func(price_matrix[:,k]) for func in func_list])).T*ak*df\n",
    "        \n",
    "        # k = 0\n",
    "        v0 = vk\n",
    "        S0 = price_matrix[:,0]\n",
    "        S1 = price_matrix[:,1]\n",
    "        dS0 = df*S1 - S0\n",
    "        Q0 = np.concatenate((-np.ones(n_trails)[:,np.newaxis],dS0[:,np.newaxis]),axis=1)\n",
    "        Q0 = matrix(Q0)\n",
    "        P = Q0.T*Q0\n",
    "        q = Q0.T*v0\n",
    "        A = matrix(np.ones(n_trails,dtype=np.float64)).T * Q0\n",
    "        b = - matrix(np.ones(n_trails,dtype=np.float64)).T * v0\n",
    "        C1 = matrix(ak).T * np.array([func(S1) for func in func_list]).T\n",
    "        sol = solvers.coneqp(P=P,q=q,A=A,b=b)\n",
    "        self.sol = sol\n",
    "        residual_risk = (v0.T*v0 + 2*sol[\"primal objective\"])/n_trails\n",
    "        self.residual_risk = residual_risk[0]    # the value of unit matrix\n",
    "        \n",
    "        return({\"OHMC\": sol[\"x\"][0],\"regular MC\": regular_mc_price,\"Black-Scholes\":black_sholes_price})\n",
    "    \n",
    "    def hedging(self):\n",
    "        S = self.S0\n",
    "        K = self.K\n",
    "        T = self.T\n",
    "        r = self.r\n",
    "        sigma = self.sigma\n",
    "        d1 = (np.log(S/K)+r*T +0.5*sigma**2*T)/(sigma*np.sqrt(T))\n",
    "        d2 = d1 - sigma*np.sqrt(T)\n",
    "        N = lambda x: sp.stats.norm.cdf(x)\n",
    "        return({\"OHMC optimal hedge\": self.sol[\"x\"][1],\"Black-Scholes delta hedge\":-N(d1),\"OHMC residual risk\":self.residual_risk})\n",
    "        \n",
    "    "
   ]
  },
  {
   "cell_type": "code",
   "execution_count": 32,
   "metadata": {
    "collapsed": false
   },
   "outputs": [],
   "source": [
    "mc = MonteCarlo(stock_price,strike,time_to_maturity,risk_free_rate,volatility)"
   ]
  },
  {
   "cell_type": "code",
   "execution_count": 33,
   "metadata": {
    "collapsed": false
   },
   "outputs": [],
   "source": [
    "price_matrix = mc.simulate(n_trails,n_steps)"
   ]
  },
  {
   "cell_type": "code",
   "execution_count": 34,
   "metadata": {
    "collapsed": false
   },
   "outputs": [
    {
     "name": "stdout",
     "output_type": "stream",
     "text": [
      "{'OHMC': 12.390658176585488, 'regular MC': 13.349388675796275, 'Black-Scholes': 12.821581392691421}\n"
     ]
    }
   ],
   "source": [
    "prices = mc.pricing(func_list=func_list)\n",
    "print(prices)"
   ]
  },
  {
   "cell_type": "code",
   "execution_count": 35,
   "metadata": {
    "collapsed": false
   },
   "outputs": [
    {
     "name": "stdout",
     "output_type": "stream",
     "text": [
      "{'OHMC optimal hedge': -0.6452294234211865, 'Black-Scholes delta hedge': -0.58576593646952479, 'OHMC residual risk': -2.9103830456733704e-14}\n"
     ]
    }
   ],
   "source": [
    "hedges = mc.hedging()\n",
    "print(hedges)"
   ]
  },
  {
   "cell_type": "markdown",
   "metadata": {},
   "source": [
    "## 4 Methods Comparison\n",
    "\n",
    "In this part, we discuss the performance of OHMC and regular MC. The underlying stochastic process is geometric brownian motion, so the explicit solution is well-known as Black-Scholes formula. In the following, we compare the absolute error with respect to the Black-Scholes price corresponding to trajactories number and runtime. The result is displayed by scatter plots."
   ]
  },
  {
   "cell_type": "code",
   "execution_count": 36,
   "metadata": {
    "collapsed": true
   },
   "outputs": [],
   "source": [
    "import timeit"
   ]
  },
  {
   "cell_type": "code",
   "execution_count": 45,
   "metadata": {
    "collapsed": false
   },
   "outputs": [],
   "source": [
    "def efficiency_comparison(n_trails,n_steps):\n",
    "    mc = MonteCarlo(stock_price,strike,time_to_maturity,risk_free_rate,volatility)\n",
    "    # black scholes\n",
    "    bs_start = timeit.default_timer()\n",
    "    bs_price = mc.BlackScholesPricer('c')\n",
    "    bs_end = timeit.default_timer()\n",
    "    \n",
    "    # regular MC\n",
    "    rmc_start = timeit.default_timer()\n",
    "    mc.simulate(n_trails,n_steps)\n",
    "    mc_price = mc.MCPricer('c')\n",
    "    rmc_end = timeit.default_timer()\n",
    "    \n",
    "    # OHMC\n",
    "    ohmc_start = timeit.default_timer()\n",
    "    mc.simulate(n_trails,n_steps)\n",
    "    ohmc_price = mc.OHMCPricer('c')\n",
    "    ohmc_end = timeit.default_timer()\n",
    "    \n",
    "    bs_runtime = bs_end - bs_start\n",
    "    mc_runtime = rmc_end - rmc_start\n",
    "    ohmc_runtime = ohmc_end-ohmc_start\n",
    "    \n",
    "    mc_err = np.abs(mc_price - bs_price)\n",
    "    ohmc_err = np.abs(ohmc_price - bs_price)\n",
    "    \n",
    "    result = {\"method\":[\"Black Scholes\",\"MC\",\"OHMC\"],\"runtime\":[bs_runtime,mc_runtime,ohmc_runtime],\n",
    "              \"err\":[0,mc_err,ohmc_err], \"n_trails\":[n_trails]*3, \"n_steps\":[n_steps]*3}\n",
    "    return result"
   ]
  },
  {
   "cell_type": "code",
   "execution_count": 46,
   "metadata": {
    "collapsed": false
   },
   "outputs": [
    {
     "data": {
      "text/html": [
       "<div>\n",
       "<style scoped>\n",
       "    .dataframe tbody tr th:only-of-type {\n",
       "        vertical-align: middle;\n",
       "    }\n",
       "\n",
       "    .dataframe tbody tr th {\n",
       "        vertical-align: top;\n",
       "    }\n",
       "\n",
       "    .dataframe thead th {\n",
       "        text-align: right;\n",
       "    }\n",
       "</style>\n",
       "<table border=\"1\" class=\"dataframe\">\n",
       "  <thead>\n",
       "    <tr style=\"text-align: right;\">\n",
       "      <th></th>\n",
       "      <th>err</th>\n",
       "      <th>method</th>\n",
       "      <th>n_steps</th>\n",
       "      <th>n_trails</th>\n",
       "      <th>runtime</th>\n",
       "    </tr>\n",
       "  </thead>\n",
       "  <tbody>\n",
       "    <tr>\n",
       "      <th>0</th>\n",
       "      <td>0.000000</td>\n",
       "      <td>Black Scholes</td>\n",
       "      <td>200</td>\n",
       "      <td>5000</td>\n",
       "      <td>0.003281</td>\n",
       "    </tr>\n",
       "    <tr>\n",
       "      <th>1</th>\n",
       "      <td>0.399365</td>\n",
       "      <td>MC</td>\n",
       "      <td>200</td>\n",
       "      <td>5000</td>\n",
       "      <td>0.146768</td>\n",
       "    </tr>\n",
       "    <tr>\n",
       "      <th>2</th>\n",
       "      <td>0.138306</td>\n",
       "      <td>OHMC</td>\n",
       "      <td>200</td>\n",
       "      <td>5000</td>\n",
       "      <td>0.303353</td>\n",
       "    </tr>\n",
       "    <tr>\n",
       "      <th>3</th>\n",
       "      <td>0.000000</td>\n",
       "      <td>Black Scholes</td>\n",
       "      <td>200</td>\n",
       "      <td>100</td>\n",
       "      <td>0.000299</td>\n",
       "    </tr>\n",
       "    <tr>\n",
       "      <th>4</th>\n",
       "      <td>2.151938</td>\n",
       "      <td>MC</td>\n",
       "      <td>200</td>\n",
       "      <td>100</td>\n",
       "      <td>0.001599</td>\n",
       "    </tr>\n",
       "    <tr>\n",
       "      <th>5</th>\n",
       "      <td>0.542016</td>\n",
       "      <td>OHMC</td>\n",
       "      <td>200</td>\n",
       "      <td>100</td>\n",
       "      <td>0.042877</td>\n",
       "    </tr>\n",
       "  </tbody>\n",
       "</table>\n",
       "</div>"
      ],
      "text/plain": [
       "        err         method  n_steps  n_trails   runtime\n",
       "0  0.000000  Black Scholes      200      5000  0.003281\n",
       "1  0.399365             MC      200      5000  0.146768\n",
       "2  0.138306           OHMC      200      5000  0.303353\n",
       "3  0.000000  Black Scholes      200       100  0.000299\n",
       "4  2.151938             MC      200       100  0.001599\n",
       "5  0.542016           OHMC      200       100  0.042877"
      ]
     },
     "execution_count": 46,
     "metadata": {},
     "output_type": "execute_result"
    }
   ],
   "source": [
    "import pandas as pd\n",
    "df1 = pd.DataFrame(efficiency_comparison(5000,200))\n",
    "df2 = pd.DataFrame(efficiency_comparison(100,200))\n",
    "pd.concat((df1,df2),axis=0,ignore_index=True)"
   ]
  },
  {
   "cell_type": "code",
   "execution_count": 53,
   "metadata": {
    "collapsed": false
   },
   "outputs": [
    {
     "data": {
      "text/plain": [
       "array([ 100,  600, 1100, 1600, 2100, 2600, 3100, 3600, 4100, 4600, 5100,\n",
       "       5600, 6100, 6600, 7100, 7600, 8100, 8600, 9100, 9600])"
      ]
     },
     "execution_count": 53,
     "metadata": {},
     "output_type": "execute_result"
    }
   ],
   "source": [
    "np.arange(100,10000,500)"
   ]
  },
  {
   "cell_type": "code",
   "execution_count": 69,
   "metadata": {
    "collapsed": false
   },
   "outputs": [],
   "source": [
    "n_trails_list = np.arange(100,10000,500)\n",
    "efficiency_df = pd.DataFrame()\n",
    "for n_trails in n_trails_list:\n",
    "    new_df = pd.DataFrame(efficiency_comparison(n_trails,n_steps))\n",
    "    efficiency_df = pd.concat((efficiency_df,new_df))"
   ]
  },
  {
   "cell_type": "code",
   "execution_count": 70,
   "metadata": {
    "collapsed": false
   },
   "outputs": [
    {
     "data": {
      "text/html": [
       "<div>\n",
       "<style scoped>\n",
       "    .dataframe tbody tr th:only-of-type {\n",
       "        vertical-align: middle;\n",
       "    }\n",
       "\n",
       "    .dataframe tbody tr th {\n",
       "        vertical-align: top;\n",
       "    }\n",
       "\n",
       "    .dataframe thead th {\n",
       "        text-align: right;\n",
       "    }\n",
       "</style>\n",
       "<table border=\"1\" class=\"dataframe\">\n",
       "  <thead>\n",
       "    <tr style=\"text-align: right;\">\n",
       "      <th></th>\n",
       "      <th>err</th>\n",
       "      <th>method</th>\n",
       "      <th>n_steps</th>\n",
       "      <th>n_trails</th>\n",
       "      <th>runtime</th>\n",
       "    </tr>\n",
       "  </thead>\n",
       "  <tbody>\n",
       "    <tr>\n",
       "      <th>0</th>\n",
       "      <td>0.000000</td>\n",
       "      <td>Black Scholes</td>\n",
       "      <td>200</td>\n",
       "      <td>100</td>\n",
       "      <td>0.000560</td>\n",
       "    </tr>\n",
       "    <tr>\n",
       "      <th>1</th>\n",
       "      <td>1.505011</td>\n",
       "      <td>MC</td>\n",
       "      <td>200</td>\n",
       "      <td>100</td>\n",
       "      <td>0.003374</td>\n",
       "    </tr>\n",
       "    <tr>\n",
       "      <th>2</th>\n",
       "      <td>0.617521</td>\n",
       "      <td>OHMC</td>\n",
       "      <td>200</td>\n",
       "      <td>100</td>\n",
       "      <td>0.060418</td>\n",
       "    </tr>\n",
       "    <tr>\n",
       "      <th>0</th>\n",
       "      <td>0.000000</td>\n",
       "      <td>Black Scholes</td>\n",
       "      <td>200</td>\n",
       "      <td>600</td>\n",
       "      <td>0.000310</td>\n",
       "    </tr>\n",
       "    <tr>\n",
       "      <th>1</th>\n",
       "      <td>1.338692</td>\n",
       "      <td>MC</td>\n",
       "      <td>200</td>\n",
       "      <td>600</td>\n",
       "      <td>0.015934</td>\n",
       "    </tr>\n",
       "  </tbody>\n",
       "</table>\n",
       "</div>"
      ],
      "text/plain": [
       "        err         method  n_steps  n_trails   runtime\n",
       "0  0.000000  Black Scholes      200       100  0.000560\n",
       "1  1.505011             MC      200       100  0.003374\n",
       "2  0.617521           OHMC      200       100  0.060418\n",
       "0  0.000000  Black Scholes      200       600  0.000310\n",
       "1  1.338692             MC      200       600  0.015934"
      ]
     },
     "execution_count": 70,
     "metadata": {},
     "output_type": "execute_result"
    }
   ],
   "source": [
    "efficiency_df.head()"
   ]
  },
  {
   "cell_type": "markdown",
   "metadata": {},
   "source": [
    "### 4.1 Variance Reduction Test"
   ]
  },
  {
   "cell_type": "code",
   "execution_count": 75,
   "metadata": {
    "collapsed": false
   },
   "outputs": [
    {
     "data": {
      "image/png": "[encoded data removed]",
      "text/plain": [
       "<matplotlib.figure.Figure at 0x1198e54e0>"
      ]
     },
     "metadata": {},
     "output_type": "display_data"
    }
   ],
   "source": [
    "import matplotlib.pyplot as plt\n",
    "fig,ax = plt.subplots()\n",
    "\n",
    "mc_trails = efficiency_df[efficiency_df[\"method\"]==\"MC\"][\"n_trails\"]\n",
    "mc_err = efficiency_df[efficiency_df[\"method\"]==\"MC\"][\"err\"]\n",
    "ax.scatter(mc_trails,mc_err,label=\"regular MC\")\n",
    "\n",
    "ohmc_trails = efficiency_df[efficiency_df[\"method\"]==\"OHMC\"][\"n_trails\"]\n",
    "ohmc_err = efficiency_df[efficiency_df[\"method\"]==\"OHMC\"][\"err\"]\n",
    "ax.scatter(ohmc_trails,ohmc_err,label=\"OHMC\")\n",
    "ax.legend()\n",
    "\n",
    "plt.xlabel(\"n_trails\")\n",
    "plt.ylabel(\"err\")\n",
    "\n",
    "plt.show()"
   ]
  },
  {
   "cell_type": "markdown",
   "metadata": {},
   "source": [
    "### 4.2 Runtime Efficiency Test"
   ]
  },
  {
   "cell_type": "code",
   "execution_count": 71,
   "metadata": {
    "collapsed": false
   },
   "outputs": [
    {
     "data": {
      "image/png": "[encoded data removed]",
      "text/plain": [
       "<matplotlib.figure.Figure at 0x119eb3358>"
      ]
     },
     "metadata": {},
     "output_type": "display_data"
    }
   ],
   "source": [
    "import matplotlib.pyplot as plt\n",
    "fig,ax = plt.subplots()\n",
    "\n",
    "mc_runtime = efficiency_df[efficiency_df[\"method\"]==\"MC\"][\"runtime\"]\n",
    "mc_err = efficiency_df[efficiency_df[\"method\"]==\"MC\"][\"err\"]\n",
    "ax.scatter(mc_runtime,mc_err,label=\"regular MC\")\n",
    "\n",
    "ohmc_runtime = efficiency_df[efficiency_df[\"method\"]==\"OHMC\"][\"runtime\"]\n",
    "ohmc_err = efficiency_df[efficiency_df[\"method\"]==\"OHMC\"][\"err\"]\n",
    "ax.scatter(ohmc_runtime,ohmc_err,label=\"OHMC\")\n",
    "ax.legend()\n",
    "\n",
    "plt.xlabel(\"runtime\")\n",
    "plt.ylabel(\"err\")\n",
    "\n",
    "plt.show()"
   ]
  },
  {
   "cell_type": "markdown",
   "metadata": {},
   "source": [
    "### 4.3 Conclusion\n",
    "\n",
    "From the test, one can see OHMC reduce the variance considerably, which make it more appreciable when number of trails is limited. For example, if we can only make trails less than 1000, OHMC is definite better than regular MC. However the runtime efficiency is similar based our observation. It seems slightly stable than regular MC, but still not enough to affirm that."
   ]
  },
  {
   "cell_type": "code",
   "execution_count": null,
   "metadata": {
    "collapsed": true
   },
   "outputs": [],
   "source": []
  }
 ],
 "metadata": {
  "kernelspec": {
   "display_name": "Python 3",
   "language": "python",
   "name": "python3"
  },
  "language_info": {
   "codemirror_mode": {
    "name": "ipython",
    "version": 3
   },
   "file_extension": ".py",
   "mimetype": "text/x-python",
   "name": "python",
   "nbconvert_exporter": "python",
   "pygments_lexer": "ipython3",
   "version": "3.6.0"
  }
 },
 "nbformat": 4,
 "nbformat_minor": 2
}
