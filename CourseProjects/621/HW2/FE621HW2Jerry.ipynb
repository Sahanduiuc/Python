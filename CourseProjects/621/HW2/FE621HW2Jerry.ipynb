{
 "cells": [
  {
   "cell_type": "markdown",
   "metadata": {},
   "source": [
    "# HW3 Binomial Tree Method in Option Pricing"
   ]
  },
  {
   "cell_type": "markdown",
   "metadata": {},
   "source": [
    "## 1 Construct an additive binomial tree to calculate the values of the European Call option and one for the European Put option.\n",
    "\n",
    "To see the details of implementation, please check binomail.py. Here, the class OptionPricer is a option pricer with Black-Scholes formula, Monte Carlo simulation, Optimal Hedged Monte Carlo, and Binomial Tree method. The following is an example of determined parameters of the underlying asset."
   ]
  },
  {
   "cell_type": "code",
   "execution_count": 1,
   "metadata": {
    "collapsed": true
   },
   "outputs": [],
   "source": [
    "from option_pricer import OptionPricer"
   ]
  },
  {
   "cell_type": "code",
   "execution_count": 2,
   "metadata": {
    "collapsed": true
   },
   "outputs": [],
   "source": [
    "S0 = 100\n",
    "K = 100\n",
    "T = 1\n",
    "r = 0.04\n",
    "sigma = 0.3\n",
    "\n",
    "pricer = OptionPricer(S0,K,T,r,sigma)"
   ]
  },
  {
   "cell_type": "code",
   "execution_count": 3,
   "metadata": {
    "collapsed": false
   },
   "outputs": [
    {
     "data": {
      "text/plain": [
       "13.7238318861179"
      ]
     },
     "execution_count": 3,
     "metadata": {},
     "output_type": "execute_result"
    }
   ],
   "source": [
    "pricer.BinomialTreePricer(n=100,option_type='c')"
   ]
  },
  {
   "cell_type": "code",
   "execution_count": 4,
   "metadata": {
    "collapsed": false
   },
   "outputs": [
    {
     "data": {
      "text/plain": [
       "13.89337905508744"
      ]
     },
     "execution_count": 4,
     "metadata": {},
     "output_type": "execute_result"
    }
   ],
   "source": [
    "pricer.OHMCPricer(n_steps=100,n_trails=1000,option_type='c')"
   ]
  },
  {
   "cell_type": "code",
   "execution_count": 5,
   "metadata": {
    "collapsed": false
   },
   "outputs": [
    {
     "data": {
      "text/plain": [
       "14.650401282701075"
      ]
     },
     "execution_count": 5,
     "metadata": {},
     "output_type": "execute_result"
    }
   ],
   "source": [
    "pricer.MCPricer(n_steps=100,n_trails=1000,option_type='c')"
   ]
  },
  {
   "cell_type": "code",
   "execution_count": 6,
   "metadata": {
    "collapsed": false
   },
   "outputs": [
    {
     "data": {
      "text/plain": [
       "13.753264647243569"
      ]
     },
     "execution_count": 6,
     "metadata": {},
     "output_type": "execute_result"
    }
   ],
   "source": [
    "pricer.BlackScholesPricer(option_type='c')"
   ]
  },
  {
   "cell_type": "markdown",
   "metadata": {},
   "source": [
    "## 2 Download Option prices (you can use the Bloomberg Terminal, Yahoo! Finance, etc.) for an equity, for 3 different maturities (1 month, 2 months, and 3 months) and 20 strike prices. \n",
    "\n",
    "For each strike price in the data, calculate the corresponding implied volatility. You may use the data and calculations you have done for Homework 1. Also use the current short-term interest rate. Calculate the option prices (European Calls and Puts) using the binomial tree, and compare the results with the same prices obtained applying the Black{Scholes formula. Use at least 200 steps in your construction."
   ]
  },
  {
   "cell_type": "code",
   "execution_count": 130,
   "metadata": {
    "collapsed": false
   },
   "outputs": [],
   "source": [
    "from yahoo_options import get_option_yahoo\n",
    "from datetime import datetime"
   ]
  },
  {
   "cell_type": "code",
   "execution_count": 131,
   "metadata": {
    "collapsed": false
   },
   "outputs": [],
   "source": [
    "one_month_expired = datetime(2018,7,20)\n",
    "two_months_expired = datetime(2018,8,17)\n",
    "three_months_expired = datetime(2018,9,21)"
   ]
  },
  {
   "cell_type": "code",
   "execution_count": 396,
   "metadata": {
    "collapsed": false
   },
   "outputs": [],
   "source": [
    "spy_call_df1, spy_put_df1, spy_quote1 = get_option_yahoo(\"SPY\",one_month_expired)"
   ]
  },
  {
   "cell_type": "code",
   "execution_count": 397,
   "metadata": {
    "collapsed": false
   },
   "outputs": [],
   "source": [
    "spy_call_df2, spy_put_df2, spy_quote2 = get_option_yahoo(\"SPY\",two_months_expired)"
   ]
  },
  {
   "cell_type": "code",
   "execution_count": 398,
   "metadata": {
    "collapsed": true
   },
   "outputs": [],
   "source": [
    "spy_call_df3, spy_put_df3, spy_quote3 = get_option_yahoo(\"SPY\",three_months_expired)"
   ]
  },
  {
   "cell_type": "code",
   "execution_count": null,
   "metadata": {
    "collapsed": true
   },
   "outputs": [],
   "source": []
  },
  {
   "cell_type": "code",
   "execution_count": 50,
   "metadata": {
    "collapsed": false
   },
   "outputs": [
    {
     "data": {
      "text/plain": [
       "0.019799999999999998"
      ]
     },
     "execution_count": 50,
     "metadata": {},
     "output_type": "execute_result"
    }
   ],
   "source": [
    "spy_quote1.ytdReturn/100 # interest rate using year-to-date return"
   ]
  },
  {
   "cell_type": "markdown",
   "metadata": {},
   "source": [
    "### Calculate implied volatility"
   ]
  },
  {
   "cell_type": "code",
   "execution_count": 133,
   "metadata": {
    "collapsed": true
   },
   "outputs": [],
   "source": [
    "import scipy as sp\n",
    "import scipy.stats\n",
    "import numpy as np\n",
    "\n",
    "def BlackSholesPrice(S,K,T,r,sigma):\n",
    "    d1 = (np.log(S/K) + r*T + sigma**2*T/2)/sigma/np.sqrt(T)\n",
    "    d2 = d1 - sigma * np.sqrt(T)\n",
    "\n",
    "    call_price = S*sp.stats.norm.cdf(d1) - np.exp(-r*T)*K*sp.stats.norm.cdf(d2)\n",
    "    put_price = call_price + np.exp(-r*T)*K - S\n",
    "       \n",
    "    return call_price,put_price\n",
    "\n",
    "def bisection(func,interval,tol):\n",
    "    a,b = interval\n",
    "    c = (a+b)/2.\n",
    "    if func(a)*func(b)>0:\n",
    "        print(\"warning: fun(a)*fun(b)>0\")\n",
    "#     func(a) - func(b)\n",
    "    while(b-a>tol):\n",
    "        if func(c) == 0:\n",
    "            return c\n",
    "        elif func(a)*func(c)<0:\n",
    "            b=c\n",
    "        else:\n",
    "            a=c\n",
    "        c = (a+b)/2.\n",
    "    return c\n",
    "\n",
    "def impliedvol(S,K,T,r,price,option_type):\n",
    "    if(option_type==\"c\"):\n",
    "        price_equation = lambda sigma: BlackSholesPrice(S,K,T,r,sigma)[0] - price\n",
    "    elif(option_type==\"p\"):\n",
    "        price_equation = lambda sigma: BlackSholesPrice(S,K,T,r,sigma)[1] - price\n",
    "        \n",
    "    imp_vol = bisection(price_equation,(-1,2),1e-6)\n",
    "    return imp_vol\n",
    "\n",
    "def calculate_IV_for_quotes(option_df,quote_series,option_type):\n",
    "    S = float(quote_series[\"regularMarketPrice\"])\n",
    "    t0 = spy_time = int(quote_series[\"regularMarketTime\"])\n",
    "    t1 = int(option_df[\"expiration\"][0])\n",
    "#     print(t1)\n",
    "    T = (t1-t0)/3600/24/365\n",
    "    r = quote_series.ytdReturn/100\n",
    "    \n",
    "    def calc_iv(row):\n",
    "        price = (float(row[\"bid\"])+float(row[\"ask\"]))/2\n",
    "        K = float(row[\"strike\"])\n",
    "        return impliedvol(S,K,T,r,price,option_type)\n",
    "    def calc_price(row):\n",
    "        price = (float(row[\"bid\"])+float(row[\"ask\"]))/2\n",
    "        return price\n",
    "        \n",
    "    option_df[\"my_iv\"] = option_df.apply(calc_iv,axis=1)\n",
    "    option_df[\"time_to_maturity\"] = np.array([T]*len(option_df))\n",
    "    option_df[\"days_count\"] = np.array((t1-t0)/3600/24)\n",
    "    option_df[\"average_price\"] = option_df.apply(calc_price,axis=1)\n",
    "    option_df[\"underlying_price\"] = [S]*len(option_df)\n",
    "    option_df[\"ytd_rate\"] = [r]*len(option_df)\n",
    "    return option_df"
   ]
  },
  {
   "cell_type": "code",
   "execution_count": 137,
   "metadata": {
    "collapsed": false
   },
   "outputs": [],
   "source": [
    "spy_call_df1 = calculate_IV_for_quotes(spy_call_df1,spy_quote1,'c')\n",
    "spy_call_neat_eu_df1 = spy_call_df1[[\"contractSymbol\",'ask',\"bid\",\"average_price\",\"underlying_price\",\"strike\",\"time_to_maturity\",\"ytd_rate\",\"my_iv\"]]"
   ]
  },
  {
   "cell_type": "code",
   "execution_count": 138,
   "metadata": {
    "collapsed": false
   },
   "outputs": [],
   "source": [
    "spy_call_df2 = calculate_IV_for_quotes(spy_call_df2,spy_quote2,'c')\n",
    "spy_call_neat_eu_df2 = spy_call_df2[[\"contractSymbol\",'ask',\"bid\",\"average_price\",\"underlying_price\",\"strike\",\"time_to_maturity\",\"ytd_rate\",\"my_iv\"]]"
   ]
  },
  {
   "cell_type": "code",
   "execution_count": 139,
   "metadata": {
    "collapsed": false
   },
   "outputs": [],
   "source": [
    "spy_call_df3 = calculate_IV_for_quotes(spy_call_df3,spy_quote3,'c')\n",
    "spy_call_neat_eu_df3 = spy_call_df3[[\"contractSymbol\",'ask',\"bid\",\"average_price\",\"underlying_price\",\"strike\",\"time_to_maturity\",\"ytd_rate\",\"my_iv\"]]"
   ]
  },
  {
   "cell_type": "markdown",
   "metadata": {},
   "source": [
    "### Take spy_call_neat_df1 as an example"
   ]
  },
  {
   "cell_type": "code",
   "execution_count": 140,
   "metadata": {
    "collapsed": false
   },
   "outputs": [
    {
     "data": {
      "text/html": [
       "<div>\n",
       "<style scoped>\n",
       "    .dataframe tbody tr th:only-of-type {\n",
       "        vertical-align: middle;\n",
       "    }\n",
       "\n",
       "    .dataframe tbody tr th {\n",
       "        vertical-align: top;\n",
       "    }\n",
       "\n",
       "    .dataframe thead th {\n",
       "        text-align: right;\n",
       "    }\n",
       "</style>\n",
       "<table border=\"1\" class=\"dataframe\">\n",
       "  <thead>\n",
       "    <tr style=\"text-align: right;\">\n",
       "      <th></th>\n",
       "      <th>contractSymbol</th>\n",
       "      <th>ask</th>\n",
       "      <th>bid</th>\n",
       "      <th>average_price</th>\n",
       "      <th>underlying_price</th>\n",
       "      <th>strike</th>\n",
       "      <th>time_to_maturity</th>\n",
       "      <th>ytd_rate</th>\n",
       "      <th>my_iv</th>\n",
       "    </tr>\n",
       "  </thead>\n",
       "  <tbody>\n",
       "    <tr>\n",
       "      <th>0</th>\n",
       "      <td>SPY180706C00230000</td>\n",
       "      <td>41.65</td>\n",
       "      <td>41.39</td>\n",
       "      <td>41.52</td>\n",
       "      <td>270.9</td>\n",
       "      <td>230.0</td>\n",
       "      <td>0.006278</td>\n",
       "      <td>0.0198</td>\n",
       "      <td>1.291108e+00</td>\n",
       "    </tr>\n",
       "    <tr>\n",
       "      <th>1</th>\n",
       "      <td>SPY180706C00240000</td>\n",
       "      <td>32.56</td>\n",
       "      <td>32.24</td>\n",
       "      <td>32.40</td>\n",
       "      <td>270.9</td>\n",
       "      <td>240.0</td>\n",
       "      <td>0.006278</td>\n",
       "      <td>0.0198</td>\n",
       "      <td>1.281707e+00</td>\n",
       "    </tr>\n",
       "    <tr>\n",
       "      <th>2</th>\n",
       "      <td>SPY180706C00245000</td>\n",
       "      <td>25.92</td>\n",
       "      <td>25.36</td>\n",
       "      <td>25.64</td>\n",
       "      <td>270.9</td>\n",
       "      <td>245.0</td>\n",
       "      <td>0.006278</td>\n",
       "      <td>0.0198</td>\n",
       "      <td>1.192093e-07</td>\n",
       "    </tr>\n",
       "    <tr>\n",
       "      <th>3</th>\n",
       "      <td>SPY180706C00250000</td>\n",
       "      <td>20.73</td>\n",
       "      <td>20.43</td>\n",
       "      <td>20.58</td>\n",
       "      <td>270.9</td>\n",
       "      <td>250.0</td>\n",
       "      <td>0.006278</td>\n",
       "      <td>0.0198</td>\n",
       "      <td>1.192093e-07</td>\n",
       "    </tr>\n",
       "    <tr>\n",
       "      <th>4</th>\n",
       "      <td>SPY180706C00252000</td>\n",
       "      <td>18.75</td>\n",
       "      <td>18.43</td>\n",
       "      <td>18.59</td>\n",
       "      <td>270.9</td>\n",
       "      <td>252.0</td>\n",
       "      <td>0.006278</td>\n",
       "      <td>0.0198</td>\n",
       "      <td>1.192093e-07</td>\n",
       "    </tr>\n",
       "  </tbody>\n",
       "</table>\n",
       "</div>"
      ],
      "text/plain": [
       "       contractSymbol    ask    bid  average_price  underlying_price  strike  \\\n",
       "0  SPY180706C00230000  41.65  41.39          41.52             270.9   230.0   \n",
       "1  SPY180706C00240000  32.56  32.24          32.40             270.9   240.0   \n",
       "2  SPY180706C00245000  25.92  25.36          25.64             270.9   245.0   \n",
       "3  SPY180706C00250000  20.73  20.43          20.58             270.9   250.0   \n",
       "4  SPY180706C00252000  18.75  18.43          18.59             270.9   252.0   \n",
       "\n",
       "   time_to_maturity  ytd_rate         my_iv  \n",
       "0          0.006278    0.0198  1.291108e+00  \n",
       "1          0.006278    0.0198  1.281707e+00  \n",
       "2          0.006278    0.0198  1.192093e-07  \n",
       "3          0.006278    0.0198  1.192093e-07  \n",
       "4          0.006278    0.0198  1.192093e-07  "
      ]
     },
     "execution_count": 140,
     "metadata": {},
     "output_type": "execute_result"
    }
   ],
   "source": [
    "spy_call_neat_eu_df1.head()"
   ]
  },
  {
   "cell_type": "code",
   "execution_count": 141,
   "metadata": {
    "collapsed": true
   },
   "outputs": [],
   "source": [
    "import binomial"
   ]
  },
  {
   "cell_type": "code",
   "execution_count": 142,
   "metadata": {
    "collapsed": true
   },
   "outputs": [],
   "source": [
    "def binomial_call(row):\n",
    "    S = row['underlying_price']\n",
    "    T = row['time_to_maturity']\n",
    "    K = row['strike']\n",
    "    r = row['ytd_rate']\n",
    "    sigma = row['my_iv']\n",
    "    \n",
    "    return binomial.call(S=S,K=K,t=T,r=r,sigma=sigma,n=200)\n",
    "\n",
    "def binomial_put(row):\n",
    "    S = row['underlying_price']\n",
    "    T = row['time_to_maturity']\n",
    "    K = row['strike']\n",
    "    r = row['ytd_rate']\n",
    "    sigma = row['my_iv']\n",
    "    \n",
    "    return binomial.put(S=S,K=K,t=T,r=r,sigma=sigma,n=200)\n",
    "\n",
    "def blacksholes_call(row):\n",
    "    S = row['underlying_price']\n",
    "    T = row['time_to_maturity']\n",
    "    K = row['strike']\n",
    "    r = row['ytd_rate']\n",
    "    sigma = row['my_iv']\n",
    "    \n",
    "    return BlackSholesPrice(S=S,K=K,T=T,r=r,sigma=sigma)[0]\n",
    "\n",
    "def blacksholes_put(row):\n",
    "    S = row['underlying_price']\n",
    "    T = row['time_to_maturity']\n",
    "    K = row['strike']\n",
    "    r = row['ytd_rate']\n",
    "    sigma = row['my_iv']\n",
    "    \n",
    "    return BlackSholesPrice(S=S,K=K,T=T,r=r,sigma=sigma)[1]"
   ]
  },
  {
   "cell_type": "code",
   "execution_count": 143,
   "metadata": {
    "collapsed": false
   },
   "outputs": [
    {
     "name": "stderr",
     "output_type": "stream",
     "text": [
      "/Users/xiayuxuan/Codes/Python/CourseProjects/621/HW2/binomial.py:70: RuntimeWarning: overflow encountered in double_scalars\n",
      "  (q * opt_val[i + 1, j] + (1 - q) * opt_val[i + 1, j + 1]) \\\n",
      "/Users/xiayuxuan/Codes/Python/CourseProjects/621/HW2/binomial.py:70: RuntimeWarning: invalid value encountered in double_scalars\n",
      "  (q * opt_val[i + 1, j] + (1 - q) * opt_val[i + 1, j + 1]) \\\n",
      "/Users/xiayuxuan/anaconda/envs/py36/lib/python3.6/site-packages/ipykernel/__main__.py:1: SettingWithCopyWarning: \n",
      "A value is trying to be set on a copy of a slice from a DataFrame.\n",
      "Try using .loc[row_indexer,col_indexer] = value instead\n",
      "\n",
      "See the caveats in the documentation: http://pandas.pydata.org/pandas-docs/stable/indexing.html#indexing-view-versus-copy\n",
      "  if __name__ == '__main__':\n",
      "/Users/xiayuxuan/anaconda/envs/py36/lib/python3.6/site-packages/ipykernel/__main__.py:2: SettingWithCopyWarning: \n",
      "A value is trying to be set on a copy of a slice from a DataFrame.\n",
      "Try using .loc[row_indexer,col_indexer] = value instead\n",
      "\n",
      "See the caveats in the documentation: http://pandas.pydata.org/pandas-docs/stable/indexing.html#indexing-view-versus-copy\n",
      "  from ipykernel import kernelapp as app\n"
     ]
    }
   ],
   "source": [
    "spy_call_neat_eu_df1['my_binomial_price'] = spy_call_neat_df1.apply(lambda x: binomial_call(x),axis=1)\n",
    "spy_call_neat_eu_df1['my_blacksholes_price'] = spy_call_neat_df1.apply(lambda x: blacksholes_call(x),axis=1)"
   ]
  },
  {
   "cell_type": "markdown",
   "metadata": {},
   "source": [
    "### Calculate option price using black-scholes formula and binomial tree method."
   ]
  },
  {
   "cell_type": "code",
   "execution_count": 145,
   "metadata": {
    "collapsed": false
   },
   "outputs": [
    {
     "data": {
      "text/html": [
       "<div>\n",
       "<style scoped>\n",
       "    .dataframe tbody tr th:only-of-type {\n",
       "        vertical-align: middle;\n",
       "    }\n",
       "\n",
       "    .dataframe tbody tr th {\n",
       "        vertical-align: top;\n",
       "    }\n",
       "\n",
       "    .dataframe thead th {\n",
       "        text-align: right;\n",
       "    }\n",
       "</style>\n",
       "<table border=\"1\" class=\"dataframe\">\n",
       "  <thead>\n",
       "    <tr style=\"text-align: right;\">\n",
       "      <th></th>\n",
       "      <th>contractSymbol</th>\n",
       "      <th>ask</th>\n",
       "      <th>bid</th>\n",
       "      <th>average_price</th>\n",
       "      <th>underlying_price</th>\n",
       "      <th>strike</th>\n",
       "      <th>time_to_maturity</th>\n",
       "      <th>ytd_rate</th>\n",
       "      <th>my_iv</th>\n",
       "      <th>my_binomial_price</th>\n",
       "      <th>my_blacksholes_price</th>\n",
       "    </tr>\n",
       "  </thead>\n",
       "  <tbody>\n",
       "    <tr>\n",
       "      <th>48</th>\n",
       "      <td>SPY180706C00282000</td>\n",
       "      <td>0.01</td>\n",
       "      <td>0.00</td>\n",
       "      <td>0.005</td>\n",
       "      <td>270.9</td>\n",
       "      <td>282.0</td>\n",
       "      <td>0.006278</td>\n",
       "      <td>0.0198</td>\n",
       "      <td>1.898497e-01</td>\n",
       "      <td>0.004854</td>\n",
       "      <td>0.005000</td>\n",
       "    </tr>\n",
       "    <tr>\n",
       "      <th>23</th>\n",
       "      <td>SPY180706C00267500</td>\n",
       "      <td>3.58</td>\n",
       "      <td>3.41</td>\n",
       "      <td>3.495</td>\n",
       "      <td>270.9</td>\n",
       "      <td>267.5</td>\n",
       "      <td>0.006278</td>\n",
       "      <td>0.0198</td>\n",
       "      <td>1.053408e-01</td>\n",
       "      <td>3.494993</td>\n",
       "      <td>3.494999</td>\n",
       "    </tr>\n",
       "    <tr>\n",
       "      <th>20</th>\n",
       "      <td>SPY180706C00265000</td>\n",
       "      <td>5.86</td>\n",
       "      <td>5.61</td>\n",
       "      <td>5.735</td>\n",
       "      <td>270.9</td>\n",
       "      <td>265.0</td>\n",
       "      <td>0.006278</td>\n",
       "      <td>0.0198</td>\n",
       "      <td>1.192093e-07</td>\n",
       "      <td>NaN</td>\n",
       "      <td>5.932941</td>\n",
       "    </tr>\n",
       "    <tr>\n",
       "      <th>13</th>\n",
       "      <td>SPY180706C00259000</td>\n",
       "      <td>11.94</td>\n",
       "      <td>11.38</td>\n",
       "      <td>11.660</td>\n",
       "      <td>270.9</td>\n",
       "      <td>259.0</td>\n",
       "      <td>0.006278</td>\n",
       "      <td>0.0198</td>\n",
       "      <td>1.192093e-07</td>\n",
       "      <td>NaN</td>\n",
       "      <td>11.932195</td>\n",
       "    </tr>\n",
       "    <tr>\n",
       "      <th>56</th>\n",
       "      <td>SPY180706C00288000</td>\n",
       "      <td>0.01</td>\n",
       "      <td>0.01</td>\n",
       "      <td>0.010</td>\n",
       "      <td>270.9</td>\n",
       "      <td>288.0</td>\n",
       "      <td>0.006278</td>\n",
       "      <td>0.0198</td>\n",
       "      <td>2.978061e-01</td>\n",
       "      <td>0.009824</td>\n",
       "      <td>0.010000</td>\n",
       "    </tr>\n",
       "    <tr>\n",
       "      <th>25</th>\n",
       "      <td>SPY180706C00269000</td>\n",
       "      <td>2.38</td>\n",
       "      <td>2.31</td>\n",
       "      <td>2.345</td>\n",
       "      <td>270.9</td>\n",
       "      <td>269.0</td>\n",
       "      <td>0.006278</td>\n",
       "      <td>0.0198</td>\n",
       "      <td>1.316594e-01</td>\n",
       "      <td>2.345325</td>\n",
       "      <td>2.345001</td>\n",
       "    </tr>\n",
       "    <tr>\n",
       "      <th>65</th>\n",
       "      <td>SPY180706C00305000</td>\n",
       "      <td>0.01</td>\n",
       "      <td>0.00</td>\n",
       "      <td>0.005</td>\n",
       "      <td>270.9</td>\n",
       "      <td>305.0</td>\n",
       "      <td>0.006278</td>\n",
       "      <td>0.0198</td>\n",
       "      <td>5.044671e-01</td>\n",
       "      <td>0.004739</td>\n",
       "      <td>0.005000</td>\n",
       "    </tr>\n",
       "    <tr>\n",
       "      <th>10</th>\n",
       "      <td>SPY180706C00257000</td>\n",
       "      <td>14.44</td>\n",
       "      <td>14.26</td>\n",
       "      <td>14.350</td>\n",
       "      <td>270.9</td>\n",
       "      <td>257.0</td>\n",
       "      <td>0.006278</td>\n",
       "      <td>0.0198</td>\n",
       "      <td>4.924122e-01</td>\n",
       "      <td>14.350801</td>\n",
       "      <td>14.350000</td>\n",
       "    </tr>\n",
       "    <tr>\n",
       "      <th>24</th>\n",
       "      <td>SPY180706C00268000</td>\n",
       "      <td>3.16</td>\n",
       "      <td>3.08</td>\n",
       "      <td>3.120</td>\n",
       "      <td>270.9</td>\n",
       "      <td>268.0</td>\n",
       "      <td>0.006278</td>\n",
       "      <td>0.0198</td>\n",
       "      <td>1.257020e-01</td>\n",
       "      <td>3.120360</td>\n",
       "      <td>3.120001</td>\n",
       "    </tr>\n",
       "    <tr>\n",
       "      <th>3</th>\n",
       "      <td>SPY180706C00250000</td>\n",
       "      <td>20.73</td>\n",
       "      <td>20.43</td>\n",
       "      <td>20.580</td>\n",
       "      <td>270.9</td>\n",
       "      <td>250.0</td>\n",
       "      <td>0.006278</td>\n",
       "      <td>0.0198</td>\n",
       "      <td>1.192093e-07</td>\n",
       "      <td>NaN</td>\n",
       "      <td>20.931077</td>\n",
       "    </tr>\n",
       "  </tbody>\n",
       "</table>\n",
       "</div>"
      ],
      "text/plain": [
       "        contractSymbol    ask    bid  average_price  underlying_price  strike  \\\n",
       "48  SPY180706C00282000   0.01   0.00          0.005             270.9   282.0   \n",
       "23  SPY180706C00267500   3.58   3.41          3.495             270.9   267.5   \n",
       "20  SPY180706C00265000   5.86   5.61          5.735             270.9   265.0   \n",
       "13  SPY180706C00259000  11.94  11.38         11.660             270.9   259.0   \n",
       "56  SPY180706C00288000   0.01   0.01          0.010             270.9   288.0   \n",
       "25  SPY180706C00269000   2.38   2.31          2.345             270.9   269.0   \n",
       "65  SPY180706C00305000   0.01   0.00          0.005             270.9   305.0   \n",
       "10  SPY180706C00257000  14.44  14.26         14.350             270.9   257.0   \n",
       "24  SPY180706C00268000   3.16   3.08          3.120             270.9   268.0   \n",
       "3   SPY180706C00250000  20.73  20.43         20.580             270.9   250.0   \n",
       "\n",
       "    time_to_maturity  ytd_rate         my_iv  my_binomial_price  \\\n",
       "48          0.006278    0.0198  1.898497e-01           0.004854   \n",
       "23          0.006278    0.0198  1.053408e-01           3.494993   \n",
       "20          0.006278    0.0198  1.192093e-07                NaN   \n",
       "13          0.006278    0.0198  1.192093e-07                NaN   \n",
       "56          0.006278    0.0198  2.978061e-01           0.009824   \n",
       "25          0.006278    0.0198  1.316594e-01           2.345325   \n",
       "65          0.006278    0.0198  5.044671e-01           0.004739   \n",
       "10          0.006278    0.0198  4.924122e-01          14.350801   \n",
       "24          0.006278    0.0198  1.257020e-01           3.120360   \n",
       "3           0.006278    0.0198  1.192093e-07                NaN   \n",
       "\n",
       "    my_blacksholes_price  \n",
       "48              0.005000  \n",
       "23              3.494999  \n",
       "20              5.932941  \n",
       "13             11.932195  \n",
       "56              0.010000  \n",
       "25              2.345001  \n",
       "65              0.005000  \n",
       "10             14.350000  \n",
       "24              3.120001  \n",
       "3              20.931077  "
      ]
     },
     "execution_count": 145,
     "metadata": {},
     "output_type": "execute_result"
    }
   ],
   "source": [
    "spy_call_neat_eu_df1.sample(10) # Randomly select 20 samples to compare results"
   ]
  },
  {
   "cell_type": "markdown",
   "metadata": {},
   "source": [
    "### Conclusion: Binomial tree method works well when implied volatility is not too small (bad liquidity condition)."
   ]
  },
  {
   "cell_type": "markdown",
   "metadata": {},
   "source": [
    "## 3 Compute and plot the absolute error"
   ]
  },
  {
   "cell_type": "code",
   "execution_count": 72,
   "metadata": {
    "collapsed": true
   },
   "outputs": [],
   "source": [
    "# At the money option\n",
    "S = 100\n",
    "K_list = [60, 100, 130] # ITM, ATM, OTM\n",
    "T = 1\n",
    "r = 0.05\n",
    "sigma = 0.4"
   ]
  },
  {
   "cell_type": "code",
   "execution_count": 69,
   "metadata": {
    "collapsed": true
   },
   "outputs": [],
   "source": [
    "N_list = [50*i for i in range(1,9)]"
   ]
  },
  {
   "cell_type": "code",
   "execution_count": 100,
   "metadata": {
    "collapsed": false
   },
   "outputs": [
    {
     "data": {
      "image/png": "[encoded data removed]",
      "text/plain": [
       "<matplotlib.figure.Figure at 0x11b838978>"
      ]
     },
     "metadata": {},
     "output_type": "display_data"
    }
   ],
   "source": [
    "import matplotlib.pyplot as plt\n",
    "import numpy as np\n",
    "\n",
    "\n",
    "plt.figure(figsize=(15,8))\n",
    "title_list = [\"ITM\",\"ATM\",\"OTM\"]\n",
    "ax = plt.subplot()\n",
    "for i,K in enumerate(K_list):\n",
    "    pricer = OptionPricer(S,K,T,r,sigma)\n",
    "    err_list = []\n",
    "    for j,N in enumerate(N_list):\n",
    "        bs_price = pricer.BlackScholesPricer(option_type='c')\n",
    "        binomial_price = pricer.BinomialTreePricer(option_type='c',n=N)\n",
    "        err_list.append(np.abs(bs_price - binomial_price))\n",
    "    \n",
    "    \n",
    "#     ax = plt.subplot(3,1,i+1)\n",
    "    ax.plot(N_list,err_list,label=title_list[i])\n",
    "    plt.xlabel('N steps')\n",
    "    plt.ylabel('absolute error')\n",
    "#     plt.title(title_list[i])\n",
    "    plt.ylim(0,0.08)\n",
    "    plt.legend()\n",
    "        \n",
    "        \n",
    "\n",
    "# plt.tight_layout()        \n",
    "plt.show()\n",
    "        \n",
    "        "
   ]
  },
  {
   "cell_type": "markdown",
   "metadata": {},
   "source": [
    "### Conclusion: The absolute error tend to decrease as the number of steps goes up. The tendency is significant when option is at the money."
   ]
  },
  {
   "cell_type": "markdown",
   "metadata": {},
   "source": [
    "## 4 Implement an additive binomial tree to calculate the American option, both Call and Put. Repeat the steps in part 2) and calculate the respective option prices as if they are American.\n",
    "\n",
    "\n",
    "Here, we used implied volatility from the raw data fetched from Yahoo finance, as it is supposed to be the american options' implied volatility. Not the toy European ones we calculated in problem 2. So, actually in problem 2, the column \"my_iv\" is not implied by market price, but obtained by assumming the American option prices as European ones."
   ]
  },
  {
   "cell_type": "code",
   "execution_count": 102,
   "metadata": {
    "collapsed": false
   },
   "outputs": [
    {
     "data": {
      "text/html": [
       "<div>\n",
       "<style scoped>\n",
       "    .dataframe tbody tr th:only-of-type {\n",
       "        vertical-align: middle;\n",
       "    }\n",
       "\n",
       "    .dataframe tbody tr th {\n",
       "        vertical-align: top;\n",
       "    }\n",
       "\n",
       "    .dataframe thead th {\n",
       "        text-align: right;\n",
       "    }\n",
       "</style>\n",
       "<table border=\"1\" class=\"dataframe\">\n",
       "  <thead>\n",
       "    <tr style=\"text-align: right;\">\n",
       "      <th></th>\n",
       "      <th>ask</th>\n",
       "      <th>bid</th>\n",
       "      <th>change</th>\n",
       "      <th>contractSize</th>\n",
       "      <th>contractSymbol</th>\n",
       "      <th>currency</th>\n",
       "      <th>expiration</th>\n",
       "      <th>impliedVolatility</th>\n",
       "      <th>inTheMoney</th>\n",
       "      <th>lastPrice</th>\n",
       "      <th>...</th>\n",
       "      <th>percentChange</th>\n",
       "      <th>strike</th>\n",
       "      <th>volume</th>\n",
       "      <th>my_iv</th>\n",
       "      <th>time_to_maturity</th>\n",
       "      <th>days_count</th>\n",
       "      <th>average_price</th>\n",
       "      <th>underlying_price</th>\n",
       "      <th>three_months_rate</th>\n",
       "      <th>ytd_rate</th>\n",
       "    </tr>\n",
       "  </thead>\n",
       "  <tbody>\n",
       "    <tr>\n",
       "      <th>0</th>\n",
       "      <td>41.65</td>\n",
       "      <td>41.39</td>\n",
       "      <td>0.000000</td>\n",
       "      <td>REGULAR</td>\n",
       "      <td>SPY180706C00230000</td>\n",
       "      <td>USD</td>\n",
       "      <td>1530835200</td>\n",
       "      <td>1.394534</td>\n",
       "      <td>True</td>\n",
       "      <td>43.00</td>\n",
       "      <td>...</td>\n",
       "      <td>0.000000</td>\n",
       "      <td>230.0</td>\n",
       "      <td>2</td>\n",
       "      <td>1.291108e+00</td>\n",
       "      <td>0.006278</td>\n",
       "      <td>2.291644</td>\n",
       "      <td>41.52</td>\n",
       "      <td>270.9</td>\n",
       "      <td>0.0198</td>\n",
       "      <td>0.0198</td>\n",
       "    </tr>\n",
       "    <tr>\n",
       "      <th>1</th>\n",
       "      <td>32.56</td>\n",
       "      <td>32.24</td>\n",
       "      <td>0.000000</td>\n",
       "      <td>REGULAR</td>\n",
       "      <td>SPY180706C00240000</td>\n",
       "      <td>USD</td>\n",
       "      <td>1530835200</td>\n",
       "      <td>1.378909</td>\n",
       "      <td>True</td>\n",
       "      <td>33.39</td>\n",
       "      <td>...</td>\n",
       "      <td>0.000000</td>\n",
       "      <td>240.0</td>\n",
       "      <td>2</td>\n",
       "      <td>1.281707e+00</td>\n",
       "      <td>0.006278</td>\n",
       "      <td>2.291644</td>\n",
       "      <td>32.40</td>\n",
       "      <td>270.9</td>\n",
       "      <td>0.0198</td>\n",
       "      <td>0.0198</td>\n",
       "    </tr>\n",
       "    <tr>\n",
       "      <th>2</th>\n",
       "      <td>25.92</td>\n",
       "      <td>25.36</td>\n",
       "      <td>0.959999</td>\n",
       "      <td>REGULAR</td>\n",
       "      <td>SPY180706C00245000</td>\n",
       "      <td>USD</td>\n",
       "      <td>1530835200</td>\n",
       "      <td>0.539067</td>\n",
       "      <td>True</td>\n",
       "      <td>27.00</td>\n",
       "      <td>...</td>\n",
       "      <td>3.686632</td>\n",
       "      <td>245.0</td>\n",
       "      <td>5</td>\n",
       "      <td>1.192093e-07</td>\n",
       "      <td>0.006278</td>\n",
       "      <td>2.291644</td>\n",
       "      <td>25.64</td>\n",
       "      <td>270.9</td>\n",
       "      <td>0.0198</td>\n",
       "      <td>0.0198</td>\n",
       "    </tr>\n",
       "    <tr>\n",
       "      <th>3</th>\n",
       "      <td>20.73</td>\n",
       "      <td>20.43</td>\n",
       "      <td>-2.449999</td>\n",
       "      <td>REGULAR</td>\n",
       "      <td>SPY180706C00250000</td>\n",
       "      <td>USD</td>\n",
       "      <td>1530835200</td>\n",
       "      <td>0.000010</td>\n",
       "      <td>True</td>\n",
       "      <td>20.60</td>\n",
       "      <td>...</td>\n",
       "      <td>-10.629063</td>\n",
       "      <td>250.0</td>\n",
       "      <td>95</td>\n",
       "      <td>1.192093e-07</td>\n",
       "      <td>0.006278</td>\n",
       "      <td>2.291644</td>\n",
       "      <td>20.58</td>\n",
       "      <td>270.9</td>\n",
       "      <td>0.0198</td>\n",
       "      <td>0.0198</td>\n",
       "    </tr>\n",
       "    <tr>\n",
       "      <th>4</th>\n",
       "      <td>18.75</td>\n",
       "      <td>18.43</td>\n",
       "      <td>0.000000</td>\n",
       "      <td>REGULAR</td>\n",
       "      <td>SPY180706C00252000</td>\n",
       "      <td>USD</td>\n",
       "      <td>1530835200</td>\n",
       "      <td>0.000010</td>\n",
       "      <td>True</td>\n",
       "      <td>18.34</td>\n",
       "      <td>...</td>\n",
       "      <td>0.000000</td>\n",
       "      <td>252.0</td>\n",
       "      <td>11</td>\n",
       "      <td>1.192093e-07</td>\n",
       "      <td>0.006278</td>\n",
       "      <td>2.291644</td>\n",
       "      <td>18.59</td>\n",
       "      <td>270.9</td>\n",
       "      <td>0.0198</td>\n",
       "      <td>0.0198</td>\n",
       "    </tr>\n",
       "  </tbody>\n",
       "</table>\n",
       "<p>5 rows × 22 columns</p>\n",
       "</div>"
      ],
      "text/plain": [
       "     ask    bid    change contractSize      contractSymbol currency  \\\n",
       "0  41.65  41.39  0.000000      REGULAR  SPY180706C00230000      USD   \n",
       "1  32.56  32.24  0.000000      REGULAR  SPY180706C00240000      USD   \n",
       "2  25.92  25.36  0.959999      REGULAR  SPY180706C00245000      USD   \n",
       "3  20.73  20.43 -2.449999      REGULAR  SPY180706C00250000      USD   \n",
       "4  18.75  18.43  0.000000      REGULAR  SPY180706C00252000      USD   \n",
       "\n",
       "   expiration  impliedVolatility  inTheMoney  lastPrice    ...     \\\n",
       "0  1530835200           1.394534        True      43.00    ...      \n",
       "1  1530835200           1.378909        True      33.39    ...      \n",
       "2  1530835200           0.539067        True      27.00    ...      \n",
       "3  1530835200           0.000010        True      20.60    ...      \n",
       "4  1530835200           0.000010        True      18.34    ...      \n",
       "\n",
       "   percentChange  strike  volume         my_iv  time_to_maturity  days_count  \\\n",
       "0       0.000000   230.0       2  1.291108e+00          0.006278    2.291644   \n",
       "1       0.000000   240.0       2  1.281707e+00          0.006278    2.291644   \n",
       "2       3.686632   245.0       5  1.192093e-07          0.006278    2.291644   \n",
       "3     -10.629063   250.0      95  1.192093e-07          0.006278    2.291644   \n",
       "4       0.000000   252.0      11  1.192093e-07          0.006278    2.291644   \n",
       "\n",
       "   average_price  underlying_price  three_months_rate  ytd_rate  \n",
       "0          41.52             270.9             0.0198    0.0198  \n",
       "1          32.40             270.9             0.0198    0.0198  \n",
       "2          25.64             270.9             0.0198    0.0198  \n",
       "3          20.58             270.9             0.0198    0.0198  \n",
       "4          18.59             270.9             0.0198    0.0198  \n",
       "\n",
       "[5 rows x 22 columns]"
      ]
     },
     "execution_count": 102,
     "metadata": {},
     "output_type": "execute_result"
    }
   ],
   "source": [
    "spy_call_df1.head()"
   ]
  },
  {
   "cell_type": "code",
   "execution_count": 120,
   "metadata": {
    "collapsed": false
   },
   "outputs": [],
   "source": [
    "def binomial_am_call(row):\n",
    "    S = row['underlying_price']\n",
    "    T = row['time_to_maturity']\n",
    "    K = row['strike']\n",
    "    r = row['ytd_rate']\n",
    "    sigma = row['impliedVolatility']\n",
    "    if(sigma<1e-4):\n",
    "        return float(\"nan\")\n",
    "    return binomial.call(S=S,K=K,t=T,r=r,sigma=sigma,am=True,n=200)\n",
    "\n",
    "def binomial_am_put(row):\n",
    "    S = row['underlying_price']\n",
    "    T = row['time_to_maturity']\n",
    "    K = row['strike']\n",
    "    r = row['ytd_rate']\n",
    "    sigma = row['impliedVolatility']\n",
    "    if(sigma<1e-4):\n",
    "        return float(\"nan\")\n",
    "    return binomial.put(S=S,K=K,t=T,r=r,sigma=sigma,am=True,n=200)"
   ]
  },
  {
   "cell_type": "code",
   "execution_count": 117,
   "metadata": {
    "collapsed": false
   },
   "outputs": [],
   "source": [
    "spy_call_df3 = calculate_IV_for_quotes(spy_call_df3,spy_quote3,'c')\n",
    "spy_call_neat_df3 = spy_call_df3[[\"contractSymbol\",'ask',\"bid\",\"average_price\",\"underlying_price\",\"strike\",\"time_to_maturity\",\"ytd_rate\",\"my_iv\"]]"
   ]
  },
  {
   "cell_type": "code",
   "execution_count": 118,
   "metadata": {
    "collapsed": false
   },
   "outputs": [],
   "source": [
    "spy_put_df3 = calculate_IV_for_quotes(spy_put_df3,spy_quote3,'p')\n",
    "spy_put_neat_df3 = spy_put_df3[[\"contractSymbol\",'ask',\"bid\",\"average_price\",\"underlying_price\",\"strike\",\"time_to_maturity\",\"ytd_rate\",\"my_iv\"]]"
   ]
  },
  {
   "cell_type": "code",
   "execution_count": 119,
   "metadata": {
    "collapsed": false
   },
   "outputs": [],
   "source": [
    "\n",
    "\n",
    "spy_call_am_neat_df3 = spy_call_df3[[\"contractSymbol\",'ask',\"bid\",\"average_price\",\\\n",
    "                                     \"underlying_price\",\"strike\",\"time_to_maturity\",\\\n",
    "                                     \"ytd_rate\",\"impliedVolatility\"]]\n",
    "spy_put_am_neat_df3 = spy_put_df3[[\"contractSymbol\",'ask',\"bid\",\"average_price\",\\\n",
    "                                     \"underlying_price\",\"strike\",\"time_to_maturity\",\\\n",
    "                                     \"ytd_rate\",\"impliedVolatility\"]]"
   ]
  },
  {
   "cell_type": "code",
   "execution_count": 122,
   "metadata": {
    "collapsed": false
   },
   "outputs": [
    {
     "name": "stderr",
     "output_type": "stream",
     "text": [
      "/Users/xiayuxuan/anaconda/envs/py36/lib/python3.6/site-packages/ipykernel/__main__.py:1: SettingWithCopyWarning: \n",
      "A value is trying to be set on a copy of a slice from a DataFrame.\n",
      "Try using .loc[row_indexer,col_indexer] = value instead\n",
      "\n",
      "See the caveats in the documentation: http://pandas.pydata.org/pandas-docs/stable/indexing.html#indexing-view-versus-copy\n",
      "  if __name__ == '__main__':\n",
      "/Users/xiayuxuan/anaconda/envs/py36/lib/python3.6/site-packages/ipykernel/__main__.py:2: SettingWithCopyWarning: \n",
      "A value is trying to be set on a copy of a slice from a DataFrame.\n",
      "Try using .loc[row_indexer,col_indexer] = value instead\n",
      "\n",
      "See the caveats in the documentation: http://pandas.pydata.org/pandas-docs/stable/indexing.html#indexing-view-versus-copy\n",
      "  from ipykernel import kernelapp as app\n"
     ]
    }
   ],
   "source": [
    "spy_call_am_neat_df3[\"my_am_price\"] = spy_call_am_neat_df3.apply(lambda x: binomial_am_call(x),axis=1)\n",
    "spy_put_am_neat_df3[\"my_am_price\"] = spy_put_am_neat_df3.apply(lambda x: binomial_am_put(x),axis=1)\n"
   ]
  },
  {
   "cell_type": "code",
   "execution_count": 123,
   "metadata": {
    "collapsed": false
   },
   "outputs": [],
   "source": [
    "spy_call_am_neat_df3 = spy_call_am_neat_df3.dropna(axis=0) # drop the abnormal values\n",
    "spy_put_am_neat_df3 = spy_put_am_neat_df3.dropna(axis=0) # drop the abnormal values"
   ]
  },
  {
   "cell_type": "code",
   "execution_count": 126,
   "metadata": {
    "collapsed": false
   },
   "outputs": [
    {
     "data": {
      "text/html": [
       "<div>\n",
       "<style scoped>\n",
       "    .dataframe tbody tr th:only-of-type {\n",
       "        vertical-align: middle;\n",
       "    }\n",
       "\n",
       "    .dataframe tbody tr th {\n",
       "        vertical-align: top;\n",
       "    }\n",
       "\n",
       "    .dataframe thead th {\n",
       "        text-align: right;\n",
       "    }\n",
       "</style>\n",
       "<table border=\"1\" class=\"dataframe\">\n",
       "  <thead>\n",
       "    <tr style=\"text-align: right;\">\n",
       "      <th></th>\n",
       "      <th>contractSymbol</th>\n",
       "      <th>ask</th>\n",
       "      <th>bid</th>\n",
       "      <th>average_price</th>\n",
       "      <th>underlying_price</th>\n",
       "      <th>strike</th>\n",
       "      <th>time_to_maturity</th>\n",
       "      <th>ytd_rate</th>\n",
       "      <th>impliedVolatility</th>\n",
       "      <th>my_am_price</th>\n",
       "    </tr>\n",
       "  </thead>\n",
       "  <tbody>\n",
       "    <tr>\n",
       "      <th>35</th>\n",
       "      <td>SPY180706C00274500</td>\n",
       "      <td>0.10</td>\n",
       "      <td>0.09</td>\n",
       "      <td>0.095</td>\n",
       "      <td>270.9</td>\n",
       "      <td>274.5</td>\n",
       "      <td>0.006278</td>\n",
       "      <td>0.0198</td>\n",
       "      <td>0.129403</td>\n",
       "      <td>0.133570</td>\n",
       "    </tr>\n",
       "    <tr>\n",
       "      <th>58</th>\n",
       "      <td>SPY180706C00290000</td>\n",
       "      <td>0.02</td>\n",
       "      <td>0.01</td>\n",
       "      <td>0.015</td>\n",
       "      <td>270.9</td>\n",
       "      <td>290.0</td>\n",
       "      <td>0.006278</td>\n",
       "      <td>0.0198</td>\n",
       "      <td>0.378912</td>\n",
       "      <td>0.033331</td>\n",
       "    </tr>\n",
       "    <tr>\n",
       "      <th>42</th>\n",
       "      <td>SPY180706C00278000</td>\n",
       "      <td>0.01</td>\n",
       "      <td>0.00</td>\n",
       "      <td>0.005</td>\n",
       "      <td>270.9</td>\n",
       "      <td>278.0</td>\n",
       "      <td>0.006278</td>\n",
       "      <td>0.0198</td>\n",
       "      <td>0.148446</td>\n",
       "      <td>0.016184</td>\n",
       "    </tr>\n",
       "    <tr>\n",
       "      <th>48</th>\n",
       "      <td>SPY180706C00282000</td>\n",
       "      <td>0.01</td>\n",
       "      <td>0.00</td>\n",
       "      <td>0.005</td>\n",
       "      <td>270.9</td>\n",
       "      <td>282.0</td>\n",
       "      <td>0.006278</td>\n",
       "      <td>0.0198</td>\n",
       "      <td>0.218758</td>\n",
       "      <td>0.016896</td>\n",
       "    </tr>\n",
       "    <tr>\n",
       "      <th>53</th>\n",
       "      <td>SPY180706C00286000</td>\n",
       "      <td>0.01</td>\n",
       "      <td>0.00</td>\n",
       "      <td>0.005</td>\n",
       "      <td>270.9</td>\n",
       "      <td>286.0</td>\n",
       "      <td>0.006278</td>\n",
       "      <td>0.0198</td>\n",
       "      <td>0.289070</td>\n",
       "      <td>0.019144</td>\n",
       "    </tr>\n",
       "    <tr>\n",
       "      <th>6</th>\n",
       "      <td>SPY180706C00253000</td>\n",
       "      <td>21.10</td>\n",
       "      <td>20.91</td>\n",
       "      <td>21.005</td>\n",
       "      <td>270.9</td>\n",
       "      <td>253.0</td>\n",
       "      <td>0.006278</td>\n",
       "      <td>0.0198</td>\n",
       "      <td>1.227299</td>\n",
       "      <td>21.531186</td>\n",
       "    </tr>\n",
       "    <tr>\n",
       "      <th>49</th>\n",
       "      <td>SPY180706C00282500</td>\n",
       "      <td>0.01</td>\n",
       "      <td>0.00</td>\n",
       "      <td>0.005</td>\n",
       "      <td>270.9</td>\n",
       "      <td>282.5</td>\n",
       "      <td>0.006278</td>\n",
       "      <td>0.0198</td>\n",
       "      <td>0.226570</td>\n",
       "      <td>0.016580</td>\n",
       "    </tr>\n",
       "    <tr>\n",
       "      <th>63</th>\n",
       "      <td>SPY180706C00300000</td>\n",
       "      <td>0.01</td>\n",
       "      <td>0.00</td>\n",
       "      <td>0.005</td>\n",
       "      <td>270.9</td>\n",
       "      <td>300.0</td>\n",
       "      <td>0.006278</td>\n",
       "      <td>0.0198</td>\n",
       "      <td>0.500005</td>\n",
       "      <td>0.017645</td>\n",
       "    </tr>\n",
       "    <tr>\n",
       "      <th>27</th>\n",
       "      <td>SPY180706C00270500</td>\n",
       "      <td>1.39</td>\n",
       "      <td>1.34</td>\n",
       "      <td>1.365</td>\n",
       "      <td>270.9</td>\n",
       "      <td>270.5</td>\n",
       "      <td>0.006278</td>\n",
       "      <td>0.0198</td>\n",
       "      <td>0.147469</td>\n",
       "      <td>1.490093</td>\n",
       "    </tr>\n",
       "    <tr>\n",
       "      <th>10</th>\n",
       "      <td>SPY180706C00257000</td>\n",
       "      <td>14.44</td>\n",
       "      <td>14.26</td>\n",
       "      <td>14.350</td>\n",
       "      <td>270.9</td>\n",
       "      <td>257.0</td>\n",
       "      <td>0.006278</td>\n",
       "      <td>0.0198</td>\n",
       "      <td>0.536137</td>\n",
       "      <td>14.507299</td>\n",
       "    </tr>\n",
       "  </tbody>\n",
       "</table>\n",
       "</div>"
      ],
      "text/plain": [
       "        contractSymbol    ask    bid  average_price  underlying_price  strike  \\\n",
       "35  SPY180706C00274500   0.10   0.09          0.095             270.9   274.5   \n",
       "58  SPY180706C00290000   0.02   0.01          0.015             270.9   290.0   \n",
       "42  SPY180706C00278000   0.01   0.00          0.005             270.9   278.0   \n",
       "48  SPY180706C00282000   0.01   0.00          0.005             270.9   282.0   \n",
       "53  SPY180706C00286000   0.01   0.00          0.005             270.9   286.0   \n",
       "6   SPY180706C00253000  21.10  20.91         21.005             270.9   253.0   \n",
       "49  SPY180706C00282500   0.01   0.00          0.005             270.9   282.5   \n",
       "63  SPY180706C00300000   0.01   0.00          0.005             270.9   300.0   \n",
       "27  SPY180706C00270500   1.39   1.34          1.365             270.9   270.5   \n",
       "10  SPY180706C00257000  14.44  14.26         14.350             270.9   257.0   \n",
       "\n",
       "    time_to_maturity  ytd_rate  impliedVolatility  my_am_price  \n",
       "35          0.006278    0.0198           0.129403     0.133570  \n",
       "58          0.006278    0.0198           0.378912     0.033331  \n",
       "42          0.006278    0.0198           0.148446     0.016184  \n",
       "48          0.006278    0.0198           0.218758     0.016896  \n",
       "53          0.006278    0.0198           0.289070     0.019144  \n",
       "6           0.006278    0.0198           1.227299    21.531186  \n",
       "49          0.006278    0.0198           0.226570     0.016580  \n",
       "63          0.006278    0.0198           0.500005     0.017645  \n",
       "27          0.006278    0.0198           0.147469     1.490093  \n",
       "10          0.006278    0.0198           0.536137    14.507299  "
      ]
     },
     "execution_count": 126,
     "metadata": {},
     "output_type": "execute_result"
    }
   ],
   "source": [
    "spy_call_am_neat_df3.sample(10) # randomly select 10 samples"
   ]
  },
  {
   "cell_type": "code",
   "execution_count": 127,
   "metadata": {
    "collapsed": false
   },
   "outputs": [
    {
     "data": {
      "text/html": [
       "<div>\n",
       "<style scoped>\n",
       "    .dataframe tbody tr th:only-of-type {\n",
       "        vertical-align: middle;\n",
       "    }\n",
       "\n",
       "    .dataframe tbody tr th {\n",
       "        vertical-align: top;\n",
       "    }\n",
       "\n",
       "    .dataframe thead th {\n",
       "        text-align: right;\n",
       "    }\n",
       "</style>\n",
       "<table border=\"1\" class=\"dataframe\">\n",
       "  <thead>\n",
       "    <tr style=\"text-align: right;\">\n",
       "      <th></th>\n",
       "      <th>contractSymbol</th>\n",
       "      <th>ask</th>\n",
       "      <th>bid</th>\n",
       "      <th>average_price</th>\n",
       "      <th>underlying_price</th>\n",
       "      <th>strike</th>\n",
       "      <th>time_to_maturity</th>\n",
       "      <th>ytd_rate</th>\n",
       "      <th>impliedVolatility</th>\n",
       "      <th>my_am_price</th>\n",
       "    </tr>\n",
       "  </thead>\n",
       "  <tbody>\n",
       "    <tr>\n",
       "      <th>61</th>\n",
       "      <td>SPY180706P00285000</td>\n",
       "      <td>14.67</td>\n",
       "      <td>14.32</td>\n",
       "      <td>14.495</td>\n",
       "      <td>270.9</td>\n",
       "      <td>285.0</td>\n",
       "      <td>0.006278</td>\n",
       "      <td>0.0198</td>\n",
       "      <td>0.548344</td>\n",
       "      <td>14.798868</td>\n",
       "    </tr>\n",
       "    <tr>\n",
       "      <th>34</th>\n",
       "      <td>SPY180706P00269000</td>\n",
       "      <td>0.79</td>\n",
       "      <td>0.76</td>\n",
       "      <td>0.775</td>\n",
       "      <td>270.9</td>\n",
       "      <td>269.0</td>\n",
       "      <td>0.006278</td>\n",
       "      <td>0.0198</td>\n",
       "      <td>0.195565</td>\n",
       "      <td>0.878327</td>\n",
       "    </tr>\n",
       "    <tr>\n",
       "      <th>35</th>\n",
       "      <td>SPY180706P00270000</td>\n",
       "      <td>1.10</td>\n",
       "      <td>1.07</td>\n",
       "      <td>1.085</td>\n",
       "      <td>270.9</td>\n",
       "      <td>270.0</td>\n",
       "      <td>0.006278</td>\n",
       "      <td>0.0198</td>\n",
       "      <td>0.188729</td>\n",
       "      <td>1.192342</td>\n",
       "    </tr>\n",
       "    <tr>\n",
       "      <th>44</th>\n",
       "      <td>SPY180706P00274500</td>\n",
       "      <td>4.18</td>\n",
       "      <td>3.89</td>\n",
       "      <td>4.035</td>\n",
       "      <td>270.9</td>\n",
       "      <td>274.5</td>\n",
       "      <td>0.006278</td>\n",
       "      <td>0.0198</td>\n",
       "      <td>0.229500</td>\n",
       "      <td>4.255673</td>\n",
       "    </tr>\n",
       "    <tr>\n",
       "      <th>62</th>\n",
       "      <td>SPY180706P00286000</td>\n",
       "      <td>15.67</td>\n",
       "      <td>15.32</td>\n",
       "      <td>15.495</td>\n",
       "      <td>270.9</td>\n",
       "      <td>286.0</td>\n",
       "      <td>0.006278</td>\n",
       "      <td>0.0198</td>\n",
       "      <td>0.523442</td>\n",
       "      <td>15.592315</td>\n",
       "    </tr>\n",
       "    <tr>\n",
       "      <th>31</th>\n",
       "      <td>SPY180706P00267000</td>\n",
       "      <td>0.38</td>\n",
       "      <td>0.35</td>\n",
       "      <td>0.365</td>\n",
       "      <td>270.9</td>\n",
       "      <td>267.0</td>\n",
       "      <td>0.006278</td>\n",
       "      <td>0.0198</td>\n",
       "      <td>0.207039</td>\n",
       "      <td>0.450619</td>\n",
       "    </tr>\n",
       "    <tr>\n",
       "      <th>59</th>\n",
       "      <td>SPY180706P00283000</td>\n",
       "      <td>12.24</td>\n",
       "      <td>12.04</td>\n",
       "      <td>12.140</td>\n",
       "      <td>270.9</td>\n",
       "      <td>283.0</td>\n",
       "      <td>0.006278</td>\n",
       "      <td>0.0198</td>\n",
       "      <td>0.352546</td>\n",
       "      <td>12.271653</td>\n",
       "    </tr>\n",
       "    <tr>\n",
       "      <th>18</th>\n",
       "      <td>SPY180706P00256000</td>\n",
       "      <td>0.02</td>\n",
       "      <td>0.01</td>\n",
       "      <td>0.015</td>\n",
       "      <td>270.9</td>\n",
       "      <td>256.0</td>\n",
       "      <td>0.006278</td>\n",
       "      <td>0.0198</td>\n",
       "      <td>0.324226</td>\n",
       "      <td>0.032240</td>\n",
       "    </tr>\n",
       "    <tr>\n",
       "      <th>56</th>\n",
       "      <td>SPY180706P00281000</td>\n",
       "      <td>10.70</td>\n",
       "      <td>10.15</td>\n",
       "      <td>10.425</td>\n",
       "      <td>270.9</td>\n",
       "      <td>281.0</td>\n",
       "      <td>0.006278</td>\n",
       "      <td>0.0198</td>\n",
       "      <td>0.442877</td>\n",
       "      <td>10.820069</td>\n",
       "    </tr>\n",
       "    <tr>\n",
       "      <th>5</th>\n",
       "      <td>SPY180706P00240000</td>\n",
       "      <td>0.01</td>\n",
       "      <td>0.00</td>\n",
       "      <td>0.005</td>\n",
       "      <td>270.9</td>\n",
       "      <td>240.0</td>\n",
       "      <td>0.006278</td>\n",
       "      <td>0.0198</td>\n",
       "      <td>0.562504</td>\n",
       "      <td>0.010970</td>\n",
       "    </tr>\n",
       "  </tbody>\n",
       "</table>\n",
       "</div>"
      ],
      "text/plain": [
       "        contractSymbol    ask    bid  average_price  underlying_price  strike  \\\n",
       "61  SPY180706P00285000  14.67  14.32         14.495             270.9   285.0   \n",
       "34  SPY180706P00269000   0.79   0.76          0.775             270.9   269.0   \n",
       "35  SPY180706P00270000   1.10   1.07          1.085             270.9   270.0   \n",
       "44  SPY180706P00274500   4.18   3.89          4.035             270.9   274.5   \n",
       "62  SPY180706P00286000  15.67  15.32         15.495             270.9   286.0   \n",
       "31  SPY180706P00267000   0.38   0.35          0.365             270.9   267.0   \n",
       "59  SPY180706P00283000  12.24  12.04         12.140             270.9   283.0   \n",
       "18  SPY180706P00256000   0.02   0.01          0.015             270.9   256.0   \n",
       "56  SPY180706P00281000  10.70  10.15         10.425             270.9   281.0   \n",
       "5   SPY180706P00240000   0.01   0.00          0.005             270.9   240.0   \n",
       "\n",
       "    time_to_maturity  ytd_rate  impliedVolatility  my_am_price  \n",
       "61          0.006278    0.0198           0.548344    14.798868  \n",
       "34          0.006278    0.0198           0.195565     0.878327  \n",
       "35          0.006278    0.0198           0.188729     1.192342  \n",
       "44          0.006278    0.0198           0.229500     4.255673  \n",
       "62          0.006278    0.0198           0.523442    15.592315  \n",
       "31          0.006278    0.0198           0.207039     0.450619  \n",
       "59          0.006278    0.0198           0.352546    12.271653  \n",
       "18          0.006278    0.0198           0.324226     0.032240  \n",
       "56          0.006278    0.0198           0.442877    10.820069  \n",
       "5           0.006278    0.0198           0.562504     0.010970  "
      ]
     },
     "execution_count": 127,
     "metadata": {},
     "output_type": "execute_result"
    }
   ],
   "source": [
    "spy_put_am_neat_df3.sample(10) # randomly select 10 samples"
   ]
  },
  {
   "cell_type": "markdown",
   "metadata": {},
   "source": [
    "## 5 Create a table which contains the following columns: Bid and Ask values, Black Scholes price, European and American prices calculated using the binomial tree. Then write comments about the observed differences between the various option valuations and how they compare with the actual bid/ask values."
   ]
  },
  {
   "cell_type": "markdown",
   "metadata": {},
   "source": [
    "### The question is self-contradictory. The price we fetched from Yahoo finance is predetermined as American or European type, can't be fetched simoutenously. So the result is shown as what we discussed in problem 2 and 4. "
   ]
  },
  {
   "cell_type": "code",
   "execution_count": 149,
   "metadata": {
    "collapsed": false
   },
   "outputs": [
    {
     "data": {
      "text/html": [
       "<div>\n",
       "<style scoped>\n",
       "    .dataframe tbody tr th:only-of-type {\n",
       "        vertical-align: middle;\n",
       "    }\n",
       "\n",
       "    .dataframe tbody tr th {\n",
       "        vertical-align: top;\n",
       "    }\n",
       "\n",
       "    .dataframe thead th {\n",
       "        text-align: right;\n",
       "    }\n",
       "</style>\n",
       "<table border=\"1\" class=\"dataframe\">\n",
       "  <thead>\n",
       "    <tr style=\"text-align: right;\">\n",
       "      <th></th>\n",
       "      <th>bid</th>\n",
       "      <th>ask</th>\n",
       "      <th>my_blacksholes_price</th>\n",
       "      <th>my_binomial_price</th>\n",
       "    </tr>\n",
       "  </thead>\n",
       "  <tbody>\n",
       "    <tr>\n",
       "      <th>7</th>\n",
       "      <td>23.69</td>\n",
       "      <td>23.97</td>\n",
       "      <td>23.830000</td>\n",
       "      <td>23.843800</td>\n",
       "    </tr>\n",
       "    <tr>\n",
       "      <th>49</th>\n",
       "      <td>0.00</td>\n",
       "      <td>0.01</td>\n",
       "      <td>0.005000</td>\n",
       "      <td>0.004815</td>\n",
       "    </tr>\n",
       "    <tr>\n",
       "      <th>52</th>\n",
       "      <td>0.00</td>\n",
       "      <td>0.01</td>\n",
       "      <td>0.005000</td>\n",
       "      <td>0.004887</td>\n",
       "    </tr>\n",
       "    <tr>\n",
       "      <th>59</th>\n",
       "      <td>0.00</td>\n",
       "      <td>0.01</td>\n",
       "      <td>0.005000</td>\n",
       "      <td>0.004761</td>\n",
       "    </tr>\n",
       "    <tr>\n",
       "      <th>47</th>\n",
       "      <td>0.00</td>\n",
       "      <td>0.01</td>\n",
       "      <td>0.005000</td>\n",
       "      <td>0.004907</td>\n",
       "    </tr>\n",
       "    <tr>\n",
       "      <th>63</th>\n",
       "      <td>0.00</td>\n",
       "      <td>0.01</td>\n",
       "      <td>0.005000</td>\n",
       "      <td>0.004858</td>\n",
       "    </tr>\n",
       "    <tr>\n",
       "      <th>41</th>\n",
       "      <td>0.00</td>\n",
       "      <td>0.01</td>\n",
       "      <td>0.005000</td>\n",
       "      <td>0.004879</td>\n",
       "    </tr>\n",
       "    <tr>\n",
       "      <th>66</th>\n",
       "      <td>0.00</td>\n",
       "      <td>0.01</td>\n",
       "      <td>0.005000</td>\n",
       "      <td>0.004763</td>\n",
       "    </tr>\n",
       "    <tr>\n",
       "      <th>5</th>\n",
       "      <td>21.40</td>\n",
       "      <td>21.62</td>\n",
       "      <td>21.510001</td>\n",
       "      <td>21.516360</td>\n",
       "    </tr>\n",
       "    <tr>\n",
       "      <th>54</th>\n",
       "      <td>0.00</td>\n",
       "      <td>0.01</td>\n",
       "      <td>0.005000</td>\n",
       "      <td>0.004899</td>\n",
       "    </tr>\n",
       "  </tbody>\n",
       "</table>\n",
       "</div>"
      ],
      "text/plain": [
       "      bid    ask  my_blacksholes_price  my_binomial_price\n",
       "7   23.69  23.97             23.830000          23.843800\n",
       "49   0.00   0.01              0.005000           0.004815\n",
       "52   0.00   0.01              0.005000           0.004887\n",
       "59   0.00   0.01              0.005000           0.004761\n",
       "47   0.00   0.01              0.005000           0.004907\n",
       "63   0.00   0.01              0.005000           0.004858\n",
       "41   0.00   0.01              0.005000           0.004879\n",
       "66   0.00   0.01              0.005000           0.004763\n",
       "5   21.40  21.62             21.510001          21.516360\n",
       "54   0.00   0.01              0.005000           0.004899"
      ]
     },
     "execution_count": 149,
     "metadata": {},
     "output_type": "execute_result"
    }
   ],
   "source": [
    "spy_call_neat_eu_df1.dropna(axis=0).sample(10)[[\"bid\",\"ask\",\"my_blacksholes_price\",\"my_binomial_price\"]]"
   ]
  },
  {
   "cell_type": "code",
   "execution_count": 150,
   "metadata": {
    "collapsed": false
   },
   "outputs": [
    {
     "data": {
      "text/html": [
       "<div>\n",
       "<style scoped>\n",
       "    .dataframe tbody tr th:only-of-type {\n",
       "        vertical-align: middle;\n",
       "    }\n",
       "\n",
       "    .dataframe tbody tr th {\n",
       "        vertical-align: top;\n",
       "    }\n",
       "\n",
       "    .dataframe thead th {\n",
       "        text-align: right;\n",
       "    }\n",
       "</style>\n",
       "<table border=\"1\" class=\"dataframe\">\n",
       "  <thead>\n",
       "    <tr style=\"text-align: right;\">\n",
       "      <th></th>\n",
       "      <th>bid</th>\n",
       "      <th>ask</th>\n",
       "      <th>my_am_price</th>\n",
       "    </tr>\n",
       "  </thead>\n",
       "  <tbody>\n",
       "    <tr>\n",
       "      <th>48</th>\n",
       "      <td>0.00</td>\n",
       "      <td>0.01</td>\n",
       "      <td>0.016896</td>\n",
       "    </tr>\n",
       "    <tr>\n",
       "      <th>60</th>\n",
       "      <td>0.00</td>\n",
       "      <td>0.01</td>\n",
       "      <td>0.018676</td>\n",
       "    </tr>\n",
       "    <tr>\n",
       "      <th>41</th>\n",
       "      <td>0.00</td>\n",
       "      <td>0.01</td>\n",
       "      <td>0.017084</td>\n",
       "    </tr>\n",
       "    <tr>\n",
       "      <th>12</th>\n",
       "      <td>12.37</td>\n",
       "      <td>12.94</td>\n",
       "      <td>12.993214</td>\n",
       "    </tr>\n",
       "    <tr>\n",
       "      <th>36</th>\n",
       "      <td>0.06</td>\n",
       "      <td>0.07</td>\n",
       "      <td>0.096962</td>\n",
       "    </tr>\n",
       "    <tr>\n",
       "      <th>16</th>\n",
       "      <td>8.41</td>\n",
       "      <td>8.97</td>\n",
       "      <td>9.029991</td>\n",
       "    </tr>\n",
       "    <tr>\n",
       "      <th>0</th>\n",
       "      <td>41.39</td>\n",
       "      <td>41.65</td>\n",
       "      <td>41.770250</td>\n",
       "    </tr>\n",
       "    <tr>\n",
       "      <th>5</th>\n",
       "      <td>21.40</td>\n",
       "      <td>21.62</td>\n",
       "      <td>22.041314</td>\n",
       "    </tr>\n",
       "    <tr>\n",
       "      <th>49</th>\n",
       "      <td>0.00</td>\n",
       "      <td>0.01</td>\n",
       "      <td>0.016580</td>\n",
       "    </tr>\n",
       "    <tr>\n",
       "      <th>24</th>\n",
       "      <td>3.08</td>\n",
       "      <td>3.16</td>\n",
       "      <td>3.240380</td>\n",
       "    </tr>\n",
       "  </tbody>\n",
       "</table>\n",
       "</div>"
      ],
      "text/plain": [
       "      bid    ask  my_am_price\n",
       "48   0.00   0.01     0.016896\n",
       "60   0.00   0.01     0.018676\n",
       "41   0.00   0.01     0.017084\n",
       "12  12.37  12.94    12.993214\n",
       "36   0.06   0.07     0.096962\n",
       "16   8.41   8.97     9.029991\n",
       "0   41.39  41.65    41.770250\n",
       "5   21.40  21.62    22.041314\n",
       "49   0.00   0.01     0.016580\n",
       "24   3.08   3.16     3.240380"
      ]
     },
     "execution_count": 150,
     "metadata": {},
     "output_type": "execute_result"
    }
   ],
   "source": [
    "spy_call_am_neat_df3.sample(10)[[\"bid\",\"ask\",\"my_am_price\"]]"
   ]
  },
  {
   "cell_type": "markdown",
   "metadata": {},
   "source": [
    "## 6 Using the binomial tree for American Calls and Puts, calculate the implied volatility corresponding to the data you have downloaded in part (2). You will need to use the bisection or Newton/secant method of finding roots with the respective binomial trees. Compare these values of the implied volatility with the volatilities from Homework 1. Write detailed observations.\n",
    "\n",
    "See problem 1-5, especially problem 2. Since in the Yahoo finance, we can only obtain the American type option for SPY, as it is has more liquidity. On the other hand, calculting implied volatility for American option is not effective using binomial simulation method, so we only apply the root finding method to the European type option we assumed in problem 2, but there is no market values as comparison as we discussed in Problem 5. The result is shown as the following."
   ]
  },
  {
   "cell_type": "code",
   "execution_count": 153,
   "metadata": {
    "collapsed": false
   },
   "outputs": [
    {
     "data": {
      "text/html": [
       "<div>\n",
       "<style scoped>\n",
       "    .dataframe tbody tr th:only-of-type {\n",
       "        vertical-align: middle;\n",
       "    }\n",
       "\n",
       "    .dataframe tbody tr th {\n",
       "        vertical-align: top;\n",
       "    }\n",
       "\n",
       "    .dataframe thead th {\n",
       "        text-align: right;\n",
       "    }\n",
       "</style>\n",
       "<table border=\"1\" class=\"dataframe\">\n",
       "  <thead>\n",
       "    <tr style=\"text-align: right;\">\n",
       "      <th></th>\n",
       "      <th>contractSymbol</th>\n",
       "      <th>ask</th>\n",
       "      <th>bid</th>\n",
       "      <th>average_price</th>\n",
       "      <th>underlying_price</th>\n",
       "      <th>strike</th>\n",
       "      <th>time_to_maturity</th>\n",
       "      <th>ytd_rate</th>\n",
       "      <th>my_iv</th>\n",
       "      <th>my_binomial_price</th>\n",
       "      <th>my_blacksholes_price</th>\n",
       "    </tr>\n",
       "  </thead>\n",
       "  <tbody>\n",
       "    <tr>\n",
       "      <th>21</th>\n",
       "      <td>SPY180706C00266000</td>\n",
       "      <td>4.92</td>\n",
       "      <td>4.70</td>\n",
       "      <td>4.810</td>\n",
       "      <td>270.9</td>\n",
       "      <td>266.0</td>\n",
       "      <td>0.006278</td>\n",
       "      <td>0.0198</td>\n",
       "      <td>1.192093e-07</td>\n",
       "      <td>NaN</td>\n",
       "      <td>4.933065</td>\n",
       "    </tr>\n",
       "    <tr>\n",
       "      <th>52</th>\n",
       "      <td>SPY180706C00285000</td>\n",
       "      <td>0.01</td>\n",
       "      <td>0.00</td>\n",
       "      <td>0.005</td>\n",
       "      <td>270.9</td>\n",
       "      <td>285.0</td>\n",
       "      <td>0.006278</td>\n",
       "      <td>0.0198</td>\n",
       "      <td>2.342292e-01</td>\n",
       "      <td>0.004887</td>\n",
       "      <td>0.005000</td>\n",
       "    </tr>\n",
       "    <tr>\n",
       "      <th>13</th>\n",
       "      <td>SPY180706C00259000</td>\n",
       "      <td>11.94</td>\n",
       "      <td>11.38</td>\n",
       "      <td>11.660</td>\n",
       "      <td>270.9</td>\n",
       "      <td>259.0</td>\n",
       "      <td>0.006278</td>\n",
       "      <td>0.0198</td>\n",
       "      <td>1.192093e-07</td>\n",
       "      <td>NaN</td>\n",
       "      <td>11.932195</td>\n",
       "    </tr>\n",
       "    <tr>\n",
       "      <th>17</th>\n",
       "      <td>SPY180706C00262500</td>\n",
       "      <td>8.29</td>\n",
       "      <td>8.00</td>\n",
       "      <td>8.145</td>\n",
       "      <td>270.9</td>\n",
       "      <td>262.5</td>\n",
       "      <td>0.006278</td>\n",
       "      <td>0.0198</td>\n",
       "      <td>1.192093e-07</td>\n",
       "      <td>NaN</td>\n",
       "      <td>8.432630</td>\n",
       "    </tr>\n",
       "    <tr>\n",
       "      <th>59</th>\n",
       "      <td>SPY180706C00291000</td>\n",
       "      <td>0.01</td>\n",
       "      <td>0.00</td>\n",
       "      <td>0.005</td>\n",
       "      <td>270.9</td>\n",
       "      <td>291.0</td>\n",
       "      <td>0.006278</td>\n",
       "      <td>0.0198</td>\n",
       "      <td>3.193897e-01</td>\n",
       "      <td>0.004761</td>\n",
       "      <td>0.005000</td>\n",
       "    </tr>\n",
       "    <tr>\n",
       "      <th>2</th>\n",
       "      <td>SPY180706C00245000</td>\n",
       "      <td>25.92</td>\n",
       "      <td>25.36</td>\n",
       "      <td>25.640</td>\n",
       "      <td>270.9</td>\n",
       "      <td>245.0</td>\n",
       "      <td>0.006278</td>\n",
       "      <td>0.0198</td>\n",
       "      <td>1.192093e-07</td>\n",
       "      <td>NaN</td>\n",
       "      <td>25.930455</td>\n",
       "    </tr>\n",
       "    <tr>\n",
       "      <th>60</th>\n",
       "      <td>SPY180706C00292500</td>\n",
       "      <td>0.01</td>\n",
       "      <td>0.00</td>\n",
       "      <td>0.005</td>\n",
       "      <td>270.9</td>\n",
       "      <td>292.5</td>\n",
       "      <td>0.006278</td>\n",
       "      <td>0.0198</td>\n",
       "      <td>3.400513e-01</td>\n",
       "      <td>0.004809</td>\n",
       "      <td>0.005000</td>\n",
       "    </tr>\n",
       "    <tr>\n",
       "      <th>35</th>\n",
       "      <td>SPY180706C00274500</td>\n",
       "      <td>0.10</td>\n",
       "      <td>0.09</td>\n",
       "      <td>0.095</td>\n",
       "      <td>270.9</td>\n",
       "      <td>274.5</td>\n",
       "      <td>0.006278</td>\n",
       "      <td>0.0198</td>\n",
       "      <td>1.183792e-01</td>\n",
       "      <td>0.094378</td>\n",
       "      <td>0.094999</td>\n",
       "    </tr>\n",
       "    <tr>\n",
       "      <th>18</th>\n",
       "      <td>SPY180706C00263000</td>\n",
       "      <td>7.80</td>\n",
       "      <td>7.51</td>\n",
       "      <td>7.655</td>\n",
       "      <td>270.9</td>\n",
       "      <td>263.0</td>\n",
       "      <td>0.006278</td>\n",
       "      <td>0.0198</td>\n",
       "      <td>1.192093e-07</td>\n",
       "      <td>NaN</td>\n",
       "      <td>7.932693</td>\n",
       "    </tr>\n",
       "    <tr>\n",
       "      <th>55</th>\n",
       "      <td>SPY180706C00287500</td>\n",
       "      <td>0.01</td>\n",
       "      <td>0.00</td>\n",
       "      <td>0.005</td>\n",
       "      <td>270.9</td>\n",
       "      <td>287.5</td>\n",
       "      <td>0.006278</td>\n",
       "      <td>0.0198</td>\n",
       "      <td>2.702380e-01</td>\n",
       "      <td>0.004892</td>\n",
       "      <td>0.005000</td>\n",
       "    </tr>\n",
       "  </tbody>\n",
       "</table>\n",
       "</div>"
      ],
      "text/plain": [
       "        contractSymbol    ask    bid  average_price  underlying_price  strike  \\\n",
       "21  SPY180706C00266000   4.92   4.70          4.810             270.9   266.0   \n",
       "52  SPY180706C00285000   0.01   0.00          0.005             270.9   285.0   \n",
       "13  SPY180706C00259000  11.94  11.38         11.660             270.9   259.0   \n",
       "17  SPY180706C00262500   8.29   8.00          8.145             270.9   262.5   \n",
       "59  SPY180706C00291000   0.01   0.00          0.005             270.9   291.0   \n",
       "2   SPY180706C00245000  25.92  25.36         25.640             270.9   245.0   \n",
       "60  SPY180706C00292500   0.01   0.00          0.005             270.9   292.5   \n",
       "35  SPY180706C00274500   0.10   0.09          0.095             270.9   274.5   \n",
       "18  SPY180706C00263000   7.80   7.51          7.655             270.9   263.0   \n",
       "55  SPY180706C00287500   0.01   0.00          0.005             270.9   287.5   \n",
       "\n",
       "    time_to_maturity  ytd_rate         my_iv  my_binomial_price  \\\n",
       "21          0.006278    0.0198  1.192093e-07                NaN   \n",
       "52          0.006278    0.0198  2.342292e-01           0.004887   \n",
       "13          0.006278    0.0198  1.192093e-07                NaN   \n",
       "17          0.006278    0.0198  1.192093e-07                NaN   \n",
       "59          0.006278    0.0198  3.193897e-01           0.004761   \n",
       "2           0.006278    0.0198  1.192093e-07                NaN   \n",
       "60          0.006278    0.0198  3.400513e-01           0.004809   \n",
       "35          0.006278    0.0198  1.183792e-01           0.094378   \n",
       "18          0.006278    0.0198  1.192093e-07                NaN   \n",
       "55          0.006278    0.0198  2.702380e-01           0.004892   \n",
       "\n",
       "    my_blacksholes_price  \n",
       "21              4.933065  \n",
       "52              0.005000  \n",
       "13             11.932195  \n",
       "17              8.432630  \n",
       "59              0.005000  \n",
       "2              25.930455  \n",
       "60              0.005000  \n",
       "35              0.094999  \n",
       "18              7.932693  \n",
       "55              0.005000  "
      ]
     },
     "execution_count": 153,
     "metadata": {},
     "output_type": "execute_result"
    }
   ],
   "source": [
    "spy_call_neat_eu_df1.sample(10)"
   ]
  },
  {
   "cell_type": "markdown",
   "metadata": {},
   "source": [
    "## 7 Implement a trinomial tree to price an American Put option. Hint. See Chapter 3 in [1]. Use the trinomial tree with the data in this problem and compare with the results obtained using the binomial tree."
   ]
  },
  {
   "cell_type": "code",
   "execution_count": 159,
   "metadata": {
    "collapsed": true
   },
   "outputs": [],
   "source": [
    "# At the money option\n",
    "S = 100\n",
    "K = 100\n",
    "T = 1\n",
    "r = 0.05\n",
    "sigma = 0.4"
   ]
  },
  {
   "cell_type": "code",
   "execution_count": 158,
   "metadata": {
    "collapsed": false
   },
   "outputs": [],
   "source": [
    "import trinomial"
   ]
  },
  {
   "cell_type": "code",
   "execution_count": 161,
   "metadata": {
    "collapsed": false
   },
   "outputs": [],
   "source": [
    "trinomialt_result = trinomial.american_pricer(S=S,K=K,T=T,r=r,sigma=sigma,call=False).price(N=200)"
   ]
  },
  {
   "cell_type": "code",
   "execution_count": 163,
   "metadata": {
    "collapsed": true
   },
   "outputs": [],
   "source": [
    "binomial_result = binomial.put(S=S,K=K,t=T,r=r,sigma=sigma,n=200)"
   ]
  },
  {
   "cell_type": "code",
   "execution_count": 166,
   "metadata": {
    "collapsed": false
   },
   "outputs": [
    {
     "name": "stdout",
     "output_type": "stream",
     "text": [
      "Binomial Put: 13.660241287601293\n",
      "Trinomial Put: 13.12643722498959\n"
     ]
    }
   ],
   "source": [
    "print(\"Binomial Put: {}\\nTrinomial Put: {}\".format(trinomialt_result,binomial_result))"
   ]
  },
  {
   "cell_type": "markdown",
   "metadata": {},
   "source": [
    "## 8 Construct a binomial tree to calculate the price of an European Up-and-Out call option. Use S0 = 10, strike K = 10, maturity T = 0.3, volatility $\\sigma$= 0.2, short rate r = 0.01, dividends d = 0, and barrier H = 11. Use as many steps in your tree as you think are necessary. Hint. Read the algorithm in the book [1] and try and figure out how to modify the code there to work with the new option."
   ]
  },
  {
   "cell_type": "code",
   "execution_count": 301,
   "metadata": {
    "collapsed": true
   },
   "outputs": [],
   "source": [
    "import math\n",
    "def up_and_out_option(S, K, t, r, sigma, H, div=0, call=1, n=100, am=False):\n",
    "    \"\"\"\n",
    "    Price an option using the Binomial Options Pricing model\n",
    "    S: initial spot price of stock\n",
    "    K: strick price of option\n",
    "    sigma: volatility\n",
    "    r: risk-free interest rate\n",
    "    t: time to maturity (in years)\n",
    "    div: dividend yield (continuous compounding)\n",
    "    call: 1 if call option, -1 if put\n",
    "    n: binomial steps\n",
    "    am: True for American option, False for European option\n",
    "    \"\"\"\n",
    "    delta = float(t) / n\n",
    "    u = math.exp(sigma * math.sqrt(delta))\n",
    "    d = float(1) / u\n",
    "    q = float((math.exp((r - div) * delta) - d)) / (u - d)  # Prob. of up step\n",
    "    stock_val = np.zeros((n + 1, n + 1))\n",
    "    opt_val = np.zeros((n + 1, n + 1))\n",
    "\n",
    "    # Calculate stock value at maturity\n",
    "    stock_val[0, 0] = S\n",
    "    for i in range(1, n + 1):\n",
    "        stock_val[i, 0] = stock_val[i - 1, 0] * u\n",
    "        for j in range(1, i + 1):\n",
    "            stock_val[i, j] = stock_val[i - 1, j - 1] * d\n",
    "\n",
    "    # Recursion for option price\n",
    "    for j in range(n + 1):\n",
    "        if(np.array(stock_val[n,j])<H):\n",
    "#             print(\"ddddsssaa\")\n",
    "            opt_val[n, j] = max(0, call*(stock_val[n, j] - K))\n",
    "        else:\n",
    "            opt_val[n, j] = 0\n",
    "            \n",
    "#     for j in range(n + 1):\n",
    "#         if(stock_val[n, j]>H):\n",
    "#             opt_val[n,j] = 0\n",
    "#         else:\n",
    "#             opt_val[n, j] = max(0, call*(stock_val[n, j] - K))\n",
    "    for i in range(n - 1, -1, -1):\n",
    "        for j in range(i + 1):\n",
    "            opt_val[i, j] = \\\n",
    "                (q * opt_val[i + 1, j] + (1 - q) * opt_val[i + 1, j + 1]) \\\n",
    "                / math.exp(r * delta)\n",
    "                \n",
    "            if(stock_val[i,j]>H):\n",
    "                opt_val[i,j] = 0\n",
    "            if am:\n",
    "                opt_val[i, j] = max(opt_val[i, j], call*(stock_val[i, j] - K))\n",
    "#     print(stock_val[:,:])\n",
    "    return opt_val[0, 0]\n"
   ]
  },
  {
   "cell_type": "code",
   "execution_count": 302,
   "metadata": {
    "collapsed": true
   },
   "outputs": [],
   "source": [
    "S0 = 10\n",
    "K = 10\n",
    "H = 11\n",
    "r = 0.01\n",
    "sigma = 0.2\n",
    "T = 0.3"
   ]
  },
  {
   "cell_type": "code",
   "execution_count": 303,
   "metadata": {
    "collapsed": false
   },
   "outputs": [
    {
     "data": {
      "text/plain": [
       "0.058303299666453035"
      ]
     },
     "execution_count": 303,
     "metadata": {},
     "output_type": "execute_result"
    }
   ],
   "source": [
    "up_and_out_option(S=S0,K=K,t=T,r=r,sigma=sigma,H=H,am=False,n=100)"
   ]
  },
  {
   "cell_type": "markdown",
   "metadata": {},
   "source": [
    "## 9 To price the European Up-and-Out Call option, explicit formulae can be found. Implement the formula (5.2) from [2] and compare your results with part (1). Use the same parameters as before. What do you observe?"
   ]
  },
  {
   "cell_type": "code",
   "execution_count": 207,
   "metadata": {
    "collapsed": false
   },
   "outputs": [],
   "source": [
    "def blacksholes(S,K,T,r,sigma,option_type='c'):\n",
    "        d1 = (np.log(S/K)+r*T +0.5*sigma**2*T)/(sigma*np.sqrt(T))\n",
    "        d2 = d1 - sigma*np.sqrt(T)\n",
    "        N = lambda x: sp.stats.norm.cdf(x)\n",
    "        call = S * N(d1) - np.exp(-r*T) * K * N(d2)\n",
    "        put = call - S + K*np.exp(-r*T)\n",
    "        if(option_type==\"c\"):\n",
    "            return call\n",
    "        elif(option_type==\"p\"):\n",
    "            return put\n",
    "        else:\n",
    "            print(\"please enter the option type: (c/p)\")\n",
    "        pass\n",
    "    \n",
    "def d1(S,K,T,r,sigma):\n",
    "    return (np.log(S/K)+r*T +0.5*sigma**2*T)/(sigma*np.sqrt(T))\n",
    "\n",
    "def d2(S,K,T,r,sigma):\n",
    "    _d1 = d1(S,K,T,r,sigma)\n",
    "    return _d1 - sigma*np.sqrt(T)\n",
    "\n",
    "N = lambda x: sp.stats.norm.cdf(x)"
   ]
  },
  {
   "cell_type": "code",
   "execution_count": 262,
   "metadata": {
    "collapsed": false
   },
   "outputs": [],
   "source": [
    "def up_and_out_call_formula(S,K,T,r,sigma,H):\n",
    "    CSK = blacksholes(S,K,T,r,sigma)\n",
    "    CSH = blacksholes(S,H,T,r,sigma)\n",
    "    dHS = d1(H,S,T,r,sigma)\n",
    "    dSH = d1(S,H,T,r,sigma)\n",
    "#     d2SH = d2(S,H,T,r,sigma)\n",
    "#     Cd = np.exp(-r*T)*N(d2SH)\n",
    "    v = r - sigma**2/2\n",
    "    UO = CSK - CSH - (H-K)*np.exp(-r*T)*N(dSH)\\\n",
    "        - (H/S)**(2*v/sigma**2)* (blacksholes(H**2/S,K,T,r,sigma) - blacksholes(H**2/S,H,T,r,sigma)\\\n",
    "                                 - (H-K)*np.exp(-r*T)* N(dHS))\n",
    "    return UO\n",
    "    \n",
    "def up_and_out_call_formula2(S,K,T,r,sigma,H):\n",
    "    \n",
    "    lbd = (r+sigma**2/2)/sigma**2\n",
    "    x1 = np.log(S/H)/(sigma*np.sqrt(T)) + lbd*sigma*np.sqrt(T)\n",
    "    y1 = np.log(H/S)/(sigma*np.sqrt(T)) + lbd*sigma*np.sqrt(T)\n",
    "    y = np.log(H**2/(S*K))/(sigma*np.sqrt(T)) + lbd*sigma*np.sqrt(T)\n",
    "    _d1 = d1(S,K,T,r,sigma)\n",
    "    _d2 = d2(S,K,T,r,sigma)\n",
    "#     print(lbd,x1,y1,_d1,_d2,N(_d1))\n",
    "    UO = S*(N(_d1)-N(x1)+(H/S)**(2*lbd)*(N(-y)-N(-y1)))\\\n",
    "            + K*np.exp(-r*T)*(-N(_d2)+N(x1-sigma*np.sqrt(T))\\\n",
    "                          - (H/S)**(2*lbd-2)*(N(-y+sigma*np.sqrt(T))\\\n",
    "                                              - N(-y1+sigma*np.sqrt(T))))\n",
    "    return UO"
   ]
  },
  {
   "cell_type": "code",
   "execution_count": 304,
   "metadata": {
    "collapsed": false
   },
   "outputs": [],
   "source": [
    "def compare_up_and_out(S0,K,T,r,sigma,H):\n",
    "    bino = up_and_out_option(S=S0,K=K,t=T,r=r,sigma=sigma,H=H,n=400)\n",
    "    formu = up_and_out_call_formula(S=S0,K=K,T=T,r=r,sigma=sigma,H=H)\n",
    "    formu2 = up_and_out_call_formula2(S=S0,K=K,T=T,r=r,sigma=sigma,H=H)\n",
    "    print(\"binomial price: {}\\nformula price1: {}\\nformula price2: {}\".format(bino,formu,formu2))"
   ]
  },
  {
   "cell_type": "code",
   "execution_count": 305,
   "metadata": {
    "collapsed": false
   },
   "outputs": [
    {
     "name": "stdout",
     "output_type": "stream",
     "text": [
      "binomial price: 0.05822870843673515\n",
      "formula price1: 0.05031730744120267\n",
      "formula price2: 0.05309279660325128\n"
     ]
    }
   ],
   "source": [
    "compare_up_and_out(10,10,T,r,sigma,11)"
   ]
  },
  {
   "cell_type": "markdown",
   "metadata": {},
   "source": [
    "### Conclusion: This problem need more discussion. \n",
    "* The formula you provided is slightly wrong as it can obtain negative price. Should use up_and_out_call_formula2 instead.\n",
    "* Binomial tree can easily price path dependend option, but in this algorithm, might be too naive to conclude it is proper to do so. From the result, we can see compared to the theoretical value (formula2), it has quite a lot error. Since up-and-out option pricing should consider the history of past trajectory, it is not good to only consider the current situation, thus Monte Carlo simulation is more proper in this case, or using more complicated binomial algorithm"
   ]
  },
  {
   "cell_type": "markdown",
   "metadata": {},
   "source": [
    "## 10 Price an European Up-and-In call option, using the same parameters as before. Hint. Two methods can be employed: the analytical solution in (5.1) or the In-Out parity. Use both methods in order to verify your results."
   ]
  },
  {
   "cell_type": "code",
   "execution_count": 306,
   "metadata": {
    "collapsed": true
   },
   "outputs": [],
   "source": [
    "def up_and_in_call_formula2(S,K,T,r,sigma,H):\n",
    "    call_price = blacksholes(S,K,T,r,sigma)\n",
    "    up_and_out_call_price = up_and_out_call_formula2(S,K,T,r,sigma,H)\n",
    "    return call_price - up_and_out_call_price"
   ]
  },
  {
   "cell_type": "code",
   "execution_count": 308,
   "metadata": {
    "collapsed": false
   },
   "outputs": [
    {
     "name": "stdout",
     "output_type": "stream",
     "text": [
      "Using in-out parity, the price of up-and-in call option: 0.3981948482776474\n"
     ]
    }
   ],
   "source": [
    "print(\"Using in-out parity, the price of up-and-in call option: {}\".format(up_and_in_call_formula2(S0,K,T,r,sigma,H)))"
   ]
  },
  {
   "cell_type": "markdown",
   "metadata": {},
   "source": [
    "## 10 Construct a binomial tree to calculate the price of an American Up-and-In call option."
   ]
  },
  {
   "cell_type": "code",
   "execution_count": 330,
   "metadata": {
    "collapsed": true
   },
   "outputs": [],
   "source": [
    "def up_and_in_option(S, K, t, r, sigma, H, div=0, call=1, n=100, am=False):\n",
    "    \"\"\"\n",
    "    Price an option using the Binomial Options Pricing model\n",
    "    S: initial spot price of stock\n",
    "    K: strick price of option\n",
    "    sigma: volatility\n",
    "    r: risk-free interest rate\n",
    "    t: time to maturity (in years)\n",
    "    div: dividend yield (continuous compounding)\n",
    "    call: 1 if call option, -1 if put\n",
    "    n: binomial steps\n",
    "    am: True for American option, False for European option\n",
    "    \"\"\"\n",
    "    delta = float(t) / n\n",
    "    u = math.exp(sigma * math.sqrt(delta))\n",
    "    d = float(1) / u\n",
    "    q = float((math.exp((r - div) * delta) - d)) / (u - d)  # Prob. of up step\n",
    "    stock_val = np.zeros((n + 1, n + 1))\n",
    "    opt_val = np.zeros((n + 1, n + 1))\n",
    "\n",
    "    # Calculate stock value at maturity\n",
    "    stock_val[0, 0] = S\n",
    "    for i in range(1, n + 1):\n",
    "        stock_val[i, 0] = stock_val[i - 1, 0] * u\n",
    "        for j in range(1, i + 1):\n",
    "            stock_val[i, j] = stock_val[i - 1, j - 1] * d\n",
    "\n",
    "    # Recursion for option price\n",
    "    for j in range(n + 1):\n",
    "        if(np.array(stock_val[n,j])>H):\n",
    "            opt_val[n, j] = max(0, call*(stock_val[n, j] - K))\n",
    "        else:\n",
    "            opt_val[n, j] = 0\n",
    "            \n",
    "#     for j in range(n + 1):\n",
    "#         if(stock_val[n, j]>H):\n",
    "#             opt_val[n,j] = 0\n",
    "#         else:\n",
    "#             opt_val[n, j] = max(0, call*(stock_val[n, j] - K))\n",
    "    for i in range(n - 1, -1, -1):\n",
    "        for j in range(i + 1):\n",
    "            opt_val[i, j] = \\\n",
    "                (q * opt_val[i + 1, j] + (1 - q) * opt_val[i + 1, j + 1]) \\\n",
    "                / math.exp(r * delta)\n",
    "                \n",
    "            if(stock_val[i,j]<H):\n",
    "                opt_val[i,j] = 0\n",
    "            if am:\n",
    "                opt_val[i, j] = max(opt_val[i, j], call*(stock_val[i, j] - K))\n",
    "#     print(opt_val[:,:])\n",
    "    return opt_val[0, 0]\n"
   ]
  },
  {
   "cell_type": "code",
   "execution_count": 331,
   "metadata": {
    "collapsed": false
   },
   "outputs": [
    {
     "name": "stdout",
     "output_type": "stream",
     "text": [
      "The price of up-and-in American call option: 0.0\n"
     ]
    }
   ],
   "source": [
    "print(\"The price of up-and-in American call option: {}\".format(up_and_in_option(S0,K,T,r,sigma,H,n=400,am=True)))"
   ]
  },
  {
   "cell_type": "markdown",
   "metadata": {},
   "source": [
    "## 11 Adapting the Binomial tree to time varying (deterministic) coefficients (20 points). Please refer to Section 2.9 in [1]. Consider the following model for $X_t = log S_t$ the logarithm of the stock value:\n",
    "$$d X_t = v_t dt + \\sigma_t dW_t$$\n",
    "where $v_t = r_t - \\frac{\\sigma_t^2}{2}$. This model is under the equivalent martingale measure. Assume that the interest rate and volatility functions evolve according to:\n",
    "$$r_t = 0.05(1+0.01t)$$\n",
    "$$\\sigma_t = 0.3(1+0.005t)$$"
   ]
  },
  {
   "cell_type": "markdown",
   "metadata": {},
   "source": [
    "### Scheme 1: Binomial Tree of the Underlying Price:"
   ]
  },
  {
   "cell_type": "code",
   "execution_count": 403,
   "metadata": {
    "collapsed": true
   },
   "outputs": [],
   "source": [
    "def time_deterministic_option(S, K, sigma_fun, r_fun, T, div=0, call=1, n=100, am=False,display=False):\n",
    "    \"\"\"\n",
    "    Price an option using the Binomial Options Pricing model\n",
    "    S: initial spot price of stock\n",
    "    K: strick price of option\n",
    "    sigma: volatility\n",
    "    r: risk-free interest rate\n",
    "    t: time to maturity (in years)\n",
    "    div: dividend yield (continuous compounding)\n",
    "    call: 1 if call option, -1 if put\n",
    "    n: binomial steps\n",
    "    am: True for American option, False for European option\n",
    "    \"\"\"\n",
    "    delta = float(T) / n\n",
    "    t_array = np.arange(n+1)*delta\n",
    "    r_array = r_fun(t_array)\n",
    "    sigma_array = sigma_fun(t_array)\n",
    "    v_array = r_array - sigma_array**2/2\n",
    "    \n",
    "    r = r_array[0]\n",
    "    sigma = sigma_array[0]\n",
    "    u = math.exp(sigma * math.sqrt(delta))\n",
    "    d = float(1) / u\n",
    "    q = float((math.exp((r - div) * delta) - d)) / (u - d)  # Prob. of up step\n",
    "    \n",
    "    u_array = np.exp(sigma_array*math.sqrt(delta))\n",
    "    d_array = 1.0/u_array\n",
    "    q_array = (np.exp((r-div)*delta) - d_array)/(u_array-d_array)\n",
    "    \n",
    "#     u_array = u*np.ones(len(t_array))\n",
    "#     d_array = d*np.ones(len(t_array))\n",
    "#     q_array = q*np.ones(len(t_array))\n",
    "    \n",
    "    stock_val = np.zeros((n+1,n+1))\n",
    "    opt_val = np.zeros((n+1,n+1))\n",
    "    stock_val[0,0] = S\n",
    "    for i in range(1,n+1):\n",
    "        stock_val[i,0] = stock_val[i-1,0]*u_array[i]\n",
    "        for j in range(1,i+1):\n",
    "            stock_val[i,j] = stock_val[i-1,j-1]*d_array[i]\n",
    "    for j in range(n+1):\n",
    "        opt_val[n,j] = max(0,call*(stock_val[n,j]-K))\n",
    "    for i in range(n-1,-1,-1):\n",
    "        for j in range(i+1):\n",
    "            opt_val[i,j] = (q_array[i]*opt_val[i+1,j]+(1-q_array[i])*opt_val[i+1,j+1])\\\n",
    "            /math.exp(r_array[i]*delta)\n",
    "            if(am):\n",
    "                opt_val[i,j] = max(opt_val[i,j],call*(stock_val[i,j]-K))\n",
    "#     print(u,u_array)\n",
    "#     print(d,d_array)\n",
    "#     print(q,q_array)\n",
    "    if(display):\n",
    "        print(\"rt: {}\\nsigmat: {}\\nvt: {}\\npt: {}\".format(r_array,sigma_array,v_array,q_array))\n",
    "        print(\"******************************************************************************\")\n",
    "    return opt_val[0,0]"
   ]
  },
  {
   "cell_type": "code",
   "execution_count": 404,
   "metadata": {
    "collapsed": false
   },
   "outputs": [
    {
     "name": "stdout",
     "output_type": "stream",
     "text": [
      "rt: [ 0.05        0.05002273  0.05004545  0.05006818  0.05009091  0.05011364\n",
      "  0.05013636  0.05015909  0.05018182  0.05020455  0.05022727  0.05025   ]\n",
      "sigmat: [ 0.3         0.30006818  0.30013636  0.30020455  0.30027273  0.30034091\n",
      "  0.30040909  0.30047727  0.30054545  0.30061364  0.30068182  0.30075   ]\n",
      "vt: [ 0.005       0.00500227  0.00500454  0.0050068   0.00500905  0.00501131\n",
      "  0.00501355  0.0050158   0.00501803  0.00502027  0.00502249  0.00502472]\n",
      "pt: [ 0.5017902   0.50178253  0.50177486  0.50176719  0.50175952  0.50175185\n",
      "  0.50174418  0.50173652  0.50172886  0.5017212   0.50171354  0.50170588]\n",
      "******************************************************************************\n"
     ]
    },
    {
     "data": {
      "text/plain": [
       "0.9809325162400121"
      ]
     },
     "execution_count": 404,
     "metadata": {},
     "output_type": "execute_result"
    }
   ],
   "source": [
    "r_fun = lambda x: 0.05*(1+0.01*x)\n",
    "sigma_fun = lambda x: 0.3*(1+0.005*x)\n",
    "time_deterministic_option(S=10,K=10,T=0.5,n=11,r_fun=r_fun, sigma_fun=sigma_fun,display=True)"
   ]
  },
  {
   "cell_type": "markdown",
   "metadata": {},
   "source": [
    "### Scheme 2: Binomial Tree of the Log Underlying Price:\n",
    "\n",
    "$$\n",
    "\\begin{cases}\n",
    "      p_u \\Delta x_u + p_d \\Delta x_d &= (r-\\frac{\\sigma^2}{2})\\Delta t \\\\\n",
    "      p_u \\Delta x_u^2 + p_d \\Delta x_d^2  &= \\sigma^2 \\Delta t + (r-\\frac{\\sigma^2}{2})^2\\Delta t^2\\\\\n",
    "      p_u + p_d &= 1\n",
    "    \\end{cases}\n",
    "$$\n",
    "\n",
    "Considering the recombining feature, a popular choice is $\\Delta x_u = \\Delta x_d = \\Delta x$. By substitution, it would yield:\n",
    "$$\\Delta x = \\sqrt{(r-\\frac{\\sigma^2}{2})^2 \\Delta t^2 + \\sigma^2 \\Delta t}$$\n",
    "$$p_u = \\frac{1}{2}+ \\frac{1}{2} \\frac{(r - \\frac{\\sigma^2}{2})\\Delta t}{\\Delta x}$$"
   ]
  },
  {
   "cell_type": "code",
   "execution_count": 405,
   "metadata": {
    "collapsed": true
   },
   "outputs": [],
   "source": [
    "def time_deterministic_option2(S, K, sigma_fun, r_fun, T, div=0, call=1, n=100, am=False,display=False):\n",
    "    \"\"\"\n",
    "    Price an option using the Binomial Options Pricing model\n",
    "    S: initial spot price of stock\n",
    "    K: strick price of option\n",
    "    sigma: volatility\n",
    "    r: risk-free interest rate\n",
    "    t: time to maturity (in years)\n",
    "    div: dividend yield (continuous compounding)\n",
    "    call: 1 if call option, -1 if put\n",
    "    n: binomial steps\n",
    "    am: True for American option, False for European option\n",
    "    \"\"\"\n",
    "    delta = float(T) / n\n",
    "    t_array = np.arange(n+1)*delta\n",
    "    r_array = r_fun(t_array)\n",
    "    sigma_array = sigma_fun(t_array)\n",
    "    v_array = r_array - sigma_array**2/2\n",
    "    dx_array = np.sqrt((v_array)**2 * delta**2 + sigma_array**2*delta)\n",
    "    pu_array = .5+.5*(v_array)*delta/dx_array\n",
    "    pd_array = 1 - pu_array\n",
    "    \n",
    "#     r = r_array[0]\n",
    "#     sigma = sigma_array[0]\n",
    "#     u = math.exp(sigma * math.sqrt(delta))\n",
    "#     d = float(1) / u\n",
    "#     q = float((math.exp((r - div) * delta) - d)) / (u - d)  # Prob. of up step\n",
    "    \n",
    "#     u_array = np.exp(sigma_array*math.sqrt(delta))\n",
    "#     d_array = 1.0/u_array\n",
    "#     q_array = (np.exp((r-div)*delta) - d_array)/(u_array-d_array)\n",
    "    \n",
    "#     u_array = u*np.ones(len(t_array))\n",
    "#     d_array = d*np.ones(len(t_array))\n",
    "#     q_array = q*np.ones(len(t_array))\n",
    "    \n",
    "    log_stock_val = np.zeros((n+1,n+1))\n",
    "    opt_val = np.zeros((n+1,n+1))\n",
    "    log_stock_val[0,0] = math.log(S)\n",
    "    for i in range(1,n+1):\n",
    "        log_stock_val[i,0] = log_stock_val[i-1,0] + dx_array[i-1]\n",
    "        for j in range(1,i+1):\n",
    "            log_stock_val[i,j] = log_stock_val[i-1,j-1] - dx_array[i-1]\n",
    "    for j in range(n+1):\n",
    "        opt_val[n,j] = max(0,call*(math.exp(log_stock_val[n,j])-K))\n",
    "    for i in range(n-1,-1,-1):\n",
    "        for j in range(i+1):\n",
    "            opt_val[i,j] = (pu_array[i]*opt_val[i+1,j]+pd_array[i]*opt_val[i+1,j+1])\\\n",
    "            /math.exp(r_array[i]*delta)\n",
    "            if(am):\n",
    "                opt_val[i,j] = max(opt_val[i,j],call*(math.exp(log_stock_val[i,j])-K))\n",
    "#     print(u,u_array)\n",
    "#     print(d,d_array)\n",
    "#     print(q,q_array)\n",
    "    if(display):\n",
    "        print(\"rt: {}\\nsigmat: {}\\nvt: {}\\npt: {}\\ndxt: {}\".format(r_array,sigma_array,v_array,pu_array,dx_array))\n",
    "        print(\"******************************************************************************\")\n",
    "    return opt_val[0,0]"
   ]
  },
  {
   "cell_type": "code",
   "execution_count": 407,
   "metadata": {
    "collapsed": false
   },
   "outputs": [
    {
     "name": "stdout",
     "output_type": "stream",
     "text": [
      "rt: [ 0.05        0.05002273  0.05004545  0.05006818  0.05009091  0.05011364\n",
      "  0.05013636  0.05015909  0.05018182  0.05020455  0.05022727  0.05025   ]\n",
      "sigmat: [ 0.3         0.30006818  0.30013636  0.30020455  0.30027273  0.30034091\n",
      "  0.30040909  0.30047727  0.30054545  0.30061364  0.30068182  0.30075   ]\n",
      "vt: [ 0.005       0.00500227  0.00500454  0.0050068   0.00500905  0.00501131\n",
      "  0.00501355  0.0050158   0.00501803  0.00502027  0.00502249  0.00502472]\n",
      "pt: [ 0.50177666  0.50177706  0.50177747  0.50177786  0.50177826  0.50177866\n",
      "  0.50177905  0.50177944  0.50177983  0.50178022  0.50178061  0.50178099]\n",
      "dxt: [ 0.06396062  0.06397516  0.06398969  0.06400423  0.06401877  0.0640333\n",
      "  0.06404784  0.06406238  0.06407691  0.06409145  0.06410599  0.06412052]\n",
      "******************************************************************************\n"
     ]
    },
    {
     "data": {
      "text/plain": [
       "0.98090515246865007"
      ]
     },
     "execution_count": 407,
     "metadata": {},
     "output_type": "execute_result"
    }
   ],
   "source": [
    "time_deterministic_option2(S=10,K=10,T=0.5,n=11,r_fun=r_fun, sigma_fun=sigma_fun,display=True)"
   ]
  },
  {
   "cell_type": "markdown",
   "metadata": {},
   "source": [
    "### Note:\n",
    "Here $\\Delta x$ is a time varying variable, and chosen to match the branch points."
   ]
  },
  {
   "cell_type": "markdown",
   "metadata": {},
   "source": [
    "### Comparison:\n",
    "* Constant Parameters\n",
    "    * Black-Scholes\n",
    "    * Binomial Tree\n",
    "* Time Varying Parameters\n",
    "    * Binomial Tree of the Underlying Price\n",
    "    * Binomial Tree of the Log Underlying Price"
   ]
  },
  {
   "cell_type": "code",
   "execution_count": 408,
   "metadata": {
    "collapsed": true
   },
   "outputs": [],
   "source": [
    "S = 10\n",
    "K = 10\n",
    "T = 0.5\n",
    "r = 0.05\n",
    "sigma = 0.3\n",
    "r_fun = lambda x: 0.05*(1+0.01*x)\n",
    "sigma_fun = lambda x: 0.3*(1+0.005*x)"
   ]
  },
  {
   "cell_type": "code",
   "execution_count": 386,
   "metadata": {
    "collapsed": false
   },
   "outputs": [
    {
     "data": {
      "text/plain": [
       "0.96348766284491827"
      ]
     },
     "execution_count": 386,
     "metadata": {},
     "output_type": "execute_result"
    }
   ],
   "source": [
    "blacksholes(S=10,K=10,T=0.5,r=0.05,sigma=0.3)"
   ]
  },
  {
   "cell_type": "code",
   "execution_count": 387,
   "metadata": {
    "collapsed": false
   },
   "outputs": [
    {
     "data": {
      "text/plain": [
       "0.98209100747289291"
      ]
     },
     "execution_count": 387,
     "metadata": {},
     "output_type": "execute_result"
    }
   ],
   "source": [
    "binomial.call(S=10,K=10,t=0.5,r=0.05,sigma=0.3,n=11)"
   ]
  },
  {
   "cell_type": "code",
   "execution_count": 410,
   "metadata": {
    "collapsed": false
   },
   "outputs": [
    {
     "name": "stdout",
     "output_type": "stream",
     "text": [
      "*************************************\n",
      "Constant Parameters:\n",
      "Black-Scholes: 0.9634876628449183\n",
      "Binomial: 0.9820910074728929\n",
      "*************************************\n",
      "Time-Varying Parameters:\n",
      "Binomial for Price: 0.9809325162400121\n",
      "Binomial for Log Price: 0.9809051524686501\n"
     ]
    }
   ],
   "source": [
    "const_BS = blacksholes(S=S,K=K,T=T,r=r,sigma=sigma)\n",
    "const_binomial = binomial.call(S=S,K=K,t=T,r=r,sigma=sigma,n=11)\n",
    "time_varying_binomial1 = time_deterministic_option(S=S,K=K,T=T,n=11,r_fun=r_fun, sigma_fun=sigma_fun)\n",
    "time_varying_binomial2 = time_deterministic_option2(S=S,K=K,T=T,n=11,r_fun=r_fun, sigma_fun=sigma_fun)\n",
    "print(\"*************************************\")\n",
    "print(\"Constant Parameters:\")\n",
    "print(\"Black-Scholes: {}\".format(const_BS))\n",
    "print(\"Binomial: {}\".format(const_binomial))\n",
    "print(\"*************************************\")\n",
    "print(\"Time-Varying Parameters:\")\n",
    "print(\"Binomial for Price: {}\".format(time_varying_binomial1))\n",
    "print(\"Binomial for Log Price: {}\".format(time_varying_binomial2))"
   ]
  },
  {
   "cell_type": "code",
   "execution_count": null,
   "metadata": {
    "collapsed": true
   },
   "outputs": [],
   "source": []
  }
 ],
 "metadata": {
  "kernelspec": {
   "display_name": "Python 3",
   "language": "python",
   "name": "python3"
  },
  "language_info": {
   "codemirror_mode": {
    "name": "ipython",
    "version": 3
   },
   "file_extension": ".py",
   "mimetype": "text/x-python",
   "name": "python",
   "nbconvert_exporter": "python",
   "pygments_lexer": "ipython3",
   "version": "3.6.0"
  }
 },
 "nbformat": 4,
 "nbformat_minor": 2
}
