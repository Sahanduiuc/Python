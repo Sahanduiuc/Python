{
 "cells": [
  {
   "cell_type": "code",
   "execution_count": 1,
   "metadata": {
    "collapsed": true
   },
   "outputs": [],
   "source": [
    "import numpy as np\n",
    "import scipy as sp\n",
    "import scipy.stats\n",
    "from cvxopt import matrix, solvers"
   ]
  },
  {
   "cell_type": "code",
   "execution_count": 2,
   "metadata": {
    "collapsed": true
   },
   "outputs": [],
   "source": [
    "risk_free_rate = 0.02\n",
    "time_to_maturity = 1\n",
    "volatility = 0.3\n",
    "strike = 100\n",
    "stock_price = 100\n",
    "n_trails = 1000\n",
    "n_steps = 200\n",
    "func_list = [lambda x: x**0, lambda x: x]"
   ]
  },
  {
   "cell_type": "code",
   "execution_count": 20,
   "metadata": {
    "collapsed": true
   },
   "outputs": [],
   "source": [
    "class MonteCarlo:\n",
    "    def __init__(self,S0,K,T,r,sigma,underlying_process=\"geometric brownian motion\"):\n",
    "        self.underlying_process = underlying_process\n",
    "        self.S0 = S0\n",
    "        self.K = K\n",
    "        self.T = T\n",
    "        self.r = r\n",
    "        self.sigma = sigma\n",
    "        \n",
    "    def simulate(self, n_trails, n_steps, antitheticVariates=False):\n",
    "        dt = self.T/n_steps\n",
    "        self.n_trails = n_trails\n",
    "        self.n_steps = n_steps\n",
    "        if(self.underlying_process==\"geometric brownian motion\"):\n",
    "#             first_step_prices = np.ones((n_trails,1))*np.log(self.S0)\n",
    "            log_price_matrix = np.zeros((n_trails,n_steps))\n",
    "            normal_matrix = np.random.normal(size=(n_trails,n_steps))\n",
    "            if(antitheticVariates==True):\n",
    "                n_trails *= 2\n",
    "                self.n_trails = n_trails\n",
    "                normal_matrix = np.concatenate((normal_matrix,-normal_matrix),axis=0)\n",
    "            cumsum_normal_matrix = normal_matrix.cumsum(axis=1)\n",
    "#             log_price_matrix = np.concatenate((first_step_prices,log_price_matrix),axis=1)\n",
    "            deviation_matrix = cumsum_normal_matrix*self.sigma*np.sqrt(dt) + \\\n",
    "    (self.r-self.sigma**2/2)*dt*np.arange(1,n_steps+1)\n",
    "            log_price_matrix = deviation_matrix+np.log(self.S0)\n",
    "            price_matrix = np.exp(log_price_matrix)\n",
    "            price_zero = (np.ones(n_trails)*self.S0)[:,np.newaxis]\n",
    "            price_matrix = np.concatenate((price_zero,price_matrix),axis=1)\n",
    "            self.price_matrix = price_matrix\n",
    "        return price_matrix\n",
    "    \n",
    "    def BlackScholesPricer(self,option_type='c'):\n",
    "        S = self.S0\n",
    "        K = self.K\n",
    "        T = self.T\n",
    "        r = self.r\n",
    "        sigma = self.sigma\n",
    "        d1 = (np.log(S/K)+r*T +0.5*sigma**2*T)/(sigma*np.sqrt(T))\n",
    "        d2 = d1 - sigma*np.sqrt(T)\n",
    "        N = lambda x: sp.stats.norm.cdf(x)\n",
    "        call = S * N(d1) - np.exp(-r*T) * K * N(d2)\n",
    "        put = call - S + K*np.exp(-r*T)\n",
    "        if(option_type==\"c\"):\n",
    "            return call\n",
    "        elif(option_type==\"p\"):\n",
    "            return put\n",
    "        else:\n",
    "            print(\"please enter the option type: (c/p)\")\n",
    "        pass\n",
    "    \n",
    "    def MCPricer(self,option_type='c'):\n",
    "        price_matrix = self.price_matrix\n",
    "        # k = n_steps\n",
    "        dt = self.T/self.n_steps\n",
    "        df = np.exp(- self.r*dt)\n",
    "        n_basis = len(func_list)\n",
    "        n_trails = self.n_trails\n",
    "        n_steps = self.n_steps\n",
    "        \n",
    "        if(option_type==\"c\"):\n",
    "            payoff = (price_matrix[:,n_steps] - strike)\n",
    "        elif(option_type==\"p\"):\n",
    "            payoff = (strike - price_matrix[:,n_steps])\n",
    "        else:\n",
    "            print(\"please enter the option type: (c/p)\")\n",
    "            return\n",
    "        \n",
    "        payoff = matrix(np.where(payoff<0,0,payoff))\n",
    "        vk = payoff*df\n",
    "        regular_mc_price = np.average(payoff*np.exp(-risk_free_rate*time_to_maturity))\n",
    "        self.mc_price = regular_mc_price\n",
    "        return regular_mc_price\n",
    "       \n",
    "    def OHMCPricer(self,option_type='c', func_list=[lambda x: x**0, lambda x: x]):\n",
    "        def _calculate_Q_matrix(S_k,S_kp1,df,func_list):\n",
    "            dS = df*S_kp1 - S_k\n",
    "            A = np.array([func(S_k) for func in func_list]).T\n",
    "            B = (np.array([func(S_k) for func in func_list])*dS).T\n",
    "            return np.concatenate((-A,B),axis=1)\n",
    "        \n",
    "        price_matrix = self.price_matrix\n",
    "        # k = n_steps\n",
    "        dt = self.T/self.n_steps\n",
    "        df = np.exp(- self.r*dt)\n",
    "        n_basis = len(func_list)\n",
    "        n_trails = self.n_trails\n",
    "        n_steps = self.n_steps\n",
    "        \n",
    "        if(option_type==\"c\"):\n",
    "            payoff = (price_matrix[:,n_steps] - strike)\n",
    "        elif(option_type==\"p\"):\n",
    "            payoff = (strike - price_matrix[:,n_steps])\n",
    "        else:\n",
    "            print(\"please enter the option type: (c/p)\")\n",
    "            return\n",
    "        \n",
    "        payoff = matrix(np.where(payoff<0,0,payoff))\n",
    "        vk = payoff*df\n",
    "#         print(\"regular MC price\",regular_mc_price)\n",
    "    \n",
    "        # k = 1,...,n_steps-1\n",
    "        for k in range(n_steps-1,0,-1):\n",
    "            Sk = price_matrix[:,k]\n",
    "            Skp1 = price_matrix[:,k+1]\n",
    "            Qk = matrix(_calculate_Q_matrix(Sk,Skp1,df,func_list))\n",
    "            P = Qk.T * Qk\n",
    "            q = Qk.T * vk\n",
    "            A = matrix(np.ones(n_trails,dtype=np.float64)).T * Qk\n",
    "            b = - matrix(np.ones(n_trails,dtype=np.float64)).T * vk\n",
    "            sol = solvers.coneqp(P=P,q=q,A=A,b=b)\n",
    "            ak = sol[\"x\"][:n_basis]\n",
    "            bk = sol[\"x\"][n_basis:]\n",
    "            vk = matrix(np.array([func(price_matrix[:,k]) for func in func_list])).T*ak*df\n",
    "        \n",
    "        # k = 0\n",
    "        v0 = vk\n",
    "        S0 = price_matrix[:,0]\n",
    "        S1 = price_matrix[:,1]\n",
    "        dS0 = df*S1 - S0\n",
    "        Q0 = np.concatenate((-np.ones(n_trails)[:,np.newaxis],dS0[:,np.newaxis]),axis=1)\n",
    "        Q0 = matrix(Q0)\n",
    "        P = Q0.T*Q0\n",
    "        q = Q0.T*v0\n",
    "        A = matrix(np.ones(n_trails,dtype=np.float64)).T * Q0\n",
    "        b = - matrix(np.ones(n_trails,dtype=np.float64)).T * v0\n",
    "        C1 = matrix(ak).T * np.array([func(S1) for func in func_list]).T\n",
    "        sol = solvers.coneqp(P=P,q=q,A=A,b=b)\n",
    "        self.sol = sol\n",
    "        residual_risk = (v0.T*v0 + 2*sol[\"primal objective\"])/n_trails\n",
    "        self.residual_risk = residual_risk[0]    # the value of unit matrix\n",
    "        \n",
    "        return sol[\"x\"][0]\n",
    "    \n",
    "    \n",
    "        \n",
    "    def pricing(self, option_type='c', func_list=[lambda x: x**0, lambda x: x]):\n",
    "        OHMC_price = self.OHMCPricer(option_type=option_type,func_list=func_list)\n",
    "        regular_mc_price = self.MCPricer(option_type=option_type)\n",
    "        black_sholes_price = self.BlackScholesPricer(option_type)\n",
    "        return({\"OHMC\": OHMC_price,\"regular MC\": regular_mc_price,\"Black-Scholes\":black_sholes_price})\n",
    "    \n",
    "    def hedging(self):\n",
    "        S = self.S0\n",
    "        K = self.K\n",
    "        T = self.T\n",
    "        r = self.r\n",
    "        sigma = self.sigma\n",
    "        d1 = (np.log(S/K)+r*T +0.5*sigma**2*T)/(sigma*np.sqrt(T))\n",
    "        d2 = d1 - sigma*np.sqrt(T)\n",
    "        N = lambda x: sp.stats.norm.cdf(x)\n",
    "        return({\"OHMC optimal hedge\": self.sol[\"x\"][1],\"Black-Scholes delta hedge\":-N(d1),\"OHMC residual risk\":self.residual_risk})\n",
    "        \n",
    "    "
   ]
  },
  {
   "cell_type": "code",
   "execution_count": 21,
   "metadata": {
    "collapsed": true
   },
   "outputs": [],
   "source": [
    "mc = MonteCarlo(stock_price,strike,time_to_maturity,risk_free_rate,volatility)"
   ]
  },
  {
   "cell_type": "code",
   "execution_count": 22,
   "metadata": {
    "collapsed": false
   },
   "outputs": [
    {
     "data": {
      "text/plain": [
       "{'Black-Scholes': 12.821581392691421,\n",
       " 'OHMC': 13.345148910636944,\n",
       " 'regular MC': 13.582320984915823}"
      ]
     },
     "execution_count": 22,
     "metadata": {},
     "output_type": "execute_result"
    }
   ],
   "source": [
    "price_matrix = mc.simulate(n_trails,n_steps,antitheticVariates=True)\n",
    "mc.pricing()"
   ]
  },
  {
   "cell_type": "code",
   "execution_count": 23,
   "metadata": {
    "collapsed": false
   },
   "outputs": [
    {
     "data": {
      "text/plain": [
       "12.156955274410789"
      ]
     },
     "execution_count": 23,
     "metadata": {},
     "output_type": "execute_result"
    }
   ],
   "source": [
    "price_matrix = mc.simulate(n_trails,n_steps,antitheticVariates=True)\n",
    "mc.MCPricer('c')"
   ]
  },
  {
   "cell_type": "code",
   "execution_count": 5,
   "metadata": {
    "collapsed": true
   },
   "outputs": [],
   "source": [
    "price_matrix = mc.simulate(n_trails,n_steps)"
   ]
  },
  {
   "cell_type": "code",
   "execution_count": 6,
   "metadata": {
    "collapsed": false
   },
   "outputs": [
    {
     "name": "stdout",
     "output_type": "stream",
     "text": [
      "{'OHMC': 12.753994069215569, 'regular MC': 13.099527764158509, 'Black-Scholes': 12.821581392691421}\n"
     ]
    }
   ],
   "source": [
    "prices = mc.pricing(func_list=func_list)\n",
    "print(prices)"
   ]
  },
  {
   "cell_type": "code",
   "execution_count": null,
   "metadata": {
    "collapsed": true
   },
   "outputs": [],
   "source": []
  }
 ],
 "metadata": {
  "kernelspec": {
   "display_name": "Python 3",
   "language": "python",
   "name": "python3"
  },
  "language_info": {
   "codemirror_mode": {
    "name": "ipython",
    "version": 3
   },
   "file_extension": ".py",
   "mimetype": "text/x-python",
   "name": "python",
   "nbconvert_exporter": "python",
   "pygments_lexer": "ipython3",
   "version": "3.6.0"
  }
 },
 "nbformat": 4,
 "nbformat_minor": 2
}
