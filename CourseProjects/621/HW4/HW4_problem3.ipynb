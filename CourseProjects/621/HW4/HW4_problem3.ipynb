{
 "cells": [
  {
   "cell_type": "markdown",
   "metadata": {},
   "source": [
    "# 3 Multiple Monte Carlo Processes\n",
    "\n",
    "$$\n",
    "dX_t = 0.01 X_t dt + 0.3 X_t dW_t^1, \\quad X_0 = 80\\\\\n",
    "dY_t = 100(90000 + 1000t -Y_t)dt + \\sqrt{Y_t}dW_t^2,\\quad Y_0=90000\\\\\n",
    "dZ_t = 5(6-Z_t) + 0.01\\sqrt{Z_t} dW_t^3,\\quad Z_0 = 6.1\n",
    "$$"
   ]
  },
  {
   "cell_type": "code",
   "execution_count": 3,
   "metadata": {},
   "outputs": [],
   "source": [
    "import numpy as np\n",
    "import scipy as sp\n",
    "import scipy.stats\n",
    "from cvxopt import matrix, solvers\n",
    "import pandas as pd"
   ]
  },
  {
   "cell_type": "code",
   "execution_count": 108,
   "metadata": {},
   "outputs": [],
   "source": [
    "# X\n",
    "risk_free_rate = 0.01\n",
    "dividend = 0\n",
    "volatility = 0.3\n",
    "X0 = 80\n",
    "\n",
    "# Y\n",
    "Y0 = 90000\n",
    "kappaY = 100\n",
    "thetaY = 90000\n",
    "theta1Y = 1000\n",
    "xiY = 1\n",
    "\n",
    "# Z\n",
    "Z0 = 6.1\n",
    "kappaZ = 5\n",
    "thetaZ = 6\n",
    "xiZ = 0.01\n",
    "\n",
    "T = 10/252\n",
    "n_trials = 3000000\n",
    "n_steps = 40"
   ]
  },
  {
   "cell_type": "code",
   "execution_count": 105,
   "metadata": {},
   "outputs": [],
   "source": [
    "class MonteCarloEngine:\n",
    "    def __init__(self,S0=100,T=1,r=0,q=0,sigma=0,kappa=0,theta=0,theta1=0,xi=0,rho=0,V0=0,underlying_process=\"geometric brownian motion\"):\n",
    "        self.underlying_process = underlying_process\n",
    "        self.S0 = S0\n",
    "        self.T = T\n",
    "        self.r = r\n",
    "        self.q = q\n",
    "        self.sigma = sigma\n",
    "        self.kappa = kappa\n",
    "        self.theta = theta\n",
    "        self.theta1 = theta1\n",
    "        self.rho = rho\n",
    "        self.V0 = V0\n",
    "        self.xi = xi\n",
    "        \n",
    "        self.value_results = None\n",
    "    \n",
    "    # view antithetic variates as a option of simulation method to reduce the variance    \n",
    "    def simulate(self, n_trails, n_steps, antitheticVariates=False, boundaryScheme=\"Higham and Mao\"):\n",
    "        \n",
    "        dt = self.T/n_steps\n",
    "        mu = self.r - self.q\n",
    "        self.n_trails = n_trails\n",
    "        self.n_steps = n_steps\n",
    "        self.boundaryScheme = boundaryScheme\n",
    "        \n",
    "        if(self.underlying_process==\"geometric brownian motion\"):\n",
    "#             first_step_prices = np.ones((n_trails,1))*np.log(self.S0)\n",
    "            log_price_matrix = np.zeros((n_trails,n_steps))\n",
    "            normal_matrix = np.random.normal(size=(n_trails,n_steps))\n",
    "            if(antitheticVariates==True):\n",
    "                n_trails *= 2\n",
    "                self.n_trails = n_trails\n",
    "                normal_matrix = np.concatenate((normal_matrix,-normal_matrix),axis=0)\n",
    "            cumsum_normal_matrix = normal_matrix.cumsum(axis=1)\n",
    "#             log_price_matrix = np.concatenate((first_step_prices,log_price_matrix),axis=1)\n",
    "            deviation_matrix = cumsum_normal_matrix*self.sigma*np.sqrt(dt) + \\\n",
    "    (mu-self.sigma**2/2)*dt*np.arange(1,n_steps+1)\n",
    "            log_price_matrix = deviation_matrix+np.log(self.S0)\n",
    "            price_matrix = np.exp(log_price_matrix)\n",
    "            price_zero = (np.ones(n_trails)*self.S0)[:,np.newaxis]\n",
    "            price_matrix = np.concatenate((price_zero,price_matrix),axis=1)\n",
    "            self.price_matrix = price_matrix\n",
    "        \n",
    "        elif(self.underlying_process==\"CIR model\"):\n",
    "            # generate correlated random variables\n",
    "            randn_matrix_v = np.random.normal(size=(n_trails,n_steps))\n",
    "            if(antitheticVariates==True):\n",
    "                n_trails *= 2\n",
    "                self.n_trails = n_trails\n",
    "                randn_matrix_v = np.concatenate(( randn_matrix_v, -randn_matrix_v),axis=0)\n",
    "\n",
    "            # boundary scheme fuctions\n",
    "            if(boundaryScheme==\"absorption\"):\n",
    "                f1=f2=f3=lambda x: np.maximum(x,0)\n",
    "            elif(boundaryScheme==\"reflection\"):\n",
    "                f1=f2=f3=np.absolute\n",
    "            elif(boundaryScheme==\"Higham and Mao\"):\n",
    "                f1=f2=lambda x: x\n",
    "                f3 = np.absolute\n",
    "            elif(boundaryScheme==\"partial truncation\"):\n",
    "                f1=f2=lambda x: x\n",
    "                f3=lambda x: np.maximum(x,0)\n",
    "            elif(boundaryScheme==\"full truncation\"):\n",
    "                f1 = lambda x: x\n",
    "                f2=f3= lambda x: np.maximum(x,0)\n",
    "            \n",
    "            # simulate CIR process\n",
    "            V_matrix = np.zeros((n_trails,n_steps+1))\n",
    "            V_matrix[:,0] = self.S0\n",
    "\n",
    "            for j in range(self.n_steps):\n",
    "                V_matrix[:,j+1] = f1(V_matrix[:,j]) - self.kappa*dt*(f2(V_matrix[:,j])-self.theta-self.theta1*dt*j) +\\\n",
    "                    self.xi*np.sqrt(f3(V_matrix[:,j]))*np.sqrt(dt)*randn_matrix_v[:,j]\n",
    "                V_matrix[:,j+1] = f3(V_matrix[:,j+1])\n",
    "                \n",
    "            price_matrix = V_matrix\n",
    "            self.price_matrix = price_matrix\n",
    "            \n",
    "        \n",
    "        elif(self.underlying_process==\"Heston model\"):\n",
    "            # generate correlated random variables\n",
    "            randn_matrix_1 = np.random.normal(size=(n_trails,n_steps))\n",
    "            randn_matrix_2 = np.random.normal(size=(n_trails,n_steps))\n",
    "            randn_matrix_v = randn_matrix_1\n",
    "            randn_matrix_S = self.rho*randn_matrix_1 + np.sqrt(1-self.rho**2)*randn_matrix_2\n",
    "            if(antitheticVariates==True):\n",
    "                n_trails *= 2\n",
    "                self.n_trails = n_trails\n",
    "                randn_matrix_v = np.concatenate(( randn_matrix_v, +randn_matrix_v),axis=0)\n",
    "                randn_matrix_S = np.concatenate(( randn_matrix_S, -randn_matrix_S),axis=0)\n",
    "\n",
    "            # boundary scheme fuctions\n",
    "            if(boundaryScheme==\"absorption\"):\n",
    "                f1=f2=f3=lambda x: np.maximum(x,0)\n",
    "            elif(boundaryScheme==\"reflection\"):\n",
    "                f1=f2=f3=np.absolute\n",
    "            elif(boundaryScheme==\"Higham and Mao\"):\n",
    "                f1=f2=lambda x: x\n",
    "                f3 = np.absolute\n",
    "            elif(boundaryScheme==\"partial truncation\"):\n",
    "                f1=f2=lambda x: x\n",
    "                f3=lambda x: np.maximum(x,0)\n",
    "            elif(boundaryScheme==\"full truncation\"):\n",
    "                f1 = lambda x: x\n",
    "                f2=f3= lambda x: np.maximum(x,0)\n",
    "            \n",
    "            # simulate stochastic volatility process\n",
    "            V_matrix = np.zeros((n_trails,n_steps+1))\n",
    "            V_matrix[:,0] = self.V0\n",
    "            log_price_matrix = np.zeros((n_trails,n_steps+1))\n",
    "            log_price_matrix[:,0] = np.log(self.S0)\n",
    "            for j in range(self.n_steps):\n",
    "#                 V_matrix[:,j+1] = self.kappa*self.theta*dt + (1-self.kappa*dt)*V_matrix[:,j] +\\\n",
    "#                     self.xi*np.sqrt(V_matrix[:,j]*dt)*randn_matrix_v[:,j]\n",
    "                V_matrix[:,j+1] = f1(V_matrix[:,j]) - self.kappa*dt*(f2(V_matrix[:,j])-self.theta) +\\\n",
    "                    self.xi*np.sqrt(f3(V_matrix[:,j]))*np.sqrt(dt)*randn_matrix_v[:,j]\n",
    "                V_matrix[:,j+1] = f3(V_matrix[:,j+1])\n",
    "                log_price_matrix[:,j+1] = log_price_matrix[:,j] + (mu - V_matrix[:,j]/2)*dt +\\\n",
    "                    np.sqrt(V_matrix[:,j]*dt)*randn_matrix_S[:,j]\n",
    "            price_matrix = np.exp(log_price_matrix)\n",
    "            self.price_matrix = price_matrix\n",
    "            \n",
    "        return price_matrix\n",
    "    "
   ]
  },
  {
   "cell_type": "code",
   "execution_count": 109,
   "metadata": {},
   "outputs": [],
   "source": [
    "mc_X = MonteCarloEngine(S0=X0,T=T,r=risk_free_rate,q=0,sigma=volatility)\n",
    "mc_Y = MonteCarloEngine(S0=Y0,T=T,kappa=kappaY,theta=thetaY,theta1=theta1Y,xi=xi,underlying_process=\"CIR model\")\n",
    "mc_Z = MonteCarloEngine(S0=Z0,T=T,kappa=kappaZ,theta=thetaZ,xi=xi,underlying_process=\"CIR model\")"
   ]
  },
  {
   "cell_type": "code",
   "execution_count": 110,
   "metadata": {},
   "outputs": [],
   "source": [
    "price_matrix_X = mc_X.simulate(n_trails=n_trials,n_steps=n_steps)\n",
    "price_matrix_Y = mc_Y.simulate(n_trails=n_trials,n_steps=n_steps,boundaryScheme=\"Higham and Mao\")\n",
    "price_matrix_Z = mc_Z.simulate(n_trails=n_trials,n_steps=n_steps,boundaryScheme=\"Higham and Mao\")"
   ]
  },
  {
   "cell_type": "markdown",
   "metadata": {},
   "source": [
    "### 1. Calculate the number of shares and the amount in Yuan that the portfolio contains when it is started.\n",
    "\n",
    "$$\n",
    "nShares = \\frac{10m \\times 40\\%}{X_0} = 0.05m = 50000\\\\\n",
    "nTBills = \\frac{10m \\times 30\\%}{90000} = \\frac{100}{3}\\\\\n",
    "nCNY = 10m \\times 30\\% \\times Z_0 = 18300000\n",
    "$$"
   ]
  },
  {
   "cell_type": "markdown",
   "metadata": {},
   "source": [
    "### 2. Assume the Brownian motions are independent and perform Monte Carlo simulations for all assets for 10 days (t = 10/252). Use 3 million simulations, and use $\\Delta t = 0.001$. Calculate VAR for the portfolio ($\\alpha = 0.01$, N = 10 days).\n",
    "\n",
    "Since T=10/252 cannot perfectly divided by $\\Delta t=0.001$, set number of trials as\n",
    "$$N_s = \\lceil\\frac{T}{\\Delta t}\\rceil = 40$$\n",
    "\n",
    "There are two ways to calculate value at risk, one is empirical method, the other is using calibrated distribution. Here we use the latter strategy: using normal distribution to fit the distribution.\n",
    "\n",
    "### 3. Calculate the CVAR (conditional value at risk).\n",
    "CVaR equals to the average returns under the $VaR(\\alpha)$"
   ]
  },
  {
   "cell_type": "code",
   "execution_count": 111,
   "metadata": {},
   "outputs": [],
   "source": [
    "import numpy as np\n",
    "import matplotlib.mlab as mlab\n",
    "import matplotlib.pyplot as plt"
   ]
  },
  {
   "cell_type": "code",
   "execution_count": 144,
   "metadata": {},
   "outputs": [],
   "source": [
    "def calc_VaR(x,alpha):\n",
    "    mu = np.mean(x)\n",
    "    sigma = np.std(x)\n",
    "    num_bins = 50\n",
    "\n",
    "    # the histogram of the data\n",
    "    n, bins, patches = plt.hist(x, num_bins, normed=1, facecolor='green', alpha=0.5)\n",
    "    # add a 'best fit' line\n",
    "    y = mlab.normpdf(bins, mu, sigma)\n",
    "    plt.plot(bins, y, 'r--')\n",
    "    plt.xlabel('Smarts')\n",
    "    plt.ylabel('Probability')\n",
    "    \n",
    "    VaR = sp.stats.norm.ppf(alpha,loc=mu,scale=sigma)\n",
    "    plt.axvline(x=VaR, color='k', linestyle='--')\n",
    "    CVaR = x[x<VaR].mean()\n",
    "    print(\"expected return: {:f}\".format(x.mean()))\n",
    "    print(\"{}% Value at Risk: {:f}\".format((1-alpha)*100,VaR))\n",
    "    print(\"{}% Conditional Value at Risk: {:f}\".format((1-alpha)*100,CVaR))"
   ]
  },
  {
   "cell_type": "code",
   "execution_count": 145,
   "metadata": {},
   "outputs": [
    {
     "name": "stdout",
     "output_type": "stream",
     "text": [
      "expected return: 0.001746\n",
      "99.0% Value at Risk: -0.062291\n",
      "99.0% Conditional Value at Risk: -0.070220\n"
     ]
    },
    {
     "name": "stderr",
     "output_type": "stream",
     "text": [
      "D:\\Softwares\\Anaconda3\\envs\\py36\\lib\\site-packages\\matplotlib\\axes\\_axes.py:6462: UserWarning: The 'normed' kwarg is deprecated, and has been replaced by the 'density' kwarg.\n",
      "  warnings.warn(\"The 'normed' kwarg is deprecated, and has been \"\n",
      "D:\\Softwares\\Anaconda3\\envs\\py36\\lib\\site-packages\\ipykernel_launcher.py:9: MatplotlibDeprecationWarning: scipy.stats.norm.pdf\n",
      "  if __name__ == '__main__':\n"
     ]
    },
    {
     "data": {
      "image/png": "[encoded data removed]",
      "text/plain": [
       "<Figure size 432x288 with 1 Axes>"
      ]
     },
     "metadata": {},
     "output_type": "display_data"
    }
   ],
   "source": [
    "alpha=0.01\n",
    "portfolio_value = price_matrix_X[:,-1]*50000 + price_matrix_Y[:,-1]*100/3 + 18.3e6/price_matrix_Z[:,-1]\n",
    "portfolio_return = portfolio_value/1e7 - 1\n",
    "calc_VaR(portfolio_return,alpha)"
   ]
  },
  {
   "cell_type": "code",
   "execution_count": 70,
   "metadata": {},
   "outputs": [
    {
     "data": {
      "text/plain": [
       "6.887722106237097"
      ]
     },
     "execution_count": 70,
     "metadata": {},
     "output_type": "execute_result"
    }
   ],
   "source": [
    "mc.BSDeltaHedgedPricer()"
   ]
  },
  {
   "cell_type": "code",
   "execution_count": null,
   "metadata": {},
   "outputs": [],
   "source": []
  }
 ],
 "metadata": {
  "kernelspec": {
   "display_name": "Python 3",
   "language": "python",
   "name": "python3"
  },
  "language_info": {
   "codemirror_mode": {
    "name": "ipython",
    "version": 3
   },
   "file_extension": ".py",
   "mimetype": "text/x-python",
   "name": "python",
   "nbconvert_exporter": "python",
   "pygments_lexer": "ipython3",
   "version": "3.6.5"
  }
 },
 "nbformat": 4,
 "nbformat_minor": 2
}
