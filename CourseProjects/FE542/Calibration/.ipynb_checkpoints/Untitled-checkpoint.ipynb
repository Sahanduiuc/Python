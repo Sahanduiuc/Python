{
 "cells": [
  {
   "cell_type": "code",
   "execution_count": 1,
   "metadata": {
    "collapsed": true
   },
   "outputs": [],
   "source": [
    "import statsmodels.api as sm\n",
    "import numpy as np"
   ]
  },
  {
   "cell_type": "markdown",
   "metadata": {},
   "source": [
    "## 1. AR Models"
   ]
  },
  {
   "cell_type": "markdown",
   "metadata": {},
   "source": [
    "### (a) Search for 4 parameters $\\phi_1 \\cdots \\phi_4$ such that the corresponding AR(4) model is stationary. Choose your own $\\sigma_{\\epsilon}$ value for the variance of the gaussian white noise. Generate 4 years worth of data points (1008 observations). Calculate ACF and PACF for the data that you generated."
   ]
  },
  {
   "cell_type": "markdown",
   "metadata": {},
   "source": [
    "* AR(4) model parameters setting"
   ]
  },
  {
   "cell_type": "code",
   "execution_count": 2,
   "metadata": {
    "collapsed": false
   },
   "outputs": [],
   "source": [
    "arparams = np.array([-0.4,0.6,0.15,-0.1])\n",
    "ar = np.r_[1,-arparams]\n",
    "arma_process = sm.tsa.ArmaProcess(ar,[1])"
   ]
  },
  {
   "cell_type": "markdown",
   "metadata": {},
   "source": [
    "* Stationarity and invertibility"
   ]
  },
  {
   "cell_type": "code",
   "execution_count": 3,
   "metadata": {
    "collapsed": false
   },
   "outputs": [
    {
     "data": {
      "text/plain": [
       "True"
      ]
     },
     "execution_count": 3,
     "metadata": {},
     "output_type": "execute_result"
    }
   ],
   "source": [
    "arma_process.isstationary"
   ]
  },
  {
   "cell_type": "code",
   "execution_count": 4,
   "metadata": {
    "collapsed": false
   },
   "outputs": [
    {
     "data": {
      "text/plain": [
       "True"
      ]
     },
     "execution_count": 4,
     "metadata": {},
     "output_type": "execute_result"
    }
   ],
   "source": [
    "arma_process.isinvertible"
   ]
  },
  {
   "cell_type": "markdown",
   "metadata": {},
   "source": [
    "* Generate samples with chosen standard deviation noise equals to 0.1"
   ]
  },
  {
   "cell_type": "code",
   "execution_count": 5,
   "metadata": {
    "collapsed": true
   },
   "outputs": [],
   "source": [
    "y = arma_process.generate_sample(nsample=1008,scale=0.1)"
   ]
  },
  {
   "cell_type": "markdown",
   "metadata": {
    "collapsed": true
   },
   "source": [
    "* Fit data"
   ]
  },
  {
   "cell_type": "code",
   "execution_count": 6,
   "metadata": {
    "collapsed": false
   },
   "outputs": [],
   "source": [
    "model = sm.tsa.ARMA(y,(4,0)).fit(trend='nc')"
   ]
  },
  {
   "cell_type": "code",
   "execution_count": 7,
   "metadata": {
    "collapsed": false
   },
   "outputs": [
    {
     "data": {
      "text/plain": [
       "array([-0.39926036,  0.57584369,  0.14407966, -0.08935232])"
      ]
     },
     "execution_count": 7,
     "metadata": {},
     "output_type": "execute_result"
    }
   ],
   "source": [
    "model.params"
   ]
  },
  {
   "cell_type": "code",
   "execution_count": 8,
   "metadata": {
    "collapsed": false
   },
   "outputs": [
    {
     "data": {
      "text/html": [
       "<table class=\"simpletable\">\n",
       "<caption>ARMA Model Results</caption>\n",
       "<tr>\n",
       "  <th>Dep. Variable:</th>         <td>y</td>        <th>  No. Observations:  </th>   <td>1008</td>   \n",
       "</tr>\n",
       "<tr>\n",
       "  <th>Model:</th>            <td>ARMA(4, 0)</td>    <th>  Log Likelihood     </th>  <td>874.526</td> \n",
       "</tr>\n",
       "<tr>\n",
       "  <th>Method:</th>             <td>css-mle</td>     <th>  S.D. of innovations</th>   <td>0.102</td>  \n",
       "</tr>\n",
       "<tr>\n",
       "  <th>Date:</th>          <td>Thu, 15 Mar 2018</td> <th>  AIC                </th> <td>-1739.052</td>\n",
       "</tr>\n",
       "<tr>\n",
       "  <th>Time:</th>              <td>18:28:05</td>     <th>  BIC                </th> <td>-1714.474</td>\n",
       "</tr>\n",
       "<tr>\n",
       "  <th>Sample:</th>                <td>0</td>        <th>  HQIC               </th> <td>-1729.714</td>\n",
       "</tr>\n",
       "<tr>\n",
       "  <th></th>                       <td> </td>        <th>                     </th>     <td> </td>    \n",
       "</tr>\n",
       "</table>\n",
       "<table class=\"simpletable\">\n",
       "<tr>\n",
       "     <td></td>        <th>coef</th>     <th>std err</th>      <th>z</th>      <th>P>|z|</th> <th>[95.0% Conf. Int.]</th> \n",
       "</tr>\n",
       "<tr>\n",
       "  <th>ar.L1.y</th> <td>   -0.3993</td> <td>    0.031</td> <td>  -12.723</td> <td> 0.000</td> <td>   -0.461    -0.338</td>\n",
       "</tr>\n",
       "<tr>\n",
       "  <th>ar.L2.y</th> <td>    0.5758</td> <td>    0.034</td> <td>   17.181</td> <td> 0.000</td> <td>    0.510     0.642</td>\n",
       "</tr>\n",
       "<tr>\n",
       "  <th>ar.L3.y</th> <td>    0.1441</td> <td>    0.034</td> <td>    4.296</td> <td> 0.000</td> <td>    0.078     0.210</td>\n",
       "</tr>\n",
       "<tr>\n",
       "  <th>ar.L4.y</th> <td>   -0.0894</td> <td>    0.031</td> <td>   -2.845</td> <td> 0.005</td> <td>   -0.151    -0.028</td>\n",
       "</tr>\n",
       "</table>\n",
       "<table class=\"simpletable\">\n",
       "<caption>Roots</caption>\n",
       "<tr>\n",
       "    <td></td>   <th>           Real</th> <th>         Imaginary</th> <th>         Modulus</th> <th>        Frequency</th>\n",
       "</tr>\n",
       "<tr>\n",
       "  <th>AR.1</th>              -1.4888                    -0.1867j                    1.5004                   -0.4801     \n",
       "</tr>\n",
       "<tr>\n",
       "  <th>AR.2</th>              -1.4888                    +0.1867j                    1.5004                    0.4801     \n",
       "</tr>\n",
       "<tr>\n",
       "  <th>AR.3</th>               1.7510                    -0.0000j                    1.7510                   -0.0000     \n",
       "</tr>\n",
       "<tr>\n",
       "  <th>AR.4</th>               2.8390                    -0.0000j                    2.8390                   -0.0000     \n",
       "</tr>\n",
       "</table>"
      ],
      "text/plain": [
       "<class 'statsmodels.iolib.summary.Summary'>\n",
       "\"\"\"\n",
       "                              ARMA Model Results                              \n",
       "==============================================================================\n",
       "Dep. Variable:                      y   No. Observations:                 1008\n",
       "Model:                     ARMA(4, 0)   Log Likelihood                 874.526\n",
       "Method:                       css-mle   S.D. of innovations              0.102\n",
       "Date:                Thu, 15 Mar 2018   AIC                          -1739.052\n",
       "Time:                        18:28:05   BIC                          -1714.474\n",
       "Sample:                             0   HQIC                         -1729.714\n",
       "                                                                              \n",
       "==============================================================================\n",
       "                 coef    std err          z      P>|z|      [95.0% Conf. Int.]\n",
       "------------------------------------------------------------------------------\n",
       "ar.L1.y       -0.3993      0.031    -12.723      0.000        -0.461    -0.338\n",
       "ar.L2.y        0.5758      0.034     17.181      0.000         0.510     0.642\n",
       "ar.L3.y        0.1441      0.034      4.296      0.000         0.078     0.210\n",
       "ar.L4.y       -0.0894      0.031     -2.845      0.005        -0.151    -0.028\n",
       "                                    Roots                                    \n",
       "=============================================================================\n",
       "                 Real           Imaginary           Modulus         Frequency\n",
       "-----------------------------------------------------------------------------\n",
       "AR.1           -1.4888           -0.1867j            1.5004           -0.4801\n",
       "AR.2           -1.4888           +0.1867j            1.5004            0.4801\n",
       "AR.3            1.7510           -0.0000j            1.7510           -0.0000\n",
       "AR.4            2.8390           -0.0000j            2.8390           -0.0000\n",
       "-----------------------------------------------------------------------------\n",
       "\"\"\""
      ]
     },
     "execution_count": 8,
     "metadata": {},
     "output_type": "execute_result"
    }
   ],
   "source": [
    "model.summary()"
   ]
  },
  {
   "cell_type": "code",
   "execution_count": 9,
   "metadata": {
    "collapsed": true
   },
   "outputs": [],
   "source": [
    "# autocorrelation\n",
    "import matplotlib.pyplot as plt\n",
    "def autocorrelation_check(timeseries,alpha):\n",
    "    fig = plt.figure(figsize=(12,8))\n",
    "    ax1 = fig.add_subplot(211)\n",
    "    fig = sm.graphics.tsa.plot_acf(timeseries, alpha=alpha, lags=40, ax=ax1)\n",
    "    ax2 = fig.add_subplot(212)\n",
    "    fig = sm.graphics.tsa.plot_pacf(timeseries, alpha=alpha, lags=40, ax=ax2)\n",
    "    plt.show()"
   ]
  },
  {
   "cell_type": "code",
   "execution_count": 10,
   "metadata": {
    "collapsed": false
   },
   "outputs": [
    {
     "data": {
      "image/png": "[encoded data removed]",
      "text/plain": [
       "<matplotlib.figure.Figure at 0x1f35d606c88>"
      ]
     },
     "metadata": {},
     "output_type": "display_data"
    }
   ],
   "source": [
    "autocorrelation_check(y,0.05)"
   ]
  },
  {
   "cell_type": "markdown",
   "metadata": {},
   "source": [
    "### (b) Write a paragraph detailing the differences between the two graphs. What is the recommended order of the corresponding model based on the data and the graphs you plotted?"
   ]
  },
  {
   "cell_type": "markdown",
   "metadata": {},
   "source": [
    ">ACF: Autocorrelation Function ACF(h) is the correlation between data with different lags. And it's assumed to be invariant as process to be stationary.\n",
    "\n",
    ">PACF: Partial Autocorrelation function PACF(h) is the conditional correlation between $x_t$ and $x_{t-h}$, conditional on $x_{t-h+1}, \\cdots, x_{t-1}$. It can be viewed as an added attribution of $x_{t-h}$ to $x_{t}$ over an AR(h-1) model.\n",
    "\n",
    ">Based on the **PACF** graph, using 5% significant level, we identify an AR(4) model for the data (i.e. p=4)"
   ]
  },
  {
   "cell_type": "markdown",
   "metadata": {},
   "source": [
    "### (c) Using a method of your choice and the recommended order from the previous point estimate the parameters present in the model. Benchmark the estimates with respect to the known parameter values. Remember to pay attention to the form of the model used (standard or alternate form)."
   ]
  },
  {
   "cell_type": "code",
   "execution_count": 11,
   "metadata": {
    "collapsed": true
   },
   "outputs": [],
   "source": [
    "model = sm.tsa.ARMA(y,(4,0)).fit(trend='nc')"
   ]
  },
  {
   "cell_type": "code",
   "execution_count": 12,
   "metadata": {
    "collapsed": false
   },
   "outputs": [
    {
     "data": {
      "text/plain": [
       "array([-0.39926036,  0.57584369,  0.14407966, -0.08935232])"
      ]
     },
     "execution_count": 12,
     "metadata": {},
     "output_type": "execute_result"
    }
   ],
   "source": [
    "model.params"
   ]
  },
  {
   "cell_type": "code",
   "execution_count": 13,
   "metadata": {
    "collapsed": false
   },
   "outputs": [
    {
     "data": {
      "text/html": [
       "<table class=\"simpletable\">\n",
       "<caption>ARMA Model Results</caption>\n",
       "<tr>\n",
       "  <th>Dep. Variable:</th>         <td>y</td>        <th>  No. Observations:  </th>   <td>1008</td>   \n",
       "</tr>\n",
       "<tr>\n",
       "  <th>Model:</th>            <td>ARMA(4, 0)</td>    <th>  Log Likelihood     </th>  <td>874.526</td> \n",
       "</tr>\n",
       "<tr>\n",
       "  <th>Method:</th>             <td>css-mle</td>     <th>  S.D. of innovations</th>   <td>0.102</td>  \n",
       "</tr>\n",
       "<tr>\n",
       "  <th>Date:</th>          <td>Thu, 15 Mar 2018</td> <th>  AIC                </th> <td>-1739.052</td>\n",
       "</tr>\n",
       "<tr>\n",
       "  <th>Time:</th>              <td>18:28:07</td>     <th>  BIC                </th> <td>-1714.474</td>\n",
       "</tr>\n",
       "<tr>\n",
       "  <th>Sample:</th>                <td>0</td>        <th>  HQIC               </th> <td>-1729.714</td>\n",
       "</tr>\n",
       "<tr>\n",
       "  <th></th>                       <td> </td>        <th>                     </th>     <td> </td>    \n",
       "</tr>\n",
       "</table>\n",
       "<table class=\"simpletable\">\n",
       "<tr>\n",
       "     <td></td>        <th>coef</th>     <th>std err</th>      <th>z</th>      <th>P>|z|</th> <th>[95.0% Conf. Int.]</th> \n",
       "</tr>\n",
       "<tr>\n",
       "  <th>ar.L1.y</th> <td>   -0.3993</td> <td>    0.031</td> <td>  -12.723</td> <td> 0.000</td> <td>   -0.461    -0.338</td>\n",
       "</tr>\n",
       "<tr>\n",
       "  <th>ar.L2.y</th> <td>    0.5758</td> <td>    0.034</td> <td>   17.181</td> <td> 0.000</td> <td>    0.510     0.642</td>\n",
       "</tr>\n",
       "<tr>\n",
       "  <th>ar.L3.y</th> <td>    0.1441</td> <td>    0.034</td> <td>    4.296</td> <td> 0.000</td> <td>    0.078     0.210</td>\n",
       "</tr>\n",
       "<tr>\n",
       "  <th>ar.L4.y</th> <td>   -0.0894</td> <td>    0.031</td> <td>   -2.845</td> <td> 0.005</td> <td>   -0.151    -0.028</td>\n",
       "</tr>\n",
       "</table>\n",
       "<table class=\"simpletable\">\n",
       "<caption>Roots</caption>\n",
       "<tr>\n",
       "    <td></td>   <th>           Real</th> <th>         Imaginary</th> <th>         Modulus</th> <th>        Frequency</th>\n",
       "</tr>\n",
       "<tr>\n",
       "  <th>AR.1</th>              -1.4888                    -0.1867j                    1.5004                   -0.4801     \n",
       "</tr>\n",
       "<tr>\n",
       "  <th>AR.2</th>              -1.4888                    +0.1867j                    1.5004                    0.4801     \n",
       "</tr>\n",
       "<tr>\n",
       "  <th>AR.3</th>               1.7510                    -0.0000j                    1.7510                   -0.0000     \n",
       "</tr>\n",
       "<tr>\n",
       "  <th>AR.4</th>               2.8390                    -0.0000j                    2.8390                   -0.0000     \n",
       "</tr>\n",
       "</table>"
      ],
      "text/plain": [
       "<class 'statsmodels.iolib.summary.Summary'>\n",
       "\"\"\"\n",
       "                              ARMA Model Results                              \n",
       "==============================================================================\n",
       "Dep. Variable:                      y   No. Observations:                 1008\n",
       "Model:                     ARMA(4, 0)   Log Likelihood                 874.526\n",
       "Method:                       css-mle   S.D. of innovations              0.102\n",
       "Date:                Thu, 15 Mar 2018   AIC                          -1739.052\n",
       "Time:                        18:28:07   BIC                          -1714.474\n",
       "Sample:                             0   HQIC                         -1729.714\n",
       "                                                                              \n",
       "==============================================================================\n",
       "                 coef    std err          z      P>|z|      [95.0% Conf. Int.]\n",
       "------------------------------------------------------------------------------\n",
       "ar.L1.y       -0.3993      0.031    -12.723      0.000        -0.461    -0.338\n",
       "ar.L2.y        0.5758      0.034     17.181      0.000         0.510     0.642\n",
       "ar.L3.y        0.1441      0.034      4.296      0.000         0.078     0.210\n",
       "ar.L4.y       -0.0894      0.031     -2.845      0.005        -0.151    -0.028\n",
       "                                    Roots                                    \n",
       "=============================================================================\n",
       "                 Real           Imaginary           Modulus         Frequency\n",
       "-----------------------------------------------------------------------------\n",
       "AR.1           -1.4888           -0.1867j            1.5004           -0.4801\n",
       "AR.2           -1.4888           +0.1867j            1.5004            0.4801\n",
       "AR.3            1.7510           -0.0000j            1.7510           -0.0000\n",
       "AR.4            2.8390           -0.0000j            2.8390           -0.0000\n",
       "-----------------------------------------------------------------------------\n",
       "\"\"\""
      ]
     },
     "execution_count": 13,
     "metadata": {},
     "output_type": "execute_result"
    }
   ],
   "source": [
    "model.summary()"
   ]
  },
  {
   "cell_type": "markdown",
   "metadata": {},
   "source": [
    ">Conclusion:\n",
    "The AR order is correct and the coefficients are all within its confidence interval."
   ]
  },
  {
   "cell_type": "markdown",
   "metadata": {},
   "source": [
    "### (c) Repeat the entire procedure above (previous parts) however now generate data for 4 months (84 observations). Compare these estimates with the original values and the estimates in part (c). Please comment."
   ]
  },
  {
   "cell_type": "code",
   "execution_count": 14,
   "metadata": {
    "collapsed": false
   },
   "outputs": [
    {
     "data": {
      "image/png": "[encoded data removed]",
      "text/plain": [
       "<matplotlib.figure.Figure at 0x1f35dfa2518>"
      ]
     },
     "metadata": {},
     "output_type": "display_data"
    }
   ],
   "source": [
    "y_4_months = arma_process.generate_sample(nsample=84, scale=0.1)\n",
    "autocorrelation_check(y_4_months,0.05)"
   ]
  },
  {
   "cell_type": "markdown",
   "metadata": {},
   "source": [
    ">Based on the PACF graph, using 5% significant level, we identify an AR(2) model for the data (i.e. p=2)"
   ]
  },
  {
   "cell_type": "code",
   "execution_count": 15,
   "metadata": {
    "collapsed": false
   },
   "outputs": [],
   "source": [
    "model_4_months = sm.tsa.ARMA(y_4_months,(2,0)).fit(trend='nc')"
   ]
  },
  {
   "cell_type": "code",
   "execution_count": 16,
   "metadata": {
    "collapsed": false
   },
   "outputs": [
    {
     "data": {
      "text/plain": [
       "array([-0.21668523,  0.43225407])"
      ]
     },
     "execution_count": 16,
     "metadata": {},
     "output_type": "execute_result"
    }
   ],
   "source": [
    "model_4_months.params"
   ]
  },
  {
   "cell_type": "code",
   "execution_count": 17,
   "metadata": {
    "collapsed": false
   },
   "outputs": [
    {
     "data": {
      "text/html": [
       "<table class=\"simpletable\">\n",
       "<caption>ARMA Model Results</caption>\n",
       "<tr>\n",
       "  <th>Dep. Variable:</th>         <td>y</td>        <th>  No. Observations:  </th>    <td>84</td>   \n",
       "</tr>\n",
       "<tr>\n",
       "  <th>Model:</th>            <td>ARMA(2, 0)</td>    <th>  Log Likelihood     </th>  <td>75.362</td> \n",
       "</tr>\n",
       "<tr>\n",
       "  <th>Method:</th>             <td>css-mle</td>     <th>  S.D. of innovations</th>   <td>0.098</td> \n",
       "</tr>\n",
       "<tr>\n",
       "  <th>Date:</th>          <td>Thu, 15 Mar 2018</td> <th>  AIC                </th> <td>-144.725</td>\n",
       "</tr>\n",
       "<tr>\n",
       "  <th>Time:</th>              <td>18:28:07</td>     <th>  BIC                </th> <td>-137.432</td>\n",
       "</tr>\n",
       "<tr>\n",
       "  <th>Sample:</th>                <td>0</td>        <th>  HQIC               </th> <td>-141.793</td>\n",
       "</tr>\n",
       "<tr>\n",
       "  <th></th>                       <td> </td>        <th>                     </th>     <td> </td>   \n",
       "</tr>\n",
       "</table>\n",
       "<table class=\"simpletable\">\n",
       "<tr>\n",
       "     <td></td>        <th>coef</th>     <th>std err</th>      <th>z</th>      <th>P>|z|</th> <th>[95.0% Conf. Int.]</th> \n",
       "</tr>\n",
       "<tr>\n",
       "  <th>ar.L1.y</th> <td>   -0.2167</td> <td>    0.097</td> <td>   -2.234</td> <td> 0.028</td> <td>   -0.407    -0.027</td>\n",
       "</tr>\n",
       "<tr>\n",
       "  <th>ar.L2.y</th> <td>    0.4323</td> <td>    0.097</td> <td>    4.450</td> <td> 0.000</td> <td>    0.242     0.623</td>\n",
       "</tr>\n",
       "</table>\n",
       "<table class=\"simpletable\">\n",
       "<caption>Roots</caption>\n",
       "<tr>\n",
       "    <td></td>   <th>           Real</th> <th>         Imaginary</th> <th>         Modulus</th> <th>        Frequency</th>\n",
       "</tr>\n",
       "<tr>\n",
       "  <th>AR.1</th>              -1.2909                    +0.0000j                    1.2909                    0.5000     \n",
       "</tr>\n",
       "<tr>\n",
       "  <th>AR.2</th>               1.7922                    +0.0000j                    1.7922                    0.0000     \n",
       "</tr>\n",
       "</table>"
      ],
      "text/plain": [
       "<class 'statsmodels.iolib.summary.Summary'>\n",
       "\"\"\"\n",
       "                              ARMA Model Results                              \n",
       "==============================================================================\n",
       "Dep. Variable:                      y   No. Observations:                   84\n",
       "Model:                     ARMA(2, 0)   Log Likelihood                  75.362\n",
       "Method:                       css-mle   S.D. of innovations              0.098\n",
       "Date:                Thu, 15 Mar 2018   AIC                           -144.725\n",
       "Time:                        18:28:07   BIC                           -137.432\n",
       "Sample:                             0   HQIC                          -141.793\n",
       "                                                                              \n",
       "==============================================================================\n",
       "                 coef    std err          z      P>|z|      [95.0% Conf. Int.]\n",
       "------------------------------------------------------------------------------\n",
       "ar.L1.y       -0.2167      0.097     -2.234      0.028        -0.407    -0.027\n",
       "ar.L2.y        0.4323      0.097      4.450      0.000         0.242     0.623\n",
       "                                    Roots                                    \n",
       "=============================================================================\n",
       "                 Real           Imaginary           Modulus         Frequency\n",
       "-----------------------------------------------------------------------------\n",
       "AR.1           -1.2909           +0.0000j            1.2909            0.5000\n",
       "AR.2            1.7922           +0.0000j            1.7922            0.0000\n",
       "-----------------------------------------------------------------------------\n",
       "\"\"\""
      ]
     },
     "execution_count": 17,
     "metadata": {},
     "output_type": "execute_result"
    }
   ],
   "source": [
    "model_4_months.summary()"
   ]
  },
  {
   "cell_type": "markdown",
   "metadata": {},
   "source": [
    ">Conclusion:\n",
    "The AR order is different from the original data and the recommanded calibrated model. It is because we use only 84 observations which is too small and it increase the variance of the estimation of parameters."
   ]
  },
  {
   "cell_type": "markdown",
   "metadata": {},
   "source": [
    "## 2 MA Models"
   ]
  },
  {
   "cell_type": "markdown",
   "metadata": {},
   "source": [
    "### a) Search for 4 parameters $\\theta_1 \\cdots \\theta_4$ such that the corresponding MA(4) model is invertible. Choose your own $\\sigma_{\\epsilon}$ value for the variance of the gaussian white noise. Generate 4 years worth of data points (1008 observations). Calculate ACF and PACF for the data that you generated."
   ]
  },
  {
   "cell_type": "code",
   "execution_count": 18,
   "metadata": {
    "collapsed": true
   },
   "outputs": [],
   "source": [
    "maparams = np.array([0.3,0.4,0.2,0.1])\n",
    "ma = np.r_[1,maparams]\n",
    "ma_process = sm.tsa.ArmaProcess(ar=[1],ma=ma)"
   ]
  },
  {
   "cell_type": "code",
   "execution_count": 19,
   "metadata": {
    "collapsed": false
   },
   "outputs": [
    {
     "data": {
      "text/plain": [
       "True"
      ]
     },
     "execution_count": 19,
     "metadata": {},
     "output_type": "execute_result"
    }
   ],
   "source": [
    "ma_process.isstationary"
   ]
  },
  {
   "cell_type": "code",
   "execution_count": 20,
   "metadata": {
    "collapsed": false
   },
   "outputs": [
    {
     "data": {
      "text/plain": [
       "True"
      ]
     },
     "execution_count": 20,
     "metadata": {},
     "output_type": "execute_result"
    }
   ],
   "source": [
    "ma_process.isinvertible"
   ]
  },
  {
   "cell_type": "code",
   "execution_count": 21,
   "metadata": {
    "collapsed": false
   },
   "outputs": [],
   "source": [
    "y_ma = ma_process.generate_sample(1008,scale=0.1)"
   ]
  },
  {
   "cell_type": "code",
   "execution_count": 22,
   "metadata": {
    "collapsed": false
   },
   "outputs": [
    {
     "data": {
      "image/png": "[encoded data removed]",
      "text/plain": [
       "<matplotlib.figure.Figure at 0x1f35de6dd30>"
      ]
     },
     "metadata": {},
     "output_type": "display_data"
    }
   ],
   "source": [
    "autocorrelation_check(y_ma,0.05)"
   ]
  },
  {
   "cell_type": "markdown",
   "metadata": {},
   "source": [
    "### b) Write a paragraph detailing the differences between the two graphs. What is the recommended order of the corresponding model based on the data and the graphs you plotted?"
   ]
  },
  {
   "cell_type": "markdown",
   "metadata": {},
   "source": [
    ">ACF: Autocorrelation Function ACF(h) is the correlation between data with different lags. And it's assumed to be invariant as process to be stationary.\n",
    "\n",
    ">PACF: Partial Autocorrelation function PACF(h) is the conditional correlation between $x_t$ and $x_{t-h}$, conditional on $x_{t-h+1}, \\cdots, x_{t-1}$. It can be viewed as an added attribution of $x_{t-h}$ to $x_{t}$ over an AR(h-1) model.\n",
    "\n",
    ">Based on the **ACF** graph, using 5% significant level, we identify an MA(4) model for the data (i.e. q=4)"
   ]
  },
  {
   "cell_type": "markdown",
   "metadata": {},
   "source": [
    "### (c) Using a method of your choice and the recommended order from the previous point estimate the parameters present in the model. Benchmark the estimates with respect to the known parameter values. Remember to pay attention to the form of the model used (standard or alternate form)."
   ]
  },
  {
   "cell_type": "code",
   "execution_count": 23,
   "metadata": {
    "collapsed": true
   },
   "outputs": [],
   "source": [
    "model_ma = sm.tsa.ARIMA(y_ma,(0,0,4)).fit(trend=\"nc\")"
   ]
  },
  {
   "cell_type": "code",
   "execution_count": 24,
   "metadata": {
    "collapsed": false
   },
   "outputs": [
    {
     "data": {
      "text/plain": [
       "array([ 0.27120312,  0.37720839,  0.24831774,  0.09539629])"
      ]
     },
     "execution_count": 24,
     "metadata": {},
     "output_type": "execute_result"
    }
   ],
   "source": [
    "model_ma.params"
   ]
  },
  {
   "cell_type": "code",
   "execution_count": 25,
   "metadata": {
    "collapsed": false
   },
   "outputs": [
    {
     "data": {
      "text/html": [
       "<table class=\"simpletable\">\n",
       "<caption>ARMA Model Results</caption>\n",
       "<tr>\n",
       "  <th>Dep. Variable:</th>         <td>y</td>        <th>  No. Observations:  </th>   <td>1008</td>   \n",
       "</tr>\n",
       "<tr>\n",
       "  <th>Model:</th>            <td>ARMA(0, 4)</td>    <th>  Log Likelihood     </th>  <td>930.006</td> \n",
       "</tr>\n",
       "<tr>\n",
       "  <th>Method:</th>             <td>css-mle</td>     <th>  S.D. of innovations</th>   <td>0.096</td>  \n",
       "</tr>\n",
       "<tr>\n",
       "  <th>Date:</th>          <td>Thu, 15 Mar 2018</td> <th>  AIC                </th> <td>-1850.012</td>\n",
       "</tr>\n",
       "<tr>\n",
       "  <th>Time:</th>              <td>18:28:08</td>     <th>  BIC                </th> <td>-1825.433</td>\n",
       "</tr>\n",
       "<tr>\n",
       "  <th>Sample:</th>                <td>0</td>        <th>  HQIC               </th> <td>-1840.674</td>\n",
       "</tr>\n",
       "<tr>\n",
       "  <th></th>                       <td> </td>        <th>                     </th>     <td> </td>    \n",
       "</tr>\n",
       "</table>\n",
       "<table class=\"simpletable\">\n",
       "<tr>\n",
       "     <td></td>        <th>coef</th>     <th>std err</th>      <th>z</th>      <th>P>|z|</th> <th>[95.0% Conf. Int.]</th> \n",
       "</tr>\n",
       "<tr>\n",
       "  <th>ma.L1.y</th> <td>    0.2712</td> <td>    0.031</td> <td>    8.645</td> <td> 0.000</td> <td>    0.210     0.333</td>\n",
       "</tr>\n",
       "<tr>\n",
       "  <th>ma.L2.y</th> <td>    0.3772</td> <td>    0.031</td> <td>   12.032</td> <td> 0.000</td> <td>    0.316     0.439</td>\n",
       "</tr>\n",
       "<tr>\n",
       "  <th>ma.L3.y</th> <td>    0.2483</td> <td>    0.031</td> <td>    8.123</td> <td> 0.000</td> <td>    0.188     0.308</td>\n",
       "</tr>\n",
       "<tr>\n",
       "  <th>ma.L4.y</th> <td>    0.0954</td> <td>    0.033</td> <td>    2.926</td> <td> 0.004</td> <td>    0.032     0.159</td>\n",
       "</tr>\n",
       "</table>\n",
       "<table class=\"simpletable\">\n",
       "<caption>Roots</caption>\n",
       "<tr>\n",
       "    <td></td>   <th>           Real</th> <th>         Imaginary</th> <th>         Modulus</th> <th>        Frequency</th>\n",
       "</tr>\n",
       "<tr>\n",
       "  <th>MA.1</th>               0.4490                    -1.3761j                    1.4475                   -0.1998     \n",
       "</tr>\n",
       "<tr>\n",
       "  <th>MA.2</th>               0.4490                    +1.3761j                    1.4475                    0.1998     \n",
       "</tr>\n",
       "<tr>\n",
       "  <th>MA.3</th>              -1.7505                    -1.3923j                    2.2367                   -0.3931     \n",
       "</tr>\n",
       "<tr>\n",
       "  <th>MA.4</th>              -1.7505                    +1.3923j                    2.2367                    0.3931     \n",
       "</tr>\n",
       "</table>"
      ],
      "text/plain": [
       "<class 'statsmodels.iolib.summary.Summary'>\n",
       "\"\"\"\n",
       "                              ARMA Model Results                              \n",
       "==============================================================================\n",
       "Dep. Variable:                      y   No. Observations:                 1008\n",
       "Model:                     ARMA(0, 4)   Log Likelihood                 930.006\n",
       "Method:                       css-mle   S.D. of innovations              0.096\n",
       "Date:                Thu, 15 Mar 2018   AIC                          -1850.012\n",
       "Time:                        18:28:08   BIC                          -1825.433\n",
       "Sample:                             0   HQIC                         -1840.674\n",
       "                                                                              \n",
       "==============================================================================\n",
       "                 coef    std err          z      P>|z|      [95.0% Conf. Int.]\n",
       "------------------------------------------------------------------------------\n",
       "ma.L1.y        0.2712      0.031      8.645      0.000         0.210     0.333\n",
       "ma.L2.y        0.3772      0.031     12.032      0.000         0.316     0.439\n",
       "ma.L3.y        0.2483      0.031      8.123      0.000         0.188     0.308\n",
       "ma.L4.y        0.0954      0.033      2.926      0.004         0.032     0.159\n",
       "                                    Roots                                    \n",
       "=============================================================================\n",
       "                 Real           Imaginary           Modulus         Frequency\n",
       "-----------------------------------------------------------------------------\n",
       "MA.1            0.4490           -1.3761j            1.4475           -0.1998\n",
       "MA.2            0.4490           +1.3761j            1.4475            0.1998\n",
       "MA.3           -1.7505           -1.3923j            2.2367           -0.3931\n",
       "MA.4           -1.7505           +1.3923j            2.2367            0.3931\n",
       "-----------------------------------------------------------------------------\n",
       "\"\"\""
      ]
     },
     "execution_count": 25,
     "metadata": {},
     "output_type": "execute_result"
    }
   ],
   "source": [
    "model_ma.summary()"
   ]
  },
  {
   "cell_type": "markdown",
   "metadata": {},
   "source": [
    ">Conclusion: The estimation is approximately accurate. All lay in the confidence intervals."
   ]
  },
  {
   "cell_type": "code",
   "execution_count": 26,
   "metadata": {
    "collapsed": false
   },
   "outputs": [
    {
     "data": {
      "image/png": "[encoded data removed]",
      "text/plain": [
       "<matplotlib.figure.Figure at 0x1f35de4c6a0>"
      ]
     },
     "metadata": {},
     "output_type": "display_data"
    }
   ],
   "source": [
    "autocorrelation_check(y_ma[:86],alpha=0.05)"
   ]
  },
  {
   "cell_type": "code",
   "execution_count": 27,
   "metadata": {
    "collapsed": true
   },
   "outputs": [],
   "source": [
    "model_ma_4_months = sm.tsa.ARIMA(y_ma[:86],(0,0,2)).fit(trend=\"nc\")"
   ]
  },
  {
   "cell_type": "code",
   "execution_count": 28,
   "metadata": {
    "collapsed": false
   },
   "outputs": [
    {
     "data": {
      "text/plain": [
       "array([ 0.34955912,  0.26604034])"
      ]
     },
     "execution_count": 28,
     "metadata": {},
     "output_type": "execute_result"
    }
   ],
   "source": [
    "model_ma_4_months.params"
   ]
  },
  {
   "cell_type": "code",
   "execution_count": 29,
   "metadata": {
    "collapsed": false
   },
   "outputs": [
    {
     "data": {
      "text/html": [
       "<table class=\"simpletable\">\n",
       "<caption>ARMA Model Results</caption>\n",
       "<tr>\n",
       "  <th>Dep. Variable:</th>         <td>y</td>        <th>  No. Observations:  </th>    <td>86</td>   \n",
       "</tr>\n",
       "<tr>\n",
       "  <th>Model:</th>            <td>ARMA(0, 2)</td>    <th>  Log Likelihood     </th>  <td>69.275</td> \n",
       "</tr>\n",
       "<tr>\n",
       "  <th>Method:</th>             <td>css-mle</td>     <th>  S.D. of innovations</th>   <td>0.108</td> \n",
       "</tr>\n",
       "<tr>\n",
       "  <th>Date:</th>          <td>Thu, 15 Mar 2018</td> <th>  AIC                </th> <td>-132.549</td>\n",
       "</tr>\n",
       "<tr>\n",
       "  <th>Time:</th>              <td>18:28:08</td>     <th>  BIC                </th> <td>-125.186</td>\n",
       "</tr>\n",
       "<tr>\n",
       "  <th>Sample:</th>                <td>0</td>        <th>  HQIC               </th> <td>-129.586</td>\n",
       "</tr>\n",
       "<tr>\n",
       "  <th></th>                       <td> </td>        <th>                     </th>     <td> </td>   \n",
       "</tr>\n",
       "</table>\n",
       "<table class=\"simpletable\">\n",
       "<tr>\n",
       "     <td></td>        <th>coef</th>     <th>std err</th>      <th>z</th>      <th>P>|z|</th> <th>[95.0% Conf. Int.]</th> \n",
       "</tr>\n",
       "<tr>\n",
       "  <th>ma.L1.y</th> <td>    0.3496</td> <td>    0.111</td> <td>    3.137</td> <td> 0.002</td> <td>    0.131     0.568</td>\n",
       "</tr>\n",
       "<tr>\n",
       "  <th>ma.L2.y</th> <td>    0.2660</td> <td>    0.085</td> <td>    3.128</td> <td> 0.002</td> <td>    0.099     0.433</td>\n",
       "</tr>\n",
       "</table>\n",
       "<table class=\"simpletable\">\n",
       "<caption>Roots</caption>\n",
       "<tr>\n",
       "    <td></td>   <th>           Real</th> <th>         Imaginary</th> <th>         Modulus</th> <th>        Frequency</th>\n",
       "</tr>\n",
       "<tr>\n",
       "  <th>MA.1</th>              -0.6570                    -1.8241j                    1.9388                   -0.3050     \n",
       "</tr>\n",
       "<tr>\n",
       "  <th>MA.2</th>              -0.6570                    +1.8241j                    1.9388                    0.3050     \n",
       "</tr>\n",
       "</table>"
      ],
      "text/plain": [
       "<class 'statsmodels.iolib.summary.Summary'>\n",
       "\"\"\"\n",
       "                              ARMA Model Results                              \n",
       "==============================================================================\n",
       "Dep. Variable:                      y   No. Observations:                   86\n",
       "Model:                     ARMA(0, 2)   Log Likelihood                  69.275\n",
       "Method:                       css-mle   S.D. of innovations              0.108\n",
       "Date:                Thu, 15 Mar 2018   AIC                           -132.549\n",
       "Time:                        18:28:08   BIC                           -125.186\n",
       "Sample:                             0   HQIC                          -129.586\n",
       "                                                                              \n",
       "==============================================================================\n",
       "                 coef    std err          z      P>|z|      [95.0% Conf. Int.]\n",
       "------------------------------------------------------------------------------\n",
       "ma.L1.y        0.3496      0.111      3.137      0.002         0.131     0.568\n",
       "ma.L2.y        0.2660      0.085      3.128      0.002         0.099     0.433\n",
       "                                    Roots                                    \n",
       "=============================================================================\n",
       "                 Real           Imaginary           Modulus         Frequency\n",
       "-----------------------------------------------------------------------------\n",
       "MA.1           -0.6570           -1.8241j            1.9388           -0.3050\n",
       "MA.2           -0.6570           +1.8241j            1.9388            0.3050\n",
       "-----------------------------------------------------------------------------\n",
       "\"\"\""
      ]
     },
     "execution_count": 29,
     "metadata": {},
     "output_type": "execute_result"
    }
   ],
   "source": [
    "model_ma_4_months.summary()"
   ]
  },
  {
   "cell_type": "markdown",
   "metadata": {},
   "source": [
    ">Conclusion: When we decrease the observations, the MA order turns out to be smaller because of the increasing in variance of paramteter estimations (i.e. compare the attributes *std err* of coefficients). Still, true value lays in its confidence interval. But not that persuasive since the large variance."
   ]
  },
  {
   "cell_type": "markdown",
   "metadata": {},
   "source": [
    "## 3. ARMA Models\n",
    "\n",
    "### Generate three year worth of daily data for an ARMA(4,4) model using the combination of parameters in parts (a) from the two problems above. Turn in the two graphs (ACF, PACF). What is the recommended order of the corresponding model based on the data and the graphs you plotted? Repeat parts (b), (c), and (d) of the above problems with this model."
   ]
  },
  {
   "cell_type": "code",
   "execution_count": 30,
   "metadata": {
    "collapsed": false
   },
   "outputs": [
    {
     "data": {
      "text/plain": [
       "array([ 1.  ,  0.4 , -0.6 , -0.15,  0.1 ])"
      ]
     },
     "execution_count": 30,
     "metadata": {},
     "output_type": "execute_result"
    }
   ],
   "source": [
    "ar"
   ]
  },
  {
   "cell_type": "code",
   "execution_count": 31,
   "metadata": {
    "collapsed": false
   },
   "outputs": [
    {
     "data": {
      "text/plain": [
       "array([ 1. ,  0.3,  0.4,  0.2,  0.1])"
      ]
     },
     "execution_count": 31,
     "metadata": {},
     "output_type": "execute_result"
    }
   ],
   "source": [
    "ma"
   ]
  },
  {
   "cell_type": "code",
   "execution_count": 32,
   "metadata": {
    "collapsed": true
   },
   "outputs": [],
   "source": [
    "model = sm.tsa.ArmaProcess(ar=ar,ma=ma)"
   ]
  },
  {
   "cell_type": "code",
   "execution_count": 33,
   "metadata": {
    "collapsed": false
   },
   "outputs": [
    {
     "data": {
      "text/plain": [
       "True"
      ]
     },
     "execution_count": 33,
     "metadata": {},
     "output_type": "execute_result"
    }
   ],
   "source": [
    "model.isstationary"
   ]
  },
  {
   "cell_type": "code",
   "execution_count": 34,
   "metadata": {
    "collapsed": false
   },
   "outputs": [
    {
     "data": {
      "text/plain": [
       "True"
      ]
     },
     "execution_count": 34,
     "metadata": {},
     "output_type": "execute_result"
    }
   ],
   "source": [
    "model.isinvertible"
   ]
  },
  {
   "cell_type": "code",
   "execution_count": 35,
   "metadata": {
    "collapsed": false
   },
   "outputs": [],
   "source": [
    "y_arma = model.generate_sample(1008,scale=0.1)"
   ]
  },
  {
   "cell_type": "markdown",
   "metadata": {},
   "source": [
    "### b)"
   ]
  },
  {
   "cell_type": "code",
   "execution_count": 36,
   "metadata": {
    "collapsed": false
   },
   "outputs": [
    {
     "data": {
      "image/png": "[encoded data removed]",
      "text/plain": [
       "<matplotlib.figure.Figure at 0x1f35ff95c88>"
      ]
     },
     "metadata": {},
     "output_type": "display_data"
    }
   ],
   "source": [
    "autocorrelation_check(y_arma,alpha=0.05)"
   ]
  },
  {
   "cell_type": "markdown",
   "metadata": {},
   "source": [
    ">Conclusion: Using 5% significant level, based on ACF PACF graphs, we cannot concluded that p=4, q=6. The ACF and PACF are not informative in determining the order of an ARMA model. Should use EACF or information criterion to determine the model order."
   ]
  },
  {
   "cell_type": "markdown",
   "metadata": {},
   "source": [
    "### c) 4 years observations"
   ]
  },
  {
   "cell_type": "code",
   "execution_count": 51,
   "metadata": {
    "collapsed": true
   },
   "outputs": [],
   "source": [
    "def IdentifyOrderArma(y, pmax, qmax, method=\"bic\"):\n",
    "    a = np.zeros((pmax,qmax))\n",
    "    if(method==\"bic\"):\n",
    "        for i in range(6):\n",
    "            for j in range(6):\n",
    "                try:\n",
    "                    a[i,j] = sm.tsa.ARMA(y_arma,(i+1,j+1)).fit(trend='nc',method='css-mle').bic\n",
    "                except ValueError:\n",
    "                    a[i,j] = np.nan\n",
    "    elif(method==\"aic\"):\n",
    "        for i in range(6):\n",
    "            for j in range(6):\n",
    "                try:\n",
    "                    a[i,j] = sm.tsa.ARMA(y_arma,(i+1,j+1)).fit(trend='nc',method='css-mle').aic\n",
    "                except ValueError:\n",
    "                    a[i,j] = np.nan\n",
    "    else:\n",
    "        print(\"error method can only be bic or aic\")\n",
    "        return\n",
    "    i,j = np.unravel_index(np.nanargmin(a), a.shape)\n",
    "    p = i+1\n",
    "    q = j+1\n",
    "    return ((p,q),a)"
   ]
  },
  {
   "cell_type": "code",
   "execution_count": 53,
   "metadata": {
    "collapsed": false
   },
   "outputs": [
    {
     "name": "stderr",
     "output_type": "stream",
     "text": [
      "D:\\Softwares\\Anaconda3\\envs\\py36\\lib\\site-packages\\statsmodels\\base\\model.py:466: ConvergenceWarning: Maximum Likelihood optimization failed to converge. Check mle_retvals\n",
      "  \"Check mle_retvals\", ConvergenceWarning)\n",
      "D:\\Softwares\\Anaconda3\\envs\\py36\\lib\\site-packages\\statsmodels\\base\\model.py:466: ConvergenceWarning: Maximum Likelihood optimization failed to converge. Check mle_retvals\n",
      "  \"Check mle_retvals\", ConvergenceWarning)\n",
      "D:\\Softwares\\Anaconda3\\envs\\py36\\lib\\site-packages\\statsmodels\\base\\model.py:466: ConvergenceWarning: Maximum Likelihood optimization failed to converge. Check mle_retvals\n",
      "  \"Check mle_retvals\", ConvergenceWarning)\n",
      "D:\\Softwares\\Anaconda3\\envs\\py36\\lib\\site-packages\\statsmodels\\base\\model.py:466: ConvergenceWarning: Maximum Likelihood optimization failed to converge. Check mle_retvals\n",
      "  \"Check mle_retvals\", ConvergenceWarning)\n",
      "D:\\Softwares\\Anaconda3\\envs\\py36\\lib\\site-packages\\statsmodels\\base\\model.py:466: ConvergenceWarning: Maximum Likelihood optimization failed to converge. Check mle_retvals\n",
      "  \"Check mle_retvals\", ConvergenceWarning)\n"
     ]
    }
   ],
   "source": [
    "(p,q),a = IdentifyOrderArma(y_arma,6,6,'bic')     "
   ]
  },
  {
   "cell_type": "code",
   "execution_count": 54,
   "metadata": {
    "collapsed": false
   },
   "outputs": [
    {
     "data": {
      "text/plain": [
       "(4, 1)"
      ]
     },
     "execution_count": 54,
     "metadata": {},
     "output_type": "execute_result"
    }
   ],
   "source": [
    "(p,q)"
   ]
  },
  {
   "cell_type": "code",
   "execution_count": 55,
   "metadata": {
    "collapsed": false
   },
   "outputs": [
    {
     "data": {
      "text/plain": [
       "array([[ -906.64836344,            nan,            nan, -1652.38051864,\n",
       "        -1663.24933625, -1699.06588836],\n",
       "       [-1552.3749238 , -1689.96551374, -1686.22070277, -1700.05508891,\n",
       "        -1693.50912559, -1696.6786516 ],\n",
       "       [-1603.67616928, -1692.14049136, -1687.3753953 , -1698.15617666,\n",
       "        -1696.15441697, -1689.91585993],\n",
       "       [-1713.28756199, -1706.48672659, -1705.67468947, -1698.75919968,\n",
       "        -1693.17735066, -1686.37834276],\n",
       "       [-1706.39578396, -1700.28694541, -1698.75907146, -1691.88173754,\n",
       "        -1686.31702426, -1683.32174278],\n",
       "       [-1704.90872236, -1704.90294854, -1698.38071441, -1691.56424779,\n",
       "        -1679.12004002, -1680.37071466]])"
      ]
     },
     "execution_count": 55,
     "metadata": {},
     "output_type": "execute_result"
    }
   ],
   "source": [
    "a"
   ]
  },
  {
   "cell_type": "markdown",
   "metadata": {},
   "source": [
    ">Based on BIC, we choose p=4, and q=1"
   ]
  },
  {
   "cell_type": "code",
   "execution_count": 56,
   "metadata": {
    "collapsed": true
   },
   "outputs": [],
   "source": [
    "fitted_model = sm.tsa.ARMA(y_arma,(4,1)).fit(trend='nc',method='css-mle')"
   ]
  },
  {
   "cell_type": "code",
   "execution_count": 57,
   "metadata": {
    "collapsed": false
   },
   "outputs": [
    {
     "data": {
      "text/plain": [
       "array([ 0.05935429,  1.06661093, -0.06595409, -0.40145169, -0.14376154])"
      ]
     },
     "execution_count": 57,
     "metadata": {},
     "output_type": "execute_result"
    }
   ],
   "source": [
    "fitted_model.params"
   ]
  },
  {
   "cell_type": "code",
   "execution_count": 71,
   "metadata": {
    "collapsed": false
   },
   "outputs": [
    {
     "data": {
      "text/plain": [
       "array([-0.4 ,  0.6 ,  0.15, -0.1 ,  0.3 ])"
      ]
     },
     "execution_count": 71,
     "metadata": {},
     "output_type": "execute_result"
    }
   ],
   "source": [
    "np.r_[arparams[:p],maparams[:q]]"
   ]
  },
  {
   "cell_type": "markdown",
   "metadata": {},
   "source": [
    ">Conclusion: <span style=\"color:red\"> **It's not satisfactory here!! And I don't know how to detect and diagnosis it!** </span> Maybe MA algorithm rather than MLE is more suitable for parameters estimation in Time-Series analysis"
   ]
  },
  {
   "cell_type": "markdown",
   "metadata": {},
   "source": [
    "### d) 3 months observations"
   ]
  },
  {
   "cell_type": "code",
   "execution_count": null,
   "metadata": {
    "collapsed": false
   },
   "outputs": [],
   "source": [
    "autocorrelation_check(y_arma[:86],alpha=0.05)"
   ]
  },
  {
   "cell_type": "code",
   "execution_count": 63,
   "metadata": {
    "collapsed": false,
    "scrolled": true
   },
   "outputs": [
    {
     "name": "stderr",
     "output_type": "stream",
     "text": [
      "D:\\Softwares\\Anaconda3\\envs\\py36\\lib\\site-packages\\statsmodels\\base\\model.py:466: ConvergenceWarning: Maximum Likelihood optimization failed to converge. Check mle_retvals\n",
      "  \"Check mle_retvals\", ConvergenceWarning)\n",
      "D:\\Softwares\\Anaconda3\\envs\\py36\\lib\\site-packages\\statsmodels\\base\\model.py:466: ConvergenceWarning: Maximum Likelihood optimization failed to converge. Check mle_retvals\n",
      "  \"Check mle_retvals\", ConvergenceWarning)\n",
      "D:\\Softwares\\Anaconda3\\envs\\py36\\lib\\site-packages\\statsmodels\\base\\model.py:466: ConvergenceWarning: Maximum Likelihood optimization failed to converge. Check mle_retvals\n",
      "  \"Check mle_retvals\", ConvergenceWarning)\n",
      "D:\\Softwares\\Anaconda3\\envs\\py36\\lib\\site-packages\\statsmodels\\base\\model.py:466: ConvergenceWarning: Maximum Likelihood optimization failed to converge. Check mle_retvals\n",
      "  \"Check mle_retvals\", ConvergenceWarning)\n",
      "D:\\Softwares\\Anaconda3\\envs\\py36\\lib\\site-packages\\statsmodels\\base\\model.py:466: ConvergenceWarning: Maximum Likelihood optimization failed to converge. Check mle_retvals\n",
      "  \"Check mle_retvals\", ConvergenceWarning)\n"
     ]
    }
   ],
   "source": [
    "(p,q),a = IdentifyOrderArma(y_arma[:86],6,6,'bic')"
   ]
  },
  {
   "cell_type": "code",
   "execution_count": 64,
   "metadata": {
    "collapsed": false
   },
   "outputs": [
    {
     "data": {
      "text/plain": [
       "(4, 1)"
      ]
     },
     "execution_count": 64,
     "metadata": {},
     "output_type": "execute_result"
    }
   ],
   "source": [
    "(p,q)"
   ]
  },
  {
   "cell_type": "markdown",
   "metadata": {},
   "source": [
    ">Based on BIC, we identify the order of the ARMA model as p=4, q=1"
   ]
  },
  {
   "cell_type": "code",
   "execution_count": 68,
   "metadata": {
    "collapsed": false
   },
   "outputs": [],
   "source": [
    "fitted_model= sm.tsa.ARMA(y_arma[:86],(4,1)).fit(trend='nc',method='css-mle')"
   ]
  },
  {
   "cell_type": "code",
   "execution_count": 70,
   "metadata": {
    "collapsed": false
   },
   "outputs": [
    {
     "data": {
      "text/plain": [
       "array([-0.16526793,  1.01796842,  0.15274868, -0.35785296,  0.06873086])"
      ]
     },
     "execution_count": 70,
     "metadata": {},
     "output_type": "execute_result"
    }
   ],
   "source": [
    "fitted_model.params"
   ]
  },
  {
   "cell_type": "code",
   "execution_count": 72,
   "metadata": {
    "collapsed": false
   },
   "outputs": [
    {
     "data": {
      "text/plain": [
       "array([-0.4 ,  0.6 ,  0.15, -0.1 ,  0.3 ])"
      ]
     },
     "execution_count": 72,
     "metadata": {},
     "output_type": "execute_result"
    }
   ],
   "source": [
    "np.r_[arparams[:p],maparams[:q]]"
   ]
  },
  {
   "cell_type": "markdown",
   "metadata": {},
   "source": [
    ">Conclusion: <span style=\"color:red\"> **It's not satisfactory here!! And I don't know how to detect and diagnosis it!** </span> Maybe MA algorithm rather than MLE is more suitable for parameters estimation in Time-Series analysis\n",
    "\n",
    "><span style=\"color:red\"> Why even the data from ARMA model itself fits bad?</span>"
   ]
  },
  {
   "cell_type": "markdown",
   "metadata": {},
   "source": [
    "## 4. Stock Returns (10 Points) Download the past 4 years of daily prices of a stock of your choice. Compute the time series of continuously compounded returns (log returns) rt, and find the best ARMA model for rt. To help you determine the order you may use ACF, PACF, EACF, as well as any information criteria measures (e.g., AIC, BIC, etc.). You need to be able to explain what you are doing (and why)."
   ]
  },
  {
   "cell_type": "code",
   "execution_count": 73,
   "metadata": {
    "collapsed": true
   },
   "outputs": [],
   "source": [
    "import numpy as np\n",
    "import pandas as pd\n",
    "import scipy as sp\n",
    "import matplotlib.pyplot as plt"
   ]
  },
  {
   "cell_type": "code",
   "execution_count": 74,
   "metadata": {
    "collapsed": true
   },
   "outputs": [],
   "source": [
    "import datetime\n",
    "def preprocess_wrds_data(df):\n",
    "    df['date'] = df['date'].apply(lambda x: datetime.datetime.strptime(str(x),\"%Y%m%d\"))\n",
    "#     print(df.head())\n",
    "    df.index = df.date\n",
    "    df.drop(['date'],axis=1,inplace=True)\n",
    "    df['simple_return'] = (df.PRC-df.PRC.shift(1))/df.PRC.shift(1)\n",
    "    df['log_return'] = np.log(df.PRC/df.PRC.shift(1))\n",
    "#     spdf = df.totval\n",
    "#     print(spdf.head())"
   ]
  },
  {
   "cell_type": "code",
   "execution_count": 75,
   "metadata": {
    "collapsed": false
   },
   "outputs": [
    {
     "name": "stdout",
     "output_type": "stream",
     "text": [
      "            PERMNO      PRC      RETX    sprtrn  simple_return  log_return\n",
      "date                                                                      \n",
      "2013-01-02   86580  12.7200  0.037520  0.025403            NaN         NaN\n",
      "2013-01-03   86580  12.7300  0.000786 -0.002086       0.000786    0.000786\n",
      "2013-01-04   86580  13.1500  0.032993  0.004865       0.032993    0.032460\n",
      "2013-01-07   86580  12.7700 -0.028897 -0.003123      -0.028897   -0.029323\n",
      "2013-01-08   86580  12.4915 -0.021809 -0.003242      -0.021809   -0.022050\n"
     ]
    }
   ],
   "source": [
    "df_5y_d = pd.read_csv(\"NVDA_5yr_d.csv\")\n",
    "preprocess_wrds_data(df_5y_d)\n",
    "print(df_5y_d.head())"
   ]
  },
  {
   "cell_type": "code",
   "execution_count": 76,
   "metadata": {
    "collapsed": false
   },
   "outputs": [],
   "source": [
    "df_5y_d.log_return.dropna(axis=0,inplace=True)"
   ]
  },
  {
   "cell_type": "code",
   "execution_count": 77,
   "metadata": {
    "collapsed": false
   },
   "outputs": [
    {
     "data": {
      "image/png": "[encoded data removed]",
      "text/plain": [
       "<matplotlib.figure.Figure at 0x1f35decfa20>"
      ]
     },
     "metadata": {},
     "output_type": "display_data"
    }
   ],
   "source": [
    "autocorrelation_check(df_5y_d.log_return,0.05)"
   ]
  },
  {
   "cell_type": "code",
   "execution_count": 78,
   "metadata": {
    "collapsed": false
   },
   "outputs": [
    {
     "name": "stderr",
     "output_type": "stream",
     "text": [
      "D:\\Softwares\\Anaconda3\\envs\\py36\\lib\\site-packages\\statsmodels\\base\\model.py:466: ConvergenceWarning: Maximum Likelihood optimization failed to converge. Check mle_retvals\n",
      "  \"Check mle_retvals\", ConvergenceWarning)\n",
      "D:\\Softwares\\Anaconda3\\envs\\py36\\lib\\site-packages\\statsmodels\\base\\model.py:466: ConvergenceWarning: Maximum Likelihood optimization failed to converge. Check mle_retvals\n",
      "  \"Check mle_retvals\", ConvergenceWarning)\n",
      "D:\\Softwares\\Anaconda3\\envs\\py36\\lib\\site-packages\\statsmodels\\base\\model.py:466: ConvergenceWarning: Maximum Likelihood optimization failed to converge. Check mle_retvals\n",
      "  \"Check mle_retvals\", ConvergenceWarning)\n",
      "D:\\Softwares\\Anaconda3\\envs\\py36\\lib\\site-packages\\statsmodels\\base\\model.py:466: ConvergenceWarning: Maximum Likelihood optimization failed to converge. Check mle_retvals\n",
      "  \"Check mle_retvals\", ConvergenceWarning)\n",
      "D:\\Softwares\\Anaconda3\\envs\\py36\\lib\\site-packages\\statsmodels\\base\\model.py:466: ConvergenceWarning: Maximum Likelihood optimization failed to converge. Check mle_retvals\n",
      "  \"Check mle_retvals\", ConvergenceWarning)\n"
     ]
    }
   ],
   "source": [
    "(p,q),a = IdentifyOrderArma(df_5y_d.log_return,6,6,'bic')"
   ]
  },
  {
   "cell_type": "code",
   "execution_count": 79,
   "metadata": {
    "collapsed": false
   },
   "outputs": [
    {
     "data": {
      "text/plain": [
       "(4, 1)"
      ]
     },
     "execution_count": 79,
     "metadata": {},
     "output_type": "execute_result"
    }
   ],
   "source": [
    "(p,q)"
   ]
  },
  {
   "cell_type": "code",
   "execution_count": 80,
   "metadata": {
    "collapsed": false
   },
   "outputs": [
    {
     "data": {
      "text/plain": [
       "array([[ -906.64836344,            nan,            nan, -1652.38051864,\n",
       "        -1663.24933625, -1699.06588836],\n",
       "       [-1552.3749238 , -1689.96551374, -1686.22070277, -1700.05508891,\n",
       "        -1693.50912559, -1696.6786516 ],\n",
       "       [-1603.67616928, -1692.14049136, -1687.3753953 , -1698.15617666,\n",
       "        -1696.15441697, -1689.91585993],\n",
       "       [-1713.28756199, -1706.48672659, -1705.67468947, -1698.75919968,\n",
       "        -1693.17735066, -1686.37834276],\n",
       "       [-1706.39578396, -1700.28694541, -1698.75907146, -1691.88173754,\n",
       "        -1686.31702426, -1683.32174278],\n",
       "       [-1704.90872236, -1704.90294854, -1698.38071441, -1691.56424779,\n",
       "        -1679.12004002, -1680.37071466]])"
      ]
     },
     "execution_count": 80,
     "metadata": {},
     "output_type": "execute_result"
    }
   ],
   "source": [
    "a"
   ]
  },
  {
   "cell_type": "markdown",
   "metadata": {},
   "source": [
    ">Conclusion: Based on minimum BIC, p=4,q=1"
   ]
  },
  {
   "cell_type": "code",
   "execution_count": 81,
   "metadata": {
    "collapsed": false
   },
   "outputs": [],
   "source": [
    "model = sm.tsa.ARMA(df_5y_d.log_return,(4,1)).fit(trend='nc')"
   ]
  },
  {
   "cell_type": "code",
   "execution_count": 82,
   "metadata": {
    "collapsed": false
   },
   "outputs": [
    {
     "data": {
      "text/plain": [
       "ar.L1.log_return   -0.070733\n",
       "ar.L2.log_return    0.018167\n",
       "ar.L3.log_return    0.063562\n",
       "ar.L4.log_return    0.037017\n",
       "ma.L1.log_return    0.041197\n",
       "dtype: float64"
      ]
     },
     "execution_count": 82,
     "metadata": {},
     "output_type": "execute_result"
    }
   ],
   "source": [
    "model.params"
   ]
  },
  {
   "cell_type": "code",
   "execution_count": 83,
   "metadata": {
    "collapsed": false
   },
   "outputs": [
    {
     "data": {
      "text/html": [
       "<table class=\"simpletable\">\n",
       "<caption>ARMA Model Results</caption>\n",
       "<tr>\n",
       "  <th>Dep. Variable:</th>    <td>log_return</td>    <th>  No. Observations:  </th>   <td>1258</td>   \n",
       "</tr>\n",
       "<tr>\n",
       "  <th>Model:</th>            <td>ARMA(4, 1)</td>    <th>  Log Likelihood     </th> <td>3044.625</td> \n",
       "</tr>\n",
       "<tr>\n",
       "  <th>Method:</th>             <td>css-mle</td>     <th>  S.D. of innovations</th>   <td>0.022</td>  \n",
       "</tr>\n",
       "<tr>\n",
       "  <th>Date:</th>          <td>Thu, 15 Mar 2018</td> <th>  AIC                </th> <td>-6077.249</td>\n",
       "</tr>\n",
       "<tr>\n",
       "  <th>Time:</th>              <td>18:54:41</td>     <th>  BIC                </th> <td>-6046.426</td>\n",
       "</tr>\n",
       "<tr>\n",
       "  <th>Sample:</th>           <td>01-03-2013</td>    <th>  HQIC               </th> <td>-6065.665</td>\n",
       "</tr>\n",
       "<tr>\n",
       "  <th></th>                 <td>- 12-29-2017</td>   <th>                     </th>     <td> </td>    \n",
       "</tr>\n",
       "</table>\n",
       "<table class=\"simpletable\">\n",
       "<tr>\n",
       "          <td></td>            <th>coef</th>     <th>std err</th>      <th>z</th>      <th>P>|z|</th> <th>[95.0% Conf. Int.]</th> \n",
       "</tr>\n",
       "<tr>\n",
       "  <th>ar.L1.log_return</th> <td>   -0.0707</td> <td>    0.484</td> <td>   -0.146</td> <td> 0.884</td> <td>   -1.019     0.877</td>\n",
       "</tr>\n",
       "<tr>\n",
       "  <th>ar.L2.log_return</th> <td>    0.0182</td> <td>    0.031</td> <td>    0.583</td> <td> 0.560</td> <td>   -0.043     0.079</td>\n",
       "</tr>\n",
       "<tr>\n",
       "  <th>ar.L3.log_return</th> <td>    0.0636</td> <td>    0.030</td> <td>    2.132</td> <td> 0.033</td> <td>    0.005     0.122</td>\n",
       "</tr>\n",
       "<tr>\n",
       "  <th>ar.L4.log_return</th> <td>    0.0370</td> <td>    0.041</td> <td>    0.913</td> <td> 0.362</td> <td>   -0.042     0.117</td>\n",
       "</tr>\n",
       "<tr>\n",
       "  <th>ma.L1.log_return</th> <td>    0.0412</td> <td>    0.484</td> <td>    0.085</td> <td> 0.932</td> <td>   -0.906     0.989</td>\n",
       "</tr>\n",
       "</table>\n",
       "<table class=\"simpletable\">\n",
       "<caption>Roots</caption>\n",
       "<tr>\n",
       "    <td></td>   <th>           Real</th> <th>         Imaginary</th> <th>         Modulus</th> <th>        Frequency</th>\n",
       "</tr>\n",
       "<tr>\n",
       "  <th>AR.1</th>               1.9834                    -0.0000j                    1.9834                   -0.0000     \n",
       "</tr>\n",
       "<tr>\n",
       "  <th>AR.2</th>              -0.5121                    -2.1970j                    2.2559                   -0.2864     \n",
       "</tr>\n",
       "<tr>\n",
       "  <th>AR.3</th>              -0.5121                    +2.1970j                    2.2559                    0.2864     \n",
       "</tr>\n",
       "<tr>\n",
       "  <th>AR.4</th>              -2.6763                    -0.0000j                    2.6763                   -0.5000     \n",
       "</tr>\n",
       "<tr>\n",
       "  <th>MA.1</th>             -24.2734                    +0.0000j                   24.2734                    0.5000     \n",
       "</tr>\n",
       "</table>"
      ],
      "text/plain": [
       "<class 'statsmodels.iolib.summary.Summary'>\n",
       "\"\"\"\n",
       "                              ARMA Model Results                              \n",
       "==============================================================================\n",
       "Dep. Variable:             log_return   No. Observations:                 1258\n",
       "Model:                     ARMA(4, 1)   Log Likelihood                3044.625\n",
       "Method:                       css-mle   S.D. of innovations              0.022\n",
       "Date:                Thu, 15 Mar 2018   AIC                          -6077.249\n",
       "Time:                        18:54:41   BIC                          -6046.426\n",
       "Sample:                    01-03-2013   HQIC                         -6065.665\n",
       "                         - 12-29-2017                                         \n",
       "====================================================================================\n",
       "                       coef    std err          z      P>|z|      [95.0% Conf. Int.]\n",
       "------------------------------------------------------------------------------------\n",
       "ar.L1.log_return    -0.0707      0.484     -0.146      0.884        -1.019     0.877\n",
       "ar.L2.log_return     0.0182      0.031      0.583      0.560        -0.043     0.079\n",
       "ar.L3.log_return     0.0636      0.030      2.132      0.033         0.005     0.122\n",
       "ar.L4.log_return     0.0370      0.041      0.913      0.362        -0.042     0.117\n",
       "ma.L1.log_return     0.0412      0.484      0.085      0.932        -0.906     0.989\n",
       "                                    Roots                                    \n",
       "=============================================================================\n",
       "                 Real           Imaginary           Modulus         Frequency\n",
       "-----------------------------------------------------------------------------\n",
       "AR.1            1.9834           -0.0000j            1.9834           -0.0000\n",
       "AR.2           -0.5121           -2.1970j            2.2559           -0.2864\n",
       "AR.3           -0.5121           +2.1970j            2.2559            0.2864\n",
       "AR.4           -2.6763           -0.0000j            2.6763           -0.5000\n",
       "MA.1          -24.2734           +0.0000j           24.2734            0.5000\n",
       "-----------------------------------------------------------------------------\n",
       "\"\"\""
      ]
     },
     "execution_count": 83,
     "metadata": {},
     "output_type": "execute_result"
    }
   ],
   "source": [
    "model.summary()"
   ]
  },
  {
   "cell_type": "markdown",
   "metadata": {},
   "source": [
    ">Nevertheless, the std err are too large for our model parameters.\n",
    "\n",
    "><span style=\"color:red\">Question: How to handle it in financial data? Change model? What does the suitable std err look like?</span>"
   ]
  },
  {
   "cell_type": "code",
   "execution_count": null,
   "metadata": {
    "collapsed": true
   },
   "outputs": [],
   "source": []
  }
 ],
 "metadata": {
  "kernelspec": {
   "display_name": "Python 3",
   "language": "python",
   "name": "python3"
  },
  "language_info": {
   "codemirror_mode": {
    "name": "ipython",
    "version": 3
   },
   "file_extension": ".py",
   "mimetype": "text/x-python",
   "name": "python",
   "nbconvert_exporter": "python",
   "pygments_lexer": "ipython3",
   "version": "3.6.0"
  }
 },
 "nbformat": 4,
 "nbformat_minor": 2
}
