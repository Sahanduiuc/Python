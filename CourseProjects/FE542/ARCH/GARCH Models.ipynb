{
 "cells": [
  {
   "cell_type": "markdown",
   "metadata": {},
   "source": [
    "# FE542 Homework 4"
   ]
  },
  {
   "cell_type": "markdown",
   "metadata": {},
   "source": [
    "## Problem 1\n",
    "\n",
    "### The conditional log likelihood function of AR(1)-GARCH(1,1) model"
   ]
  },
  {
   "cell_type": "markdown",
   "metadata": {},
   "source": [
    "$$Conditional Log Likelihood = log\\{ f_{r_1}(\\Theta) \\cdot \\prod_{t=2}^{n} f_{r_t|r_{t-1},\\sigma_{t-1},\\epsilon_{t-1}} (\\Theta) \\}$$\n",
    "where $\\Theta = \\{\\phi_1,\\alpha_0,\\alpha_1,\\beta_1\\}$\n",
    "Since the residual term $\\epsilon$ is Gaussian, the whole distribution for $r_t$ is also Gaussian.\n",
    "\n",
    "Here, we use this conclusion without prove (it's well-known and one can find in most statistics notebooks). The question is about how to derive the distribution or more specifically, the mean and variance of the Gaussian distribution along different terms. The good one is that here we use conditional likelihood function which means we are assumed to know the parameters in the history and do not care about the relation ship between all of them.\n",
    "\n",
    "Lemma\n",
    "\n",
    "* At time t, the conditional mean of return $r_t$ satisfies\n",
    "$$\\mu_t := E[r_t|\\mathcal{F}_{t-1}] = \\mu + \\phi_1 r_{t-1}$$\n",
    "\n",
    "* The conditional variance of return $r_t$\n",
    "$$\\sigma_t^2 := Var[r_t|\\mathcal{F}_{t-1}] = \\alpha_0 + \\alpha_1 \\sigma_{t-1}^2 \\epsilon_{t-1}^2 + \\beta_1 \\sigma_{t-1}^2$$\n",
    "\n",
    "* Long-term mean\n",
    "$$(1-\\phi_1)\\mu_{\\infty} = \\mu\\\\\n",
    "    \\mu_{\\infty} = \\frac{\\mu}{1-\\phi_1}$$\n",
    "    \n",
    "* Long-term variance\n",
    "$$\\sigma_{\\infty}(1-\\alpha_1-\\beta_1)=\\alpha_0\\\\\n",
    "\\sigma_{\\infty} = \\frac{\\alpha_0}{1-\\alpha_1-\\beta_1}$$\n",
    "\n",
    "* Likelihood function for Normal distribution $N(\\mu_t,\\sigma_t^2)$\n",
    "$$\\frac{1}{2\\pi \\sigma_t^2} \\exp(-\\frac{(r_t - \\mu_t)^2}{2 \\sigma_t^2})$$\n",
    "\n",
    "* Conditional log likelihood function for $\\{r_t\\}_{t=1,2,\\cdots,n}$\n",
    "$$log\\{ f_{r_1}(\\Theta)\\} + \\sum_{t=2}^n log\\{f_{r_t|r_{t-1},\\sigma_{t-1},\\epsilon_{t-1}} (\\Theta) \\}$$\n",
    "\n",
    "$$= -\\frac{1}{2} \\sum_{t=1}^n log 2\\pi \\sigma_t^2 - \\sum_{t=1}^n \\frac{(r_t-\\mu_t)^2}{2\\sigma_t^2}$$\n",
    "where\n",
    "$$\\mu_t := E[r_t|\\mathcal{F}_{t-1}] = \\mu + \\phi_1 r_{t-1}, t=2,3,\\cdots, n$$\n",
    "$$\\sigma_t^2 := Var[r_t|\\mathcal{F}_{t-1}] = \\alpha_0 + \\alpha_1 \\sigma_{t-1}^2 \\epsilon_{t-1}^2 + \\beta_1 \\sigma_{t-1}^2, t=2,3,\\cdots, n$$\n",
    "$$\\mu_1 = \\mu_{\\infty} = \\frac{\\mu}{1-\\phi_1}$$\n",
    "$$\\sigma_1 = sigma_{\\infty}=\\frac{\\alpha_0}{1-\\alpha_1-\\beta_1}$$\n",
    "\n",
    "Note that in the above derivatives, we used long-term moments to match the statistics in time equals 1. This is because we do not know the information before $t=1$. As a result, we should find an estimated distribution to these parameters, a \"no-harm\" strategy is using the long-term ones."
   ]
  },
  {
   "cell_type": "markdown",
   "metadata": {},
   "source": [
    "## Problem2\n",
    "### Given generated data from an ARMA(p,q) model, can I create data from an ARIMA (p,1,q) model? How?"
   ]
  },
  {
   "cell_type": "markdown",
   "metadata": {},
   "source": [
    ">Sure, for example, we have the data from ARMA(p,q) named arma_sim. Then, arima_sim = cumsum(arma_sim)"
   ]
  },
  {
   "cell_type": "code",
   "execution_count": 1,
   "metadata": {
    "collapsed": false
   },
   "outputs": [
    {
     "name": "stderr",
     "output_type": "stream",
     "text": [
      "/Users/xiayuxuan/anaconda/envs/py36/lib/python3.6/site-packages/statsmodels/compat/pandas.py:56: FutureWarning: The pandas.core.datetools module is deprecated and will be removed in a future version. Please use the pandas.tseries module instead.\n",
      "  from pandas.core import datetools\n"
     ]
    },
    {
     "name": "stdout",
     "output_type": "stream",
     "text": [
      "True\n",
      "True\n"
     ]
    },
    {
     "name": "stderr",
     "output_type": "stream",
     "text": [
      "/Users/xiayuxuan/anaconda/envs/py36/lib/python3.6/site-packages/statsmodels/tsa/kalmanf/kalmanfilter.py:646: FutureWarning: Conversion of the second argument of issubdtype from `float` to `np.floating` is deprecated. In future, it will be treated as `np.float64 == np.dtype(float).type`.\n",
      "  if issubdtype(paramsdtype, float):\n",
      "/Users/xiayuxuan/anaconda/envs/py36/lib/python3.6/site-packages/statsmodels/tsa/kalmanf/kalmanfilter.py:650: FutureWarning: Conversion of the second argument of issubdtype from `complex` to `np.complexfloating` is deprecated. In future, it will be treated as `np.complex128 == np.dtype(complex).type`.\n",
      "  elif issubdtype(paramsdtype, complex):\n"
     ]
    },
    {
     "data": {
      "text/plain": [
       "array([ 0.70182152, -0.23570321,  0.69743013,  0.3855389 ])"
      ]
     },
     "execution_count": 1,
     "metadata": {},
     "output_type": "execute_result"
    }
   ],
   "source": [
    "import statsmodels.api as sm\n",
    "import numpy as np\n",
    "np.random.seed(12345)\n",
    "arparams = np.array([.75, -.25])\n",
    "maparams = np.array([.65, .35])\n",
    "ar = np.r_[1, -arparams] # add zero-lag and negate\n",
    "ma = np.r_[1, maparams] # add zero-lag\n",
    "arma_process = sm.tsa.ArmaProcess(ar,ma)\n",
    "print(arma_process.isstationary) # check stationarity\n",
    "print(arma_process.isinvertible) # check invertibility\n",
    "arma_sim = arma_process.generate_sample(1000)\n",
    "arima_sim = np.cumsum(arma_sim)\n",
    "model = sm.tsa.ARIMA(arima_sim,(2,1,2)).fit(trend='nc', disp=0)\n",
    "model.params\n"
   ]
  },
  {
   "cell_type": "markdown",
   "metadata": {},
   "source": [
    ">The calibrated parameters are consistent! Verified our assersion"
   ]
  },
  {
   "cell_type": "markdown",
   "metadata": {},
   "source": [
    "### (a) For the ARMA parameters, choose $\\mu, \\phi_1, \\phi_2, \\theta_1, \\theta_2$ so that the model is stationary and invertible. We will use these parameters in the following parts."
   ]
  },
  {
   "cell_type": "code",
   "execution_count": 2,
   "metadata": {
    "collapsed": false
   },
   "outputs": [
    {
     "name": "stdout",
     "output_type": "stream",
     "text": [
      "True\n",
      "True\n"
     ]
    },
    {
     "name": "stderr",
     "output_type": "stream",
     "text": [
      "/Users/xiayuxuan/anaconda/envs/py36/lib/python3.6/site-packages/statsmodels/tsa/kalmanf/kalmanfilter.py:646: FutureWarning: Conversion of the second argument of issubdtype from `float` to `np.floating` is deprecated. In future, it will be treated as `np.float64 == np.dtype(float).type`.\n",
      "  if issubdtype(paramsdtype, float):\n",
      "/Users/xiayuxuan/anaconda/envs/py36/lib/python3.6/site-packages/statsmodels/tsa/kalmanf/kalmanfilter.py:650: FutureWarning: Conversion of the second argument of issubdtype from `complex` to `np.complexfloating` is deprecated. In future, it will be treated as `np.complex128 == np.dtype(complex).type`.\n",
      "  elif issubdtype(paramsdtype, complex):\n"
     ]
    },
    {
     "data": {
      "text/plain": [
       "array([ 0.79044201, -0.2314064 ,  0.70072905,  0.40608023])"
      ]
     },
     "execution_count": 2,
     "metadata": {},
     "output_type": "execute_result"
    }
   ],
   "source": [
    "np.random.seed(12345)\n",
    "arparams = np.array([.75, -.25])\n",
    "maparams = np.array([.65, .35])\n",
    "ar = np.r_[1, -arparams] # add zero-lag and negate\n",
    "ma = np.r_[1, maparams] # add zero-lag\n",
    "arma_process = sm.tsa.ArmaProcess(ar,ma)\n",
    "print(arma_process.isstationary) # check stationarity\n",
    "print(arma_process.isinvertible) # check invertibility\n",
    "y = arma_process.generate_sample(250)\n",
    "model = sm.tsa.ARMA(y, (2, 2)).fit(trend='nc', disp=0) # calibrate the exact model\n",
    "model.params"
   ]
  },
  {
   "cell_type": "markdown",
   "metadata": {},
   "source": [
    "### (b) Generate three time series for the ARIMA(2,2,2) for each of the following values of $\\sigma_a$: 0.8, 0.1, and 0.01. Generate 1,008 observations for each value of the $\\sigma_a$. That is, for each different $\\sigma_a$ value, generate a different time series yt (all three of them with the same size - 4 years). Create an ACF plot for each data thus created."
   ]
  },
  {
   "cell_type": "markdown",
   "metadata": {},
   "source": [
    ">#### Claim: there is no generator function for ARIMA process in python, so I just used the property made by the above and used an ARMA generator to simulate ARIMA processes"
   ]
  },
  {
   "cell_type": "code",
   "execution_count": 3,
   "metadata": {
    "collapsed": false
   },
   "outputs": [],
   "source": [
    "arma_process = sm.tsa.ArmaProcess(ar,ma)\n",
    "\n",
    "arma_sim1 = arma_process.generate_sample(1008,0.8)\n",
    "arima_sim1 = np.cumsum(np.cumsum(arma_sim)) # I=2 --> double cumsum\n",
    "\n",
    "arma_sim2 = arma_process.generate_sample(1008,0.1)\n",
    "arima_sim2 = np.cumsum(np.cumsum(arma_sim)) # I=2 --> double cumsum\n",
    "\n",
    "arma_sim3 = arma_process.generate_sample(1008,0.01)\n",
    "arima_sim3 = np.cumsum(np.cumsum(arma_sim)) # I=2 --> double cumsum"
   ]
  },
  {
   "cell_type": "code",
   "execution_count": 4,
   "metadata": {
    "collapsed": false
   },
   "outputs": [
    {
     "data": {
      "image/png": "[encoded data removed]",
      "text/plain": [
       "<matplotlib.figure.Figure at 0x1050ea128>"
      ]
     },
     "metadata": {},
     "output_type": "display_data"
    }
   ],
   "source": [
    "from statsmodels.graphics.tsaplots import plot_acf\n",
    "import matplotlib.pyplot as plt\n",
    "\n",
    "fig, axes = plt.subplots(3,1)\n",
    "plot_acf(arima_sim1,ax=axes[0],lags=200)\n",
    "plot_acf(arima_sim2,ax=axes[1],lags=200)\n",
    "plot_acf(arima_sim3,ax=axes[2],lags=200)\n",
    "plt.show()"
   ]
  },
  {
   "cell_type": "markdown",
   "metadata": {},
   "source": [
    "### (c) Test for unit root in these series. If there is a unit root, take the first difference $\\Delta_t = (1 - L)y_t$, plot the ACF and retest. Again, continue with $\\Delta_t^2 = (1 - L)^2y_t$, plot the ACF and retest. What do you observe? Comment."
   ]
  },
  {
   "cell_type": "markdown",
   "metadata": {},
   "source": [
    ">Here, we take arima_sim1 as an example"
   ]
  },
  {
   "cell_type": "code",
   "execution_count": 5,
   "metadata": {
    "collapsed": false
   },
   "outputs": [
    {
     "data": {
      "text/plain": [
       "0.8436429138045936"
      ]
     },
     "execution_count": 5,
     "metadata": {},
     "output_type": "execute_result"
    }
   ],
   "source": [
    "from statsmodels.tsa.stattools import adfuller\n",
    "adf,pvalue,usedlag,nobs,criticals,icbest = adfuller(arima_sim1,maxlag=20,regression='nc')\n",
    "pvalue"
   ]
  },
  {
   "cell_type": "markdown",
   "metadata": {},
   "source": [
    ">The null hypothesis(there is a unit root) is not rejected"
   ]
  },
  {
   "cell_type": "code",
   "execution_count": 6,
   "metadata": {
    "collapsed": false
   },
   "outputs": [
    {
     "data": {
      "text/plain": [
       "0.059273316991860926"
      ]
     },
     "execution_count": 6,
     "metadata": {},
     "output_type": "execute_result"
    }
   ],
   "source": [
    "arima_sim1_diff1 = np.diff(arima_sim1)\n",
    "adf,pvalue,usedlag,nobs,criticals,icbest = adfuller(arima_sim1_diff1,maxlag=20,regression='nc')\n",
    "pvalue"
   ]
  },
  {
   "cell_type": "markdown",
   "metadata": {},
   "source": [
    ">The same, still has a unit-root"
   ]
  },
  {
   "cell_type": "code",
   "execution_count": 7,
   "metadata": {
    "collapsed": false
   },
   "outputs": [
    {
     "data": {
      "text/plain": [
       "1.4750925363624437e-19"
      ]
     },
     "execution_count": 7,
     "metadata": {},
     "output_type": "execute_result"
    }
   ],
   "source": [
    "arima_sim1_diff2 = np.diff(arima_sim1,n=2)\n",
    "adf,pvalue,usedlag,nobs,criticals,icbest = adfuller(arima_sim1_diff2,maxlag=20,regression='nc')\n",
    "pvalue"
   ]
  },
  {
   "cell_type": "markdown",
   "metadata": {},
   "source": [
    ">Not surprised, there is no unit-root after twice first difference operation. That is because what we got here is actually a arma model without iteration term"
   ]
  },
  {
   "cell_type": "markdown",
   "metadata": {},
   "source": [
    "## Problem3\n",
    "### Download a daily time series of an equity of your choice containing data for the past 4 years. Let St denote the time series of daily stock values. Test for unit root in this time series. If there is one, remove it by taking continuously compounded returns (log first then difference). Do so until there are no more unit roots and then fit an ARMA model. Write down the final model and comment."
   ]
  },
  {
   "cell_type": "code",
   "execution_count": 8,
   "metadata": {
    "collapsed": false
   },
   "outputs": [],
   "source": [
    "import pandas as pd\n",
    "ftse100_df = pd.read_csv(\"FTSE 100 Historical Data.csv\")"
   ]
  },
  {
   "cell_type": "code",
   "execution_count": 9,
   "metadata": {
    "collapsed": false
   },
   "outputs": [
    {
     "data": {
      "text/html": [
       "<div>\n",
       "<style scoped>\n",
       "    .dataframe tbody tr th:only-of-type {\n",
       "        vertical-align: middle;\n",
       "    }\n",
       "\n",
       "    .dataframe tbody tr th {\n",
       "        vertical-align: top;\n",
       "    }\n",
       "\n",
       "    .dataframe thead th {\n",
       "        text-align: right;\n",
       "    }\n",
       "</style>\n",
       "<table border=\"1\" class=\"dataframe\">\n",
       "  <thead>\n",
       "    <tr style=\"text-align: right;\">\n",
       "      <th></th>\n",
       "      <th>Date</th>\n",
       "      <th>Price</th>\n",
       "      <th>Open</th>\n",
       "      <th>High</th>\n",
       "      <th>Low</th>\n",
       "      <th>Vol.</th>\n",
       "      <th>Change %</th>\n",
       "    </tr>\n",
       "  </thead>\n",
       "  <tbody>\n",
       "    <tr>\n",
       "      <th>0</th>\n",
       "      <td>Apr 20, 2018</td>\n",
       "      <td>7,368.17</td>\n",
       "      <td>7,328.92</td>\n",
       "      <td>7,368.17</td>\n",
       "      <td>7,323.31</td>\n",
       "      <td>792.27M</td>\n",
       "      <td>0.54%</td>\n",
       "    </tr>\n",
       "    <tr>\n",
       "      <th>1</th>\n",
       "      <td>Apr 19, 2018</td>\n",
       "      <td>7,328.92</td>\n",
       "      <td>7,317.34</td>\n",
       "      <td>7,340.73</td>\n",
       "      <td>7,309.42</td>\n",
       "      <td>811.86M</td>\n",
       "      <td>0.16%</td>\n",
       "    </tr>\n",
       "    <tr>\n",
       "      <th>2</th>\n",
       "      <td>Apr 18, 2018</td>\n",
       "      <td>7,317.34</td>\n",
       "      <td>7,226.05</td>\n",
       "      <td>7,325.59</td>\n",
       "      <td>7,226.05</td>\n",
       "      <td>904.18M</td>\n",
       "      <td>1.26%</td>\n",
       "    </tr>\n",
       "    <tr>\n",
       "      <th>3</th>\n",
       "      <td>Apr 17, 2018</td>\n",
       "      <td>7,226.05</td>\n",
       "      <td>7,198.20</td>\n",
       "      <td>7,240.41</td>\n",
       "      <td>7,189.85</td>\n",
       "      <td>735.88M</td>\n",
       "      <td>0.39%</td>\n",
       "    </tr>\n",
       "    <tr>\n",
       "      <th>4</th>\n",
       "      <td>Apr 16, 2018</td>\n",
       "      <td>7,198.20</td>\n",
       "      <td>7,264.56</td>\n",
       "      <td>7,265.83</td>\n",
       "      <td>7,195.46</td>\n",
       "      <td>889.30M</td>\n",
       "      <td>-0.91%</td>\n",
       "    </tr>\n",
       "  </tbody>\n",
       "</table>\n",
       "</div>"
      ],
      "text/plain": [
       "           Date     Price      Open      High       Low     Vol. Change %\n",
       "0  Apr 20, 2018  7,368.17  7,328.92  7,368.17  7,323.31  792.27M    0.54%\n",
       "1  Apr 19, 2018  7,328.92  7,317.34  7,340.73  7,309.42  811.86M    0.16%\n",
       "2  Apr 18, 2018  7,317.34  7,226.05  7,325.59  7,226.05  904.18M    1.26%\n",
       "3  Apr 17, 2018  7,226.05  7,198.20  7,240.41  7,189.85  735.88M    0.39%\n",
       "4  Apr 16, 2018  7,198.20  7,264.56  7,265.83  7,195.46  889.30M   -0.91%"
      ]
     },
     "execution_count": 9,
     "metadata": {},
     "output_type": "execute_result"
    }
   ],
   "source": [
    "ftse100_df.head()"
   ]
  },
  {
   "cell_type": "code",
   "execution_count": 10,
   "metadata": {
    "collapsed": false
   },
   "outputs": [
    {
     "name": "stdout",
     "output_type": "stream",
     "text": [
      "[6039.9  6185.6  6198.1  ... 7317.34 7328.92 7368.17]\n"
     ]
    }
   ],
   "source": [
    "ftse100_price = np.array([float(istr.replace(\",\",\"\")) for istr in ftse100_df['Price'].values][::-1])\n",
    "print(ftse100_price)"
   ]
  },
  {
   "cell_type": "code",
   "execution_count": 11,
   "metadata": {
    "collapsed": false
   },
   "outputs": [
    {
     "data": {
      "text/plain": [
       "0.7216847435421199"
      ]
     },
     "execution_count": 11,
     "metadata": {},
     "output_type": "execute_result"
    }
   ],
   "source": [
    "adf,pvalue,usedlag,nobs,criticals,icbest = adfuller(ftse100_price,maxlag=20,regression='nc')\n",
    "pvalue"
   ]
  },
  {
   "cell_type": "code",
   "execution_count": 12,
   "metadata": {
    "collapsed": false
   },
   "outputs": [
    {
     "data": {
      "text/plain": [
       "0.0"
      ]
     },
     "execution_count": 12,
     "metadata": {},
     "output_type": "execute_result"
    }
   ],
   "source": [
    "ftse100_price_log1 = np.log(ftse100_price[1:]/ftse100_price[:-1])\n",
    "adf,pvalue,usedlag,nobs,criticals,icbest = adfuller(ftse100_price_log1,maxlag=20,regression='nc')\n",
    "pvalue"
   ]
  },
  {
   "cell_type": "markdown",
   "metadata": {},
   "source": [
    "> No unit-root for log returns"
   ]
  },
  {
   "cell_type": "code",
   "execution_count": 13,
   "metadata": {
    "collapsed": false
   },
   "outputs": [
    {
     "data": {
      "text/plain": [
       "0.0"
      ]
     },
     "execution_count": 13,
     "metadata": {},
     "output_type": "execute_result"
    }
   ],
   "source": [
    "ftse100_price_diff1 = np.diff(ftse100_price)\n",
    "adf,pvalue,usedlag,nobs,criticals,icbest = adfuller(ftse100_price_diff1,maxlag=20,regression='nc')\n",
    "pvalue"
   ]
  },
  {
   "cell_type": "markdown",
   "metadata": {},
   "source": [
    "> No unit-root for first difference of prices"
   ]
  },
  {
   "cell_type": "markdown",
   "metadata": {},
   "source": [
    "## Problem 4\n",
    "### Download a daily time series of your choice for the past 4 years (it may be the same as the one in the previous problem). Model the returns as an ARIMA or an ARMA time series, using the modeling methods you have implemented in past assignments. Obtain the residuals and test for ARCH effects. If the effects are not present then download and test another equity. Repeat for as long as necessary to obtain an appropriate time series."
   ]
  },
  {
   "cell_type": "code",
   "execution_count": 14,
   "metadata": {
    "collapsed": false
   },
   "outputs": [
    {
     "data": {
      "text/plain": [
       "array([ 0.02383655,  0.00201878, -0.00785575, -0.01005099, -0.00452724,\n",
       "        0.00891961,  0.00824082,  0.00077822, -0.01420015,  0.01858254])"
      ]
     },
     "execution_count": 14,
     "metadata": {},
     "output_type": "execute_result"
    }
   ],
   "source": [
    "ftse100_price_log1[:10]"
   ]
  },
  {
   "cell_type": "markdown",
   "metadata": {},
   "source": [
    ">Since there is no unit-root effect, we use ARMA(2,2) model here."
   ]
  },
  {
   "cell_type": "code",
   "execution_count": 15,
   "metadata": {
    "collapsed": false
   },
   "outputs": [
    {
     "name": "stderr",
     "output_type": "stream",
     "text": [
      "/Users/xiayuxuan/anaconda/envs/py36/lib/python3.6/site-packages/statsmodels/tsa/kalmanf/kalmanfilter.py:646: FutureWarning: Conversion of the second argument of issubdtype from `float` to `np.floating` is deprecated. In future, it will be treated as `np.float64 == np.dtype(float).type`.\n",
      "  if issubdtype(paramsdtype, float):\n",
      "/Users/xiayuxuan/anaconda/envs/py36/lib/python3.6/site-packages/statsmodels/tsa/kalmanf/kalmanfilter.py:650: FutureWarning: Conversion of the second argument of issubdtype from `complex` to `np.complexfloating` is deprecated. In future, it will be treated as `np.complex128 == np.dtype(complex).type`.\n",
      "  elif issubdtype(paramsdtype, complex):\n",
      "/Users/xiayuxuan/anaconda/envs/py36/lib/python3.6/site-packages/statsmodels/base/model.py:496: ConvergenceWarning: Maximum Likelihood optimization failed to converge. Check mle_retvals\n",
      "  \"Check mle_retvals\", ConvergenceWarning)\n"
     ]
    }
   ],
   "source": [
    "fit_model = sm.tsa.ARMA(endog=ftse100_price_log1,order=(2,2)).fit()"
   ]
  },
  {
   "cell_type": "code",
   "execution_count": 16,
   "metadata": {
    "collapsed": false
   },
   "outputs": [
    {
     "name": "stderr",
     "output_type": "stream",
     "text": [
      "/Users/xiayuxuan/anaconda/envs/py36/lib/python3.6/site-packages/statsmodels/tsa/kalmanf/kalmanfilter.py:577: FutureWarning: Conversion of the second argument of issubdtype from `float` to `np.floating` is deprecated. In future, it will be treated as `np.float64 == np.dtype(float).type`.\n",
      "  if issubdtype(paramsdtype, float):\n"
     ]
    },
    {
     "data": {
      "image/png": "[encoded data removed]",
      "text/plain": [
       "<matplotlib.figure.Figure at 0x110b24860>"
      ]
     },
     "metadata": {},
     "output_type": "display_data"
    }
   ],
   "source": [
    "plt.plot(fit_model.resid**2)\n",
    "plt.show()"
   ]
  },
  {
   "cell_type": "code",
   "execution_count": 17,
   "metadata": {
    "collapsed": false
   },
   "outputs": [
    {
     "name": "stdout",
     "output_type": "stream",
     "text": [
      "[2.43710946e-058 1.90143530e-150 3.26648062e-253 0.00000000e+000\n",
      " 0.00000000e+000 0.00000000e+000 0.00000000e+000 0.00000000e+000\n",
      " 0.00000000e+000 0.00000000e+000 0.00000000e+000 0.00000000e+000\n",
      " 0.00000000e+000 0.00000000e+000 0.00000000e+000 0.00000000e+000\n",
      " 0.00000000e+000 0.00000000e+000 0.00000000e+000 0.00000000e+000\n",
      " 0.00000000e+000 0.00000000e+000 0.00000000e+000 0.00000000e+000\n",
      " 0.00000000e+000 0.00000000e+000 0.00000000e+000 0.00000000e+000\n",
      " 0.00000000e+000 0.00000000e+000 0.00000000e+000 0.00000000e+000\n",
      " 0.00000000e+000 0.00000000e+000 0.00000000e+000 0.00000000e+000\n",
      " 0.00000000e+000 0.00000000e+000 0.00000000e+000 0.00000000e+000]\n"
     ]
    }
   ],
   "source": [
    "from statsmodels.stats.diagnostic import acorr_ljungbox\n",
    "statistics,pvalues = acorr_ljungbox(fit_model.resid**2)\n",
    "print(pvalues)"
   ]
  },
  {
   "cell_type": "markdown",
   "metadata": {},
   "source": [
    ">The null hypothesis (autocorrelations are all zero) is rejected. Obviously, there is an ARCH effect in the residuels"
   ]
  },
  {
   "cell_type": "markdown",
   "metadata": {},
   "source": [
    "### (a) Specify an ARCH model for the data, using the tools learned in class to determine the order. Write down the final model and its parameters (do not forget to re-estimate the ARIMA parameters as well for the specific ARCH order chosen)."
   ]
  },
  {
   "cell_type": "markdown",
   "metadata": {},
   "source": [
    "> The original intention of the GARCH (ARCH) model is to explain excessive randomness in form of the volatility parameter. Since MA part for mean(return) equation introduces untrackable randomness, it is not that meaningful to add if we are using GARCH model (i.e. it can be integrated to the volatility term). As the following, we only choose our mean model to be an AR model. In python there is no auto-tool to learn the order (Neither should we, because you can't say it just from some wierd criterion). Again, we choose AR(2) model"
   ]
  },
  {
   "cell_type": "code",
   "execution_count": 18,
   "metadata": {
    "collapsed": false
   },
   "outputs": [
    {
     "name": "stdout",
     "output_type": "stream",
     "text": [
      "-26325.052233001978\n"
     ]
    },
    {
     "data": {
      "image/png": "[encoded data removed]",
      "text/plain": [
       "<matplotlib.figure.Figure at 0x110bc2080>"
      ]
     },
     "metadata": {},
     "output_type": "display_data"
    },
    {
     "name": "stdout",
     "output_type": "stream",
     "text": [
      "                     AR - Constant Variance Model Results                     \n",
      "==============================================================================\n",
      "Dep. Variable:                      y   R-squared:                       0.004\n",
      "Mean Model:                        AR   Adj. R-squared:                  0.003\n",
      "Vol Model:          Constant Variance   Log-Likelihood:                13179.3\n",
      "Distribution:                  Normal   AIC:                          -26350.6\n",
      "Method:            Maximum Likelihood   BIC:                          -26325.1\n",
      "                                        No. Observations:                 4366\n",
      "Date:                Mon, Apr 30 2018   Df Residuals:                     4362\n",
      "Time:                        23:25:37   Df Model:                            4\n",
      "                                  Mean Model                                 \n",
      "=============================================================================\n",
      "                 coef    std err          t      P>|t|       95.0% Conf. Int.\n",
      "-----------------------------------------------------------------------------\n",
      "Const      4.3149e-05  1.793e-04      0.241      0.810 [-3.083e-04,3.946e-04]\n",
      "y[1]          -0.0418  2.647e-02     -1.578      0.114 [-9.365e-02,1.010e-02]\n",
      "y[2]          -0.0437  2.866e-02     -1.523      0.128 [-9.982e-02,1.252e-02]\n",
      "                              Volatility Model                              \n",
      "============================================================================\n",
      "                 coef    std err          t      P>|t|      95.0% Conf. Int.\n",
      "----------------------------------------------------------------------------\n",
      "sigma2     1.3983e-04  6.225e-06     22.463 9.545e-112 [1.276e-04,1.520e-04]\n",
      "============================================================================\n",
      "\n",
      "Covariance estimator: White's Heteroskedasticity Consistent Estimator\n"
     ]
    }
   ],
   "source": [
    "from arch.univariate import ARX\n",
    "ar = ARX(ftse100_price_log1,lags=2)\n",
    "res = ar.fit()\n",
    "print(res.bic)\n",
    "plt.plot(res.resid)\n",
    "plt.show()\n",
    "print(res.summary())"
   ]
  },
  {
   "cell_type": "code",
   "execution_count": 19,
   "metadata": {
    "collapsed": false
   },
   "outputs": [],
   "source": [
    "resid = res.resid[~np.isnan(res.resid)]"
   ]
  },
  {
   "cell_type": "code",
   "execution_count": 20,
   "metadata": {
    "collapsed": false
   },
   "outputs": [
    {
     "data": {
      "text/plain": [
       "(array([ 247.92312743,  647.39089512, 1082.13263817, 1460.49021769,\n",
       "        1950.34725009, 2184.60381309, 2367.80425133, 2548.44524985,\n",
       "        2825.36515045, 3142.81656195, 3319.76049606, 3524.92558258,\n",
       "        3800.07720656, 3915.20779062, 4182.0254831 , 4340.4479257 ,\n",
       "        4518.04458159, 4766.41536013, 4966.91297414, 5034.32736497,\n",
       "        5196.23476859, 5289.31399958, 5454.3997599 , 5528.10365155,\n",
       "        5647.85297496, 5729.65932506, 5827.35195242, 6105.81833901,\n",
       "        6151.56814107, 6261.03051905, 6421.27081726, 6500.6612332 ,\n",
       "        6589.21530913, 6665.57152196, 6780.96853636, 6827.20932521,\n",
       "        6892.42069468, 6935.89771693, 6956.98613584, 7053.69618065]),\n",
       " array([7.36586990e-056, 2.63544105e-141, 2.73756452e-234, 0.00000000e+000,\n",
       "        0.00000000e+000, 0.00000000e+000, 0.00000000e+000, 0.00000000e+000,\n",
       "        0.00000000e+000, 0.00000000e+000, 0.00000000e+000, 0.00000000e+000,\n",
       "        0.00000000e+000, 0.00000000e+000, 0.00000000e+000, 0.00000000e+000,\n",
       "        0.00000000e+000, 0.00000000e+000, 0.00000000e+000, 0.00000000e+000,\n",
       "        0.00000000e+000, 0.00000000e+000, 0.00000000e+000, 0.00000000e+000,\n",
       "        0.00000000e+000, 0.00000000e+000, 0.00000000e+000, 0.00000000e+000,\n",
       "        0.00000000e+000, 0.00000000e+000, 0.00000000e+000, 0.00000000e+000,\n",
       "        0.00000000e+000, 0.00000000e+000, 0.00000000e+000, 0.00000000e+000,\n",
       "        0.00000000e+000, 0.00000000e+000, 0.00000000e+000, 0.00000000e+000]))"
      ]
     },
     "execution_count": 20,
     "metadata": {},
     "output_type": "execute_result"
    }
   ],
   "source": [
    "acorr_ljungbox(resid**2)"
   ]
  },
  {
   "cell_type": "markdown",
   "metadata": {},
   "source": [
    ">Still has ARCH effect"
   ]
  },
  {
   "cell_type": "code",
   "execution_count": 21,
   "metadata": {
    "collapsed": false
   },
   "outputs": [
    {
     "name": "stdout",
     "output_type": "stream",
     "text": [
      "Iteration:      1,   Func. Count:      7,   Neg. LLF: -13479.224224291649\n",
      "Iteration:      2,   Func. Count:     22,   Neg. LLF: -13480.324609204232\n",
      "Iteration:      3,   Func. Count:     36,   Neg. LLF: -13480.325512626798\n",
      "Iteration:      4,   Func. Count:     50,   Neg. LLF: -13480.330066924964\n",
      "Iteration:      5,   Func. Count:     63,   Neg. LLF: -13480.470861136206\n",
      "Iteration:      6,   Func. Count:     75,   Neg. LLF: -13481.357907632355\n",
      "Iteration:      7,   Func. Count:     90,   Neg. LLF: -13483.393922843707\n",
      "Iteration:      8,   Func. Count:    105,   Neg. LLF: -13485.281809459133\n",
      "Iteration:      9,   Func. Count:    116,   Neg. LLF: -13485.700787341962\n",
      "Iteration:     10,   Func. Count:    131,   Neg. LLF: -13486.310566598855\n",
      "Iteration:     11,   Func. Count:    145,   Neg. LLF: -13486.310893549344\n",
      "Iteration:     12,   Func. Count:    159,   Neg. LLF: -13486.312656805814\n",
      "Optimization terminated successfully.    (Exit mode 0)\n",
      "            Current function value: -13486.312655500271\n",
      "            Iterations: 15\n",
      "            Function evaluations: 170\n",
      "            Gradient evaluations: 12\n",
      "                           AR - ARCH Model Results                            \n",
      "==============================================================================\n",
      "Dep. Variable:                      y   R-squared:                       0.002\n",
      "Mean Model:                        AR   Adj. R-squared:                  0.001\n",
      "Vol Model:                       ARCH   Log-Likelihood:                13486.3\n",
      "Distribution:                  Normal   AIC:                          -26962.6\n",
      "Method:            Maximum Likelihood   BIC:                          -26930.7\n",
      "                                        No. Observations:                 4366\n",
      "Date:                Mon, Apr 30 2018   Df Residuals:                     4361\n",
      "Time:                        23:25:37   Df Model:                            5\n",
      "                                  Mean Model                                  \n",
      "==============================================================================\n",
      "                  coef    std err          t      P>|t|       95.0% Conf. Int.\n",
      "------------------------------------------------------------------------------\n",
      "Const       2.6672e-04  1.954e-04      1.365      0.172 [-1.163e-04,6.498e-04]\n",
      "y[1]           -0.0483  6.437e-02     -0.750      0.453    [ -0.174,7.786e-02]\n",
      "y[2]       -5.5071e-03  3.431e-02     -0.161      0.872 [-7.275e-02,6.174e-02]\n",
      "                              Volatility Model                              \n",
      "============================================================================\n",
      "                 coef    std err          t      P>|t|      95.0% Conf. Int.\n",
      "----------------------------------------------------------------------------\n",
      "omega      8.3897e-05  3.924e-06     21.380 2.043e-101 [7.621e-05,9.159e-05]\n",
      "alpha[1]       0.4001  5.175e-02      7.730  1.075e-14     [  0.299,  0.502]\n",
      "============================================================================\n",
      "\n",
      "Covariance estimator: robust\n"
     ]
    }
   ],
   "source": [
    "from arch.univariate import ARCH,GARCH\n",
    "ar.volatility=ARCH(p=1)\n",
    "res = ar.fit()\n",
    "print(res.summary())"
   ]
  },
  {
   "cell_type": "code",
   "execution_count": 22,
   "metadata": {
    "collapsed": false
   },
   "outputs": [
    {
     "name": "stdout",
     "output_type": "stream",
     "text": [
      "Const       0.000267\n",
      "y[1]       -0.048302\n",
      "y[2]       -0.005507\n",
      "omega       0.000084\n",
      "alpha[1]    0.400070\n",
      "Name: params, dtype: float64\n"
     ]
    }
   ],
   "source": [
    "print(res.params)"
   ]
  },
  {
   "cell_type": "markdown",
   "metadata": {},
   "source": [
    "### (b) Construct a GARCH(1,1) for the ARIMA part of the model. Use each of the three options for the error distribution (gaussian, student-t, and generalized error distribution). Put the estimated coefficients from each model in a table and comment on the differences due to the choice of distribution."
   ]
  },
  {
   "cell_type": "code",
   "execution_count": 23,
   "metadata": {
    "collapsed": false
   },
   "outputs": [
    {
     "name": "stdout",
     "output_type": "stream",
     "text": [
      "Iteration:      1,   Func. Count:      8,   Neg. LLF: -14116.654893946437\n",
      "Iteration:      2,   Func. Count:     25,   Neg. LLF: -14120.567179481779\n",
      "Iteration:      3,   Func. Count:     43,   Neg. LLF: -13512.034271459164\n",
      "Iteration:      4,   Func. Count:     61,   Neg. LLF: 4180.134050515695\n",
      "Iteration:      5,   Func. Count:     74,   Neg. LLF: -5059.986957785566\n",
      "Iteration:      6,   Func. Count:     90,   Neg. LLF: -8594.955794273834\n",
      "Iteration:      7,   Func. Count:    108,   Neg. LLF: -10580.920554321152\n",
      "Iteration:      8,   Func. Count:    126,   Neg. LLF: -5883.285684102729\n",
      "Iteration:      9,   Func. Count:    143,   Neg. LLF: -14119.834976195438\n",
      "Positive directional derivative for linesearch    (Exit mode 8)\n",
      "            Current function value: -14119.834997239232\n",
      "            Iterations: 13\n",
      "            Function evaluations: 143\n",
      "            Gradient evaluations: 9\n",
      "                           AR - GARCH Model Results                           \n",
      "==============================================================================\n",
      "Dep. Variable:                      y   R-squared:                       0.003\n",
      "Mean Model:                        AR   Adj. R-squared:                  0.003\n",
      "Vol Model:                      GARCH   Log-Likelihood:                14119.8\n",
      "Distribution:                  Normal   AIC:                          -28227.7\n",
      "Method:            Maximum Likelihood   BIC:                          -28189.4\n",
      "                                        No. Observations:                 4366\n",
      "Date:                Mon, Apr 30 2018   Df Residuals:                     4360\n",
      "Time:                        23:25:38   Df Model:                            6\n",
      "                                  Mean Model                                  \n",
      "==============================================================================\n",
      "                 coef    std err          t      P>|t|        95.0% Conf. Int.\n",
      "------------------------------------------------------------------------------\n",
      "Const      2.2145e-04  2.830e-05      7.826  5.025e-15   [1.660e-04,2.769e-04]\n",
      "y[1]          -0.0418  1.565e-02     -2.669  7.612e-03 [-7.242e-02,-1.109e-02]\n",
      "y[2]          -0.0406  1.577e-02     -2.576  9.986e-03 [-7.153e-02,-9.720e-03]\n",
      "                              Volatility Model                              \n",
      "============================================================================\n",
      "                 coef    std err          t      P>|t|      95.0% Conf. Int.\n",
      "----------------------------------------------------------------------------\n",
      "omega      2.7989e-06  4.008e-12  6.983e+05      0.000 [2.799e-06,2.799e-06]\n",
      "alpha[1]       0.1000  9.661e-03     10.351  4.135e-25   [8.106e-02,  0.119]\n",
      "beta[1]        0.8800  7.154e-03    123.007      0.000     [  0.866,  0.894]\n",
      "============================================================================\n",
      "\n",
      "Covariance estimator: robust\n",
      "\n",
      "WARNING: The optimizer did not indicate successful convergence. The message was\n",
      "Positive directional derivative for linesearch. See convergence_flag.\n"
     ]
    },
    {
     "name": "stderr",
     "output_type": "stream",
     "text": [
      "/Users/xiayuxuan/anaconda/envs/py36/lib/python3.6/site-packages/arch/univariate/base.py:524: ConvergenceWarning: \n",
      "The optimizer returned code 8. The message is:\n",
      "Positive directional derivative for linesearch\n",
      "See scipy.optimize.fmin_slsqp for code meaning.\n",
      "\n",
      "  ConvergenceWarning)\n"
     ]
    }
   ],
   "source": [
    "ar.volatility = GARCH(p=1,q=1)\n",
    "res = ar.fit()\n",
    "print(res.summary())"
   ]
  },
  {
   "cell_type": "code",
   "execution_count": 24,
   "metadata": {
    "collapsed": false
   },
   "outputs": [],
   "source": [
    "residuals = res.resid[~np.isnan(res.resid)]\n"
   ]
  },
  {
   "cell_type": "code",
   "execution_count": 25,
   "metadata": {
    "collapsed": false
   },
   "outputs": [
    {
     "name": "stdout",
     "output_type": "stream",
     "text": [
      "normal: (-0.00017843683307068714, 0.011824842516345913)\n",
      "student-t: (3.0067760939366908, -7.878879273285819e-05, 0.007420455659445923)\n",
      "generalized error: (0.96623723708787, 0.0002606218645515399, 0.0076847552163144435)\n"
     ]
    }
   ],
   "source": [
    "import matplotlib.pyplot as plt\n",
    "import scipy\n",
    "import scipy.stats\n",
    "\n",
    "y = residuals\n",
    "norm_params = scipy.stats.norm.fit(y)\n",
    "t_params = scipy.stats.t.fit(y)\n",
    "gennorm_params = scipy.stats.gennorm.fit(y)\n",
    "\n",
    "print(\"normal:\",norm_params)\n",
    "print(\"student-t:\",t_params)\n",
    "print(\"generalized error:\",gennorm_params)"
   ]
  },
  {
   "cell_type": "code",
   "execution_count": 26,
   "metadata": {
    "collapsed": false
   },
   "outputs": [
    {
     "data": {
      "image/png": "[encoded data removed]",
      "text/plain": [
       "<matplotlib.figure.Figure at 0x105c4b9b0>"
      ]
     },
     "metadata": {},
     "output_type": "display_data"
    }
   ],
   "source": [
    "from scipy.stats import probplot\n",
    "probplot(y,dist=scipy.stats.norm,sparams=norm_params,fit=False,plot=plt)\n",
    "plt.title(\"Normal Q-Q plot\")\n",
    "plt.show()"
   ]
  },
  {
   "cell_type": "code",
   "execution_count": 27,
   "metadata": {
    "collapsed": false
   },
   "outputs": [
    {
     "data": {
      "image/png": "[encoded data removed]",
      "text/plain": [
       "<matplotlib.figure.Figure at 0x110d50b38>"
      ]
     },
     "metadata": {},
     "output_type": "display_data"
    }
   ],
   "source": [
    "probplot(y,dist=scipy.stats.t,sparams=t_params,fit=False,plot=plt)\n",
    "plt.title(\"Student-t Q-Q plot\")\n",
    "plt.show()"
   ]
  },
  {
   "cell_type": "code",
   "execution_count": 28,
   "metadata": {
    "collapsed": false
   },
   "outputs": [
    {
     "data": {
      "image/png": "[encoded data removed]",
      "text/plain": [
       "<matplotlib.figure.Figure at 0x111291748>"
      ]
     },
     "metadata": {},
     "output_type": "display_data"
    }
   ],
   "source": [
    "probplot(y,dist=scipy.stats.gennorm,sparams=gennorm_params,fit=False,plot=plt)\n",
    "plt.title(\"gennorm Q-Q plot\")\n",
    "plt.show()"
   ]
  },
  {
   "cell_type": "markdown",
   "metadata": {},
   "source": [
    "> From the qq plot we can see, Normal distribution does not fit well. The data is heavy-tailed. In this point, generalized error and student-t fits better."
   ]
  },
  {
   "cell_type": "markdown",
   "metadata": {},
   "source": [
    "### (c) Using the Normal errors formula, build an iterative equation for predicting the variances."
   ]
  },
  {
   "cell_type": "markdown",
   "metadata": {},
   "source": [
    "For GARCH(1,1) model\n",
    "$$\\sigma_t^2 = \\omega + \\alpha_1 \\sigma_{t-1}^2 \\epsilon_{t-1}^2 + \\beta_1 \\sigma_{t-1}^2$$\n",
    "Expect both sides\n",
    "$$E[\\sigma_t^2|\\mathcal{F}_{t-1}] = \\omega + \\alpha_1 \\sigma_{t-1}^2 E[\\epsilon_{t-1}^2|\\mathcal{F}_{t-1}] + \\beta_1 \\sigma_{t-1}^2$$\n",
    "\n",
    "$$E[\\sigma_t^2|\\mathcal{F}_{t-1}] = \\omega + (\\alpha_1+\\beta_1) \\sigma_{t-1}^2$$"
   ]
  },
  {
   "cell_type": "markdown",
   "metadata": {},
   "source": [
    "### (d) Figure a way to obtain the last $a_h$ and the last $\\sigma_h$ from the output."
   ]
  },
  {
   "cell_type": "code",
   "execution_count": 29,
   "metadata": {
    "collapsed": false
   },
   "outputs": [
    {
     "name": "stdout",
     "output_type": "stream",
     "text": [
      "daily sigma h 0.008556686632708931\n",
      "daily residual h 0.005695822703345882\n",
      "annualized sigma h 0.13583318926115107\n"
     ]
    }
   ],
   "source": [
    "print(\"daily sigma h\",res.conditional_volatility[-1])\n",
    "print(\"daily residual h\",res.resid[-1])\n",
    "print(\"annualized sigma h\",res.conditional_volatility[-1]*np.sqrt(252))"
   ]
  },
  {
   "cell_type": "markdown",
   "metadata": {},
   "source": [
    "### (e) Using the numbers from the previous part and the iterative formula found earlier, calculate the next 15 predicted volatility values."
   ]
  },
  {
   "cell_type": "markdown",
   "metadata": {},
   "source": [
    ">In (c), we derived the variance estimation iterative formula. Without a sophisticated consideration, we use the square root of this estimation to estimate volatility (techniqually, it's wrong because volatility's distribution is not Gaussian anymore, and we should not assume the moment of this random variable happen to be the square root of the moment of variance. Naively, we do it in that way. Note that it is totally wrong!"
   ]
  },
  {
   "cell_type": "code",
   "execution_count": 30,
   "metadata": {
    "collapsed": false
   },
   "outputs": [
    {
     "data": {
      "text/plain": [
       "Const       0.000221\n",
       "y[1]       -0.041755\n",
       "y[2]       -0.040627\n",
       "omega       0.000003\n",
       "alpha[1]    0.099998\n",
       "beta[1]     0.879966\n",
       "Name: params, dtype: float64"
      ]
     },
     "execution_count": 30,
     "metadata": {},
     "output_type": "execute_result"
    }
   ],
   "source": [
    "res.params"
   ]
  },
  {
   "cell_type": "code",
   "execution_count": 31,
   "metadata": {
    "collapsed": false
   },
   "outputs": [
    {
     "name": "stdout",
     "output_type": "stream",
     "text": [
      "step: 1,vol: 0.008634163953035172\n",
      "step: 2,vol: 0.00870942030221267\n",
      "step: 3,vol: 0.00878254321469625\n",
      "step: 4,vol: 0.008853615142783055\n",
      "step: 5,vol: 0.008922713870456015\n",
      "step: 6,vol: 0.008989912883910968\n",
      "step: 7,vol: 0.009055281704239134\n",
      "step: 8,vol: 0.009118886186934355\n",
      "step: 9,vol: 0.009180788792225267\n",
      "step: 10,vol: 0.009241048829671911\n",
      "step: 11,vol: 0.009299722679994639\n",
      "step: 12,vol: 0.009356863996704793\n",
      "step: 13,vol: 0.00941252388976892\n",
      "step: 14,vol: 0.009466751093250883\n",
      "step: 15,vol: 0.009519592118630862\n"
     ]
    }
   ],
   "source": [
    "def pred_vol(omega,alpha,beta,vol,step):\n",
    "    for i in range(step):\n",
    "        vol = np.sqrt(omega+(alpha+beta)*vol**2)\n",
    "        print(\"step: {},vol: {}\".format(i+1,vol))\n",
    "    pass\n",
    "\n",
    "pred_vol(res.params['omega'],res.params['alpha[1]'],res.params['beta[1]'],res.conditional_volatility[-1],15)"
   ]
  },
  {
   "cell_type": "markdown",
   "metadata": {},
   "source": [
    "### (f) Now use the predict function from the fGarch package. Write a paragraph comparing the values you obtained in the previous part with the outputted forecast."
   ]
  },
  {
   "cell_type": "code",
   "execution_count": 32,
   "metadata": {
    "collapsed": false
   },
   "outputs": [
    {
     "data": {
      "text/html": [
       "<div>\n",
       "<style scoped>\n",
       "    .dataframe tbody tr th:only-of-type {\n",
       "        vertical-align: middle;\n",
       "    }\n",
       "\n",
       "    .dataframe tbody tr th {\n",
       "        vertical-align: top;\n",
       "    }\n",
       "\n",
       "    .dataframe thead th {\n",
       "        text-align: right;\n",
       "    }\n",
       "</style>\n",
       "<table border=\"1\" class=\"dataframe\">\n",
       "  <thead>\n",
       "    <tr style=\"text-align: right;\">\n",
       "      <th></th>\n",
       "      <th>h.01</th>\n",
       "      <th>h.02</th>\n",
       "      <th>h.03</th>\n",
       "      <th>h.04</th>\n",
       "      <th>h.05</th>\n",
       "      <th>h.06</th>\n",
       "      <th>h.07</th>\n",
       "      <th>h.08</th>\n",
       "      <th>h.09</th>\n",
       "      <th>h.10</th>\n",
       "      <th>h.11</th>\n",
       "      <th>h.12</th>\n",
       "      <th>h.13</th>\n",
       "      <th>h.14</th>\n",
       "      <th>h.15</th>\n",
       "    </tr>\n",
       "  </thead>\n",
       "  <tbody>\n",
       "    <tr>\n",
       "      <th>4367</th>\n",
       "      <td>0.008395</td>\n",
       "      <td>0.008477</td>\n",
       "      <td>0.008557</td>\n",
       "      <td>0.008634</td>\n",
       "      <td>0.008709</td>\n",
       "      <td>0.008783</td>\n",
       "      <td>0.008854</td>\n",
       "      <td>0.008923</td>\n",
       "      <td>0.00899</td>\n",
       "      <td>0.009055</td>\n",
       "      <td>0.009119</td>\n",
       "      <td>0.009181</td>\n",
       "      <td>0.009241</td>\n",
       "      <td>0.0093</td>\n",
       "      <td>0.009357</td>\n",
       "    </tr>\n",
       "  </tbody>\n",
       "</table>\n",
       "</div>"
      ],
      "text/plain": [
       "          h.01      h.02      h.03      h.04      h.05      h.06      h.07  \\\n",
       "4367  0.008395  0.008477  0.008557  0.008634  0.008709  0.008783  0.008854   \n",
       "\n",
       "          h.08     h.09      h.10      h.11      h.12      h.13    h.14  \\\n",
       "4367  0.008923  0.00899  0.009055  0.009119  0.009181  0.009241  0.0093   \n",
       "\n",
       "          h.15  \n",
       "4367  0.009357  "
      ]
     },
     "execution_count": 32,
     "metadata": {},
     "output_type": "execute_result"
    }
   ],
   "source": [
    "forecasts = res.forecast(horizon = 15)\n",
    "np.sqrt(forecasts.residual_variance[-1:])"
   ]
  },
  {
   "cell_type": "markdown",
   "metadata": {},
   "source": [
    ">Not suprised, quite similar but still different (see explaination in the beginning of (e)). To avoid this problem, we should calculate the square root Gaussian distribution first and than calculate the expectation of volatility"
   ]
  },
  {
   "cell_type": "code",
   "execution_count": null,
   "metadata": {
    "collapsed": true
   },
   "outputs": [],
   "source": []
  }
 ],
 "metadata": {
  "kernelspec": {
   "display_name": "Python 3",
   "language": "python",
   "name": "python3"
  },
  "language_info": {
   "codemirror_mode": {
    "name": "ipython",
    "version": 3
   },
   "file_extension": ".py",
   "mimetype": "text/x-python",
   "name": "python",
   "nbconvert_exporter": "python",
   "pygments_lexer": "ipython3",
   "version": "3.6.0"
  }
 },
 "nbformat": 4,
 "nbformat_minor": 2
}
