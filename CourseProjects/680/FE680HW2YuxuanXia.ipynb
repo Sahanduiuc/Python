{
 "cells": [
  {
   "cell_type": "markdown",
   "metadata": {},
   "source": [
    "## Problem 1\n",
    "What is the value of a European swap option that gives the holder the right to enter into a 3-year annual-pay swap in four years where a fixed rate of 5% is paid and LIBOR is received? The swap principal is $10 million. Assume that the yield curve is flat at 5\\% per annum with annual compounding and the volatility of the swap rate is 30%."
   ]
  },
  {
   "cell_type": "markdown",
   "metadata": {},
   "source": [
    "Parameters Setting"
   ]
  },
  {
   "cell_type": "code",
   "execution_count": 1,
   "metadata": {
    "collapsed": true
   },
   "outputs": [],
   "source": [
    "import numpy as np\n",
    "r = 0.05\n",
    "Sk = 0.05\n",
    "T = 4\n",
    "L = 10\n",
    "sigma = 0.3"
   ]
  },
  {
   "cell_type": "markdown",
   "metadata": {},
   "source": [
    "Calculate A and forward swap rate"
   ]
  },
  {
   "cell_type": "code",
   "execution_count": 2,
   "metadata": {
    "collapsed": false
   },
   "outputs": [
    {
     "name": "stdout",
     "output_type": "stream",
     "text": [
      "A: 2.22430709347\n",
      "S0: 0.051271096376\n"
     ]
    }
   ],
   "source": [
    "A = np.exp(-r*5)+np.exp(-r*6)+np.exp(-r*7)\n",
    "S0 = (np.exp(-r*4)-np.exp(-r*7))/A\n",
    "print(\"A:\",A)\n",
    "print(\"S0:\",S0)"
   ]
  },
  {
   "cell_type": "markdown",
   "metadata": {},
   "source": [
    "Functions by hand"
   ]
  },
  {
   "cell_type": "code",
   "execution_count": 3,
   "metadata": {
    "collapsed": true
   },
   "outputs": [],
   "source": [
    "from scipy.stats import norm\n",
    "def calc_d1(F,K,sigma,T):\n",
    "    d1 = (np.log(F/K)+sigma**2*T/2)/(sigma*np.sqrt(T))\n",
    "    return d1\n",
    "def calc_d2(F,K,sigma,T):\n",
    "    d2 = (np.log(F/K)-sigma**2*T/2)/(sigma*np.sqrt(T))\n",
    "    return d2\n",
    "def calc_swaption_price(F,K,T,sigma,principle,A):\n",
    "    d1 = calc_d1(F,K,sigma,T)\n",
    "    d2 = calc_d2(F,K,sigma,T)\n",
    "    price = principle*A*(F*norm.cdf(d1)-K*norm.cdf(d2))\n",
    "    return price"
   ]
  },
  {
   "cell_type": "markdown",
   "metadata": {},
   "source": [
    "Calculte the value of swaption"
   ]
  },
  {
   "cell_type": "code",
   "execution_count": 4,
   "metadata": {
    "collapsed": false
   },
   "outputs": [
    {
     "name": "stdout",
     "output_type": "stream",
     "text": [
      "the price is: 0.279967022286\n"
     ]
    }
   ],
   "source": [
    "swaption_price = calc_swaption_price(S0,Sk,T,sigma,L,A)\n",
    "print(\"the price is:\",swaption_price)"
   ]
  },
  {
   "cell_type": "markdown",
   "metadata": {},
   "source": [
    "## Problem 2\n",
    "Value a five-year collar that guarantees that the maximum and minimum interest rates on a LIBOR-based loan (with quarterly resets) are 5% and 7% respectively. The LIBOR zero curve (continuously compounded) is currently flat at 6%. Use a flat volatility of 25%. Assume that the principal is \\$100."
   ]
  },
  {
   "cell_type": "markdown",
   "metadata": {},
   "source": [
    "Parameters Setting:"
   ]
  },
  {
   "cell_type": "code",
   "execution_count": 5,
   "metadata": {
    "collapsed": true
   },
   "outputs": [],
   "source": [
    "K1 = 0.05\n",
    "K2 = 0.07\n",
    "r = 0.06\n",
    "sigma = 0.25\n",
    "L = 100\n",
    "deltaT = 0.25"
   ]
  },
  {
   "cell_type": "markdown",
   "metadata": {},
   "source": [
    "Since the entering day is not mentioned, I assume that it is immediately enter the contract."
   ]
  },
  {
   "cell_type": "code",
   "execution_count": 6,
   "metadata": {
    "collapsed": false
   },
   "outputs": [
    {
     "name": "stdout",
     "output_type": "stream",
     "text": [
      "[ 1.    1.25  1.5   1.75  2.    2.25  2.5   2.75  3.    3.25  3.5   3.75\n",
      "  4.    4.25  4.5   4.75  5.    5.25  5.5   5.75  6.  ]\n"
     ]
    }
   ],
   "source": [
    "settleTime = np.linspace(1,6,21)\n",
    "print(settleTime)"
   ]
  },
  {
   "cell_type": "code",
   "execution_count": 7,
   "metadata": {
    "collapsed": false
   },
   "outputs": [
    {
     "name": "stdout",
     "output_type": "stream",
     "text": [
      "[ 0.94176453  0.92774349  0.91393119  0.90032452  0.88692044  0.87371591\n",
      "  0.86070798  0.8478937   0.83527021  0.82283466  0.81058425  0.79851622\n",
      "  0.78662786  0.7749165   0.76337949  0.75201425  0.74081822  0.72978887\n",
      "  0.71892373  0.70822035  0.69767633]\n"
     ]
    }
   ],
   "source": [
    "Tk = settleTime\n",
    "Pk = np.exp(-r*Tk)\n",
    "print(Pk)"
   ]
  },
  {
   "cell_type": "markdown",
   "metadata": {},
   "source": [
    "An interest rate collar is the simultaneous purchase of an interest rate cap and sale of an interest rate floor on the same index for the same maturity and notional principal amount.\n",
    "\n",
    "* The cap rate is set above the floor rate.\n",
    "* The objective of the buyer of a collar is to protect against rising interest rates (while agreeing to give up some of the \n",
    "benefit from lower interest rates).\n",
    "* The purchase of the cap protects against rising rates while the sale of the floor generates premium income.\n",
    "\n",
    "Using this characterization, firstly calculate the cap at rate 7%"
   ]
  },
  {
   "cell_type": "markdown",
   "metadata": {},
   "source": [
    "Forward swap rate at time zero"
   ]
  },
  {
   "cell_type": "code",
   "execution_count": 8,
   "metadata": {
    "collapsed": false
   },
   "outputs": [
    {
     "name": "stdout",
     "output_type": "stream",
     "text": [
      "0.0482973653953\n"
     ]
    }
   ],
   "source": [
    "A = np.exp(-r*Pk[1:]).sum()*0.25\n",
    "F = (Pk[1]-Pk[-1])/A\n",
    "print(F)"
   ]
  },
  {
   "cell_type": "markdown",
   "metadata": {},
   "source": [
    "price of caplet"
   ]
  },
  {
   "cell_type": "code",
   "execution_count": 9,
   "metadata": {
    "collapsed": true
   },
   "outputs": [],
   "source": [
    "def calc_caplet_price(F,K,T,sigma,principle,Pk,deltaT):\n",
    "    d1 = calc_d1(F,K,sigma,T)\n",
    "    d2 = calc_d2(F,K,sigma,T)\n",
    "    price = deltaT*principle*Pk*(F*norm.cdf(d1)-K*norm.cdf(d2))\n",
    "    return price\n",
    "def calc_floorlet_price(F,K,T,sigma,principle,Pk,deltaT):\n",
    "    d1 = calc_d1(F,K,sigma,T)\n",
    "    d2 = calc_d2(F,K,sigma,T)\n",
    "    price = deltaT*principle*Pk*(-F*norm.cdf(-d1)+K*norm.cdf(-d2))\n",
    "    return price"
   ]
  },
  {
   "cell_type": "markdown",
   "metadata": {},
   "source": [
    "Without the information about LIBOR/swap curve, use LIBOR zero curve.\n",
    "\n",
    "Without mentioning the starting date, I assume it to be 1 year.\n",
    "\n",
    "Forward swap rate is assumed to be 6%"
   ]
  },
  {
   "cell_type": "code",
   "execution_count": 10,
   "metadata": {
    "collapsed": false
   },
   "outputs": [
    {
     "name": "stdout",
     "output_type": "stream",
     "text": [
      "price of cap: 1.06939506813\n",
      "price of floor: 0.748162585394\n",
      "price of collar: 0.321232482737\n"
     ]
    }
   ],
   "source": [
    "capPrice = calc_caplet_price(r,K2,1,sigma,L,Pk[1:],deltaT).sum()\n",
    "floorPrice = calc_floorlet_price(r,K1,1,sigma,L,Pk[1:],deltaT).sum()\n",
    "collarPrice = capPrice-floorPrice\n",
    "print(\"price of cap:\",capPrice)\n",
    "print(\"price of floor:\",floorPrice)\n",
    "print(\"price of collar:\",collarPrice)"
   ]
  },
  {
   "cell_type": "markdown",
   "metadata": {},
   "source": [
    "Result:\n",
    "\n",
    "The price of the 5-year collar starting in one year is 0.3212 million dollars."
   ]
  },
  {
   "cell_type": "code",
   "execution_count": null,
   "metadata": {
    "collapsed": true
   },
   "outputs": [],
   "source": []
  }
 ],
 "metadata": {
  "kernelspec": {
   "display_name": "Python 3",
   "language": "python",
   "name": "python3"
  },
  "language_info": {
   "codemirror_mode": {
    "name": "ipython",
    "version": 3
   },
   "file_extension": ".py",
   "mimetype": "text/x-python",
   "name": "python",
   "nbconvert_exporter": "python",
   "pygments_lexer": "ipython3",
   "version": "3.6.0"
  }
 },
 "nbformat": 4,
 "nbformat_minor": 2
}
