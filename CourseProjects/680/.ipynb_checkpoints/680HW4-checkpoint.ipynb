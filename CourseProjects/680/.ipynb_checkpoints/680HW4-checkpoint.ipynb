{
 "cells": [
  {
   "cell_type": "markdown",
   "metadata": {},
   "source": [
    "# FE680 Assignment 4\n",
    "\n",
    "Yuxuan Xia"
   ]
  },
  {
   "cell_type": "markdown",
   "metadata": {},
   "source": [
    "## Problem 1\n",
    "\n",
    "Verify that if the CDS spread for the example in Tables (1 to 4) is 100 basis points and the probability of default in a year (conditional on no earlier default) must be 1.61%. How does the probability of default change when the recovery rate is 20% instead of 40%? Verify that your answer is consistent with the implied probability of default being approximately proportional to 1/(1-R) where R is the recovery rate."
   ]
  },
  {
   "cell_type": "markdown",
   "metadata": {},
   "source": [
    "Denote discounted factor of each year as DF,\n",
    "\n",
    "discounted factor of each half year as $DF^*$,\n",
    "\n",
    "survival probability as SP,\n",
    "\n",
    "default probability as DP,\n",
    "\n",
    "CDS spread as s.\n",
    "\n",
    "We have the following evaluation formulas:\n",
    "\n",
    "PV of expected payment:\n",
    "    $$pv1 = s \\Sigma_{i=1}^n DF_i SP_i $$\n",
    "    \n",
    "PV of accrued payment:\n",
    "    $$pv2 = \\frac{s}{2} \\Sigma_{i=1}^n DF_{i}^* DP_i$$\n",
    "    \n",
    "PV of expected payoff:\n",
    "    $$pv3 = (1-R) \\Sigma_{i=1}^n DF^*_i DP_i$$\n",
    "    \n",
    "Risk-neutral pricing equilibrium:\n",
    "    $$pv1+pv2-pv3 = 0$$"
   ]
  },
  {
   "cell_type": "code",
   "execution_count": 1,
   "metadata": {
    "collapsed": false
   },
   "outputs": [],
   "source": [
    "import pandas as pd\n",
    "import numpy as np\n",
    "from scipy.optimize import brentq\n",
    "import matplotlib.pyplot as plt"
   ]
  },
  {
   "cell_type": "markdown",
   "metadata": {},
   "source": [
    "### Basic functions"
   ]
  },
  {
   "cell_type": "code",
   "execution_count": 2,
   "metadata": {
    "collapsed": false
   },
   "outputs": [],
   "source": [
    "def P_survival(pd,n_years):\n",
    "    res=[(1-pd)**(i+1) for i in range(n_years)]\n",
    "    return res\n",
    "\n",
    "def P_default(pd,n_years):\n",
    "    p1 =[(1-pd)**(i) for i in range(n_years)]\n",
    "    res = [p*pd for p in p1]\n",
    "    return res\n",
    "\n",
    "def Discounted_factor(rf,n_years):\n",
    "    df = np.exp([-rf*(t+1) for t in range(n_years)])\n",
    "    return df\n",
    "\n",
    "def PV_expected_payment(DF,P_survival,spread):\n",
    "    res=np.dot(DF,P_survival)*spread\n",
    "    return res\n",
    "\n",
    "def PV_accrued_payment(DF,P_default,spread):\n",
    "    res = np.dot(DF,P_default)*spread*1/2\n",
    "    return res\n",
    "\n",
    "def PV_expected_payoff(DF,P_default,recovery_rate):\n",
    "    res = (1-recovery_rate)*np.dot(DF,P_default)\n",
    "    return res"
   ]
  },
  {
   "cell_type": "code",
   "execution_count": 3,
   "metadata": {
    "collapsed": false
   },
   "outputs": [],
   "source": [
    "p_survival = P_survival(0.02,5)\n",
    "p_default = P_default(0.02,5)\n",
    "df1 = [0.9512,0.9048,0.8607,0.8187,0.7788]\n",
    "df2 = [0.9753,0.9277,0.8825,0.8395,0.7985]\n",
    "# PV_expected_payment(df1,p_survival,1)\n",
    "# PV_expected_payoff(df2,p_default,0.4)\n",
    "# PV_accrued_payment(df2,p_default,1)"
   ]
  },
  {
   "cell_type": "code",
   "execution_count": 4,
   "metadata": {
    "collapsed": true
   },
   "outputs": [],
   "source": [
    "def CDF_price(p,s):\n",
    "    p_survival = P_survival(p,5)\n",
    "    p_default = P_default(p,5)\n",
    "    df1 = [0.9512,0.9048,0.8607,0.8187,0.7788]\n",
    "    df2 = [0.9753,0.9277,0.8825,0.8395,0.7985]\n",
    "    pv1 = PV_expected_payment(df1,p_survival,s)\n",
    "    pv3 = PV_expected_payoff(df2,p_default,0.4)\n",
    "    pv2 = PV_accrued_payment(df2,p_default,s)\n",
    "    return pv1+pv2-pv3 "
   ]
  },
  {
   "cell_type": "markdown",
   "metadata": {},
   "source": [
    "### proof the probability of default in a year (conditional on no earlier default) must be 1.61%."
   ]
  },
  {
   "cell_type": "code",
   "execution_count": 5,
   "metadata": {
    "collapsed": false
   },
   "outputs": [
    {
     "data": {
      "text/plain": [
       "0.016127100896631053"
      ]
     },
     "execution_count": 5,
     "metadata": {},
     "output_type": "execute_result"
    }
   ],
   "source": [
    "obj_fun = lambda p: CDF_price(p,s=0.01)\n",
    "brentq(obj_fun,0,1)"
   ]
  },
  {
   "cell_type": "code",
   "execution_count": 6,
   "metadata": {
    "collapsed": false
   },
   "outputs": [],
   "source": [
    "def CDF_price_v2(p,R,s):\n",
    "    p_survival = P_survival(p,5)\n",
    "    p_default = P_default(p,5)\n",
    "    df1 = [0.9512,0.9048,0.8607,0.8187,0.7788]\n",
    "    df2 = [0.9753,0.9277,0.8825,0.8395,0.7985]\n",
    "    pv1 = PV_expected_payment(df1,p_survival,s)\n",
    "    pv3 = PV_expected_payoff(df2,p_default,R)\n",
    "    pv2 = PV_accrued_payment(df2,p_default,s)\n",
    "    return pv1+pv2-pv3\n",
    "\n"
   ]
  },
  {
   "cell_type": "markdown",
   "metadata": {},
   "source": [
    "### fix the spread, bump recovery rate from 20% to 40%, calculate the default rate"
   ]
  },
  {
   "cell_type": "code",
   "execution_count": 7,
   "metadata": {
    "collapsed": false
   },
   "outputs": [
    {
     "name": "stdout",
     "output_type": "stream",
     "text": [
      "default probability for one year when recovery rate equals to 0.4 is 0.019800542345852195\n"
     ]
    }
   ],
   "source": [
    "y = lambda p: CDF_price_v2(p,R=0.4,s=0.0123)\n",
    "print(\"default probability for one year when recovery rate equals to 0.4 is\",brentq(y,0,1))"
   ]
  },
  {
   "cell_type": "markdown",
   "metadata": {},
   "source": [
    "### Verify that the implied probability of default is approximately proportional to 1/(1-R)"
   ]
  },
  {
   "cell_type": "code",
   "execution_count": 8,
   "metadata": {
    "collapsed": false,
    "scrolled": true
   },
   "outputs": [
    {
     "data": {
      "image/png": "[encoded data removed]",
      "text/plain": [
       "<matplotlib.figure.Figure at 0x199f0526e80>"
      ]
     },
     "metadata": {},
     "output_type": "display_data"
    }
   ],
   "source": [
    "s_list = []\n",
    "R_list = np.linspace(0.0,0.9,10)\n",
    "\n",
    "for R in R_list:\n",
    "    obj_fun2 = lambda p: CDF_price_v2(p,R,s=0.0123)\n",
    "    s_list.append(brentq(obj_fun2,0,1))\n",
    "\n",
    "# print(s_list)\n",
    "# plt.plot(R_list,s_list)\n",
    "plt.plot(1/(1-np.array(R_list)),s_list)\n",
    "plt.xlabel(\"1/(1-R)\")\n",
    "plt.ylabel(\"CDS spread\")\n",
    "plt.title(\"1/(1-R) - CDS spread: justify the linearity\")\n",
    "plt.show()"
   ]
  },
  {
   "cell_type": "markdown",
   "metadata": {},
   "source": [
    "## Problem 2 \n",
    "\n",
    "Suppose that the risk-free zero curve is flat at 6% per annum with continuous compounding and that defaults can occur at times 0.25 years, 0.75 years, 1.25 years, and 1.75 years in a two-year plain vanilla credit default swap with semiannual payments. Suppose that the recovery rate is 20% and the unconditional probabilities of default (as seen at time zero) are 1% at times 0.25 years and 0.75 years, and 1.5% at times 1.25 years and1.75 years. What is the credit default swap spread? What would the credit default spread be if the instrument were a binary credit default swap?"
   ]
  },
  {
   "cell_type": "markdown",
   "metadata": {},
   "source": [
    "Similar to problem 1, only difference is here, we have our payment interval not annually but semiannually, so we should introduce time interval fraction denoted as $\\alpha$\n",
    "### Assumption about default dates (<span style=\"color:red\">*please check this*</span>)\n",
    "<span style=\"color:red\">Assume the defaults only occur semiannually</span>, say, [0,0.5,1,1.5]\n",
    "\n",
    "denote discounted factor of each payment date([0.25,0.75,1.25,1.75]) as DF,\n",
    "\n",
    "denote discounted factor of each half year([0,0.5,1,1.5]) as $DF^*$,\n",
    "\n",
    "survival probability as SP,\n",
    "\n",
    "default probability as DP,\n",
    "\n",
    "CDS spread as s.\n",
    "\n",
    "We have the following evaluation formulas:\n",
    "\n",
    "PV of expected payment:\n",
    "    $$pv1 = s \\Sigma_{i=1}^n \\alpha_i DF_i SP_i $$\n",
    "    \n",
    "PV of accrued payment:\n",
    "    $$pv2 = \\frac{s}{2} \\Sigma_{i=1}^n \\alpha_i DF_{i}^* DP_i$$\n",
    "    \n",
    "PV of expected payoff:\n",
    "    $$pv3 = (1-R) \\Sigma_{i=1}^n DF^*_i DP_i$$\n",
    "    \n",
    "Still, we have risk-neutral pricing equilibrium:\n",
    "    $$pv1+pv2-pv3 = 0$$"
   ]
  },
  {
   "cell_type": "markdown",
   "metadata": {},
   "source": [
    "### By doing so, we should introduce $\\alpha_i$ and adjust our payment legs"
   ]
  },
  {
   "cell_type": "code",
   "execution_count": 9,
   "metadata": {
    "collapsed": true
   },
   "outputs": [],
   "source": [
    "def PV_expected_payment_v2(DF,P_survival,spread,time_intervals):\n",
    "    res=np.array(DF)*np.array(P_survival)*np.array(time_intervals)*spread\n",
    "    res = res.sum()\n",
    "    return res\n",
    "\n",
    "def PV_accrued_payment_v2(DF,P_default,spread,time_intervals):\n",
    "    res = np.array(DF)*np.array(P_default)*np.array(time_intervals)*spread/2\n",
    "    res = res.sum()\n",
    "    return res"
   ]
  },
  {
   "cell_type": "markdown",
   "metadata": {},
   "source": [
    "### calculte survival probabilities using default probabilities"
   ]
  },
  {
   "cell_type": "code",
   "execution_count": 10,
   "metadata": {
    "collapsed": false
   },
   "outputs": [],
   "source": [
    "def P_survival_v2(p_default):\n",
    "    n_times = len(p_default)\n",
    "    p_survival = np.zeros(n_times)\n",
    "#     p_survival[0] = 1-p_default\n",
    "    for i in range(n_times):\n",
    "        if i==0:\n",
    "            p_survival[i] = 1-p_default[i]\n",
    "        else:\n",
    "            p_survival[i] = p_survival[i-1] - p_default[i]\n",
    "    \n",
    "    return p_survival"
   ]
  },
  {
   "cell_type": "code",
   "execution_count": 11,
   "metadata": {
    "collapsed": false
   },
   "outputs": [
    {
     "name": "stdout",
     "output_type": "stream",
     "text": [
      "[ 0.99  0.98  0.83  0.68]\n"
     ]
    }
   ],
   "source": [
    "p_default = [0.01,0.01,0.15,0.15]\n",
    "p_survival = P_survival_v2(p_default)\n",
    "print(p_survival)"
   ]
  },
  {
   "cell_type": "markdown",
   "metadata": {},
   "source": [
    "### regular discounted factors df1 and halfway discounted factor df2"
   ]
  },
  {
   "cell_type": "code",
   "execution_count": 12,
   "metadata": {
    "collapsed": true
   },
   "outputs": [],
   "source": [
    "def Discounted_factor_v2(rf,times):\n",
    "    df = np.exp([-rf*t for t in times])\n",
    "    return df"
   ]
  },
  {
   "cell_type": "markdown",
   "metadata": {},
   "source": [
    "### time1: payment times, time2: default times"
   ]
  },
  {
   "cell_type": "code",
   "execution_count": 13,
   "metadata": {
    "collapsed": true
   },
   "outputs": [],
   "source": [
    "rf = 0.06\n",
    "times1 = [0.25,0.75,1.25,1.75]\n",
    "times2 = [0,0.5,1,1.5]\n",
    "df1=Discounted_factor_v2(rf,times1)\n",
    "df2=Discounted_factor_v2(rf,times2)"
   ]
  },
  {
   "cell_type": "code",
   "execution_count": 14,
   "metadata": {
    "collapsed": false
   },
   "outputs": [
    {
     "name": "stdout",
     "output_type": "stream",
     "text": [
      "[ 0.98511194  0.95599748  0.92774349  0.90032452] [ 1.          0.97044553  0.94176453  0.91393119]\n"
     ]
    }
   ],
   "source": [
    "print(df1,df2)"
   ]
  },
  {
   "cell_type": "code",
   "execution_count": 15,
   "metadata": {
    "collapsed": false
   },
   "outputs": [],
   "source": [
    "def Calculate_CDS_spread(rf,df1,df2,p_default,p_survival,recovery_rate,alphas):\n",
    "    obj_fun = lambda s: PV_expected_payment_v2(DF=df1,P_survival=p_survival,spread=s,time_intervals=alphas)\\\n",
    "    + PV_accrued_payment_v2(DF=df2,P_default=p_default,spread=s,time_intervals=alphas)\\\n",
    "    - PV_expected_payoff(DF=df2,P_default=p_default,recovery_rate=recovery_rate)\n",
    "    spread = brentq(obj_fun,0,1)\n",
    "    return spread"
   ]
  },
  {
   "cell_type": "code",
   "execution_count": 16,
   "metadata": {
    "collapsed": false
   },
   "outputs": [
    {
     "name": "stdout",
     "output_type": "stream",
     "text": [
      "0.16147919419385157\n"
     ]
    }
   ],
   "source": [
    "alphas=[0.25,0.5,0.5,0.5]\n",
    "regular_CDS_spread = Calculate_CDS_spread(0.06,df1,df2,p_default,p_survival,0.2,alphas)\n",
    "print(regular_CDS_spread)"
   ]
  },
  {
   "cell_type": "markdown",
   "metadata": {},
   "source": [
    "### binary CDS spread, evaluated only by replacing R equals to 0."
   ]
  },
  {
   "cell_type": "code",
   "execution_count": 17,
   "metadata": {
    "collapsed": false
   },
   "outputs": [
    {
     "name": "stdout",
     "output_type": "stream",
     "text": [
      "0.20184899274231444\n"
     ]
    }
   ],
   "source": [
    "binary_CDS_spread = Calculate_CDS_spread(0.06,df1,df2,p_default,p_survival,0.0,alphas)\n",
    "print(binary_CDS_spread)"
   ]
  },
  {
   "cell_type": "markdown",
   "metadata": {},
   "source": [
    "## Problem 3:\n",
    "\n",
    "The harzard rate can be classified explicitly by 2 types\n",
    "\n",
    "1. piece wise constant harzard rate: the approxy of instantaneous harzerd rate\n",
    "\n",
    "2. average harzard rate: the average harzard rate assumed to be a constant in bonds' life time.\n",
    "\n",
    "For our consideration, and based on the note of class, this two harzard rate deserve two kinds of treatments. For the first one, using JP Morgan model and bootstarpping strategy. For the second type, no bootstrapping, each rate can be calculated independently for one much simpler formula. Moreover the average harzard rate is independent with the yield curve if it is nonnegative and which is more analogous to the definition of yield curve in interest rates.\n",
    "\n",
    "The following calculation is based on the <span style=\"color:red\">type 2</span> harzard rate and some reasonable assumptions:\n",
    "\n",
    "1. All the accrual factors are identical $\\alpha_i = \\alpha$.\n",
    "\n",
    "2. The time intervals between each payment are identical and approximate to accrual factors: $\\Delta T_i = \\Delta T \\approx \\alpha$.\n",
    "\n",
    "Under these approximations, the average harzard rate is defined as follows:\n",
    "\n",
    "$$\\begin{align}\n",
    "\\overline{h}_k &= - \\frac{1}{\\Delta T} \\ln{\\big[ 1-\\frac{s_k \\alpha}{1-R + s_k \\alpha /2}\\big]}\\\\\n",
    "&= - \\frac{1}{\\alpha} \\ln{\\big[ 1-\\frac{s_k \\alpha}{1-R + s_k \\alpha /2}\\big]}\n",
    "\\end{align}$$"
   ]
  },
  {
   "cell_type": "code",
   "execution_count": 18,
   "metadata": {
    "collapsed": true
   },
   "outputs": [],
   "source": [
    "def Average_harzard_rate(spread,payment_interval,recovery_rate):\n",
    "    average_harzard_rate = -1/payment_interval * np.log(1-spread*payment_interval/(1-recovery_rate+spread*payment_interval/2))\n",
    "    return average_harzard_rate"
   ]
  },
  {
   "cell_type": "code",
   "execution_count": 19,
   "metadata": {
    "collapsed": false
   },
   "outputs": [
    {
     "name": "stdout",
     "output_type": "stream",
     "text": [
      "[ 0.00336667  0.00481667  0.00618333  0.00813334  0.01046667  0.01231668\n",
      "  0.01663336  0.01961671]\n"
     ]
    }
   ],
   "source": [
    "alpha = 1/4\n",
    "R = 0.4\n",
    "spreads = np.array([20.2,28.9,37.1,48.8,62.8,73.9,99.8,117.7])*0.0001\n",
    "tenors = np.array([0.5,1,2,3,4,5,7,10])\n",
    "average_harzard_rate = Average_harzard_rate(spreads,alpha,R)\n",
    "print(average_harzard_rate)"
   ]
  },
  {
   "cell_type": "code",
   "execution_count": 20,
   "metadata": {
    "collapsed": false
   },
   "outputs": [
    {
     "data": {
      "image/png": "[encoded data removed]",
      "text/plain": [
       "<matplotlib.figure.Figure at 0x199f0970dd8>"
      ]
     },
     "metadata": {},
     "output_type": "display_data"
    }
   ],
   "source": [
    "from scipy.interpolate import interp1d\n",
    "x = np.linspace(tenors.min(),tenors.max(),40)\n",
    "f = interp1d(tenors,average_harzard_rate,kind='cubic')\n",
    "y=f(x)\n",
    "plt.scatter(tenors,average_harzard_rate)\n",
    "plt.plot(x,y)\n",
    "plt.xlabel(\"tenor(year)\")\n",
    "plt.ylabel(\"average harzard rate\")\n",
    "plt.title(\"tenor - average harzard rate: cubic interpolation\")\n",
    "plt.show()"
   ]
  },
  {
   "cell_type": "code",
   "execution_count": null,
   "metadata": {
    "collapsed": true
   },
   "outputs": [],
   "source": []
  }
 ],
 "metadata": {
  "kernelspec": {
   "display_name": "Python 3",
   "language": "python",
   "name": "python3"
  },
  "language_info": {
   "codemirror_mode": {
    "name": "ipython",
    "version": 3
   },
   "file_extension": ".py",
   "mimetype": "text/x-python",
   "name": "python",
   "nbconvert_exporter": "python",
   "pygments_lexer": "ipython3",
   "version": "3.6.0"
  }
 },
 "nbformat": 4,
 "nbformat_minor": 2
}
