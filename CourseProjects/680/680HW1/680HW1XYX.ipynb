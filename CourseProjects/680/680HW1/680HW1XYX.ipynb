{
 "cells": [
  {
   "cell_type": "markdown",
   "metadata": {},
   "source": [
    "# 680 Homework 1\n",
    "Yuxuan Xia"
   ]
  },
  {
   "cell_type": "markdown",
   "metadata": {},
   "source": [
    "## Problem 1\n",
    "\n",
    "a) Fill in discount curve, zero curve, forward curve\n",
    "\n",
    "b) Compute the PV of the bond cash flows\n",
    "\n",
    "c) Change the forward curve by +0.5% (at each maturity one at a time) and compute the discount factors and PV, DV01, duration of the bond for each case. Which forward change has the highest DV01?\n",
    "\n",
    "d) Compute the PV of the bond when increasing simultaneously all the forward rates by 1%,2%, and 3%\n",
    "\n",
    "e) What is the forward price of the bond 18 months from today?\n",
    "\n",
    "f) Compute the duration of the bond"
   ]
  },
  {
   "cell_type": "code",
   "execution_count": 1,
   "metadata": {
    "collapsed": true
   },
   "outputs": [],
   "source": [
    "import pandas as pd\n",
    "import numpy as np\n",
    "import matplotlib.pyplot as plt\n",
    "import scipy.optimize\n",
    "\n",
    "def calculateDiscountedFactorCorrespondingToFowardRate(forwardRate):\n",
    "    DF = []\n",
    "    DF.append(1)\n",
    "    for i,forward in enumerate(forwardRate):\n",
    "        DF.append(DF[i]/(1+forward))\n",
    "    return DF\n",
    "\n",
    "def calculatePV(cashflow,DF):\n",
    "    return np.dot(np.asarray(cashflow),np.asarray(DF))\n",
    "\n",
    "def calculatePV2(cashflow,y):\n",
    "    DF2 = [1/(1+y)**(i+1) for i in range(len(cashflow))]\n",
    "    return np.dot(np.asarray(cashflow),np.asarray(DF2))\n",
    "\n",
    "def calculateCouponAnnualYield(PV,cashflow):\n",
    "    fun = lambda y: calculatePV2(cashflow,y)-PV\n",
    "    x0= scipy.optimize.brentq(fun,0,1)\n",
    "    return x0\n",
    "\n",
    "def calculateDV01(PV,cashflow,dy=1e-6):\n",
    "    y = calculateCouponAnnualYield(PV,cashflow)\n",
    "    dP = calculatePV2(cashflow,y+dy)-PV\n",
    "    return -dP/dy/10000\n",
    "\n",
    "def calculateDuration(PV,cashflow,dy=1e-6):\n",
    "    y = calculateCouponAnnualYield(PV, cashflow)\n",
    "    dP = calculatePV2(cashflow, y + dy) - PV\n",
    "    return -dP/PV/dy\n"
   ]
  },
  {
   "cell_type": "markdown",
   "metadata": {},
   "source": [
    "### 1.1\n",
    "\n",
    "In order to fill in discount curve, zero curve, forward curve, using the following relations,\n",
    "$$z(t)=(\\frac{1}{DF(t)})^{1/t}-1$$\n",
    "$$f(t)=\\frac{DF(t-1)}{DF(t)} -1$$\n",
    "$$c(t) = \\frac{1-DF(t)}{\\Sigma_{i=1}^t DF(i)}$$\n",
    "\n",
    "The explicit process is written in \"Book1.xlsx\".\n",
    "\n",
    "Here, I just post the result saved in \"Input1.xlsx\". NaN denote undefined quantity."
   ]
  },
  {
   "cell_type": "code",
   "execution_count": 2,
   "metadata": {
    "collapsed": false
   },
   "outputs": [
    {
     "name": "stdout",
     "output_type": "stream",
     "text": [
      "         Type  maturity  inputs  discount      zero   forward       par  \\\n",
      "0   Overnight         0  0.0190  1.000000       NaN  0.019000       NaN   \n",
      "1        cash         1  0.0210  0.979432  0.021000  0.021000  0.021000   \n",
      "2        cash         2  0.0220  0.957411  0.022000  0.023001  0.021989   \n",
      "3    forwards         3  0.0220  0.936801  0.022000  0.022000  0.021993   \n",
      "4    forwards         4  0.0235  0.915292  0.022375  0.023500  0.022357   \n",
      "5    forwards         5  0.0230  0.894713  0.022500  0.023000  0.022480   \n",
      "6       swaps         6  0.0225  0.874932  0.022518  0.022609  0.022500   \n",
      "7       swaps         7  0.0240  0.846283  0.024130  0.033852  0.024000   \n",
      "8       swaps         8  0.0235  0.829981  0.023567  0.019642  0.023500   \n",
      "9       swaps         9  0.0240  0.806996  0.024112  0.028483  0.024000   \n",
      "10      swaps        10  0.0245  0.783772  0.024663  0.029630  0.024500   \n",
      "\n",
      "    cash flow  \n",
      "0         NaN  \n",
      "1         3.0  \n",
      "2         3.0  \n",
      "3         3.0  \n",
      "4         3.0  \n",
      "5         3.0  \n",
      "6         3.0  \n",
      "7         3.0  \n",
      "8         3.0  \n",
      "9       103.0  \n",
      "10        NaN  \n"
     ]
    }
   ],
   "source": [
    "df = pd.read_excel(\"Input1.xlsx\")\n",
    "print(df)"
   ]
  },
  {
   "cell_type": "markdown",
   "metadata": {},
   "source": [
    "### 1.2\n",
    "\n",
    "Given discount factors at any point in time one can find the present value of any future cashflows:\n",
    "$$PV=\\Sigma_i DF(t_i)C(t_i)$$"
   ]
  },
  {
   "cell_type": "code",
   "execution_count": 3,
   "metadata": {
    "collapsed": false
   },
   "outputs": [
    {
     "name": "stdout",
     "output_type": "stream",
     "text": [
      "PV: 104.825104221\n"
     ]
    }
   ],
   "source": [
    "cashflow = df['cash flow'][1:10]\n",
    "PV = calculatePV(df['cash flow'][1:10],df['discount'][1:10])\n",
    "print(\"PV:\",PV)"
   ]
  },
  {
   "cell_type": "markdown",
   "metadata": {},
   "source": [
    "### 1.3\n",
    "\n"
   ]
  },
  {
   "cell_type": "code",
   "execution_count": 4,
   "metadata": {
    "collapsed": false
   },
   "outputs": [
    {
     "name": "stdout",
     "output_type": "stream",
     "text": [
      "   maturity          PV      DV01  Duration\n",
      "0         1  104.314261  0.081897  7.850982\n",
      "1         2  104.329546  0.081911  7.851207\n",
      "2         3  104.343047  0.081924  7.851405\n",
      "3         4  104.357413  0.081937  7.851616\n",
      "4         5  104.370541  0.081950  7.851809\n",
      "5         6  104.383428  0.081962  7.851998\n",
      "6         7  104.400841  0.081978  7.852254\n",
      "7         8  104.407346  0.081984  7.852349\n",
      "8         9  104.422966  0.081999  7.852579\n"
     ]
    }
   ],
   "source": [
    "forward = df.forward[1:10]\n",
    "PVs_c = []\n",
    "PVs_c.append(PV)\n",
    "DV01s_c = []\n",
    "Durations_c =[]\n",
    "for i in range(1,10):\n",
    "    newForward = forward.copy()\n",
    "    newForward[i]=forward[i]+0.005\n",
    "    newDiscount=calculateDiscountedFactorCorrespondingToFowardRate(newForward)\n",
    "    newPV = calculatePV(cashflow,newDiscount[1:])\n",
    "    PVs_c.append(newPV)\n",
    "    newDV01 = calculateDV01(newPV, cashflow)\n",
    "    newDuration = calculateDuration(newPV, cashflow)\n",
    "    DV01s_c.append(newDV01)\n",
    "    Durations_c.append(newDuration)\n",
    "# save the above data\n",
    "df3 = pd.DataFrame()\n",
    "df3['maturity'] = [i for i in range(1,10)]\n",
    "df3['PV'] = PVs_c[1:]\n",
    "df3['DV01'] = DV01s_c\n",
    "df3['Duration'] = Durations_c\n",
    "print(df3)\n",
    "df3.to_csv(\"Output2.csv\",mode='w')"
   ]
  },
  {
   "cell_type": "markdown",
   "metadata": {},
   "source": [
    "The forward change at maturity indexed by 1, which I assummed is half a year achieve the highest DV01."
   ]
  },
  {
   "cell_type": "markdown",
   "metadata": {},
   "source": [
    "### 1.4\n",
    "\n",
    "I may not understand the exact meaning of the question. From I'm concerned, we fix the forward curve we obtained from 1.1 and enhance the whole curve (increase the forward rate at each maturity) by 0.5% and see the corresponding discounted factor, using the changed discounted factor to value PV. Then, we can calculate DV01 and duration by using the formula:\n",
    "\n",
    "$$DV01=- \\frac{\\Delta P}{10000 \\Delta y}$$\n",
    "$$duration =- \\frac{1}{P} \\frac{\\Delta P}{\\Delta y}$$"
   ]
  },
  {
   "cell_type": "code",
   "execution_count": 5,
   "metadata": {
    "collapsed": false
   },
   "outputs": [
    {
     "data": {
      "image/png": "[encoded data removed]",
      "text/plain": [
       "<matplotlib.figure.Figure at 0x1b85b555978>"
      ]
     },
     "metadata": {},
     "output_type": "display_data"
    },
    {
     "name": "stdout",
     "output_type": "stream",
     "text": [
      "   increment          PV      DV01  Duration\n",
      "0       0.00  104.825104  0.082376  7.858469\n",
      "1       0.01   96.965263  0.075037  7.738516\n",
      "2       0.02   89.802153  0.068423  7.619328\n",
      "3       0.03   83.267158  0.062458  7.500879\n"
     ]
    }
   ],
   "source": [
    "PVs = []\n",
    "PVs.append(PV)\n",
    "DV01s = []\n",
    "Durations = []\n",
    "\n",
    "for i in range(0,4):\n",
    "    increment = i*0.01\n",
    "    newDF = calculateDiscountedFactorCorrespondingToFowardRate(df['forward'][1:10]+increment)\n",
    "    newPV = calculatePV(cashflow,newDF[1:])\n",
    "    PVs.append(newPV)\n",
    "    newDV01 = calculateDV01(newPV, cashflow)\n",
    "    newDuration = calculateDuration(newPV, cashflow)\n",
    "    DV01s.append(newDV01)\n",
    "    Durations.append(newDuration)\n",
    "increments = [i*0.01 for i in range(0,4)]\n",
    "f,ax = plt.subplots(3,1,sharex=True)\n",
    "ax[0].plot(increments,PVs[1:])\n",
    "# ax[0].set_title('PV-increment')\n",
    "ax[0].set_ylabel('PV')\n",
    "ax[1].plot(increments,DV01s)\n",
    "ax[1].set_ylabel('DV01')\n",
    "ax[2].plot(increments,Durations)\n",
    "ax[2].set_ylabel('Duration')\n",
    "vals = ax[2].get_xticks()\n",
    "ax[2].set_xticklabels(['{:3.2f}%'.format(x*100) for x in vals])\n",
    "ax[2].set_xlabel('Forward curve increment')\n",
    "plt.show()\n",
    "\n",
    "# save the above data\n",
    "df2 = pd.DataFrame()\n",
    "df2['increment'] = increments\n",
    "df2['PV'] = PVs[1:]\n",
    "df2['DV01'] = DV01s\n",
    "df2['Duration'] = Durations\n",
    "print(df2)\n",
    "df2.to_csv(\"Output1.csv\",mode='w')"
   ]
  },
  {
   "cell_type": "markdown",
   "metadata": {},
   "source": [
    "### 1.5\n",
    "The index of the original form is ambiguous, the time stemp is annually or semiannually? As far as I'm concerned, I would assume it was semiannually as coupon are paid semiannually on government bonds. Based on this hypothesis:"
   ]
  },
  {
   "cell_type": "code",
   "execution_count": 6,
   "metadata": {
    "collapsed": false
   },
   "outputs": [
    {
     "name": "stdout",
     "output_type": "stream",
     "text": [
      "forward price 18 months from today:  111.896883329\n"
     ]
    }
   ],
   "source": [
    "discountedFactor18m = df[df.maturity==3].discount.values[0]\n",
    "forwardPrice = PV/discountedFactor18m\n",
    "print(\"forward price 18 months from today: \",forwardPrice)"
   ]
  },
  {
   "cell_type": "markdown",
   "metadata": {},
   "source": [
    "### 1.6\n",
    "Using the following formula\n",
    "$$duration =- \\frac{1}{P} \\frac{\\Delta P}{\\Delta y}$$"
   ]
  },
  {
   "cell_type": "code",
   "execution_count": 7,
   "metadata": {
    "collapsed": false
   },
   "outputs": [
    {
     "name": "stdout",
     "output_type": "stream",
     "text": [
      "duratiohn:  7.85846948471\n"
     ]
    }
   ],
   "source": [
    "print(\"duratiohn: \",calculateDuration(PV,cashflow,dy=1e-6))"
   ]
  },
  {
   "cell_type": "markdown",
   "metadata": {},
   "source": [
    "## Problem 2\n",
    "\n",
    "Consider an eight-month European put option on a Treasury bond that currently has 14.25 years to maturity. The current cash bond price is \\$910, the exercise price is $900, and the volatility for the bond price is 10% per annum. A coupon of \\$35 will be paid by the bond in three months. The risk-free interest rate is 5\\% for all maturities up to one year. Use Black’s model to determine the price of the option. Consider both the case where the strike price corresponds to the cash price of the bond and the case where it corresponds to the quoted price."
   ]
  },
  {
   "cell_type": "markdown",
   "metadata": {},
   "source": [
    "\n",
    "The assumption made in the standard market model for valuing European bond\n",
    "options is that the forward bond price has a volatility $\\sigma_B$. This allows Black’s model to be used. Let $F_B$ denotes the forward price of bond, so that\n",
    "\n",
    "$$p = P(0,T) [KN(-d_2)-F_BN(-d_1)]$$\n",
    "where\n",
    "$$d_1 = \\frac{ln(F_B/K)+\\sigma_B^2T/2}{\\sigma_B \\sqrt{T}}$$\n",
    "$$d_2 = d_1 - \\sigma_B \\sqrt{T}$$\n",
    "In these equations, K is the strike price of the bond option, T is its time to maturity, and P(0,T) is the (risk-free) discount factor for maturity T.\n",
    "\n",
    "$F_B$ can be calculated using formula\n",
    "$$F_B = \\frac{B_0-I}{P(0,T)}$$\n",
    "\n",
    "where $B_0$ is the bond price at time zero and I is the present value of the coupons that\n",
    "will be paid during the life of the option.\n",
    "\n",
    "$$I = \\$35 \\times e^{-r\\frac{3}{12}} $$"
   ]
  },
  {
   "cell_type": "code",
   "execution_count": 8,
   "metadata": {
    "collapsed": false
   },
   "outputs": [
    {
     "name": "stdout",
     "output_type": "stream",
     "text": [
      "905.1077381222738\n"
     ]
    }
   ],
   "source": [
    "import math\n",
    "r = 0.05\n",
    "T = 8/12\n",
    "B0 = 910\n",
    "I = 35 * math.exp(-r*3/12)\n",
    "discountedFactor = math.exp(-r*T)\n",
    "forwardPrice = (B0-I)/discountedFactor\n",
    "print(forwardPrice)"
   ]
  },
  {
   "cell_type": "markdown",
   "metadata": {},
   "source": [
    "### 2.1\n",
    "\n",
    "Consider the case where the strike price corresponds to cash price\n",
    "$$K = exercise\\ price = \\$900$$"
   ]
  },
  {
   "cell_type": "code",
   "execution_count": 9,
   "metadata": {
    "collapsed": false
   },
   "outputs": [
    {
     "name": "stdout",
     "output_type": "stream",
     "text": [
      "26.0256920546\n"
     ]
    }
   ],
   "source": [
    "from scipy.stats import norm\n",
    "K = 900\n",
    "sigma = 0.1\n",
    "d1_1 = (math.log(forwardPrice/K)+sigma**2*T/2)/sigma/math.sqrt(T)\n",
    "d2_1 = d1_1 - sigma*math.sqrt(T)\n",
    "p_1 = discountedFactor * (K*norm.cdf(-d2_1) - forwardPrice*norm.cdf(-d1_1))\n",
    "print(p_1)"
   ]
  },
  {
   "cell_type": "markdown",
   "metadata": {},
   "source": [
    "### 2.2\n",
    "\n",
    "The strike price corresponds to dirty price\n",
    "$$K = clean\\ price + accrued\\ interest$$\n",
    "where,\n",
    "$$accrued\\ interest = coupon\\ payment \\times \\frac{actual\\ number\\ of\\ days\\ since\\ last\\ payment}{actual\\ number\\ of\\ days\\ between\\ payment\\ dates}$$"
   ]
  },
  {
   "cell_type": "code",
   "execution_count": 10,
   "metadata": {
    "collapsed": false
   },
   "outputs": [
    {
     "name": "stdout",
     "output_type": "stream",
     "text": [
      "41.9994803229\n"
     ]
    }
   ],
   "source": [
    "accruedInterest = 35*5/6\n",
    "dirtyStrike = K + accruedInterest\n",
    "d1_2 = (math.log(forwardPrice/dirtyStrike)+sigma**2*T/2)/sigma/math.sqrt(T)\n",
    "d2_2 = d1_2 - sigma*math.sqrt(T)\n",
    "p_2 = discountedFactor * (dirtyStrike*norm.cdf(-d2_2) - forwardPrice*norm.cdf(-d1_2))\n",
    "print(p_2)"
   ]
  },
  {
   "cell_type": "markdown",
   "metadata": {},
   "source": [
    "## Problem 3\n",
    "\n",
    "Consider the following table with Treasury Yield Rates:\n",
    "\n",
    "|Time to Maturity | Yield Rate (continuously compounded)|\n",
    "|-----------------|-------------------------------------|\n",
    "|3 months|0.14%|\n",
    "|6 months|0.19%|\n",
    "|1 year|0.25%|\n",
    "|2 years|0.51%|\n",
    "|3 years|0.75%|\n",
    "|5 years|1.41%|\n",
    "|7 years|2.02%|\n",
    "|10 years|2.57%|\n",
    "|30 years|3.63%|\n",
    "Use the data provided to build the yield curve using the cubic spline model."
   ]
  },
  {
   "cell_type": "markdown",
   "metadata": {},
   "source": [
    "Cubic spline model is of the form\n",
    "$$S_j(x) = a_j + b_j(x-x_j) + c_j(x-x_j)^2 + d_j(x-x_j)^3$$\n",
    "$$S_i(x_i) = S_{i-1} (x_i)$$\n",
    "$$S_i^\\prime (x_i) = S_{i-1}^\\prime (x_i)$$\n",
    "$$S_i^{\\prime \\prime} (x_i) = S_{i-1}^{\\prime \\prime}(x_i)$$\n",
    "$$S_i^{\\prime \\prime} (x_0) = S_{n-1}^{\\prime \\prime}(x_n) = 0$$"
   ]
  },
  {
   "cell_type": "code",
   "execution_count": 11,
   "metadata": {
    "collapsed": false
   },
   "outputs": [],
   "source": [
    "import pandas as pd\n",
    "import numpy as np\n",
    "\n",
    "data = {'maturity':[3/12,6/12,1,2,3,5,7,10,30],'yield':np.array([0.14,0.19,0.25,0.51,0.75,1.41,2.02,2.57,3.63])*0.01}\n",
    "df = pd.DataFrame(data=data)"
   ]
  },
  {
   "cell_type": "code",
   "execution_count": 12,
   "metadata": {
    "collapsed": false
   },
   "outputs": [
    {
     "data": {
      "text/html": [
       "<div>\n",
       "<table border=\"1\" class=\"dataframe\">\n",
       "  <thead>\n",
       "    <tr style=\"text-align: right;\">\n",
       "      <th></th>\n",
       "      <th>maturity</th>\n",
       "      <th>yield</th>\n",
       "    </tr>\n",
       "  </thead>\n",
       "  <tbody>\n",
       "    <tr>\n",
       "      <th>0</th>\n",
       "      <td>0.25</td>\n",
       "      <td>0.0014</td>\n",
       "    </tr>\n",
       "    <tr>\n",
       "      <th>1</th>\n",
       "      <td>0.50</td>\n",
       "      <td>0.0019</td>\n",
       "    </tr>\n",
       "    <tr>\n",
       "      <th>2</th>\n",
       "      <td>1.00</td>\n",
       "      <td>0.0025</td>\n",
       "    </tr>\n",
       "    <tr>\n",
       "      <th>3</th>\n",
       "      <td>2.00</td>\n",
       "      <td>0.0051</td>\n",
       "    </tr>\n",
       "    <tr>\n",
       "      <th>4</th>\n",
       "      <td>3.00</td>\n",
       "      <td>0.0075</td>\n",
       "    </tr>\n",
       "    <tr>\n",
       "      <th>5</th>\n",
       "      <td>5.00</td>\n",
       "      <td>0.0141</td>\n",
       "    </tr>\n",
       "    <tr>\n",
       "      <th>6</th>\n",
       "      <td>7.00</td>\n",
       "      <td>0.0202</td>\n",
       "    </tr>\n",
       "    <tr>\n",
       "      <th>7</th>\n",
       "      <td>10.00</td>\n",
       "      <td>0.0257</td>\n",
       "    </tr>\n",
       "    <tr>\n",
       "      <th>8</th>\n",
       "      <td>30.00</td>\n",
       "      <td>0.0363</td>\n",
       "    </tr>\n",
       "  </tbody>\n",
       "</table>\n",
       "</div>"
      ],
      "text/plain": [
       "   maturity   yield\n",
       "0      0.25  0.0014\n",
       "1      0.50  0.0019\n",
       "2      1.00  0.0025\n",
       "3      2.00  0.0051\n",
       "4      3.00  0.0075\n",
       "5      5.00  0.0141\n",
       "6      7.00  0.0202\n",
       "7     10.00  0.0257\n",
       "8     30.00  0.0363"
      ]
     },
     "execution_count": 12,
     "metadata": {},
     "output_type": "execute_result"
    }
   ],
   "source": [
    "df"
   ]
  },
  {
   "cell_type": "code",
   "execution_count": 13,
   "metadata": {
    "collapsed": false
   },
   "outputs": [
    {
     "data": {
      "image/png": "[encoded data removed]",
      "text/plain": [
       "<matplotlib.figure.Figure at 0x1b85bce4b00>"
      ]
     },
     "metadata": {},
     "output_type": "display_data"
    }
   ],
   "source": [
    "import numpy as np\n",
    "import matplotlib.pyplot as plt\n",
    "from scipy.interpolate import CubicSpline\n",
    "x = df['maturity']\n",
    "y = df['yield']\n",
    "cs = CubicSpline(x,y,bc_type='natural')\n",
    "xnew = np.linspace(0, 30, 100)\n",
    "ynew = cs(xnew)\n",
    "plt.figure()\n",
    "plt.plot(x, y, 'x', xnew, ynew, '--')\n",
    "plt.legend(['Linear', 'Cubic Spline', 'True'])\n",
    "# plt.axis([-0.05, 6.33, -1.05, 1.05])\n",
    "plt.title('Cubic-spline interpolation')\n",
    "plt.show()"
   ]
  },
  {
   "cell_type": "markdown",
   "metadata": {},
   "source": [
    "Note that here we should be careful about boundary condition. In this case, the second derivative at curve ends are zero, so natural boundary should be necessary. "
   ]
  },
  {
   "cell_type": "markdown",
   "metadata": {
    "collapsed": true
   },
   "source": [
    "## Bonus Problem\n",
    "\n",
    "Use the functional form of Nelson-Siegel model to estimate the parameters $\\beta_0, \\beta_1, \\beta_2, \\tau_1$ for the following Treasury Coupon Bonds:"
   ]
  },
  {
   "cell_type": "markdown",
   "metadata": {
    "collapsed": true
   },
   "source": [
    "### Review\n",
    "Historically, one of the most important drivers of return in fixed-income portfolios has been the yield curve, and many investment strategies are expressed in terms of changes in the curve. Any discussion of fixed-income attribution therefore requires an appreciation of how changes in the curve are described, and their effect on the performance of a portfolio.\n",
    "\n",
    "Two of the most widely used models are polynomial functions and Nelson-Siegel functions (Nelson and Siegel (1987)). We have considered polynomial functions in problem 3, here, we use Nelson-Siegel model.\n",
    "\n",
    "$$\\hat{y}(m)=\\beta_0 + \\beta_1(\\frac{1-e^{-m/\\tau}}{m/\\tau})+ \\beta_2 (\\frac{1-e^{-m/\\tau}}{m/\\tau}-e^{-m/\\tau})$$\n",
    "\n",
    "In order to obtain the yield curve, we use bonds following formula:\n",
    "\n",
    "$$P_d = \\frac{1}{(1+y(m)/2)^{N_{tc}/182.5}}\\times \n",
    "    \\{C + \\frac{C}{(1+y(m)/2)} + \\frac{C}{(1+y(m)/2)^2} + \\dots \n",
    "    + \\frac{C}{(1+y(m)/2)^{S-1}} + \\frac{F}{(1+y(m)/2)^{S-1}}\\} $$\n",
    "    \n",
    "where, \n",
    "\n",
    "y(m): yield to maturity m.\n",
    "\n",
    "C: semi-annual coupon payment\n",
    "\n",
    "$N_{tc}$: number of days between current date t and next coupon payment date c\n",
    "\n",
    "S: number of coupon payments before redemption (if T is the\n",
    "number of complete years before redemption, then S=2T if\n",
    "there is an even number of coupon payments before redemption,\n",
    "and S=2T+1 if there is an odd number of coupon\n",
    "payments before redemption).\n",
    "\n",
    "F: par value of bond\n",
    "\n",
    "$P_d$: dirty price of bond"
   ]
  },
  {
   "cell_type": "markdown",
   "metadata": {},
   "source": [
    "### Optimization Problem\n",
    "\n",
    "Define loss function:\n",
    "\n",
    "$$loss(\\beta_0, \\beta_1, \\beta_2, \\tau_1) = \\Sigma_{i=1}^n w_i(y(m_i)-\\hat{y}(m_i))^2$$\n",
    "\n",
    "$$\\min loss(\\beta_0, \\beta_1, \\beta_2, \\tau_1)$$\n",
    "constraints:\n",
    "\n",
    "$$\\beta_0 \\in (0,1)$$\n",
    "$$\\beta_1 + \\beta_0 > 0$$\n",
    "$$\\beta_1 \\in (-1,1)$$\n",
    "$$\\beta_2 \\in (-1,1)$$\n",
    "$$\\tau > 0$$\n",
    "\n",
    "Note that this optimization problem is slightly different from the one in the lecture. Firstly, the yields are calculated by the definition of yield to maturity of bond. Secondly, the object function is different, for this one is more consistent with the original Nielson-Siegel's article."
   ]
  },
  {
   "cell_type": "code",
   "execution_count": 14,
   "metadata": {
    "collapsed": false
   },
   "outputs": [
    {
     "name": "stdout",
     "output_type": "stream",
     "text": [
      "    time to next payment  payment frequency  time to maturity  coupon rate  \\\n",
      "0                 0.4356                  2            0.4356      0.00875   \n",
      "1                 0.2644                  2            0.7644      0.00875   \n",
      "2                 0.2658                  2            1.2658      0.00750   \n",
      "3                 0.4342                  2            1.9342      0.00625   \n",
      "4                 0.0192                  2            2.0192      0.00375   \n",
      "5                 0.4753                  2            2.9753      0.00750   \n",
      "6                 0.3534                  2            3.3534      0.01500   \n",
      "7                 0.1000                  2            3.6000      0.01750   \n",
      "8                 0.2685                  2            4.2685      0.02125   \n",
      "9                 0.4342                  2            4.9342      0.01750   \n",
      "10                0.2274                  2            5.2274      0.04500   \n",
      "11                0.1027                  2            5.6027      0.02375   \n",
      "12                0.2712                  2            6.2712      0.02750   \n",
      "13                0.4370                  2            6.9370      0.02375   \n",
      "14                0.4822                  2            7.4822      0.03500   \n",
      "15                0.2260                  2            7.7260      0.03875   \n",
      "16                0.4822                  2            8.4822      0.02750   \n",
      "17                0.2260                  2            8.7260      0.03125   \n",
      "18                0.2301                  2            9.2301      0.03375   \n",
      "19                0.4808                  2            9.9808      0.02625   \n",
      "20                0.4932                  2           25.4932      0.04500   \n",
      "21                0.4959                  2           26.4959      0.04750   \n",
      "22                0.2397                  2           26.7397      0.05000   \n",
      "23                0.4959                  2           27.4959      0.04375   \n",
      "24                0.2397                  2           27.7397      0.04500   \n",
      "25                0.4959                  2           28.4959      0.03500   \n",
      "26                0.2397                  2           28.7397      0.04250   \n",
      "27                0.2438                  2           29.2438      0.04375   \n",
      "28                0.4945                  2           29.9945      0.03875   \n",
      "\n",
      "    clean price  \n",
      "0        100.30  \n",
      "1        100.48  \n",
      "2        100.50  \n",
      "3        100.31  \n",
      "4         99.78  \n",
      "5        100.16  \n",
      "6        102.34  \n",
      "7        103.08  \n",
      "8        104.19  \n",
      "9        102.06  \n",
      "10       115.91  \n",
      "11       104.36  \n",
      "12       105.86  \n",
      "13       102.97  \n",
      "14       110.53  \n",
      "15       113.09  \n",
      "16       103.98  \n",
      "17       106.50  \n",
      "18       108.00  \n",
      "19       101.19  \n",
      "20       117.58  \n",
      "21       122.28  \n",
      "22       126.97  \n",
      "23       115.19  \n",
      "24       117.47  \n",
      "25        98.98  \n",
      "26       112.44  \n",
      "27       114.67  \n",
      "28       105.75  \n"
     ]
    }
   ],
   "source": [
    "df3 = pd.read_excel('BonusInput.xlsx')\n",
    "print(df3)"
   ]
  },
  {
   "cell_type": "code",
   "execution_count": 15,
   "metadata": {
    "collapsed": false
   },
   "outputs": [
    {
     "name": "stdout",
     "output_type": "stream",
     "text": [
      "Optimization terminated successfully.    (Exit mode 0)\n",
      "            Current function value: 0.00018562609495\n",
      "            Iterations: 36\n",
      "            Function evaluations: 217\n",
      "            Gradient evaluations: 36\n",
      "[ 0.03766032 -0.02070425 -0.11191637  3.02268534]\n"
     ]
    },
    {
     "data": {
      "image/png": "[encoded data removed]",
      "text/plain": [
       "<matplotlib.figure.Figure at 0x1b85bf27c88>"
      ]
     },
     "metadata": {},
     "output_type": "display_data"
    }
   ],
   "source": [
    "import pandas as pd\n",
    "import numpy as np\n",
    "import math\n",
    "import scipy.optimize\n",
    "\n",
    "def calculateAccruedInterest(coupon,daysToNextPayment,daysBetweenPayments):\n",
    "    return coupon * (180-daysToNextPayment)/daysBetweenPayments\n",
    "\n",
    "def calculateDirtyPrice(cleanPrice, accruedInterest):\n",
    "    return cleanPrice - accruedInterest\n",
    "\n",
    "# We assume we follow the 360-day year convention\n",
    "def calculateDirtyPriceFromYield(couponRate, parValue, Ntc, YTM, numPayments):\n",
    "    semiAnnualCoupon = couponRate * parValue/2\n",
    "    dirtyPrice = 1/(1+YTM/2)**(Ntc/180) \\\n",
    "                 * (semiAnnualCoupon*2/YTM * (1+YTM/2 - (1 + YTM/2)**(1-numPayments))\\\n",
    "                 + parValue/(1+YTM/2)**(numPayments-1))\n",
    "    return dirtyPrice\n",
    "\n",
    "def solveYield(dirtyPrice, couponRate, parValue, Ntc, numPayments):\n",
    "    fun = lambda y: calculateDirtyPriceFromYield(couponRate,parValue,Ntc,y,numPayments)-dirtyPrice\n",
    "    YTM = scipy.optimize.brenth(fun,-0.5,0.5)\n",
    "    return YTM\n",
    "\n",
    "def NielsonSiegelFunction(b0,b1,b2,tau,m):\n",
    "    y = b0 + b1*(1-np.exp(-m/tau))/(m/tau)+b2*((1-np.exp(-m/tau))/(m/tau)-np.exp(-m/tau))\n",
    "    return y\n",
    "\n",
    "def calculateTotalLoss(maturities, YTMs, weights, b0,b1,b2,tau):\n",
    "    n = len(maturities)\n",
    "    y = np.asarray(YTMs)\n",
    "    yHat = np.asarray([NielsonSiegelFunction(b0,b1,b2,tau,m) for m in maturities])\n",
    "    totalLoss = np.dot(weights, np.square(y - yHat))/n\n",
    "    return totalLoss\n",
    "\n",
    "\n",
    "def solveNielsonSiegel(maturities,YTMs,weights,disp=True):\n",
    "    objectFunction = lambda x: calculateTotalLoss(maturities,YTMs,weights,x[0],x[1],x[2],x[3])\n",
    "    constraints=({'type':'ineq',\n",
    "                 'fun': lambda x: x[0]},\n",
    "                 {'type':'ineq',\n",
    "                  'fun': lambda x: x[1]+x[0]},\n",
    "                 {'type': 'ineq',\n",
    "                  'fun': lambda x: x[2] +1},\n",
    "                 {'type':'ineq',\n",
    "                  'fun': lambda x: x[3]},\n",
    "                 {'type': 'ineq',\n",
    "                  'fun': lambda x: 1 - x[0]},\n",
    "                 {'type': 'ineq',\n",
    "                  'fun': lambda x: 1 - x[1]},\n",
    "                 {'type': 'ineq',\n",
    "                  'fun': lambda x: 1 - x[2]},\n",
    "                 )\n",
    "    res = scipy.optimize.minimize(objectFunction,[0.01,-0.01,0.01,0.5],\n",
    "                                  constraints=constraints,tol=1e-12,options={'disp':disp})\n",
    "    # print(res)\n",
    "    return res.x\n",
    "\n",
    "def plotYield(maturites,NSParameters,YTMs=None):\n",
    "    import matplotlib.pyplot as plt\n",
    "    m = np.linspace(np.min(maturities),np.max(maturities),50)\n",
    "    y = NielsonSiegelFunction(NSParameters[0],NSParameters[1],NSParameters[2],NSParameters[3],m)\n",
    "    if(YTMs==None):\n",
    "        plt.plot( m, y, '--')\n",
    "    else:\n",
    "        plt.plot(maturities, YTMs, 'x',m, y, '--')\n",
    "\n",
    "    plt.xlabel(\"time to maturity (year)\")\n",
    "    plt.ylabel(\"yield\")\n",
    "    plt.show()\n",
    "    return\n",
    "\n",
    "\n",
    "\n",
    "df3 = pd.read_excel('BonusInput.xlsx')\n",
    "# assume par value is 100\n",
    "parValue = 100\n",
    "YTMs = []\n",
    "maturities = []\n",
    "for i in range(len(df3)):\n",
    "    cleanPrice = df3.ix[i]['clean price']\n",
    "    daysToNextPayment = df3.ix[i]['time to next payment'] * 360\n",
    "    # daysFromLastPayment = 180 - daysToNextPayment\n",
    "    timeToMaturity = df3.ix[i]['time to maturity']\n",
    "    numPayments = math.ceil(timeToMaturity/2)\n",
    "    couponRate = df3.ix[i]['coupon rate']\n",
    "    accruedInterest = calculateAccruedInterest(couponRate*parValue/2,daysToNextPayment,180)\n",
    "    dirtyPrice = calculateDirtyPrice(cleanPrice,accruedInterest)\n",
    "    YTM = solveYield(dirtyPrice,couponRate,parValue,daysToNextPayment,numPayments)\n",
    "    YTMs.append(YTM)\n",
    "    maturities.append(timeToMaturity)\n",
    "\n",
    "# print(YTMs)\n",
    "df3['yield to maturity'] = YTMs\n",
    "weights1 = 1/np.array(maturities)\n",
    "weights2 = [1 for i in range(len(maturities))]\n",
    "res = solveNielsonSiegel(maturities=maturities,YTMs=YTMs,weights=weights2)\n",
    "print(res)\n",
    "plotYield(maturities,res,YTMs)\n"
   ]
  },
  {
   "cell_type": "code",
   "execution_count": 16,
   "metadata": {
    "collapsed": false
   },
   "outputs": [
    {
     "name": "stdout",
     "output_type": "stream",
     "text": [
      "    time to next payment  payment frequency  time to maturity  coupon rate  \\\n",
      "0                 0.4356                  2            0.4356      0.00875   \n",
      "1                 0.2644                  2            0.7644      0.00875   \n",
      "2                 0.2658                  2            1.2658      0.00750   \n",
      "3                 0.4342                  2            1.9342      0.00625   \n",
      "4                 0.0192                  2            2.0192      0.00375   \n",
      "5                 0.4753                  2            2.9753      0.00750   \n",
      "6                 0.3534                  2            3.3534      0.01500   \n",
      "7                 0.1000                  2            3.6000      0.01750   \n",
      "8                 0.2685                  2            4.2685      0.02125   \n",
      "9                 0.4342                  2            4.9342      0.01750   \n",
      "10                0.2274                  2            5.2274      0.04500   \n",
      "11                0.1027                  2            5.6027      0.02375   \n",
      "12                0.2712                  2            6.2712      0.02750   \n",
      "13                0.4370                  2            6.9370      0.02375   \n",
      "14                0.4822                  2            7.4822      0.03500   \n",
      "15                0.2260                  2            7.7260      0.03875   \n",
      "16                0.4822                  2            8.4822      0.02750   \n",
      "17                0.2260                  2            8.7260      0.03125   \n",
      "18                0.2301                  2            9.2301      0.03375   \n",
      "19                0.4808                  2            9.9808      0.02625   \n",
      "20                0.4932                  2           25.4932      0.04500   \n",
      "21                0.4959                  2           26.4959      0.04750   \n",
      "22                0.2397                  2           26.7397      0.05000   \n",
      "23                0.4959                  2           27.4959      0.04375   \n",
      "24                0.2397                  2           27.7397      0.04500   \n",
      "25                0.4959                  2           28.4959      0.03500   \n",
      "26                0.2397                  2           28.7397      0.04250   \n",
      "27                0.2438                  2           29.2438      0.04375   \n",
      "28                0.4945                  2           29.9945      0.03875   \n",
      "\n",
      "    clean price  yield to maturity  \n",
      "0        100.30           0.004440  \n",
      "1        100.48           0.006177  \n",
      "2        100.50           0.001900  \n",
      "3        100.31           0.001002  \n",
      "4         99.78           0.015018  \n",
      "5        100.16           0.006233  \n",
      "6        102.34          -0.007155  \n",
      "7        103.08          -0.010335  \n",
      "8        104.19          -0.003935  \n",
      "9        102.06           0.004684  \n",
      "10       115.91          -0.059022  \n",
      "11       104.36           0.001301  \n",
      "12       105.86           0.001476  \n",
      "13       102.97           0.009795  \n",
      "14       110.53          -0.016427  \n",
      "15       113.09          -0.023143  \n",
      "16       103.98           0.011588  \n",
      "17       106.50           0.009461  \n",
      "18       108.00           0.005823  \n",
      "19       101.19           0.021715  \n",
      "20       117.58           0.016443  \n",
      "21       122.28           0.014013  \n",
      "22       126.97           0.012223  \n",
      "23       115.19           0.020396  \n",
      "24       117.47           0.020822  \n",
      "25        98.98           0.036612  \n",
      "26       112.44           0.026856  \n",
      "27       114.67           0.024888  \n",
      "28       105.75           0.030183  \n"
     ]
    }
   ],
   "source": [
    "print(df3)"
   ]
  },
  {
   "cell_type": "markdown",
   "metadata": {},
   "source": [
    "### Interpolate exponential zero rate\n",
    "\n",
    "Using exponential zero rate $R(0,m)$ denotes the exponential zero rate to maturity m.\n",
    "And interpolate the exponential zero rate curve using Nelson-Siegel functions.\n",
    "$$\\hat{R}(0,m)=\\beta_0 + \\beta_1(\\frac{1-e^{-m/\\tau}}{m/\\tau})+ \\beta_2 (\\frac{1-e^{-m/\\tau}}{m/\\tau}-e^{-m/\\tau})$$\n",
    "\n",
    "$$\\hat{B}(0,m) = \\Sigma_{j=1}^S C e^{R(0,\\tau_j)\\tau_j} + F e^{-R(0,m)m}$$\n",
    "\n",
    "where,\n",
    "\n",
    "C: semi-annual coupon payment\n",
    "\n",
    "R(0,$\\tau$): exponential zero rate from time 0 to time $\\tau$\n",
    "\n",
    "F: par value of the coupon\n",
    "\n",
    "and object function is defined:\n",
    "\n",
    "$$\\Sigma_{i=1}^n w_i[ \\hat{B}(0,m_i)-B(0,m_i)]^2$$\n",
    "\n",
    "where $w_i$ is the weight for each payment date\n",
    "\n",
    "constraints:\n",
    "\n",
    "$$\\beta_0 \\in (0,1)$$\n",
    "$$\\beta_1 + \\beta_0 > 0$$\n",
    "$$\\beta_1 \\in (-1,1)$$\n",
    "$$\\beta_2 \\in (-1,1)$$\n",
    "$$\\tau > 0$$"
   ]
  },
  {
   "cell_type": "code",
   "execution_count": 17,
   "metadata": {
    "collapsed": false
   },
   "outputs": [
    {
     "name": "stdout",
     "output_type": "stream",
     "text": [
      "Optimization terminated successfully.    (Exit mode 0)\n",
      "            Current function value: 0.666657444544\n",
      "            Iterations: 40\n",
      "            Function evaluations: 256\n",
      "            Gradient evaluations: 40\n",
      "[ 0.04529258 -0.03917825 -0.05727784  1.97914684]\n"
     ]
    },
    {
     "data": {
      "image/png": "[encoded data removed]",
      "text/plain": [
       "<matplotlib.figure.Figure at 0x1b85beb7a90>"
      ]
     },
     "metadata": {},
     "output_type": "display_data"
    }
   ],
   "source": [
    "# another explanation\n",
    "def calculateBondPriceByExponentialRate(coupon, parValue, paymentTimes, b0,b1,b2,tau):\n",
    "    maturity = np.max(paymentTimes)\n",
    "    PV_coupon = 0\n",
    "    for m in paymentTimes:\n",
    "        R = NielsonSiegelFunction(b0,b1,b2,tau,m)\n",
    "        # print(R)\n",
    "        PV_coupon += coupon * np.exp(-R*m)\n",
    "    Rm = NielsonSiegelFunction(b0,b1,b2,tau,maturity)\n",
    "    bondPrice = PV_coupon + parValue*np.exp(-Rm*maturity)\n",
    "    return bondPrice\n",
    "\n",
    "def calculateTotalLoss2(df3,b0,b1,b2,tau):\n",
    "    totalLoss = 0\n",
    "    for i in range(len(df3)):\n",
    "        cleanPrice = df3.ix[i]['clean price']\n",
    "        timeToNextPayment = df3.ix[i]['time to next payment']\n",
    "        timeToMaturity = df3.ix[i]['time to maturity']\n",
    "        paymentTimes = np.arange(timeToNextPayment,timeToMaturity+1e-6,0.5)\n",
    "        weight = 1/timeToMaturity\n",
    "        couponRate = df3.ix[i]['coupon rate']\n",
    "        coupon = parValue*couponRate/2\n",
    "        accruedInterest = calculateAccruedInterest(couponRate * parValue / 2, daysToNextPayment, 180)\n",
    "        dirtyPrice = calculateDirtyPrice(cleanPrice, accruedInterest)\n",
    "        # maturities.append(timeToMaturity)\n",
    "        priceHat = calculateBondPriceByExponentialRate(coupon,parValue,paymentTimes,b0,b1,b2,tau)\n",
    "        # print(priceHat)\n",
    "        if(priceHat==np.inf):\n",
    "            print(b0,b1,b2,tau)\n",
    "        totalLoss += weight * np.square(priceHat-dirtyPrice)\n",
    "    return totalLoss\n",
    "\n",
    "def solveNielsonSiegel2(df3,disp=True):\n",
    "    objectFunction = lambda x: calculateTotalLoss2(df3,x[0],x[1],x[2],x[3])\n",
    "    constraints=({'type':'ineq',\n",
    "                 'fun': lambda x: x[0]},\n",
    "                 {'type':'ineq',\n",
    "                  'fun': lambda x: x[1]+x[0]},\n",
    "                 {'type': 'ineq',\n",
    "                  'fun': lambda x: x[2] +1},\n",
    "                 {'type':'ineq',\n",
    "                  'fun': lambda x: x[3]},\n",
    "                 {'type': 'ineq',\n",
    "                  'fun': lambda x: 1 - x[0]},\n",
    "                 {'type': 'ineq',\n",
    "                  'fun': lambda x: 1 - x[1]},\n",
    "                 {'type': 'ineq',\n",
    "                  'fun': lambda x: 1 - x[2]},\n",
    "                 )\n",
    "    res = scipy.optimize.minimize(objectFunction,[0.1,0.1,0.1,2],\n",
    "                                  constraints=constraints,tol=1e-12,\n",
    "                                  options={'disp':disp})\n",
    "    # print(res)\n",
    "    return res.x\n",
    "NSParameters = solveNielsonSiegel2(df3)\n",
    "print(NSParameters)\n",
    "plotYield(df3['time to maturity'],NSParameters)"
   ]
  },
  {
   "cell_type": "markdown",
   "metadata": {},
   "source": [
    "### Summary\n",
    "This one should be a more suitable yield curve compare to the first one, now I convinced myself to use the latter strategy to parameterize yield curve.\n",
    "\n",
    "Result:\n",
    "\n",
    "$$\\beta_0 = 4.529%$$\n",
    "$$\\beta_1 = -3.918%$$\n",
    "$$\\beta_2 = -5.728%$$\n",
    "$$\\tau = 1.979$$"
   ]
  }
 ],
 "metadata": {
  "kernelspec": {
   "display_name": "Python 3",
   "language": "python",
   "name": "python3"
  },
  "language_info": {
   "codemirror_mode": {
    "name": "ipython",
    "version": 3
   },
   "file_extension": ".py",
   "mimetype": "text/x-python",
   "name": "python",
   "nbconvert_exporter": "python",
   "pygments_lexer": "ipython3",
   "version": "3.6.0"
  }
 },
 "nbformat": 4,
 "nbformat_minor": 2
}
