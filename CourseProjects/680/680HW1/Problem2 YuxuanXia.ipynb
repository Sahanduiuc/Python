{
 "cells": [
  {
   "cell_type": "markdown",
   "metadata": {},
   "source": [
    "## Problem 1\n",
    "\n",
    "a) Fill in discount curve, zero curve, forward curve\n",
    "\n",
    "b) Compute the PV of the bond cash flows\n",
    "\n",
    "c) Change the forward curve by +0.5% (at each maturity one at a time) and compute the discount factors and PV, DV01, duration of the bond for each case. Which forward change has the highest DV01?\n",
    "\n",
    "d) Compute the PV of the bond when increasing simultaneously all the forward rates by 1%,2%, and 3%\n",
    "\n",
    "e) What is the forward price of the bond 18 months from today?\n",
    "\n",
    "f) Compute the duration of the bond"
   ]
  },
  {
   "cell_type": "code",
   "execution_count": 52,
   "metadata": {
    "collapsed": true
   },
   "outputs": [],
   "source": [
    "import pandas as pd\n",
    "import numpy as np\n",
    "import matplotlib.pyplot as plt\n",
    "import scipy.optimize\n",
    "\n",
    "def calculateDiscountedFactorCorrespondingToFowardRate(forwardRate):\n",
    "    DF = []\n",
    "    DF.append(1)\n",
    "    for i,forward in enumerate(forwardRate):\n",
    "        DF.append(DF[i]/(1+forward))\n",
    "    return DF\n",
    "\n",
    "def calculatePV(cashflow,DF):\n",
    "    return np.dot(np.asarray(cashflow),np.asarray(DF))\n",
    "\n",
    "def calculatePV2(cashflow,y):\n",
    "    DF2 = [1/(1+y)**(i+1) for i in range(len(cashflow))]\n",
    "    return np.dot(np.asarray(cashflow),np.asarray(DF2))\n",
    "\n",
    "def calculateCouponAnnualYield(PV,cashflow):\n",
    "    fun = lambda y: calculatePV2(cashflow,y)-PV\n",
    "    x0= scipy.optimize.brentq(fun,0,1)\n",
    "    return x0\n",
    "\n",
    "def calculateDV01(PV,cashflow,dy=1e-6):\n",
    "    y = calculateCouponAnnualYield(PV,cashflow)\n",
    "    dP = calculatePV2(cashflow,y+dy)-PV\n",
    "    return -dP/dy/10000\n",
    "\n",
    "def calculateDuration(PV,cashflow,dy=1e-6):\n",
    "    y = calculateCouponAnnualYield(PV, cashflow)\n",
    "    dP = calculatePV2(cashflow, y + dy) - PV\n",
    "    return -dP/PV/dy\n"
   ]
  },
  {
   "cell_type": "markdown",
   "metadata": {},
   "source": [
    "### 1.1\n",
    "\n",
    "In order to fill in discount curve, zero curve, forward curve, using the following relations,\n",
    "$$z(t)=(\\frac{1}{DF(t)})^{1/t}-1$$\n",
    "$$f(t)=\\frac{DF(t-1)}{DF(t)} -1$$\n",
    "$$c(t) = \\frac{1-DF(t)}{\\Sigma_{i=1}^t DF(i)}$$\n",
    "\n",
    "The explicit process is written in \"Book1.xlsx\".\n",
    "\n",
    "Here, I just post the result saved in \"Input1.xlsx\". NaN denote undefined quantity."
   ]
  },
  {
   "cell_type": "code",
   "execution_count": 53,
   "metadata": {
    "collapsed": false
   },
   "outputs": [
    {
     "name": "stdout",
     "output_type": "stream",
     "text": [
      "         Type  maturity  inputs  discount      zero   forward       par  \\\n",
      "0   Overnight         0  0.0190  1.000000       NaN  0.019000       NaN   \n",
      "1        cash         1  0.0210  0.979432  0.021000  0.021000  0.021000   \n",
      "2        cash         2  0.0220  0.957411  0.022000  0.023001  0.021989   \n",
      "3    forwards         3  0.0220  0.936801  0.022000  0.022000  0.021993   \n",
      "4    forwards         4  0.0235  0.915292  0.022375  0.023500  0.022357   \n",
      "5    forwards         5  0.0230  0.894713  0.022500  0.023000  0.022480   \n",
      "6       swaps         6  0.0225  0.874932  0.022518  0.022609  0.022500   \n",
      "7       swaps         7  0.0240  0.846283  0.024130  0.033852  0.024000   \n",
      "8       swaps         8  0.0235  0.829981  0.023567  0.019642  0.023500   \n",
      "9       swaps         9  0.0240  0.806996  0.024112  0.028483  0.024000   \n",
      "10      swaps        10  0.0245  0.783772  0.024663  0.029630  0.024500   \n",
      "\n",
      "    cash flow  \n",
      "0         NaN  \n",
      "1         3.0  \n",
      "2         3.0  \n",
      "3         3.0  \n",
      "4         3.0  \n",
      "5         3.0  \n",
      "6         3.0  \n",
      "7         3.0  \n",
      "8         3.0  \n",
      "9       103.0  \n",
      "10        NaN  \n"
     ]
    }
   ],
   "source": [
    "df = pd.read_excel(\"Input1.xlsx\")\n",
    "print(df)"
   ]
  },
  {
   "cell_type": "markdown",
   "metadata": {},
   "source": [
    "### 1.2\n",
    "\n",
    "Given discount factors at any point in time one can find the present value of any future cashflows:\n",
    "$$PV=\\Sigma_i DF(t_i)C(t_i)$$"
   ]
  },
  {
   "cell_type": "code",
   "execution_count": 56,
   "metadata": {
    "collapsed": false
   },
   "outputs": [
    {
     "name": "stdout",
     "output_type": "stream",
     "text": [
      "PV: 104.825104221\n"
     ]
    }
   ],
   "source": [
    "cashflow = df['cash flow'][1:10]\n",
    "PV = calculatePV(df['cash flow'][1:10],df['discount'][1:10])\n",
    "print(\"PV:\",PV)"
   ]
  },
  {
   "cell_type": "markdown",
   "metadata": {},
   "source": [
    "### 1.3\n",
    "\n"
   ]
  },
  {
   "cell_type": "code",
   "execution_count": 57,
   "metadata": {
    "collapsed": false
   },
   "outputs": [
    {
     "name": "stdout",
     "output_type": "stream",
     "text": [
      "   maturity          PV      DV01  Duration\n",
      "0         1  104.314261  0.081897  7.850982\n",
      "1         2  104.329546  0.081911  7.851207\n",
      "2         3  104.343047  0.081924  7.851405\n",
      "3         4  104.357413  0.081937  7.851616\n",
      "4         5  104.370541  0.081950  7.851809\n",
      "5         6  104.383428  0.081962  7.851998\n",
      "6         7  104.400841  0.081978  7.852254\n",
      "7         8  104.407346  0.081984  7.852349\n",
      "8         9  104.422966  0.081999  7.852579\n"
     ]
    }
   ],
   "source": [
    "forward = df.forward[1:10]\n",
    "PVs_c = []\n",
    "PVs_c.append(PV)\n",
    "DV01s_c = []\n",
    "Durations_c =[]\n",
    "for i in range(1,10):\n",
    "    newForward = forward.copy()\n",
    "    newForward[i]=forward[i]+0.005\n",
    "    newDiscount=calculateDiscountedFactorCorrespondingToFowardRate(newForward)\n",
    "    newPV = calculatePV(cashflow,newDiscount[1:])\n",
    "    PVs_c.append(newPV)\n",
    "    newDV01 = calculateDV01(newPV, cashflow)\n",
    "    newDuration = calculateDuration(newPV, cashflow)\n",
    "    DV01s_c.append(newDV01)\n",
    "    Durations_c.append(newDuration)\n",
    "# save the above data\n",
    "df3 = pd.DataFrame()\n",
    "df3['maturity'] = [i for i in range(1,10)]\n",
    "df3['PV'] = PVs_c[1:]\n",
    "df3['DV01'] = DV01s_c\n",
    "df3['Duration'] = Durations_c\n",
    "print(df3)\n",
    "df3.to_csv(\"Output2.csv\",mode='w')"
   ]
  },
  {
   "cell_type": "markdown",
   "metadata": {},
   "source": [
    "The forward change at maturity indexed by 1, which I assummed is half a year achieve the highest DV01."
   ]
  },
  {
   "cell_type": "markdown",
   "metadata": {},
   "source": [
    "### 1.4\n",
    "\n",
    "I may not understand the exact meaning of the question. From I'm concerned, we fix the forward curve we obtained from 1.1 and enhance the whole curve (increase the forward rate at each maturity) by 0.5% and see the corresponding discounted factor, using the changed discounted factor to value PV. Then, we can calculate DV01 and duration by using the formula:\n",
    "\n",
    "$$DV01=- \\frac{\\Delta P}{10000 \\Delta y}$$\n",
    "$$duration =- \\frac{1}{P} \\frac{\\Delta P}{\\Delta y}$$"
   ]
  },
  {
   "cell_type": "code",
   "execution_count": 58,
   "metadata": {
    "collapsed": false
   },
   "outputs": [
    {
     "data": {
      "image/png": "[encoded data removed]",
      "text/plain": [
       "<matplotlib.figure.Figure at 0x1d780b462b0>"
      ]
     },
     "metadata": {},
     "output_type": "display_data"
    },
    {
     "name": "stdout",
     "output_type": "stream",
     "text": [
      "   increment          PV      DV01  Duration\n",
      "0       0.00  104.825104  0.082376  7.858469\n",
      "1       0.01   96.965263  0.075037  7.738516\n",
      "2       0.02   89.802153  0.068423  7.619328\n",
      "3       0.03   83.267158  0.062458  7.500879\n"
     ]
    }
   ],
   "source": [
    "PVs = []\n",
    "PVs.append(PV)\n",
    "DV01s = []\n",
    "Durations = []\n",
    "\n",
    "for i in range(0,4):\n",
    "    increment = i*0.01\n",
    "    newDF = calculateDiscountedFactorCorrespondingToFowardRate(df['forward'][1:10]+increment)\n",
    "    newPV = calculatePV(cashflow,newDF[1:])\n",
    "    PVs.append(newPV)\n",
    "    newDV01 = calculateDV01(newPV, cashflow)\n",
    "    newDuration = calculateDuration(newPV, cashflow)\n",
    "    DV01s.append(newDV01)\n",
    "    Durations.append(newDuration)\n",
    "increments = [i*0.01 for i in range(0,4)]\n",
    "f,ax = plt.subplots(3,1,sharex=True)\n",
    "ax[0].plot(increments,PVs[1:])\n",
    "# ax[0].set_title('PV-increment')\n",
    "ax[0].set_ylabel('PV')\n",
    "ax[1].plot(increments,DV01s)\n",
    "ax[1].set_ylabel('DV01')\n",
    "ax[2].plot(increments,Durations)\n",
    "ax[2].set_ylabel('Duration')\n",
    "vals = ax[2].get_xticks()\n",
    "ax[2].set_xticklabels(['{:3.2f}%'.format(x*100) for x in vals])\n",
    "ax[2].set_xlabel('Forward curve increment')\n",
    "plt.show()\n",
    "\n",
    "# save the above data\n",
    "df2 = pd.DataFrame()\n",
    "df2['increment'] = increments\n",
    "df2['PV'] = PVs[1:]\n",
    "df2['DV01'] = DV01s\n",
    "df2['Duration'] = Durations\n",
    "print(df2)\n",
    "df2.to_csv(\"Output1.csv\",mode='w')"
   ]
  },
  {
   "cell_type": "markdown",
   "metadata": {},
   "source": [
    "### 1.5\n",
    "The index of the original form is ambiguous, the time stemp is annually or semiannually? As far as I'm concerned, I would assume it was semiannually as coupon are paid semiannually on government bonds. Based on this hypothesis:"
   ]
  },
  {
   "cell_type": "code",
   "execution_count": 59,
   "metadata": {
    "collapsed": false
   },
   "outputs": [
    {
     "name": "stdout",
     "output_type": "stream",
     "text": [
      "forward price 18 months from today:  111.896883329\n"
     ]
    }
   ],
   "source": [
    "discountedFactor18m = df[df.maturity==3].discount.values[0]\n",
    "forwardPrice = PV/discountedFactor18m\n",
    "print(\"forward price 18 months from today: \",forwardPrice)"
   ]
  },
  {
   "cell_type": "markdown",
   "metadata": {},
   "source": [
    "### 1.6\n",
    "Using the following formula\n",
    "$$duration =- \\frac{1}{P} \\frac{\\Delta P}{\\Delta y}$$"
   ]
  },
  {
   "cell_type": "code",
   "execution_count": 64,
   "metadata": {
    "collapsed": false
   },
   "outputs": [
    {
     "name": "stdout",
     "output_type": "stream",
     "text": [
      "duratiohn:  7.85846948471\n"
     ]
    }
   ],
   "source": [
    "print(\"duratiohn: \",calculateDuration(PV,cashflow,dy=1e-6))"
   ]
  },
  {
   "cell_type": "markdown",
   "metadata": {},
   "source": [
    "## Problem 2\n",
    "\n",
    "Consider an eight-month European put option on a Treasury bond that currently has 14.25 years to maturity. The current cash bond price is \\$910, the exercise price is $900, and the volatility for the bond price is 10% per annum. A coupon of \\$35 will be paid by the bond in three months. The risk-free interest rate is 5\\% for all maturities up to one year. Use Black’s model to determine the price of the option. Consider both the case where the strike price corresponds to the cash price of the bond and the case where it corresponds to the quoted price."
   ]
  },
  {
   "cell_type": "markdown",
   "metadata": {},
   "source": [
    "\n",
    "The assumption made in the standard market model for valuing European bond\n",
    "options is that the forward bond price has a volatility $\\sigma_B$. This allows Black’s model to be used. Let $F_B$ denotes the forward price of bond, so that\n",
    "\n",
    "$$p = P(0,T) [KN(-d_2)-F_BN(-d_1)]$$\n",
    "where\n",
    "$$d_1 = \\frac{ln(F_B/K)+\\sigma_B^2T/2}{\\sigma_B \\sqrt{T}}$$\n",
    "$$d_2 = d_1 - \\sigma_B \\sqrt{T}$$\n",
    "In these equations, K is the strike price of the bond option, T is its time to maturity, and P(0,T) is the (risk-free) discount factor for maturity T.\n",
    "\n",
    "$F_B$ can be calculated using formula\n",
    "$$F_B = \\frac{B_0-I}{P(0,T)}$$\n",
    "\n",
    "where $B_0$ is the bond price at time zero and I is the present value of the coupons that\n",
    "will be paid during the life of the option.\n",
    "\n",
    "$$I = \\$35 \\times e^{-r\\frac{3}{12}} $$"
   ]
  },
  {
   "cell_type": "code",
   "execution_count": 2,
   "metadata": {
    "collapsed": true
   },
   "outputs": [],
   "source": [
    "import math\n",
    "r = 0.05\n",
    "T = 8/12\n",
    "B0 = 910\n",
    "I = 35 * math.exp(-r*3/12)\n",
    "discountedFactor = math.exp(-r*T)\n",
    "forwardPrice = (B0-I)/discountedFactor"
   ]
  },
  {
   "cell_type": "code",
   "execution_count": 3,
   "metadata": {
    "collapsed": false
   },
   "outputs": [
    {
     "data": {
      "text/plain": [
       "905.1077381222738"
      ]
     },
     "execution_count": 3,
     "metadata": {},
     "output_type": "execute_result"
    }
   ],
   "source": [
    "forwardPrice"
   ]
  },
  {
   "cell_type": "markdown",
   "metadata": {},
   "source": [
    "### 2.1\n",
    "\n",
    "Consider the case where the strike price corresponds to cash price\n",
    "$$K = exercise\\ price = \\$900$$"
   ]
  },
  {
   "cell_type": "code",
   "execution_count": 20,
   "metadata": {
    "collapsed": true
   },
   "outputs": [],
   "source": [
    "from scipy.stats import norm\n",
    "K = 900\n",
    "sigma = 0.1\n",
    "d1_1 = (math.log(forwardPrice/K)+sigma**2*T/2)/sigma/math.sqrt(T)\n",
    "d2_1 = d1_1 - sigma*math.sqrt(T)\n",
    "p_1 = discountedFactor * (K*norm.cdf(-d2_1) - forwardPrice*norm.cdf(-d1_1))"
   ]
  },
  {
   "cell_type": "code",
   "execution_count": 21,
   "metadata": {
    "collapsed": false
   },
   "outputs": [
    {
     "data": {
      "text/plain": [
       "26.025692054592948"
      ]
     },
     "execution_count": 21,
     "metadata": {},
     "output_type": "execute_result"
    }
   ],
   "source": [
    "p_1"
   ]
  },
  {
   "cell_type": "markdown",
   "metadata": {},
   "source": [
    "### 2.2\n",
    "\n",
    "The strike price corresponds to dirty price\n",
    "$$K = clean\\ price + accrued\\ interest$$\n",
    "where,\n",
    "$$accrued\\ interest = coupon\\ payment \\times \\frac{actual\\ number\\ of\\ days\\ since\\ last\\ payment}{actual\\ number\\ of\\ days\\ between\\ payment\\ dates}$$"
   ]
  },
  {
   "cell_type": "code",
   "execution_count": 25,
   "metadata": {
    "collapsed": true
   },
   "outputs": [],
   "source": [
    "accruedInterest = 35*5/6\n",
    "dirtyStrike = K + accruedInterest\n",
    "d1_2 = (math.log(forwardPrice/dirtyStrike)+sigma**2*T/2)/sigma/math.sqrt(T)\n",
    "d2_2 = d1_2 - sigma*math.sqrt(T)\n",
    "p_2 = discountedFactor * (dirtyStrike*norm.cdf(-d2_2) - forwardPrice*norm.cdf(-d1_2))"
   ]
  },
  {
   "cell_type": "code",
   "execution_count": 26,
   "metadata": {
    "collapsed": false
   },
   "outputs": [
    {
     "data": {
      "text/plain": [
       "41.999480322857565"
      ]
     },
     "execution_count": 26,
     "metadata": {},
     "output_type": "execute_result"
    }
   ],
   "source": [
    "p_2"
   ]
  },
  {
   "cell_type": "markdown",
   "metadata": {},
   "source": [
    "## Problem 3\n",
    "\n",
    "Consider the following table with Treasury Yield Rates:\n",
    "\n",
    "|Time to Maturity | Yield Rate (continuously compounded)|\n",
    "|-----------------|-------------------------------------|\n",
    "|3 months|0.14%|\n",
    "|6 months|0.19%|\n",
    "|1 year|0.25%|\n",
    "|2 years|0.51%|\n",
    "|3 years|0.75%|\n",
    "|5 years|1.41%|\n",
    "|7 years|2.02%|\n",
    "|10 years|2.57%|\n",
    "|30 years|3.63%|\n",
    "Use the data provided to build the yield curve using the cubic spline model."
   ]
  },
  {
   "cell_type": "markdown",
   "metadata": {},
   "source": [
    "Cubic spline model is of the form\n",
    "$$S_j(x) = a_j + b_j(x-x_j) + c_j(x-x_j)^2 + d_j(x-x_j)^3$$\n",
    "$$S_i(x_i) = S_{i-1} (x_i)$$\n",
    "$$S_i^\\prime (x_i) = S_{i-1}^\\prime (x_i)$$\n",
    "$$S_i^{\\prime \\prime} (x_i) = S_{i-1}^{\\prime \\prime}(x_i)$$\n",
    "$$S_i^{\\prime \\prime} (x_0) = S_{n-1}^{\\prime \\prime}(x_n) = 0$$"
   ]
  },
  {
   "cell_type": "code",
   "execution_count": 29,
   "metadata": {
    "collapsed": false
   },
   "outputs": [],
   "source": [
    "import pandas as pd\n",
    "import numpy as np\n",
    "\n",
    "data = {'maturity':[3/12,6/12,1,2,3,5,7,10,30],'yield':np.array([0.14,0.19,0.25,0.51,0.75,1.41,2.02,2.57,3.63])*0.01}\n",
    "df = pd.DataFrame(data=data)"
   ]
  },
  {
   "cell_type": "code",
   "execution_count": 30,
   "metadata": {
    "collapsed": false
   },
   "outputs": [
    {
     "data": {
      "text/html": [
       "<div>\n",
       "<table border=\"1\" class=\"dataframe\">\n",
       "  <thead>\n",
       "    <tr style=\"text-align: right;\">\n",
       "      <th></th>\n",
       "      <th>maturity</th>\n",
       "      <th>yield</th>\n",
       "    </tr>\n",
       "  </thead>\n",
       "  <tbody>\n",
       "    <tr>\n",
       "      <th>0</th>\n",
       "      <td>0.25</td>\n",
       "      <td>0.0014</td>\n",
       "    </tr>\n",
       "    <tr>\n",
       "      <th>1</th>\n",
       "      <td>0.50</td>\n",
       "      <td>0.0019</td>\n",
       "    </tr>\n",
       "    <tr>\n",
       "      <th>2</th>\n",
       "      <td>1.00</td>\n",
       "      <td>0.0025</td>\n",
       "    </tr>\n",
       "    <tr>\n",
       "      <th>3</th>\n",
       "      <td>2.00</td>\n",
       "      <td>0.0051</td>\n",
       "    </tr>\n",
       "    <tr>\n",
       "      <th>4</th>\n",
       "      <td>3.00</td>\n",
       "      <td>0.0075</td>\n",
       "    </tr>\n",
       "    <tr>\n",
       "      <th>5</th>\n",
       "      <td>5.00</td>\n",
       "      <td>0.0141</td>\n",
       "    </tr>\n",
       "    <tr>\n",
       "      <th>6</th>\n",
       "      <td>7.00</td>\n",
       "      <td>0.0202</td>\n",
       "    </tr>\n",
       "    <tr>\n",
       "      <th>7</th>\n",
       "      <td>10.00</td>\n",
       "      <td>0.0257</td>\n",
       "    </tr>\n",
       "    <tr>\n",
       "      <th>8</th>\n",
       "      <td>30.00</td>\n",
       "      <td>0.0363</td>\n",
       "    </tr>\n",
       "  </tbody>\n",
       "</table>\n",
       "</div>"
      ],
      "text/plain": [
       "   maturity   yield\n",
       "0      0.25  0.0014\n",
       "1      0.50  0.0019\n",
       "2      1.00  0.0025\n",
       "3      2.00  0.0051\n",
       "4      3.00  0.0075\n",
       "5      5.00  0.0141\n",
       "6      7.00  0.0202\n",
       "7     10.00  0.0257\n",
       "8     30.00  0.0363"
      ]
     },
     "execution_count": 30,
     "metadata": {},
     "output_type": "execute_result"
    }
   ],
   "source": [
    "df"
   ]
  },
  {
   "cell_type": "code",
   "execution_count": 39,
   "metadata": {
    "collapsed": false
   },
   "outputs": [
    {
     "data": {
      "image/png": "[encoded data removed]",
      "text/plain": [
       "<matplotlib.figure.Figure at 0x1d781d8d0b8>"
      ]
     },
     "metadata": {},
     "output_type": "display_data"
    }
   ],
   "source": [
    "import numpy as np\n",
    "import matplotlib.pyplot as plt\n",
    "from scipy.interpolate import CubicSpline\n",
    "x = df['maturity']\n",
    "y = df['yield']\n",
    "cs = CubicSpline(x,y,bc_type='natural')\n",
    "xnew = np.linspace(0, 30, 100)\n",
    "ynew = cs(xnew)\n",
    "plt.figure()\n",
    "plt.plot(x, y, 'x', xnew, ynew, '--')\n",
    "plt.legend(['Linear', 'Cubic Spline', 'True'])\n",
    "# plt.axis([-0.05, 6.33, -1.05, 1.05])\n",
    "plt.title('Cubic-spline interpolation')\n",
    "plt.show()"
   ]
  },
  {
   "cell_type": "markdown",
   "metadata": {},
   "source": [
    "Note that here we should be careful about boundary condition. In this case, the second derivative at curve ends are zero, so natural boundary should be necessary. "
   ]
  },
  {
   "cell_type": "code",
   "execution_count": null,
   "metadata": {
    "collapsed": true
   },
   "outputs": [],
   "source": []
  }
 ],
 "metadata": {
  "kernelspec": {
   "display_name": "Python 3",
   "language": "python",
   "name": "python3"
  },
  "language_info": {
   "codemirror_mode": {
    "name": "ipython",
    "version": 3
   },
   "file_extension": ".py",
   "mimetype": "text/x-python",
   "name": "python",
   "nbconvert_exporter": "python",
   "pygments_lexer": "ipython3",
   "version": "3.6.0"
  }
 },
 "nbformat": 4,
 "nbformat_minor": 2
}
